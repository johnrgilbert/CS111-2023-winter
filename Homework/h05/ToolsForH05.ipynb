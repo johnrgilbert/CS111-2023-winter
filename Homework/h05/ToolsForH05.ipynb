{
 "cells": [
  {
   "cell_type": "markdown",
   "metadata": {},
   "source": [
    "# Some tools for Homework 5"
   ]
  },
  {
   "cell_type": "code",
   "execution_count": 1,
   "metadata": {},
   "outputs": [],
   "source": [
    "import sys\n",
    "\n",
    "########################################\n",
    "# Change the string in the line below! #\n",
    "########################################\n",
    "sys.path.append(\"/Users/gilbert/Documents/CS111-2021-fall/Python\") \n",
    "\n",
    "import os\n",
    "import time\n",
    "import math\n",
    "import numpy as np\n",
    "import numpy.linalg as npla\n",
    "import scipy\n",
    "from scipy import linalg as spla\n",
    "import scipy.sparse\n",
    "import scipy.sparse.linalg\n",
    "from scipy import integrate\n",
    "import networkx as nx\n",
    "import json\n",
    "import cs111\n",
    "\n",
    "##########################################################\n",
    "# If this import for matplotlib doesn't work, try saying #\n",
    "#   conda install -c conda-forge ipympl                  #\n",
    "# at a shell prompt on your computer                     #\n",
    "##########################################################\n",
    "import matplotlib\n",
    "# %matplotlib ipympl\n",
    "# %matplotlib tk\n",
    "%matplotlib inline\n",
    "\n",
    "import matplotlib.pyplot as plt\n",
    "from matplotlib import cm\n",
    "from mpl_toolkits.mplot3d import axes3d\n",
    "\n",
    "\n",
    "\n",
    "\n",
    "np.set_printoptions(precision = 4)"
   ]
  },
  {
   "cell_type": "code",
   "execution_count": 2,
   "metadata": {},
   "outputs": [
    {
     "name": "stdout",
     "output_type": "stream",
     "text": [
      "['F', 'O', 'U', 'R', 'S', 'C', 'O', 'R'] ... ['T', 'H', 'E', 'E', 'A', 'R', 'T', 'H']\n"
     ]
    }
   ],
   "source": [
    "# Read a text file and make a single string of all its letters, in upper-case\n",
    "\n",
    "with open('gettysburg.txt') as file:\n",
    "    raw_text = file.read()\n",
    "letters = []\n",
    "for c in raw_text.upper():\n",
    "    if c.isalpha():\n",
    "        letters.append(c)\n",
    "print(letters[:8], '...', letters[-8:])"
   ]
  },
  {
   "cell_type": "code",
   "execution_count": 3,
   "metadata": {},
   "outputs": [
    {
     "name": "stdout",
     "output_type": "stream",
     "text": [
      "Character: I Index: 8\n",
      "Index: 10 Character: K\n"
     ]
    }
   ],
   "source": [
    "# Convert an uppercase letter to a number and back\n",
    "\n",
    "c = 'I'\n",
    "print('Character:', c, 'Index:', ord(c) - ord('A'))\n",
    "\n",
    "i = 10\n",
    "print('Index:', i, 'Character:', chr(i + ord('A')))"
   ]
  },
  {
   "cell_type": "code",
   "execution_count": 4,
   "metadata": {},
   "outputs": [
    {
     "data": {
      "text/plain": [
       "Text(0, 0.5, 'y axis label')"
      ]
     },
     "execution_count": 4,
     "metadata": {},
     "output_type": "execute_result"
    },
    {
     "data": {
      "image/png": "[encoded data removed]",
      "text/plain": [
       "<Figure size 720x720 with 1 Axes>"
      ]
     },
     "metadata": {
      "needs_background": "light"
     },
     "output_type": "display_data"
    }
   ],
   "source": [
    "# Make a large square plot with red axes and a letter at every (x, y) point\n",
    "\n",
    "# some fake (x,y) points for data\n",
    "x = np.random.randn(10)/3\n",
    "y = np.random.randn(10)/3\n",
    "\n",
    "# large-sized figure\n",
    "plt.figure(figsize = (10, 10))\n",
    "\n",
    "# use same scaling on x axis and y axis\n",
    "plt.axis('square')\n",
    "\n",
    "# set limits on axes\n",
    "limits = (-.75, .75)\n",
    "plt.xlim(limits)\n",
    "plt.ylim(limits)\n",
    "\n",
    "# plot a character at each (x, y) point\n",
    "for i in range(10):\n",
    "    plt.text(x[i], y[i], 'A')\n",
    "\n",
    "# plot the x axis and y axis in red\n",
    "plt.plot(limits, (0, 0), 'r')\n",
    "plt.plot((0, 0), limits, 'r')\n",
    "\n",
    "# always include a title and axis labels on a plot\n",
    "plt.title('Descriptive title of plot')\n",
    "plt.xlabel('x axis label')\n",
    "plt.ylabel('y axis label')\n"
   ]
  },
  {
   "cell_type": "code",
   "execution_count": null,
   "metadata": {},
   "outputs": [],
   "source": []
  }
 ],
 "metadata": {
  "kernelspec": {
   "display_name": "Python 3",
   "language": "python",
   "name": "python3"
  },
  "language_info": {
   "codemirror_mode": {
    "name": "ipython",
    "version": 3
   },
   "file_extension": ".py",
   "mimetype": "text/x-python",
   "name": "python",
   "nbconvert_exporter": "python",
   "pygments_lexer": "ipython3",
   "version": "3.6.13"
  }
 },
 "nbformat": 4,
 "nbformat_minor": 2
}
