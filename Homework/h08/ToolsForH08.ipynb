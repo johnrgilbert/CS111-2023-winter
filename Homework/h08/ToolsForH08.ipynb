{
 "cells": [
  {
   "cell_type": "markdown",
   "metadata": {},
   "source": [
    "# Some tools for Homework 8"
   ]
  },
  {
   "cell_type": "code",
   "execution_count": null,
   "metadata": {},
   "outputs": [],
   "source": [
    "import sys\n",
    "\n",
    "########################################\n",
    "# Change the string in the line below! #\n",
    "########################################\n",
    "sys.path.append(\"/Users/gilbert/Documents/CS111-2021-fall/Python\") \n",
    "\n",
    "import os\n",
    "import time\n",
    "import math\n",
    "import numpy as np\n",
    "import numpy.linalg as npla\n",
    "import scipy\n",
    "from scipy import linalg as spla\n",
    "import scipy.sparse\n",
    "import scipy.sparse.linalg\n",
    "from scipy import integrate\n",
    "import networkx as nx\n",
    "import json\n",
    "import cs111\n",
    "\n",
    "#######################################################\n",
    "# Here are three different ways to have plots appear. #\n",
    "# Uncomment the one you want to use.                  #\n",
    "#                                                     #\n",
    "# inline    : static plot in notebook                 #\n",
    "# ipympl    : plot in notebook with pan/zoom controls #\n",
    "# tk        : plot in popup window with pan/zoom      #\n",
    "#                                                     #\n",
    "# If %matplotlib ipympl doesn't work, try saying:     #\n",
    "#   conda install -c conda-forge ipympl               #\n",
    "# at a shell prompt.                                  #\n",
    "#######################################################\n",
    "import matplotlib\n",
    "%matplotlib inline \n",
    "# %matplotlib ipympl\n",
    "# %matplotlib tk \n",
    "\n",
    "import matplotlib.pyplot as plt\n",
    "from matplotlib import cm\n",
    "from mpl_toolkits.mplot3d import axes3d\n",
    "\n",
    "np.set_printoptions(precision = 4)"
   ]
  },
  {
   "cell_type": "markdown",
   "metadata": {},
   "source": [
    "# Reading a graph with coordinates as a networkx Graph"
   ]
  },
  {
   "cell_type": "code",
   "execution_count": null,
   "metadata": {},
   "outputs": [],
   "source": [
    "# The files mesh1e1.xy and mesh1e1.edges should be in the directory you're running Jupyter from,\n",
    "# or else you should give a complete path to tht directory in the string argument to cs111.read_mesh\n",
    "\n",
    "G, xycoords = cs111.read_mesh('mesh1e1')\n",
    "\n",
    "print('Number of vertices:', G.number_of_nodes())\n",
    "print('Number of edges:', G.number_of_edges())\n",
    "print()\n",
    "print('First ten edges:', G.edges(range(10)))\n",
    "print()\n",
    "print('First ten vertex coordinates:')\n",
    "for v in range(10):\n",
    "    print('vertex', v, 'at', xycoords[v])"
   ]
  },
  {
   "cell_type": "markdown",
   "metadata": {},
   "source": [
    "# Making the (dense) Laplacian matrix of a networkx Graph"
   ]
  },
  {
   "cell_type": "code",
   "execution_count": null,
   "metadata": {},
   "outputs": [],
   "source": [
    "L = nx.linalg.laplacian_matrix(G).toarray()\n",
    "print('L shape:', L.shape)\n",
    "print('First ten rows and cols of L:')\n",
    "print(L[:10,:10])"
   ]
  },
  {
   "cell_type": "markdown",
   "metadata": {},
   "source": [
    "# Plot graph with randomly chosen red and blue nodes"
   ]
  },
  {
   "cell_type": "code",
   "execution_count": null,
   "metadata": {},
   "outputs": [],
   "source": [
    "colors = []\n",
    "for v in G.nodes():\n",
    "    if np.random.rand() < 0.5:\n",
    "        colors.append('r')\n",
    "    else:\n",
    "        colors.append('b')\n",
    "print('Colors:', colors)   \n",
    "plt.ion()\n",
    "plt.figure(figsize=(6,6))\n",
    "plt.title('random partition')\n",
    "plt.axis('equal')\n",
    "nx.draw(G, pos = xycoords, node_size = 32, node_shape = 'o', node_color = colors)"
   ]
  },
  {
   "cell_type": "markdown",
   "metadata": {},
   "source": [
    "# Eigenvalues and eigenvectors of the Laplacian"
   ]
  },
  {
   "cell_type": "code",
   "execution_count": null,
   "metadata": {},
   "outputs": [],
   "source": [
    "%time lam,W = spla.eigh(L)"
   ]
  },
  {
   "cell_type": "code",
   "execution_count": null,
   "metadata": {},
   "outputs": [],
   "source": [
    "print('W.shape:', W.shape)\n",
    "print('First entries of lam:', lam[:6])"
   ]
  },
  {
   "cell_type": "code",
   "execution_count": null,
   "metadata": {},
   "outputs": [],
   "source": [
    "fiedler_value = lam[1]\n",
    "fiedler_vector = W[:,1]\n",
    "print('Fiedler value:', fiedler_value)\n",
    "print('Fiedler vector:')\n",
    "print(fiedler_vector)"
   ]
  },
  {
   "cell_type": "code",
   "execution_count": null,
   "metadata": {},
   "outputs": [],
   "source": []
  }
 ],
 "metadata": {
  "kernelspec": {
   "display_name": "Python 3",
   "language": "python",
   "name": "python3"
  },
  "language_info": {
   "codemirror_mode": {
    "name": "ipython",
    "version": 3
   },
   "file_extension": ".py",
   "mimetype": "text/x-python",
   "name": "python",
   "nbconvert_exporter": "python",
   "pygments_lexer": "ipython3",
   "version": "3.6.13"
  }
 },
 "nbformat": 4,
 "nbformat_minor": 2
}
