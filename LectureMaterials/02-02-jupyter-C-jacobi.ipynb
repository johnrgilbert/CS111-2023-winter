{
 "cells": [
  {
   "cell_type": "markdown",
   "metadata": {},
   "source": [
    "# Transcript C from Lecture 7, February 2, 2023\n"
   ]
  },
  {
   "cell_type": "code",
   "execution_count": 1,
   "metadata": {},
   "outputs": [],
   "source": [
    "import sys\n",
    "\n",
    "########################################\n",
    "# Change the string in the line below! #\n",
    "########################################\n",
    "sys.path.append(\"/Users/gilbert/Documents/CS111-2023-winter/Python\") \n",
    "\n",
    "import os\n",
    "import time\n",
    "import math\n",
    "import numpy as np\n",
    "import numpy.linalg as npla\n",
    "import scipy\n",
    "from scipy import linalg as spla\n",
    "import scipy.sparse\n",
    "import scipy.sparse.linalg\n",
    "from scipy import integrate\n",
    "import networkx as nx\n",
    "import cs111\n",
    "\n",
    "##########################################################\n",
    "# If this import for matplotlib doesn't work, try saying #\n",
    "#   conda install -c conda-forge ipympl                  #\n",
    "# at a shell prompt on your computer                     #\n",
    "##########################################################\n",
    "import matplotlib\n",
    "# %matplotlib ipympl\n",
    "# %matplotlib tk\n",
    "%matplotlib inline\n",
    "\n",
    "import matplotlib.pyplot as plt\n",
    "from matplotlib import cm\n",
    "from mpl_toolkits.mplot3d import axes3d\n",
    "\n",
    "\n",
    "\n",
    "\n",
    "np.set_printoptions(precision = 4)"
   ]
  },
  {
   "cell_type": "markdown",
   "metadata": {},
   "source": [
    "# Jacobi iterative method for Ax = b (matrix view)"
   ]
  },
  {
   "cell_type": "code",
   "execution_count": 2,
   "metadata": {},
   "outputs": [
    {
     "data": {
      "text/plain": [
       "array([[ 3, -1,  1],\n",
       "       [-2,  4,  1],\n",
       "       [ 1,  0, -3]])"
      ]
     },
     "execution_count": 2,
     "metadata": {},
     "output_type": "execute_result"
    }
   ],
   "source": [
    "A = np.array([[3,-1,1],[-2,4,1],[1,0,-3]])\n",
    "A"
   ]
  },
  {
   "cell_type": "code",
   "execution_count": 3,
   "metadata": {},
   "outputs": [
    {
     "data": {
      "text/plain": [
       "array([ 4,  9, -8])"
      ]
     },
     "execution_count": 3,
     "metadata": {},
     "output_type": "execute_result"
    }
   ],
   "source": [
    "b = np.array([4,9,-8])\n",
    "b"
   ]
  },
  {
   "cell_type": "code",
   "execution_count": 4,
   "metadata": {},
   "outputs": [
    {
     "data": {
      "text/plain": [
       "array([1., 2., 3.])"
      ]
     },
     "execution_count": 4,
     "metadata": {},
     "output_type": "execute_result"
    }
   ],
   "source": [
    "npla.solve(A,b)"
   ]
  },
  {
   "cell_type": "code",
   "execution_count": 5,
   "metadata": {},
   "outputs": [
    {
     "data": {
      "text/plain": [
       "(array([1., 2., 3.]), 0.0)"
      ]
     },
     "execution_count": 5,
     "metadata": {},
     "output_type": "execute_result"
    }
   ],
   "source": [
    "cs111.LUsolve(A,b)"
   ]
  },
  {
   "cell_type": "code",
   "execution_count": 6,
   "metadata": {},
   "outputs": [
    {
     "data": {
      "text/plain": [
       "array([ 3,  4, -3])"
      ]
     },
     "execution_count": 6,
     "metadata": {},
     "output_type": "execute_result"
    }
   ],
   "source": [
    "d = A.diagonal()\n",
    "d"
   ]
  },
  {
   "cell_type": "code",
   "execution_count": 7,
   "metadata": {},
   "outputs": [
    {
     "data": {
      "text/plain": [
       "array([[ 3,  0,  0],\n",
       "       [ 0,  4,  0],\n",
       "       [ 0,  0, -3]])"
      ]
     },
     "execution_count": 7,
     "metadata": {},
     "output_type": "execute_result"
    }
   ],
   "source": [
    "D = np.diag(d)\n",
    "D"
   ]
  },
  {
   "cell_type": "code",
   "execution_count": 8,
   "metadata": {},
   "outputs": [
    {
     "data": {
      "text/plain": [
       "array([[ 0, -1,  1],\n",
       "       [-2,  0,  1],\n",
       "       [ 1,  0,  0]])"
      ]
     },
     "execution_count": 8,
     "metadata": {},
     "output_type": "execute_result"
    }
   ],
   "source": [
    "C = A - D\n",
    "C"
   ]
  },
  {
   "cell_type": "code",
   "execution_count": 9,
   "metadata": {},
   "outputs": [
    {
     "name": "stdout",
     "output_type": "stream",
     "text": [
      "x: [0. 0. 0.]\n",
      "relres: 1.0\n"
     ]
    }
   ],
   "source": [
    "# initial guess x = 0\n",
    "\n",
    "x = np.zeros(3)\n",
    "print('x:',x)\n",
    "\n",
    "relres = npla.norm(A@x-b)/npla.norm(b)\n",
    "print('relres:',relres)"
   ]
  },
  {
   "cell_type": "code",
   "execution_count": 10,
   "metadata": {},
   "outputs": [
    {
     "name": "stdout",
     "output_type": "stream",
     "text": [
      "x: [1.3333 2.25   2.6667]\n",
      "relres: 0.11009281484864232\n"
     ]
    }
   ],
   "source": [
    "# try to improve the guess, matrix version\n",
    "x = (b - C@x) / d\n",
    "print('x:',x)\n",
    "\n",
    "relres = npla.norm(A@x-b)/npla.norm(b)\n",
    "print('relres:',relres)"
   ]
  },
  {
   "cell_type": "code",
   "execution_count": 11,
   "metadata": {},
   "outputs": [
    {
     "name": "stdout",
     "output_type": "stream",
     "text": [
      "x: [1.1944 2.25   3.1111]\n",
      "relres: 0.06772367705848906\n"
     ]
    }
   ],
   "source": [
    "# try to improve the guess, matrix version\n",
    "x = (b - C@x) / d\n",
    "print('x:',x)\n",
    "\n",
    "relres = npla.norm(A@x-b)/npla.norm(b)\n",
    "print('relres:',relres)"
   ]
  },
  {
   "cell_type": "code",
   "execution_count": 12,
   "metadata": {},
   "outputs": [
    {
     "name": "stdout",
     "output_type": "stream",
     "text": [
      "x: [1.0463 2.0694 3.0648]\n",
      "relres: 0.025228572791021472\n"
     ]
    }
   ],
   "source": [
    "# try to improve the guess, matrix version\n",
    "x = (b - C@x) / d\n",
    "print('x:',x)\n",
    "\n",
    "relres = npla.norm(A@x-b)/npla.norm(b)\n",
    "print('relres:',relres)"
   ]
  },
  {
   "cell_type": "code",
   "execution_count": 13,
   "metadata": {},
   "outputs": [
    {
     "name": "stdout",
     "output_type": "stream",
     "text": [
      "iteration 0 x: [1.3333 2.25   2.6667] , relres: 0.11009281484864232\n",
      "iteration 1 x: [1.1944 2.25   3.1111] , relres: 0.06772367705848906\n",
      "iteration 2 x: [1.0463 2.0694 3.0648] , relres: 0.025228572791021472\n",
      "iteration 3 x: [1.0015 2.0069 3.0154] , relres: 0.004848508554135736\n",
      "iteration 4 x: [0.9972 1.9969 3.0005] , relres: 0.0007097510453110915\n",
      "iteration 5 x: [0.9988 1.9985 2.9991] , relres: 0.0004588144763188235\n",
      "iteration 6 x: [0.9998 1.9996 2.9996] , relres: 0.00014805175855479684\n",
      "iteration 7 x: [1.     2.     2.9999] , relres: 1.8326292927075283e-05\n",
      "iteration 8 x: [1. 2. 3.] , relres: 5.524772159080887e-06\n",
      "iteration 9 x: [1. 2. 3.] , relres: 3.3135499185529306e-06\n",
      "iteration 10 x: [1. 2. 3.] , relres: 6.532135347878024e-07\n",
      "iteration 11 x: [1. 2. 3.] , relres: 1.0924086459857045e-07\n",
      "iteration 12 x: [1. 2. 3.] , relres: 5.901112667060393e-08\n",
      "iteration 13 x: [1. 2. 3.] , relres: 1.4753632319085098e-08\n",
      "iteration 14 x: [1. 2. 3.] , relres: 5.375393148821618e-09\n",
      "iteration 15 x: [1. 2. 3.] , relres: 1.010716111190072e-09\n",
      "iteration 16 x: [1. 2. 3.] , relres: 2.638665573838638e-10\n",
      "iteration 17 x: [1. 2. 3.] , relres: 1.9625146072872628e-10\n",
      "iteration 18 x: [1. 2. 3.] , relres: 3.102191667837147e-11\n",
      "iteration 19 x: [1. 2. 3.] , relres: 1.2777800514631691e-11\n",
      "iteration 20 x: [1. 2. 3.] , relres: 6.864181535405223e-12\n",
      "iteration 21 x: [1. 2. 3.] , relres: 1.5323752866940869e-12\n",
      "iteration 22 x: [1. 2. 3.] , relres: 7.132316317386257e-13\n",
      "iteration 23 x: [1. 2. 3.] , relres: 2.691963022779374e-13\n",
      "iteration 24 x: [1. 2. 3.] , relres: 8.131704861927637e-14\n"
     ]
    }
   ],
   "source": [
    "x = np.zeros(3)\n",
    "for i in range(25):\n",
    "    x = (b - C@x) / d\n",
    "    relres = npla.norm(A@x-b)/npla.norm(b)\n",
    "    print('iteration', i, 'x:', x, ', relres:' ,relres)"
   ]
  },
  {
   "cell_type": "code",
   "execution_count": 14,
   "metadata": {},
   "outputs": [],
   "source": [
    "x, rr = cs111.Jsolve(A,b)"
   ]
  },
  {
   "cell_type": "code",
   "execution_count": 15,
   "metadata": {},
   "outputs": [
    {
     "data": {
      "text/plain": [
       "array([1., 2., 3.])"
      ]
     },
     "execution_count": 15,
     "metadata": {},
     "output_type": "execute_result"
    }
   ],
   "source": [
    "x"
   ]
  },
  {
   "cell_type": "code",
   "execution_count": 16,
   "metadata": {},
   "outputs": [
    {
     "data": {
      "text/plain": [
       "[1.0,\n",
       " 0.11009281484864232,\n",
       " 0.06772367705848906,\n",
       " 0.025228572791021472,\n",
       " 0.004848508554135736,\n",
       " 0.0007097510453110915,\n",
       " 0.00045881447631884156,\n",
       " 0.00014805175855482053,\n",
       " 1.8326292927075283e-05,\n",
       " 5.5247721590329305e-06,\n",
       " 3.3135499185794736e-06,\n",
       " 6.532135347878024e-07,\n",
       " 1.0924086459857045e-07,\n",
       " 5.9011126647527464e-08,\n",
       " 1.4753632319085098e-08,\n",
       " 5.375393037573431e-09]"
      ]
     },
     "execution_count": 16,
     "metadata": {},
     "output_type": "execute_result"
    }
   ],
   "source": [
    "rr"
   ]
  },
  {
   "cell_type": "code",
   "execution_count": 17,
   "metadata": {},
   "outputs": [],
   "source": [
    "cs111.Jsolve?"
   ]
  },
  {
   "cell_type": "markdown",
   "metadata": {},
   "source": [
    "# What can go wrong with Jacobi?"
   ]
  },
  {
   "cell_type": "code",
   "execution_count": 18,
   "metadata": {},
   "outputs": [
    {
     "name": "stdout",
     "output_type": "stream",
     "text": [
      "A:\n",
      " [[5 2 3]\n",
      " [4 5 6]\n",
      " [3 4 3]]\n"
     ]
    }
   ],
   "source": [
    "# What could go wrong?\n",
    "A = np.array([[5,2,3],[4,5,6],[3,4,3]])\n",
    "print('A:\\n',A)"
   ]
  },
  {
   "cell_type": "code",
   "execution_count": 19,
   "metadata": {},
   "outputs": [
    {
     "name": "stdout",
     "output_type": "stream",
     "text": [
      "b: [10 15 10]\n"
     ]
    }
   ],
   "source": [
    "b = A @ np.array([1,1,1])\n",
    "print('b:', b)"
   ]
  },
  {
   "cell_type": "code",
   "execution_count": 20,
   "metadata": {},
   "outputs": [
    {
     "data": {
      "text/plain": [
       "array([1., 1., 1.])"
      ]
     },
     "execution_count": 20,
     "metadata": {},
     "output_type": "execute_result"
    }
   ],
   "source": [
    "npla.solve(A,b)"
   ]
  },
  {
   "cell_type": "code",
   "execution_count": 21,
   "metadata": {},
   "outputs": [
    {
     "data": {
      "text/plain": [
       "array([[0, 2, 3],\n",
       "       [4, 0, 6],\n",
       "       [3, 4, 0]])"
      ]
     },
     "execution_count": 21,
     "metadata": {},
     "output_type": "execute_result"
    }
   ],
   "source": [
    "d = A.diagonal()\n",
    "D = np.diag(d)\n",
    "C = A-D\n",
    "C"
   ]
  },
  {
   "cell_type": "code",
   "execution_count": 22,
   "metadata": {},
   "outputs": [
    {
     "data": {
      "text/plain": [
       "array([5, 5, 3])"
      ]
     },
     "execution_count": 22,
     "metadata": {},
     "output_type": "execute_result"
    }
   ],
   "source": [
    "d"
   ]
  },
  {
   "cell_type": "code",
   "execution_count": 23,
   "metadata": {},
   "outputs": [
    {
     "name": "stdout",
     "output_type": "stream",
     "text": [
      "x: [0. 0. 0.]\n",
      "relres: 1.0\n"
     ]
    }
   ],
   "source": [
    "# initial guess x = 0\n",
    "x = np.zeros(3)\n",
    "print('x:',x)\n",
    "\n",
    "relres = npla.norm(A@x-b)/npla.norm(b)\n",
    "print('relres:',relres)"
   ]
  },
  {
   "cell_type": "code",
   "execution_count": 24,
   "metadata": {},
   "outputs": [
    {
     "name": "stdout",
     "output_type": "stream",
     "text": [
      "x: [2.     3.     3.3333]\n",
      "relres: 1.791483118733158\n"
     ]
    }
   ],
   "source": [
    "# try to improve the guess, matrix version\n",
    "x = (b - C@x) / d     # divide vector elementwise by d\n",
    "print('x:',x)\n",
    "\n",
    "relres = npla.norm(A@x-b)/npla.norm(b)\n",
    "print('relres:',relres)"
   ]
  },
  {
   "cell_type": "code",
   "execution_count": 25,
   "metadata": {},
   "outputs": [
    {
     "name": "stdout",
     "output_type": "stream",
     "text": [
      "x: [-1.2    -2.6    -2.6667]\n",
      "relres: 3.1652822567199093\n"
     ]
    }
   ],
   "source": [
    "# try to improve the guess, matrix version\n",
    "x = (b - C@x) / d\n",
    "print('x:',x)\n",
    "\n",
    "relres = npla.norm(A@x-b)/npla.norm(b)\n",
    "print('relres:',relres)"
   ]
  },
  {
   "cell_type": "code",
   "execution_count": 26,
   "metadata": {},
   "outputs": [
    {
     "name": "stdout",
     "output_type": "stream",
     "text": [
      "x: [4.64 7.16 8.  ]\n",
      "relres: 5.632910354232839\n"
     ]
    }
   ],
   "source": [
    "# try to improve the guess, matrix version\n",
    "x = (b - C@x) / d\n",
    "print('x:',x)\n",
    "\n",
    "relres = npla.norm(A@x-b)/npla.norm(b)\n",
    "print('relres:',relres)"
   ]
  },
  {
   "cell_type": "code",
   "execution_count": 27,
   "metadata": {},
   "outputs": [
    {
     "name": "stdout",
     "output_type": "stream",
     "text": [
      "x: [ -5.664  -10.312  -10.8533]\n",
      "relres: 9.982717172487776\n"
     ]
    }
   ],
   "source": [
    "# try to improve the guess, matrix version\n",
    "x = (b - C@x) / d\n",
    "print('x:',x)\n",
    "\n",
    "relres = npla.norm(A@x-b)/npla.norm(b)\n",
    "print('relres:',relres)"
   ]
  },
  {
   "cell_type": "code",
   "execution_count": 28,
   "metadata": {},
   "outputs": [],
   "source": [
    "x, rr = cs111.Jsolve(A,b)"
   ]
  },
  {
   "cell_type": "code",
   "execution_count": 29,
   "metadata": {},
   "outputs": [
    {
     "data": {
      "text/plain": [
       "array([-1.1051e+249, -1.8668e+249, -2.0248e+249])"
      ]
     },
     "execution_count": 29,
     "metadata": {},
     "output_type": "execute_result"
    }
   ],
   "source": [
    "x"
   ]
  },
  {
   "cell_type": "code",
   "execution_count": 30,
   "metadata": {},
   "outputs": [
    {
     "data": {
      "text/plain": [
       "1001"
      ]
     },
     "execution_count": 30,
     "metadata": {},
     "output_type": "execute_result"
    }
   ],
   "source": [
    "len(rr)\n"
   ]
  },
  {
   "cell_type": "code",
   "execution_count": 33,
   "metadata": {},
   "outputs": [
    {
     "data": {
      "text/plain": [
       "[1.0,\n",
       " 8.409016320467502e+24,\n",
       " 7.028164465484237e+49,\n",
       " 5.874063489883822e+74,\n",
       " 4.90947843532127e+99,\n",
       " 4.10328872821926e+124,\n",
       " 3.4294841313483545e+149,\n",
       " inf,\n",
       " inf,\n",
       " inf]"
      ]
     },
     "execution_count": 33,
     "metadata": {},
     "output_type": "execute_result"
    }
   ],
   "source": [
    "rr[0:1000:100]"
   ]
  },
  {
   "cell_type": "markdown",
   "metadata": {},
   "source": [
    "# Jacobi on the temperature problem"
   ]
  },
  {
   "cell_type": "code",
   "execution_count": null,
   "metadata": {},
   "outputs": [],
   "source": [
    "# Jacobi on the temperature problem\n",
    "k = 100\n",
    "A = cs111.make_A(k)\n",
    "b = cs111.make_b(k, right=cs111.radiator(k))"
   ]
  },
  {
   "cell_type": "code",
   "execution_count": null,
   "metadata": {},
   "outputs": [],
   "source": [
    "A.shape"
   ]
  },
  {
   "cell_type": "code",
   "execution_count": null,
   "metadata": {},
   "outputs": [],
   "source": [
    "A.nnz"
   ]
  },
  {
   "cell_type": "code",
   "execution_count": null,
   "metadata": {},
   "outputs": [],
   "source": [
    "plt.spy(A)"
   ]
  },
  {
   "cell_type": "code",
   "execution_count": null,
   "metadata": {},
   "outputs": [],
   "source": [
    "t = scipy.sparse.linalg.spsolve(A,b)\n",
    "t.shape"
   ]
  },
  {
   "cell_type": "code",
   "execution_count": null,
   "metadata": {},
   "outputs": [],
   "source": [
    "T = t.reshape(k, k)\n",
    "plt.figure()\n",
    "plt.imshow(T, cmap=cm.hot)\n",
    "plt.xlabel('x0')\n",
    "plt.ylabel('x1')\n",
    "plt.title('Temperature by scipy.sparse.linalg.spsolve')"
   ]
  },
  {
   "cell_type": "code",
   "execution_count": null,
   "metadata": {},
   "outputs": [],
   "source": [
    "t, resvec = cs111.Jsolve(A,b, max_iters=10)\n",
    "resvec"
   ]
  },
  {
   "cell_type": "code",
   "execution_count": null,
   "metadata": {},
   "outputs": [],
   "source": [
    "t.shape"
   ]
  },
  {
   "cell_type": "code",
   "execution_count": null,
   "metadata": {},
   "outputs": [],
   "source": [
    "T = t.reshape(k, k)\n",
    "plt.figure()\n",
    "plt.imshow(T, cmap=cm.hot)\n",
    "plt.xlabel('x0')\n",
    "plt.ylabel('x1')\n",
    "plt.title('Temperature by Jacobi, 10 iterations')"
   ]
  },
  {
   "cell_type": "code",
   "execution_count": null,
   "metadata": {},
   "outputs": [],
   "source": [
    "iters = 10\n",
    "t, resvec = cs111.Jsolve(A,b, max_iters=iters)\n",
    "resvec[-1]"
   ]
  },
  {
   "cell_type": "code",
   "execution_count": null,
   "metadata": {},
   "outputs": [],
   "source": [
    "T = t.reshape(k, k)\n",
    "plt.figure()\n",
    "plt.imshow(T, cmap=cm.hot)\n",
    "plt.xlabel('x0')\n",
    "plt.ylabel('x1')\n",
    "plt.title(f'Temperature by Jacobi, {len(resvec)-1} iterations')"
   ]
  },
  {
   "cell_type": "code",
   "execution_count": null,
   "metadata": {},
   "outputs": [],
   "source": [
    "# Plot relative residual norm as a function of iteration for Jacobi\n",
    "%matplotlib inline\n",
    "plt.figure()\n",
    "\n",
    "(xJ,resvecJ) = cs111.Jsolve(A, b, tol = 1e-6, max_iters = 10000)\n",
    "print('\\nJacobi iters:', len(resvecJ)-1)\n",
    "print('last rel res:', resvecJ[-1])\n",
    "print('computed rel res:', npla.norm(A@xJ - b) / npla.norm(b))\n",
    "plt.semilogy(resvecJ, label = 'Jacobi')\n",
    "\n",
    "plt.legend()\n",
    "plt.xlabel('iterations')\n",
    "plt.ylabel('relative residual')\n",
    "plt.title('Iterative methods for temperature problem with n = %d' % A.shape[0])"
   ]
  },
  {
   "cell_type": "code",
   "execution_count": null,
   "metadata": {},
   "outputs": [],
   "source": []
  }
 ],
 "metadata": {
  "kernelspec": {
   "display_name": "Python 3 (ipykernel)",
   "language": "python",
   "name": "python3"
  },
  "language_info": {
   "codemirror_mode": {
    "name": "ipython",
    "version": 3
   },
   "file_extension": ".py",
   "mimetype": "text/x-python",
   "name": "python",
   "nbconvert_exporter": "python",
   "pygments_lexer": "ipython3",
   "version": "3.9.15"
  }
 },
 "nbformat": 4,
 "nbformat_minor": 2
}
