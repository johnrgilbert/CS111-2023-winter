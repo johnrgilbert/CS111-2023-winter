{
 "cells": [
  {
   "cell_type": "markdown",
   "metadata": {},
   "source": [
    "# Transcript from Lecture, November 9, 2021"
   ]
  },
  {
   "cell_type": "code",
   "execution_count": 1,
   "metadata": {},
   "outputs": [],
   "source": [
    "import sys\n",
    "\n",
    "########################################\n",
    "# Change the string in the line below! #\n",
    "########################################\n",
    "sys.path.append(\"/Users/gilbert/Documents/CS111-2021-fall/Python\") \n",
    "\n",
    "import os\n",
    "import time\n",
    "import math\n",
    "import numpy as np\n",
    "import numpy.linalg as npla\n",
    "import scipy\n",
    "from scipy import linalg as spla\n",
    "import scipy.sparse\n",
    "import scipy.sparse.linalg\n",
    "from scipy import integrate\n",
    "import networkx as nx\n",
    "import json\n",
    "import cs111\n",
    "\n",
    "#######################################################\n",
    "# Here are three different ways to have plots appear. #\n",
    "# Uncomment the one you want to use.                  #\n",
    "#                                                     #\n",
    "# inline    : static plot in notebook                 #\n",
    "# ipympl    : plot in notebook with pan/zoom controls #\n",
    "# tk        : plot in popup window with pan/zoom      #\n",
    "#                                                     #\n",
    "# If %matplotlib ipympl doesn't work, try saying:     #\n",
    "#   conda install -c conda-forge ipympl               #\n",
    "# at a shell prompt.                                  #\n",
    "#######################################################\n",
    "import matplotlib\n",
    "%matplotlib inline \n",
    "# %matplotlib ipympl\n",
    "# %matplotlib tk \n",
    "\n",
    "import matplotlib.pyplot as plt\n",
    "from matplotlib import cm\n",
    "from mpl_toolkits.mplot3d import axes3d\n",
    "\n",
    "np.set_printoptions(precision = 4)"
   ]
  },
  {
   "cell_type": "markdown",
   "metadata": {},
   "source": [
    "# Eigenvalues and eigenvectors"
   ]
  },
  {
   "cell_type": "markdown",
   "metadata": {},
   "source": [
    "If $w$ is a nonzero vector and $\\lambda$ is a number and $Aw = \\lambda w$, we say $w$ is an *eigenvector* of $A$ with *eigenvalue* $\\lambda$. Notice that in this case any nonzero multiple of $w$ is also an eigenvector.\n",
    "\n",
    "Every matrix has at least one eigenvalue/eigenvector, and an $n$-by-$n$ matrix has at most $n$ linearly independent eigenvectors."
   ]
  },
  {
   "cell_type": "code",
   "execution_count": 2,
   "metadata": {},
   "outputs": [
    {
     "data": {
      "text/plain": [
       "array([[1, 0, 0],\n",
       "       [0, 2, 0],\n",
       "       [0, 0, 3]])"
      ]
     },
     "execution_count": 2,
     "metadata": {},
     "output_type": "execute_result"
    }
   ],
   "source": [
    "A = np.diag([1,2,3])\n",
    "A"
   ]
  },
  {
   "cell_type": "code",
   "execution_count": 3,
   "metadata": {},
   "outputs": [
    {
     "name": "stdout",
     "output_type": "stream",
     "text": [
      "lam: [1.+0.j 2.+0.j 3.+0.j]\n",
      "W:\n",
      "[[1. 0. 0.]\n",
      " [0. 1. 0.]\n",
      " [0. 0. 1.]]\n"
     ]
    }
   ],
   "source": [
    "lam, W = spla.eig(A)\n",
    "print('lam:', lam)\n",
    "print('W:')\n",
    "print(W)"
   ]
  },
  {
   "cell_type": "code",
   "execution_count": 4,
   "metadata": {},
   "outputs": [
    {
     "data": {
      "text/plain": [
       "array([[1, 0, 0],\n",
       "       [0, 0, 0],\n",
       "       [0, 0, 3]])"
      ]
     },
     "execution_count": 4,
     "metadata": {},
     "output_type": "execute_result"
    }
   ],
   "source": [
    "# An eigenvalue can be zero (but an eigenvector can't be the zero vector)\n",
    "A[1,1] = 0\n",
    "A"
   ]
  },
  {
   "cell_type": "code",
   "execution_count": 5,
   "metadata": {},
   "outputs": [
    {
     "name": "stdout",
     "output_type": "stream",
     "text": [
      "lam: [1.+0.j 0.+0.j 3.+0.j]\n",
      "W:\n",
      "[[1. 0. 0.]\n",
      " [0. 1. 0.]\n",
      " [0. 0. 1.]]\n"
     ]
    }
   ],
   "source": [
    "# An eigenvalue can be zero (but an eigenvector can't be the zero vector)\n",
    "lam, W = spla.eig(A)\n",
    "print('lam:', lam)\n",
    "print('W:')\n",
    "print(W)"
   ]
  },
  {
   "cell_type": "code",
   "execution_count": 6,
   "metadata": {},
   "outputs": [
    {
     "data": {
      "text/plain": [
       "array([[0, 1, 0, 0],\n",
       "       [0, 0, 1, 0],\n",
       "       [0, 0, 0, 1],\n",
       "       [1, 0, 0, 0]])"
      ]
     },
     "execution_count": 6,
     "metadata": {},
     "output_type": "execute_result"
    }
   ],
   "source": [
    "A = np.array([[0,1,0,0], [0,0,1,0], [0,0,0,1], [1,0,0,0]])\n",
    "A"
   ]
  },
  {
   "cell_type": "code",
   "execution_count": 7,
   "metadata": {},
   "outputs": [
    {
     "name": "stdout",
     "output_type": "stream",
     "text": [
      "lam: [-1.0000e+00+0.j  8.3267e-17+1.j  8.3267e-17-1.j  1.0000e+00+0.j]\n",
      "W:\n",
      "[[-5.0000e-01+0.0000e+00j  1.9926e-17-5.0000e-01j  1.9926e-17+5.0000e-01j\n",
      "  -5.0000e-01+0.0000e+00j]\n",
      " [ 5.0000e-01+0.0000e+00j  5.0000e-01+0.0000e+00j  5.0000e-01-0.0000e+00j\n",
      "  -5.0000e-01+0.0000e+00j]\n",
      " [-5.0000e-01+0.0000e+00j -2.1421e-16+5.0000e-01j -2.1421e-16-5.0000e-01j\n",
      "  -5.0000e-01+0.0000e+00j]\n",
      " [ 5.0000e-01+0.0000e+00j -5.0000e-01+1.2665e-16j -5.0000e-01-1.2665e-16j\n",
      "  -5.0000e-01+0.0000e+00j]]\n"
     ]
    }
   ],
   "source": [
    "lam, W = spla.eig(A)\n",
    "print('lam:', lam)\n",
    "print('W:')\n",
    "print(W)"
   ]
  },
  {
   "cell_type": "code",
   "execution_count": 8,
   "metadata": {},
   "outputs": [
    {
     "data": {
      "text/plain": [
       "array([[0, 1, 0, 0],\n",
       "       [0, 0, 1, 0],\n",
       "       [0, 0, 0, 1],\n",
       "       [1, 0, 0, 0]])"
      ]
     },
     "execution_count": 8,
     "metadata": {},
     "output_type": "execute_result"
    }
   ],
   "source": [
    "A"
   ]
  },
  {
   "cell_type": "code",
   "execution_count": 9,
   "metadata": {},
   "outputs": [
    {
     "name": "stdout",
     "output_type": "stream",
     "text": [
      "A:\n",
      "[[0.2516 0.0369 0.8583 0.9724]\n",
      " [0.639  0.416  0.8649 0.5665]\n",
      " [0.2506 0.2183 0.1619 0.6055]\n",
      " [0.2457 0.7315 0.2438 0.1467]]\n",
      "\n",
      "lam: [ 1.7262+0.j     -0.2538+0.4618j -0.2538-0.4618j -0.2424+0.j    ]\n",
      "W:\n",
      "[[-0.5043+0.j      0.6633+0.j      0.6633-0.j      0.8168+0.j    ]\n",
      " [-0.6611+0.j     -0.1177-0.4634j -0.1177+0.4634j -0.132 +0.j    ]\n",
      " [-0.3424+0.j      0.1694+0.1854j  0.1694-0.1854j -0.5558+0.j    ]\n",
      " [-0.4375+0.j     -0.4897+0.1689j -0.4897-0.1689j  0.0806+0.j    ]]\n"
     ]
    }
   ],
   "source": [
    "A = np.random.rand(4,4)\n",
    "print('A:'); print(A)\n",
    "print()\n",
    "\n",
    "lam, W = spla.eig(A)\n",
    "print('lam:', lam)\n",
    "print('W:'); print(W)"
   ]
  },
  {
   "cell_type": "code",
   "execution_count": 10,
   "metadata": {},
   "outputs": [
    {
     "data": {
      "text/plain": [
       "(-0.25382455170272433-0.4617961790087631j)"
      ]
     },
     "execution_count": 10,
     "metadata": {},
     "output_type": "execute_result"
    }
   ],
   "source": [
    "i = 2\n",
    "val = lam[i]\n",
    "val"
   ]
  },
  {
   "cell_type": "code",
   "execution_count": 11,
   "metadata": {},
   "outputs": [
    {
     "data": {
      "text/plain": [
       "array([ 0.6633-0.j    , -0.1177+0.4634j,  0.1694-0.1854j, -0.4897-0.1689j])"
      ]
     },
     "execution_count": 11,
     "metadata": {},
     "output_type": "execute_result"
    }
   ],
   "source": [
    "vec = W[:,i]\n",
    "vec"
   ]
  },
  {
   "cell_type": "code",
   "execution_count": 12,
   "metadata": {},
   "outputs": [
    {
     "data": {
      "text/plain": [
       "1.0"
      ]
     },
     "execution_count": 12,
     "metadata": {},
     "output_type": "execute_result"
    }
   ],
   "source": [
    "npla.norm(vec)"
   ]
  },
  {
   "cell_type": "code",
   "execution_count": 13,
   "metadata": {},
   "outputs": [
    {
     "name": "stdout",
     "output_type": "stream",
     "text": [
      "val * vec: [-0.1684-0.3063j  0.2439-0.0633j -0.1286-0.0312j  0.0463+0.269j ]\n",
      "  A @ vec: [-0.1684-0.3063j  0.2439-0.0633j -0.1286-0.0312j  0.0463+0.269j ]\n"
     ]
    }
   ],
   "source": [
    "print('val * vec:', val * vec)\n",
    "print('  A @ vec:', A @ vec)"
   ]
  },
  {
   "cell_type": "code",
   "execution_count": 14,
   "metadata": {},
   "outputs": [
    {
     "name": "stdout",
     "output_type": "stream",
     "text": [
      "val * vec2: [-0.3367-0.6126j  0.4878-0.1265j -0.2572-0.0623j  0.0926+0.5381j]\n",
      "  A @ vec2: [-0.3367-0.6126j  0.4878-0.1265j -0.2572-0.0623j  0.0926+0.5381j]\n"
     ]
    }
   ],
   "source": [
    "# Any multiple of an eigenvector is an eigenvector (with the same eigenvalue)\n",
    "vec2 = 2 * vec\n",
    "\n",
    "print('val * vec2:', val * vec2)\n",
    "print('  A @ vec2:', A @ vec2)"
   ]
  },
  {
   "cell_type": "code",
   "execution_count": 15,
   "metadata": {},
   "outputs": [
    {
     "name": "stdout",
     "output_type": "stream",
     "text": [
      "A:\n",
      "[[1 2 3]\n",
      " [0 1 2]\n",
      " [0 0 1]]\n",
      "\n",
      "lam: [1.+0.j 1.+0.j 1.+0.j]\n",
      "W:\n",
      "[[ 1.0000e+00 -1.0000e+00  1.0000e+00]\n",
      " [ 0.0000e+00  1.1102e-16 -1.1102e-16]\n",
      " [ 0.0000e+00  0.0000e+00  1.2326e-32]]\n"
     ]
    }
   ],
   "source": [
    "# An n-by-n matrix has at most n linearly independent eigenvectors, but can have fewer\n",
    "A = np.array([[1,2,3], [0,1,2], [0,0,1]])\n",
    "\n",
    "print('A:'); print(A)\n",
    "print()\n",
    "\n",
    "lam, W = spla.eig(A)\n",
    "print('lam:', lam)\n",
    "print('W:'); print(W)"
   ]
  },
  {
   "cell_type": "code",
   "execution_count": null,
   "metadata": {},
   "outputs": [],
   "source": [
    "# Can you see why all three eigenvectors above are \"really\" the same one?"
   ]
  },
  {
   "cell_type": "markdown",
   "metadata": {},
   "source": [
    "The eigenvalues of $A$ and $A^T$ are the same, though the eigenvectors aren't necessarily the same."
   ]
  },
  {
   "cell_type": "code",
   "execution_count": 16,
   "metadata": {},
   "outputs": [
    {
     "name": "stdout",
     "output_type": "stream",
     "text": [
      "A:\n",
      "[[0.6549 0.9526 0.1123]\n",
      " [0.7804 0.7624 0.9875]\n",
      " [0.7044 0.0354 0.1146]]\n",
      "\n",
      "lam: [ 1.8094+0.j     -0.1388+0.5359j -0.1388-0.5359j]\n",
      "W:\n",
      "[[ 0.6275+0.j      0.2146-0.4994j  0.2146+0.4994j]\n",
      " [ 0.728 +0.j      0.1754+0.5368j  0.1754-0.5368j]\n",
      " [ 0.276 +0.j     -0.621 +0.j     -0.621 -0.j    ]]\n"
     ]
    }
   ],
   "source": [
    "A = np.random.rand(3,3)\n",
    "\n",
    "print('A:'); print(A)\n",
    "print()\n",
    "\n",
    "lam, W = spla.eig(A)\n",
    "print('lam:', lam)\n",
    "print('W:'); print(W)"
   ]
  },
  {
   "cell_type": "code",
   "execution_count": 17,
   "metadata": {},
   "outputs": [
    {
     "name": "stdout",
     "output_type": "stream",
     "text": [
      "A.T:\n",
      "[[0.6549 0.7804 0.7044]\n",
      " [0.9526 0.7624 0.0354]\n",
      " [0.1123 0.9875 0.1146]]\n",
      "\n",
      "lam: [ 1.8094+0.j     -0.1388+0.5359j -0.1388-0.5359j]\n",
      "W:\n",
      "[[-0.6688+0.j      0.1157+0.5128j  0.1157-0.5128j]\n",
      " [-0.6222+0.j      0.1683-0.442j   0.1683+0.442j ]\n",
      " [-0.4069+0.j     -0.707 +0.j     -0.707 -0.j    ]]\n"
     ]
    }
   ],
   "source": [
    "print('A.T:'); print(A.T)\n",
    "print()\n",
    "\n",
    "lam, W = spla.eig(A.T)\n",
    "print('lam:', lam)\n",
    "print('W:'); print(W)"
   ]
  },
  {
   "cell_type": "markdown",
   "metadata": {},
   "source": [
    "# Eigenvalues and eigenvectors of symmetric matrices"
   ]
  },
  {
   "cell_type": "markdown",
   "metadata": {},
   "source": [
    "If $A$ is an $n$-by-$n$ symmetric matrix,\n",
    "- All the eigenvalues of $A$ are real (no imaginary part)\n",
    "- $A$ has $n$ linearly independent eigenvectors\n",
    "- The eigenvectors can be chosen to be orthogonal to each other\n",
    "\n",
    "Thus, $AW = WS$ holds where $W$ is an orthogonal matrix ($W^TW=I$) and $S$ is a square diagonal matrix. We can therefore write the eigenvalue equation as a matrix factorization:\n",
    "\n",
    "$$A = WSW^T$$\n",
    "\n",
    "We will write $S$ = diag($\\lambda_0, \\lambda_1, \\ldots, \\lambda_{n-1}$) with\n",
    "$$\\lambda_0 \\le \\lambda_1 \\le \\cdots \\lambda_{n-1}.$$ \n",
    "\n",
    "(Unfortunately the standard convention is to order eigenvalues in increasing order and singular values in decreasing order. Yuck.)\n",
    "\n",
    "We will write $w_i$ to mean column $i$ of $W$, so for all $0\\le i < n$,\n",
    "$$Aw_i = \\lambda_i w_i$$\n"
   ]
  },
  {
   "cell_type": "code",
   "execution_count": 18,
   "metadata": {},
   "outputs": [
    {
     "data": {
      "text/plain": [
       "array([[ 0.9423, -0.9056, -1.3223,  1.24  ],\n",
       "       [-0.9056,  0.6944, -0.8862,  0.268 ],\n",
       "       [-1.3223, -0.8862,  2.2134, -1.7358],\n",
       "       [ 1.24  ,  0.268 , -1.7358,  1.3737]])"
      ]
     },
     "execution_count": 18,
     "metadata": {},
     "output_type": "execute_result"
    }
   ],
   "source": [
    "# Random symmetric matrix\n",
    "A = np.random.randn(4,4)\n",
    "A = A + A.T\n",
    "A"
   ]
  },
  {
   "cell_type": "code",
   "execution_count": 19,
   "metadata": {},
   "outputs": [
    {
     "name": "stdout",
     "output_type": "stream",
     "text": [
      "A:\n",
      "[[ 0.9423 -0.9056 -1.3223  1.24  ]\n",
      " [-0.9056  0.6944 -0.8862  0.268 ]\n",
      " [-1.3223 -0.8862  2.2134 -1.7358]\n",
      " [ 1.24    0.268  -1.7358  1.3737]]\n",
      "\n",
      "lam: [ 4.5337+0.j  1.6535+0.j -0.904 +0.j -0.0594+0.j]\n",
      "W:\n",
      "[[ 0.4269 -0.5661  0.6746 -0.2053]\n",
      " [ 0.1005  0.7748  0.6164  0.0978]\n",
      " [-0.7017 -0.2762  0.3761  0.5384]\n",
      " [ 0.5615 -0.0534 -0.1532  0.8114]]\n"
     ]
    }
   ],
   "source": [
    "print('A:'); print(A)\n",
    "print()\n",
    "\n",
    "lam, W = spla.eig(A)\n",
    "print('lam:', lam)\n",
    "print('W:'); print(W)"
   ]
  },
  {
   "cell_type": "code",
   "execution_count": 20,
   "metadata": {},
   "outputs": [
    {
     "name": "stdout",
     "output_type": "stream",
     "text": [
      "A:\n",
      "[[ 0.9423 -0.9056 -1.3223  1.24  ]\n",
      " [-0.9056  0.6944 -0.8862  0.268 ]\n",
      " [-1.3223 -0.8862  2.2134 -1.7358]\n",
      " [ 1.24    0.268  -1.7358  1.3737]]\n",
      "\n",
      "lam: [-0.904  -0.0594  1.6535  4.5337]\n",
      "W:\n",
      "[[ 0.6746 -0.2053 -0.5661  0.4269]\n",
      " [ 0.6164  0.0978  0.7748  0.1005]\n",
      " [ 0.3761  0.5384 -0.2762 -0.7017]\n",
      " [-0.1532  0.8114 -0.0534  0.5615]]\n"
     ]
    }
   ],
   "source": [
    "# Better! Use spla.eigh(A) not spla.eig(A) when A is symmetric\n",
    "print('A:'); print(A)\n",
    "print()\n",
    "\n",
    "lam, W = spla.eigh(A)\n",
    "print('lam:', lam)\n",
    "print('W:'); print(W)"
   ]
  },
  {
   "cell_type": "code",
   "execution_count": 21,
   "metadata": {},
   "outputs": [
    {
     "data": {
      "text/plain": [
       "array([[ 1.0000e+00,  6.9389e-17,  1.6653e-16, -2.9490e-16],\n",
       "       [ 6.9389e-17,  1.0000e+00,  1.1796e-16,  1.1102e-16],\n",
       "       [ 1.6653e-16,  1.1796e-16,  1.0000e+00, -1.1102e-16],\n",
       "       [-2.9490e-16,  1.1102e-16, -1.1102e-16,  1.0000e+00]])"
      ]
     },
     "execution_count": 21,
     "metadata": {},
     "output_type": "execute_result"
    }
   ],
   "source": [
    "W.T @ W"
   ]
  },
  {
   "cell_type": "code",
   "execution_count": 22,
   "metadata": {},
   "outputs": [
    {
     "data": {
      "text/plain": [
       "array([[-0.904 ,  0.    ,  0.    ,  0.    ],\n",
       "       [ 0.    , -0.0594,  0.    ,  0.    ],\n",
       "       [ 0.    ,  0.    ,  1.6535,  0.    ],\n",
       "       [ 0.    ,  0.    ,  0.    ,  4.5337]])"
      ]
     },
     "execution_count": 22,
     "metadata": {},
     "output_type": "execute_result"
    }
   ],
   "source": [
    "S = np.diag(lam)\n",
    "S"
   ]
  },
  {
   "cell_type": "code",
   "execution_count": 23,
   "metadata": {},
   "outputs": [
    {
     "data": {
      "text/plain": [
       "array([[-0.6099,  0.0122, -0.9361,  1.9354],\n",
       "       [-0.5573, -0.0058,  1.2812,  0.4555],\n",
       "       [-0.34  , -0.032 , -0.4567, -3.1813],\n",
       "       [ 0.1385, -0.0482, -0.0882,  2.5456]])"
      ]
     },
     "execution_count": 23,
     "metadata": {},
     "output_type": "execute_result"
    }
   ],
   "source": [
    "A @ W"
   ]
  },
  {
   "cell_type": "code",
   "execution_count": 24,
   "metadata": {},
   "outputs": [
    {
     "data": {
      "text/plain": [
       "array([[-0.6099,  0.0122, -0.9361,  1.9354],\n",
       "       [-0.5573, -0.0058,  1.2812,  0.4555],\n",
       "       [-0.34  , -0.032 , -0.4567, -3.1813],\n",
       "       [ 0.1385, -0.0482, -0.0882,  2.5456]])"
      ]
     },
     "execution_count": 24,
     "metadata": {},
     "output_type": "execute_result"
    }
   ],
   "source": [
    "W @ S"
   ]
  },
  {
   "cell_type": "code",
   "execution_count": 25,
   "metadata": {},
   "outputs": [
    {
     "data": {
      "text/plain": [
       "array([[ 0.9423, -0.9056, -1.3223,  1.24  ],\n",
       "       [-0.9056,  0.6944, -0.8862,  0.268 ],\n",
       "       [-1.3223, -0.8862,  2.2134, -1.7358],\n",
       "       [ 1.24  ,  0.268 , -1.7358,  1.3737]])"
      ]
     },
     "execution_count": 25,
     "metadata": {},
     "output_type": "execute_result"
    }
   ],
   "source": [
    "W @ S @ W.T"
   ]
  },
  {
   "cell_type": "code",
   "execution_count": 26,
   "metadata": {},
   "outputs": [
    {
     "data": {
      "text/plain": [
       "array([[ 0.9423, -0.9056, -1.3223,  1.24  ],\n",
       "       [-0.9056,  0.6944, -0.8862,  0.268 ],\n",
       "       [-1.3223, -0.8862,  2.2134, -1.7358],\n",
       "       [ 1.24  ,  0.268 , -1.7358,  1.3737]])"
      ]
     },
     "execution_count": 26,
     "metadata": {},
     "output_type": "execute_result"
    }
   ],
   "source": [
    "A"
   ]
  },
  {
   "cell_type": "markdown",
   "metadata": {},
   "source": [
    "# Symmetric positive definite (SPD) and positive semidefinite (SPSD) matrices"
   ]
  },
  {
   "cell_type": "markdown",
   "metadata": {},
   "source": [
    "A symmetric matrix $A$ is *positive definite* if all its eigenvalues are positive, \n",
    "so $0 < \\lambda_0 \\le \\lambda_1 \\le \\cdots \\lambda_{n-1}$.\n",
    "<br>A symmetric matrix $A$ is positive definite if and only if $x^TAx>0$ for all nonzero vectors $x$.\n",
    "\n",
    "A symmetric matrix $A$ is *positive semidefinite* if all its eigenvalues are nonnegative,\n",
    "so $0 \\le \\lambda_0 \\le \\lambda_1 \\le \\cdots \\lambda_{n-1}$.\n",
    "<br>A symmetric matrix $A$ is positive semidefinite if and only if $x^TAx\\ge 0$ for all nonzero vectors $x$.\n"
   ]
  },
  {
   "cell_type": "code",
   "execution_count": 31,
   "metadata": {},
   "outputs": [
    {
     "name": "stdout",
     "output_type": "stream",
     "text": [
      "A:\n",
      "[[ 3.0422e+00 -4.9274e+00 -8.5646e-01 -2.1200e+00]\n",
      " [-4.9274e+00  1.5007e+01  2.3558e-03  7.2761e+00]\n",
      " [-8.5646e-01  2.3558e-03  1.4714e+00  5.4757e-01]\n",
      " [-2.1200e+00  7.2761e+00  5.4757e-01  8.4219e+00]]\n"
     ]
    }
   ],
   "source": [
    "# One way to create an SPD matrix...\n",
    "A = np.random.randn(4,4)\n",
    "A = A.T @ A\n",
    "print('A:'); print(A)"
   ]
  },
  {
   "cell_type": "code",
   "execution_count": 32,
   "metadata": {},
   "outputs": [
    {
     "name": "stdout",
     "output_type": "stream",
     "text": [
      "lam: [ 0.4728  2.1808  4.0329 21.2555]\n",
      "W:\n",
      "[[ 0.6784  0.6181  0.281   0.2805]\n",
      " [ 0.299   0.2399 -0.4373 -0.8135]\n",
      " [ 0.6568 -0.7486  0.0873 -0.0263]\n",
      " [-0.138  -0.0041  0.8498 -0.5087]]\n"
     ]
    }
   ],
   "source": [
    "lam, W = spla.eigh(A)\n",
    "print('lam:', lam)\n",
    "print('W:')\n",
    "print(W)"
   ]
  },
  {
   "cell_type": "code",
   "execution_count": 33,
   "metadata": {},
   "outputs": [
    {
     "name": "stdout",
     "output_type": "stream",
     "text": [
      "B:\n",
      "[[ 2.5694e+00 -4.9274e+00 -8.5646e-01 -2.1200e+00]\n",
      " [-4.9274e+00  1.4534e+01  2.3558e-03  7.2761e+00]\n",
      " [-8.5646e-01  2.3558e-03  9.9861e-01  5.4757e-01]\n",
      " [-2.1200e+00  7.2761e+00  5.4757e-01  7.9491e+00]]\n"
     ]
    }
   ],
   "source": [
    "# Now make it semidefinite by shifting the eigenvalues by lambda_0\n",
    "B = A - lam[0] * np.eye(4)\n",
    "\n",
    "print('B:'); print(B)"
   ]
  },
  {
   "cell_type": "code",
   "execution_count": 34,
   "metadata": {},
   "outputs": [
    {
     "data": {
      "text/plain": [
       "3"
      ]
     },
     "execution_count": 34,
     "metadata": {},
     "output_type": "execute_result"
    }
   ],
   "source": [
    "npla.matrix_rank(B)"
   ]
  },
  {
   "cell_type": "code",
   "execution_count": 35,
   "metadata": {},
   "outputs": [
    {
     "data": {
      "text/plain": [
       "array([ 2.2204e-16, -2.6645e-15,  1.1102e-15, -2.8866e-15])"
      ]
     },
     "execution_count": 35,
     "metadata": {},
     "output_type": "execute_result"
    }
   ],
   "source": [
    "B @ W[:,0]"
   ]
  },
  {
   "cell_type": "code",
   "execution_count": 36,
   "metadata": {},
   "outputs": [
    {
     "name": "stdout",
     "output_type": "stream",
     "text": [
      "lam for A: [ 0.4728  2.1808  4.0329 21.2555]\n",
      "W for A:\n",
      "[[ 0.6784  0.6181  0.281   0.2805]\n",
      " [ 0.299   0.2399 -0.4373 -0.8135]\n",
      " [ 0.6568 -0.7486  0.0873 -0.0263]\n",
      " [-0.138  -0.0041  0.8498 -0.5087]]\n"
     ]
    }
   ],
   "source": [
    "lam, W = spla.eigh(A)\n",
    "\n",
    "print('lam for A:', lam)\n",
    "print('W for A:'); print(W)"
   ]
  },
  {
   "cell_type": "code",
   "execution_count": 37,
   "metadata": {},
   "outputs": [
    {
     "name": "stdout",
     "output_type": "stream",
     "text": [
      "lam for B: [2.0346e-16 1.7081e+00 3.5601e+00 2.0783e+01]\n",
      "W for B:\n",
      "[[ 0.6784  0.6181  0.281   0.2805]\n",
      " [ 0.299   0.2399 -0.4373 -0.8135]\n",
      " [ 0.6568 -0.7486  0.0873 -0.0263]\n",
      " [-0.138  -0.0041  0.8498 -0.5087]]\n"
     ]
    }
   ],
   "source": [
    "lam, W = spla.eigh(B)\n",
    "\n",
    "print('lam for B:', lam)\n",
    "print('W for B:'); print(W)"
   ]
  },
  {
   "cell_type": "code",
   "execution_count": null,
   "metadata": {},
   "outputs": [],
   "source": []
  }
 ],
 "metadata": {
  "kernelspec": {
   "display_name": "Python 3",
   "language": "python",
   "name": "python3"
  },
  "language_info": {
   "codemirror_mode": {
    "name": "ipython",
    "version": 3
   },
   "file_extension": ".py",
   "mimetype": "text/x-python",
   "name": "python",
   "nbconvert_exporter": "python",
   "pygments_lexer": "ipython3",
   "version": "3.6.13"
  }
 },
 "nbformat": 4,
 "nbformat_minor": 2
}
