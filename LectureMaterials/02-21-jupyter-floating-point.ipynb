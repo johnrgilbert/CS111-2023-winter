{
 "cells": [
  {
   "cell_type": "markdown",
   "metadata": {},
   "source": [
    "# Transcript from Lecture, February 21, 2023"
   ]
  },
  {
   "cell_type": "code",
   "execution_count": 1,
   "metadata": {},
   "outputs": [],
   "source": [
    "import sys\n",
    "\n",
    "########################################\n",
    "# Change the string in the line below! #\n",
    "########################################\n",
    "sys.path.append(\"/Users/gilbert/Documents/CS111-2023-winter/Python\") \n",
    "\n",
    "import os\n",
    "import time\n",
    "import math\n",
    "import numpy as np\n",
    "import numpy.linalg as npla\n",
    "import scipy\n",
    "from scipy import linalg as spla\n",
    "import scipy.sparse\n",
    "import scipy.sparse.linalg\n",
    "from scipy import integrate\n",
    "import networkx as nx\n",
    "import json\n",
    "import cs111\n",
    "\n",
    "##########################################################\n",
    "# If this import for matplotlib doesn't work, try saying #\n",
    "#   conda install -c conda-forge ipympl                  #\n",
    "# at a shell prompt on your computer                     #\n",
    "##########################################################\n",
    "import matplotlib\n",
    "%matplotlib inline\n",
    "\n",
    "import matplotlib.pyplot as plt\n",
    "from matplotlib import cm\n",
    "from mpl_toolkits.mplot3d import axes3d\n",
    "\n",
    "np.set_printoptions(precision = 4)"
   ]
  },
  {
   "cell_type": "markdown",
   "metadata": {},
   "source": [
    "# Floating-point arithmetic is a leaky abstraction of the real numbers"
   ]
  },
  {
   "cell_type": "code",
   "execution_count": 2,
   "metadata": {},
   "outputs": [
    {
     "data": {
      "text/plain": [
       "1.3333333333333333"
      ]
     },
     "execution_count": 2,
     "metadata": {},
     "output_type": "execute_result"
    }
   ],
   "source": [
    "a = 4/3\n",
    "a"
   ]
  },
  {
   "cell_type": "code",
   "execution_count": 3,
   "metadata": {},
   "outputs": [
    {
     "data": {
      "text/plain": [
       "0.33333333333333326"
      ]
     },
     "execution_count": 3,
     "metadata": {},
     "output_type": "execute_result"
    }
   ],
   "source": [
    "b = a-1\n",
    "b"
   ]
  },
  {
   "cell_type": "code",
   "execution_count": 4,
   "metadata": {},
   "outputs": [
    {
     "data": {
      "text/plain": [
       "0.9999999999999998"
      ]
     },
     "execution_count": 4,
     "metadata": {},
     "output_type": "execute_result"
    }
   ],
   "source": [
    "c = 3*b\n",
    "c"
   ]
  },
  {
   "cell_type": "code",
   "execution_count": 5,
   "metadata": {},
   "outputs": [
    {
     "data": {
      "text/plain": [
       "2.220446049250313e-16"
      ]
     },
     "execution_count": 5,
     "metadata": {},
     "output_type": "execute_result"
    }
   ],
   "source": [
    "d = 1-c\n",
    "d"
   ]
  },
  {
   "cell_type": "markdown",
   "metadata": {},
   "source": [
    "# 64-bit 2s complement integers"
   ]
  },
  {
   "cell_type": "markdown",
   "metadata": {},
   "source": [
    "<b> Base 16 is \"hexadecimal\", with digits 0,1,2,3,...,f, four bits per digit"
   ]
  },
  {
   "cell_type": "code",
   "execution_count": 6,
   "metadata": {},
   "outputs": [
    {
     "data": {
      "text/plain": [
       "{'0': '0000',\n",
       " '1': '0001',\n",
       " '2': '0010',\n",
       " '3': '0011',\n",
       " '4': '0100',\n",
       " '5': '0101',\n",
       " '6': '0110',\n",
       " '7': '0111',\n",
       " '8': '1000',\n",
       " '9': '1001',\n",
       " 'a': '1010',\n",
       " 'b': '1011',\n",
       " 'c': '1100',\n",
       " 'd': '1101',\n",
       " 'e': '1110',\n",
       " 'f': '1111'}"
      ]
     },
     "execution_count": 6,
     "metadata": {},
     "output_type": "execute_result"
    }
   ],
   "source": [
    "cs111.bits"
   ]
  },
  {
   "cell_type": "markdown",
   "metadata": {},
   "source": [
    "<b> int64 represents integers from $-2^{63}$ to $2^{63}-1$ using 64 bits = 16 hexadecimal digits"
   ]
  },
  {
   "cell_type": "code",
   "execution_count": 7,
   "metadata": {},
   "outputs": [
    {
     "name": "stdout",
     "output_type": "stream",
     "text": [
      "0000000000000000\n"
     ]
    }
   ],
   "source": [
    "print(cs111.int64_to_hex(0))"
   ]
  },
  {
   "cell_type": "code",
   "execution_count": 8,
   "metadata": {},
   "outputs": [
    {
     "name": "stdout",
     "output_type": "stream",
     "text": [
      "0000000000000003\n"
     ]
    }
   ],
   "source": [
    "print(cs111.int64_to_hex(3))"
   ]
  },
  {
   "cell_type": "code",
   "execution_count": 9,
   "metadata": {},
   "outputs": [
    {
     "name": "stdout",
     "output_type": "stream",
     "text": [
      "000000000000000a\n"
     ]
    }
   ],
   "source": [
    "print(cs111.int64_to_hex(10))"
   ]
  },
  {
   "cell_type": "code",
   "execution_count": 10,
   "metadata": {},
   "outputs": [
    {
     "name": "stdout",
     "output_type": "stream",
     "text": [
      "0000000000000400\n"
     ]
    }
   ],
   "source": [
    "print(cs111.int64_to_hex(1024))"
   ]
  },
  {
   "cell_type": "code",
   "execution_count": 11,
   "metadata": {},
   "outputs": [
    {
     "name": "stdout",
     "output_type": "stream",
     "text": [
      "ffffffffffffffff\n"
     ]
    }
   ],
   "source": [
    "print(cs111.int64_to_hex(-1))"
   ]
  },
  {
   "cell_type": "code",
   "execution_count": 12,
   "metadata": {},
   "outputs": [
    {
     "name": "stdout",
     "output_type": "stream",
     "text": [
      "fffffffffffffffe\n"
     ]
    }
   ],
   "source": [
    "print(cs111.int64_to_hex(-2))"
   ]
  },
  {
   "cell_type": "code",
   "execution_count": 13,
   "metadata": {},
   "outputs": [
    {
     "name": "stdout",
     "output_type": "stream",
     "text": [
      "7fffffffffffffff\n"
     ]
    }
   ],
   "source": [
    "# largest positive int64\n",
    "print(cs111.int64_to_hex(2**63 - 1))"
   ]
  },
  {
   "cell_type": "code",
   "execution_count": 14,
   "metadata": {},
   "outputs": [
    {
     "name": "stdout",
     "output_type": "stream",
     "text": [
      "8000000000000000\n"
     ]
    }
   ],
   "source": [
    "# most negative int64\n",
    "print(cs111.int64_to_hex(-2**63))"
   ]
  },
  {
   "cell_type": "markdown",
   "metadata": {},
   "source": [
    "# IEEE Standard 64-bit floating-point"
   ]
  },
  {
   "cell_type": "code",
   "execution_count": 15,
   "metadata": {},
   "outputs": [
    {
     "name": "stdout",
     "output_type": "stream",
     "text": [
      "input     : 0\n",
      "as float64: 0.0000000000000000e+00\n",
      "as hex    : 0000000000000000\n",
      "sign      : 0 means +\n",
      "exponent  : 000 means zero or denormal\n",
      "\n"
     ]
    }
   ],
   "source": [
    "cs111.print_float64(0)\n"
   ]
  },
  {
   "cell_type": "code",
   "execution_count": 16,
   "metadata": {},
   "outputs": [
    {
     "name": "stdout",
     "output_type": "stream",
     "text": [
      "input     : 1\n",
      "as float64: 1.0000000000000000e+00\n",
      "as hex    : 3ff0000000000000\n",
      "sign      : 0 means +\n",
      "exponent  : 3ff means 1023 - 1023 = 0\n",
      "mantissa  : 1.0000000000000000000000000000000000000000000000000000\n",
      "\n"
     ]
    }
   ],
   "source": [
    "cs111.print_float64(1)"
   ]
  },
  {
   "cell_type": "code",
   "execution_count": 17,
   "metadata": {},
   "outputs": [
    {
     "name": "stdout",
     "output_type": "stream",
     "text": [
      "input     : 42\n",
      "as float64: 4.2000000000000000e+01\n",
      "as hex    : 4045000000000000\n",
      "sign      : 0 means +\n",
      "exponent  : 404 means 1028 - 1023 = 5\n",
      "mantissa  : 1.0101000000000000000000000000000000000000000000000000\n",
      "\n"
     ]
    }
   ],
   "source": [
    "cs111.print_float64(42)"
   ]
  },
  {
   "cell_type": "code",
   "execution_count": 18,
   "metadata": {},
   "outputs": [
    {
     "name": "stdout",
     "output_type": "stream",
     "text": [
      "input     : -0.3333333333333333\n",
      "as float64: -3.3333333333333331e-01\n",
      "as hex    : bfd5555555555555\n",
      "sign      : 1 means -\n",
      "exponent  : 3fd means 1021 - 1023 = -2\n",
      "mantissa  : 1.0101010101010101010101010101010101010101010101010101\n",
      "\n"
     ]
    }
   ],
   "source": [
    "cs111.print_float64(-1/3)"
   ]
  },
  {
   "cell_type": "markdown",
   "metadata": {},
   "source": [
    "<b> float64 has both +0 and -0, but they compare as equal"
   ]
  },
  {
   "cell_type": "code",
   "execution_count": 19,
   "metadata": {},
   "outputs": [
    {
     "name": "stdout",
     "output_type": "stream",
     "text": [
      "input     : 0.0\n",
      "as float64: 0.0000000000000000e+00\n",
      "as hex    : 0000000000000000\n",
      "sign      : 0 means +\n",
      "exponent  : 000 means zero or denormal\n",
      "\n",
      "input     : -0.0\n",
      "as float64: -0.0000000000000000e+00\n",
      "as hex    : 8000000000000000\n",
      "sign      : 1 means -\n",
      "exponent  : 000 means zero or denormal\n",
      "\n"
     ]
    }
   ],
   "source": [
    "cs111.print_float64(0.0)\n",
    "cs111.print_float64(-0.0)"
   ]
  },
  {
   "cell_type": "code",
   "execution_count": 20,
   "metadata": {},
   "outputs": [
    {
     "data": {
      "text/plain": [
       "True"
      ]
     },
     "execution_count": 20,
     "metadata": {},
     "output_type": "execute_result"
    }
   ],
   "source": [
    "-0.0 == 0.0"
   ]
  },
  {
   "cell_type": "markdown",
   "metadata": {},
   "source": [
    "# Floating-point infinity and NaN (not-a-number)"
   ]
  },
  {
   "cell_type": "code",
   "execution_count": 21,
   "metadata": {},
   "outputs": [
    {
     "data": {
      "text/plain": [
       "inf"
      ]
     },
     "execution_count": 21,
     "metadata": {},
     "output_type": "execute_result"
    }
   ],
   "source": [
    "np.inf"
   ]
  },
  {
   "cell_type": "code",
   "execution_count": 22,
   "metadata": {},
   "outputs": [
    {
     "data": {
      "text/plain": [
       "0.0"
      ]
     },
     "execution_count": 22,
     "metadata": {},
     "output_type": "execute_result"
    }
   ],
   "source": [
    "1/np.inf"
   ]
  },
  {
   "cell_type": "code",
   "execution_count": 23,
   "metadata": {},
   "outputs": [
    {
     "data": {
      "text/plain": [
       "False"
      ]
     },
     "execution_count": 23,
     "metadata": {},
     "output_type": "execute_result"
    }
   ],
   "source": [
    "-np.inf == np.inf"
   ]
  },
  {
   "cell_type": "code",
   "execution_count": 24,
   "metadata": {},
   "outputs": [
    {
     "data": {
      "text/plain": [
       "-0.0"
      ]
     },
     "execution_count": 24,
     "metadata": {},
     "output_type": "execute_result"
    }
   ],
   "source": [
    "1/ (-np.inf)"
   ]
  },
  {
   "cell_type": "code",
   "execution_count": 25,
   "metadata": {},
   "outputs": [
    {
     "ename": "ZeroDivisionError",
     "evalue": "float division by zero",
     "output_type": "error",
     "traceback": [
      "\u001b[0;31m---------------------------------------------------------------------------\u001b[0m",
      "\u001b[0;31mZeroDivisionError\u001b[0m                         Traceback (most recent call last)",
      "\u001b[0;32m/var/folders/lz/5_q87gdn7zq7nsmnvpvc2ydw0000gn/T/ipykernel_74972/2636480195.py\u001b[0m in \u001b[0;36m<module>\u001b[0;34m\u001b[0m\n\u001b[1;32m      1\u001b[0m \u001b[0;31m# This is a bad flaw in python; it should give inf!\u001b[0m\u001b[0;34m\u001b[0m\u001b[0;34m\u001b[0m\u001b[0m\n\u001b[1;32m      2\u001b[0m \u001b[0;34m\u001b[0m\u001b[0m\n\u001b[0;32m----> 3\u001b[0;31m \u001b[0;36m1.0\u001b[0m \u001b[0;34m/\u001b[0m \u001b[0;36m0.0\u001b[0m\u001b[0;34m\u001b[0m\u001b[0;34m\u001b[0m\u001b[0m\n\u001b[0m",
      "\u001b[0;31mZeroDivisionError\u001b[0m: float division by zero"
     ]
    }
   ],
   "source": [
    "# This is a bad flaw in python; it should give inf!\n",
    "\n",
    "1.0 / 0.0"
   ]
  },
  {
   "cell_type": "code",
   "execution_count": 26,
   "metadata": {},
   "outputs": [
    {
     "data": {
      "text/plain": [
       "inf"
      ]
     },
     "execution_count": 26,
     "metadata": {},
     "output_type": "execute_result"
    }
   ],
   "source": [
    "np.inf + 100"
   ]
  },
  {
   "cell_type": "code",
   "execution_count": 27,
   "metadata": {},
   "outputs": [
    {
     "data": {
      "text/plain": [
       "-inf"
      ]
     },
     "execution_count": 27,
     "metadata": {},
     "output_type": "execute_result"
    }
   ],
   "source": [
    "-2 * np.inf"
   ]
  },
  {
   "cell_type": "code",
   "execution_count": 28,
   "metadata": {},
   "outputs": [
    {
     "data": {
      "text/plain": [
       "nan"
      ]
     },
     "execution_count": 28,
     "metadata": {},
     "output_type": "execute_result"
    }
   ],
   "source": [
    "0 * np.inf"
   ]
  },
  {
   "cell_type": "code",
   "execution_count": 29,
   "metadata": {},
   "outputs": [
    {
     "name": "stdout",
     "output_type": "stream",
     "text": [
      "input     : inf\n",
      "as float64: inf\n",
      "as hex    : 7ff0000000000000\n",
      "sign      : 0 means +\n",
      "exponent  : 7ff means inf or nan\n",
      "\n"
     ]
    }
   ],
   "source": [
    "cs111.print_float64(np.inf)"
   ]
  },
  {
   "cell_type": "code",
   "execution_count": 30,
   "metadata": {},
   "outputs": [
    {
     "name": "stdout",
     "output_type": "stream",
     "text": [
      "input     : -inf\n",
      "as float64: -inf\n",
      "as hex    : fff0000000000000\n",
      "sign      : 1 means -\n",
      "exponent  : 7ff means inf or nan\n",
      "\n"
     ]
    }
   ],
   "source": [
    "cs111.print_float64(-np.inf)"
   ]
  },
  {
   "cell_type": "code",
   "execution_count": 31,
   "metadata": {},
   "outputs": [
    {
     "name": "stdout",
     "output_type": "stream",
     "text": [
      "input     : nan\n",
      "as float64: nan\n",
      "as hex    : 7ff8000000000000\n",
      "sign      : 0 means +\n",
      "exponent  : 7ff means inf or nan\n",
      "\n"
     ]
    }
   ],
   "source": [
    "cs111.print_float64(np.nan)"
   ]
  },
  {
   "cell_type": "markdown",
   "metadata": {},
   "source": [
    "<b> Is infinity equal to infinity?"
   ]
  },
  {
   "cell_type": "code",
   "execution_count": 32,
   "metadata": {},
   "outputs": [
    {
     "data": {
      "text/plain": [
       "True"
      ]
     },
     "execution_count": 32,
     "metadata": {},
     "output_type": "execute_result"
    }
   ],
   "source": [
    "np.inf == np.inf"
   ]
  },
  {
   "cell_type": "markdown",
   "metadata": {},
   "source": [
    "<b> NaN is not equal to anything, including itself!"
   ]
  },
  {
   "cell_type": "code",
   "execution_count": 33,
   "metadata": {},
   "outputs": [
    {
     "data": {
      "text/plain": [
       "False"
      ]
     },
     "execution_count": 33,
     "metadata": {},
     "output_type": "execute_result"
    }
   ],
   "source": [
    "np.nan == 0"
   ]
  },
  {
   "cell_type": "code",
   "execution_count": 34,
   "metadata": {},
   "outputs": [
    {
     "data": {
      "text/plain": [
       "False"
      ]
     },
     "execution_count": 34,
     "metadata": {},
     "output_type": "execute_result"
    }
   ],
   "source": [
    "np.nan == np.nan"
   ]
  },
  {
   "cell_type": "code",
   "execution_count": 35,
   "metadata": {},
   "outputs": [
    {
     "data": {
      "text/plain": [
       "True"
      ]
     },
     "execution_count": 35,
     "metadata": {},
     "output_type": "execute_result"
    }
   ],
   "source": [
    "np.isnan(np.nan)"
   ]
  },
  {
   "cell_type": "code",
   "execution_count": 36,
   "metadata": {},
   "outputs": [
    {
     "data": {
      "text/plain": [
       "False"
      ]
     },
     "execution_count": 36,
     "metadata": {},
     "output_type": "execute_result"
    }
   ],
   "source": [
    "np.isnan(np.inf)"
   ]
  },
  {
   "cell_type": "code",
   "execution_count": 37,
   "metadata": {},
   "outputs": [
    {
     "data": {
      "text/plain": [
       "False"
      ]
     },
     "execution_count": 37,
     "metadata": {},
     "output_type": "execute_result"
    }
   ],
   "source": [
    "np.isnan(3.14)"
   ]
  },
  {
   "cell_type": "markdown",
   "metadata": {},
   "source": [
    "# Properties of floating-point arithmetic"
   ]
  },
  {
   "cell_type": "markdown",
   "metadata": {},
   "source": [
    "<b> Numbers that get big"
   ]
  },
  {
   "cell_type": "code",
   "execution_count": null,
   "metadata": {
    "scrolled": false
   },
   "outputs": [],
   "source": [
    "x = 1.0\n",
    "while x < 2*x:\n",
    "    print('x:', x, '    2x:', 2*x)\n",
    "    lastx = x\n",
    "    x = 2*x\n",
    "print('x:', x, '    2x:', 2*x)"
   ]
  },
  {
   "cell_type": "code",
   "execution_count": 39,
   "metadata": {},
   "outputs": [
    {
     "name": "stdout",
     "output_type": "stream",
     "text": [
      "input     : 8.98846567431158e+307\n",
      "as float64: 8.9884656743115795e+307\n",
      "as hex    : 7fe0000000000000\n",
      "sign      : 0 means +\n",
      "exponent  : 7fe means 2046 - 1023 = 1023\n",
      "mantissa  : 1.0000000000000000000000000000000000000000000000000000\n",
      "\n"
     ]
    }
   ],
   "source": [
    "cs111.print_float64(lastx)"
   ]
  },
  {
   "cell_type": "markdown",
   "metadata": {},
   "source": [
    "<b> Numbers that get little"
   ]
  },
  {
   "cell_type": "code",
   "execution_count": null,
   "metadata": {
    "scrolled": false
   },
   "outputs": [],
   "source": [
    "x = 1.0\n",
    "while x > x/2:\n",
    "    print('x:', x, '    x/2:', 2*x)\n",
    "    lastx = x\n",
    "    x = x/2\n",
    "print('x:', x, '    x/2:', x/2)"
   ]
  },
  {
   "cell_type": "code",
   "execution_count": 41,
   "metadata": {},
   "outputs": [
    {
     "name": "stdout",
     "output_type": "stream",
     "text": [
      "input     : 5e-324\n",
      "as float64: 4.9406564584124654e-324\n",
      "as hex    : 0000000000000001\n",
      "sign      : 0 means +\n",
      "exponent  : 000 means zero or denormal\n",
      "\n"
     ]
    }
   ],
   "source": [
    "cs111.print_float64(lastx)"
   ]
  },
  {
   "cell_type": "markdown",
   "metadata": {},
   "source": [
    "<b>Machine epsilon"
   ]
  },
  {
   "cell_type": "code",
   "execution_count": 42,
   "metadata": {},
   "outputs": [
    {
     "name": "stdout",
     "output_type": "stream",
     "text": [
      "x: 1.0     1 + x: 2.0\n",
      "x: 0.5     1 + x: 1.5\n",
      "x: 0.25     1 + x: 1.25\n",
      "x: 0.125     1 + x: 1.125\n",
      "x: 0.0625     1 + x: 1.0625\n",
      "x: 0.03125     1 + x: 1.03125\n",
      "x: 0.015625     1 + x: 1.015625\n",
      "x: 0.0078125     1 + x: 1.0078125\n",
      "x: 0.00390625     1 + x: 1.00390625\n",
      "x: 0.001953125     1 + x: 1.001953125\n",
      "x: 0.0009765625     1 + x: 1.0009765625\n",
      "x: 0.00048828125     1 + x: 1.00048828125\n",
      "x: 0.000244140625     1 + x: 1.000244140625\n",
      "x: 0.0001220703125     1 + x: 1.0001220703125\n",
      "x: 6.103515625e-05     1 + x: 1.00006103515625\n",
      "x: 3.0517578125e-05     1 + x: 1.000030517578125\n",
      "x: 1.52587890625e-05     1 + x: 1.0000152587890625\n",
      "x: 7.62939453125e-06     1 + x: 1.0000076293945312\n",
      "x: 3.814697265625e-06     1 + x: 1.0000038146972656\n",
      "x: 1.9073486328125e-06     1 + x: 1.0000019073486328\n",
      "x: 9.5367431640625e-07     1 + x: 1.0000009536743164\n",
      "x: 4.76837158203125e-07     1 + x: 1.0000004768371582\n",
      "x: 2.384185791015625e-07     1 + x: 1.000000238418579\n",
      "x: 1.1920928955078125e-07     1 + x: 1.0000001192092896\n",
      "x: 5.960464477539063e-08     1 + x: 1.0000000596046448\n",
      "x: 2.9802322387695312e-08     1 + x: 1.0000000298023224\n",
      "x: 1.4901161193847656e-08     1 + x: 1.0000000149011612\n",
      "x: 7.450580596923828e-09     1 + x: 1.0000000074505806\n",
      "x: 3.725290298461914e-09     1 + x: 1.0000000037252903\n",
      "x: 1.862645149230957e-09     1 + x: 1.0000000018626451\n",
      "x: 9.313225746154785e-10     1 + x: 1.0000000009313226\n",
      "x: 4.656612873077393e-10     1 + x: 1.0000000004656613\n",
      "x: 2.3283064365386963e-10     1 + x: 1.0000000002328306\n",
      "x: 1.1641532182693481e-10     1 + x: 1.0000000001164153\n",
      "x: 5.820766091346741e-11     1 + x: 1.0000000000582077\n",
      "x: 2.9103830456733704e-11     1 + x: 1.0000000000291038\n",
      "x: 1.4551915228366852e-11     1 + x: 1.000000000014552\n",
      "x: 7.275957614183426e-12     1 + x: 1.000000000007276\n",
      "x: 3.637978807091713e-12     1 + x: 1.000000000003638\n",
      "x: 1.8189894035458565e-12     1 + x: 1.000000000001819\n",
      "x: 9.094947017729282e-13     1 + x: 1.0000000000009095\n",
      "x: 4.547473508864641e-13     1 + x: 1.0000000000004547\n",
      "x: 2.2737367544323206e-13     1 + x: 1.0000000000002274\n",
      "x: 1.1368683772161603e-13     1 + x: 1.0000000000001137\n",
      "x: 5.684341886080802e-14     1 + x: 1.0000000000000568\n",
      "x: 2.842170943040401e-14     1 + x: 1.0000000000000284\n",
      "x: 1.4210854715202004e-14     1 + x: 1.0000000000000142\n",
      "x: 7.105427357601002e-15     1 + x: 1.000000000000007\n",
      "x: 3.552713678800501e-15     1 + x: 1.0000000000000036\n",
      "x: 1.7763568394002505e-15     1 + x: 1.0000000000000018\n",
      "x: 8.881784197001252e-16     1 + x: 1.0000000000000009\n",
      "x: 4.440892098500626e-16     1 + x: 1.0000000000000004\n",
      "x: 2.220446049250313e-16     1 + x: 1.0000000000000002\n",
      "x: 1.1102230246251565e-16     1 + x: 1.0\n"
     ]
    }
   ],
   "source": [
    "x = 1.0\n",
    "while 1 + x > 1:\n",
    "    print('x:', x, '    1 + x:', 1+x)\n",
    "    x = x/2\n",
    "print('x:', x, '    1 + x:', 1+x)"
   ]
  },
  {
   "cell_type": "markdown",
   "metadata": {},
   "source": [
    "<b> *machine epsilon* is the smallest x such that 1 + x > 1"
   ]
  },
  {
   "cell_type": "code",
   "execution_count": 43,
   "metadata": {},
   "outputs": [
    {
     "name": "stdout",
     "output_type": "stream",
     "text": [
      "eps:\n",
      "input     : 2.220446049250313e-16\n",
      "as float64: 2.2204460492503131e-16\n",
      "as hex    : 3cb0000000000000\n",
      "sign      : 0 means +\n",
      "exponent  : 3cb means 971 - 1023 = -52\n",
      "mantissa  : 1.0000000000000000000000000000000000000000000000000000\n",
      "\n",
      "1 + eps:\n",
      "input     : 1.0000000000000002\n",
      "as float64: 1.0000000000000002e+00\n",
      "as hex    : 3ff0000000000001\n",
      "sign      : 0 means +\n",
      "exponent  : 3ff means 1023 - 1023 = 0\n",
      "mantissa  : 1.0000000000000000000000000000000000000000000000000001\n",
      "\n"
     ]
    },
    {
     "data": {
      "text/plain": [
       "False"
      ]
     },
     "execution_count": 43,
     "metadata": {},
     "output_type": "execute_result"
    }
   ],
   "source": [
    "eps = 2**(-52)\n",
    "\n",
    "print('eps:')\n",
    "cs111.print_float64(eps)\n",
    "\n",
    "print('1 + eps:')\n",
    "cs111.print_float64(1 + eps)\n",
    "\n",
    "1 + eps == 1"
   ]
  },
  {
   "cell_type": "code",
   "execution_count": 44,
   "metadata": {},
   "outputs": [
    {
     "name": "stdout",
     "output_type": "stream",
     "text": [
      "half_eps:\n",
      "input     : 1.1102230246251565e-16\n",
      "as float64: 1.1102230246251565e-16\n",
      "as hex    : 3ca0000000000000\n",
      "sign      : 0 means +\n",
      "exponent  : 3ca means 970 - 1023 = -53\n",
      "mantissa  : 1.0000000000000000000000000000000000000000000000000000\n",
      "\n",
      "1 + half_eps:\n",
      "input     : 1.0\n",
      "as float64: 1.0000000000000000e+00\n",
      "as hex    : 3ff0000000000000\n",
      "sign      : 0 means +\n",
      "exponent  : 3ff means 1023 - 1023 = 0\n",
      "mantissa  : 1.0000000000000000000000000000000000000000000000000000\n",
      "\n"
     ]
    },
    {
     "data": {
      "text/plain": [
       "True"
      ]
     },
     "execution_count": 44,
     "metadata": {},
     "output_type": "execute_result"
    }
   ],
   "source": [
    "half_eps = 2**(-53)\n",
    "\n",
    "print('half_eps:')\n",
    "cs111.print_float64(half_eps)\n",
    "\n",
    "print('1 + half_eps:')\n",
    "cs111.print_float64(1 + half_eps)\n",
    "\n",
    "1 + half_eps == 1"
   ]
  },
  {
   "cell_type": "code",
   "execution_count": null,
   "metadata": {},
   "outputs": [],
   "source": []
  }
 ],
 "metadata": {
  "kernelspec": {
   "display_name": "Python 3 (ipykernel)",
   "language": "python",
   "name": "python3"
  },
  "language_info": {
   "codemirror_mode": {
    "name": "ipython",
    "version": 3
   },
   "file_extension": ".py",
   "mimetype": "text/x-python",
   "name": "python",
   "nbconvert_exporter": "python",
   "pygments_lexer": "ipython3",
   "version": "3.9.15"
  }
 },
 "nbformat": 4,
 "nbformat_minor": 2
}
