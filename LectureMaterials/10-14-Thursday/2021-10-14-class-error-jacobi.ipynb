{
 "cells": [
  {
   "cell_type": "markdown",
   "metadata": {},
   "source": [
    "# Transcript from Lecture, October 14, 2021\n"
   ]
  },
  {
   "cell_type": "code",
   "execution_count": 1,
   "metadata": {},
   "outputs": [],
   "source": [
    "import sys\n",
    "\n",
    "########################################\n",
    "# Change the string in the line below! #\n",
    "########################################\n",
    "sys.path.append(\"/Users/gilbert/Documents/CS111-2021-fall/Python\") \n",
    "\n",
    "import os\n",
    "import time\n",
    "import math\n",
    "import numpy as np\n",
    "import numpy.linalg as npla\n",
    "import scipy\n",
    "from scipy import linalg as spla\n",
    "import scipy.sparse\n",
    "import scipy.sparse.linalg\n",
    "from scipy import integrate\n",
    "import networkx as nx\n",
    "import cs111\n",
    "\n",
    "##########################################################\n",
    "# If this import for matplotlib doesn't work, try saying #\n",
    "#   conda install -c conda-forge ipympl                  #\n",
    "# at a shell prompt on your computer                     #\n",
    "##########################################################\n",
    "import matplotlib\n",
    "%matplotlib ipympl\n",
    "\n",
    "import matplotlib.pyplot as plt\n",
    "from matplotlib import cm\n",
    "from mpl_toolkits.mplot3d import axes3d\n",
    "\n",
    "\n",
    "\n",
    "\n",
    "np.set_printoptions(precision = 4)"
   ]
  },
  {
   "cell_type": "markdown",
   "metadata": {},
   "source": [
    "# Condition number, residual, and error"
   ]
  },
  {
   "cell_type": "code",
   "execution_count": 2,
   "metadata": {},
   "outputs": [],
   "source": [
    "A = np.random.random((10,10))"
   ]
  },
  {
   "cell_type": "code",
   "execution_count": 3,
   "metadata": {},
   "outputs": [
    {
     "name": "stdout",
     "output_type": "stream",
     "text": [
      "b: [6.2759 5.5063 5.0857 4.3974 4.0739 4.9684 3.994  7.7254 6.69   5.2455]\n"
     ]
    }
   ],
   "source": [
    "x_exact = np.ones(A.shape[1])\n",
    "b = A @ x_exact\n",
    "print('b:', b)"
   ]
  },
  {
   "cell_type": "code",
   "execution_count": 4,
   "metadata": {},
   "outputs": [
    {
     "name": "stdout",
     "output_type": "stream",
     "text": [
      "x: [1. 1. 1. 1. 1. 1. 1. 1. 1. 1.]\n"
     ]
    }
   ],
   "source": [
    "x = npla.solve(A, b)\n",
    "\n",
    "print('x:', x)\n"
   ]
  },
  {
   "cell_type": "code",
   "execution_count": 5,
   "metadata": {},
   "outputs": [
    {
     "name": "stdout",
     "output_type": "stream",
     "text": [
      "n: 10\n",
      "\n",
      "relative residual norm: 1.549061503249027e-16\n",
      "relative error norm: 5.897886751604628e-15\n",
      "\n",
      "condition number of A: 399.9774785558365\n"
     ]
    }
   ],
   "source": [
    "residual = b - A @ x\n",
    "error = x_exact - x\n",
    "\n",
    "print('n:', A.shape[1])\n",
    "print()\n",
    "print('relative residual norm:', npla.norm(residual)/npla.norm(b))\n",
    "print('relative error norm:', npla.norm(error)/npla.norm(x_exact))\n",
    "print()\n",
    "print('condition number of A:', npla.cond(A, 2))"
   ]
  },
  {
   "cell_type": "markdown",
   "metadata": {},
   "source": [
    "# The Hilbert matrix, an ill-conditioned example"
   ]
  },
  {
   "cell_type": "code",
   "execution_count": 6,
   "metadata": {},
   "outputs": [],
   "source": [
    "def hilbert(n):\n",
    "    \"\"\"n-by-n Hilbert matrix, a famous example of an ill-conditioned matrix\"\"\"\n",
    "    A = np.zeros((n,n))\n",
    "    for i in range(n):\n",
    "        for j in range(n):\n",
    "            A[i,j] = 1 / (i + j + 1)\n",
    "    return A"
   ]
  },
  {
   "cell_type": "code",
   "execution_count": 7,
   "metadata": {
    "scrolled": true
   },
   "outputs": [
    {
     "name": "stdout",
     "output_type": "stream",
     "text": [
      "hilbert(4):\n",
      " [[1.     0.5    0.3333 0.25  ]\n",
      " [0.5    0.3333 0.25   0.2   ]\n",
      " [0.3333 0.25   0.2    0.1667]\n",
      " [0.25   0.2    0.1667 0.1429]]\n"
     ]
    }
   ],
   "source": [
    "print('hilbert(4):\\n', hilbert(4))"
   ]
  },
  {
   "cell_type": "code",
   "execution_count": 8,
   "metadata": {
    "scrolled": true
   },
   "outputs": [
    {
     "name": "stdout",
     "output_type": "stream",
     "text": [
      "singular values: [1.5002e+00 1.6914e-01 6.7383e-03 9.6702e-05]\n"
     ]
    }
   ],
   "source": [
    "U, S, Vt = npla.svd(hilbert(4))\n",
    "print('singular values:', S)"
   ]
  },
  {
   "cell_type": "code",
   "execution_count": 9,
   "metadata": {},
   "outputs": [
    {
     "data": {
      "text/plain": [
       "4"
      ]
     },
     "execution_count": 9,
     "metadata": {},
     "output_type": "execute_result"
    }
   ],
   "source": [
    "A = hilbert(4)\n",
    "npla.matrix_rank(A)"
   ]
  },
  {
   "cell_type": "code",
   "execution_count": 10,
   "metadata": {},
   "outputs": [
    {
     "data": {
      "text/plain": [
       "1.5002142800592426"
      ]
     },
     "execution_count": 10,
     "metadata": {},
     "output_type": "execute_result"
    }
   ],
   "source": [
    "npla.norm(A,2)"
   ]
  },
  {
   "cell_type": "code",
   "execution_count": 11,
   "metadata": {},
   "outputs": [
    {
     "data": {
      "text/plain": [
       "15513.738738931106"
      ]
     },
     "execution_count": 11,
     "metadata": {},
     "output_type": "execute_result"
    }
   ],
   "source": [
    "npla.cond(A,2)"
   ]
  },
  {
   "cell_type": "code",
   "execution_count": 13,
   "metadata": {},
   "outputs": [
    {
     "name": "stdout",
     "output_type": "stream",
     "text": [
      "hilbert(10):\n",
      " [[1.     0.5    0.3333 0.25   0.2    0.1667 0.1429 0.125  0.1111 0.1   ]\n",
      " [0.5    0.3333 0.25   0.2    0.1667 0.1429 0.125  0.1111 0.1    0.0909]\n",
      " [0.3333 0.25   0.2    0.1667 0.1429 0.125  0.1111 0.1    0.0909 0.0833]\n",
      " [0.25   0.2    0.1667 0.1429 0.125  0.1111 0.1    0.0909 0.0833 0.0769]\n",
      " [0.2    0.1667 0.1429 0.125  0.1111 0.1    0.0909 0.0833 0.0769 0.0714]\n",
      " [0.1667 0.1429 0.125  0.1111 0.1    0.0909 0.0833 0.0769 0.0714 0.0667]\n",
      " [0.1429 0.125  0.1111 0.1    0.0909 0.0833 0.0769 0.0714 0.0667 0.0625]\n",
      " [0.125  0.1111 0.1    0.0909 0.0833 0.0769 0.0714 0.0667 0.0625 0.0588]\n",
      " [0.1111 0.1    0.0909 0.0833 0.0769 0.0714 0.0667 0.0625 0.0588 0.0556]\n",
      " [0.1    0.0909 0.0833 0.0769 0.0714 0.0667 0.0625 0.0588 0.0556 0.0526]]\n",
      "\n",
      "singular values: [1.7519e+00 3.4293e-01 3.5742e-02 2.5309e-03 1.2875e-04 4.7297e-06\n",
      " 1.2290e-07 2.1474e-09 2.2667e-11 1.0932e-13]\n"
     ]
    }
   ],
   "source": [
    "A = hilbert(10)\n",
    "print('hilbert(10):\\n', hilbert(10))\n",
    "print()\n",
    "U, S, Vt = npla.svd(A)\n",
    "print('singular values:', S)"
   ]
  },
  {
   "cell_type": "code",
   "execution_count": 14,
   "metadata": {},
   "outputs": [
    {
     "data": {
      "text/plain": [
       "array([2.929 , 2.0199, 1.6032, 1.3468, 1.1682, 1.0349, 0.9307, 0.8467,\n",
       "       0.7773, 0.7188])"
      ]
     },
     "execution_count": 14,
     "metadata": {},
     "output_type": "execute_result"
    }
   ],
   "source": [
    "x_exact = np.ones(A.shape[1])\n",
    "b = A @ x_exact\n",
    "b"
   ]
  },
  {
   "cell_type": "code",
   "execution_count": 15,
   "metadata": {},
   "outputs": [
    {
     "name": "stdout",
     "output_type": "stream",
     "text": [
      "x: [1.     1.     1.     1.     1.0002 0.9995 1.0008 0.9992 1.0004 0.9999]\n"
     ]
    }
   ],
   "source": [
    "x = npla.solve(A, b)\n",
    "\n",
    "print('x:', x)"
   ]
  },
  {
   "cell_type": "code",
   "execution_count": 16,
   "metadata": {},
   "outputs": [
    {
     "name": "stdout",
     "output_type": "stream",
     "text": [
      "n: 10\n",
      "\n",
      "relative residual norm: 5.2709532231075846e-17\n",
      "relative error norm: 0.0004170709495986796\n",
      "\n",
      "condition number of A: 16024253208221.582\n"
     ]
    }
   ],
   "source": [
    "residual = b - A @ x\n",
    "error = x_exact - x\n",
    "\n",
    "print('n:', A.shape[1])\n",
    "print()\n",
    "print('relative residual norm:', npla.norm(residual)/npla.norm(b))\n",
    "print('relative error norm:', npla.norm(error)/npla.norm(x_exact))\n",
    "print()\n",
    "print('condition number of A:', npla.cond(A, 2))"
   ]
  },
  {
   "cell_type": "code",
   "execution_count": 17,
   "metadata": {},
   "outputs": [
    {
     "data": {
      "text/plain": [
       "array([3.5977, 2.6454, 2.1908, 1.901 , 1.6926, 1.5326, 1.4044, 1.2986,\n",
       "       1.2093, 1.1327, 1.066 , 1.0074, 0.9553, 0.9087, 0.8666, 0.8286,\n",
       "       0.7938, 0.762 , 0.7328, 0.7058])"
      ]
     },
     "execution_count": 17,
     "metadata": {},
     "output_type": "execute_result"
    }
   ],
   "source": [
    "A = hilbert(20)\n",
    "x_exact = np.ones(A.shape[1])\n",
    "b = A @ x_exact\n",
    "b"
   ]
  },
  {
   "cell_type": "code",
   "execution_count": 18,
   "metadata": {},
   "outputs": [
    {
     "name": "stdout",
     "output_type": "stream",
     "text": [
      "x: [  1.       1.       0.9984   1.0279   0.7395   2.4999  -4.7311  16.2389\n",
      " -28.0164  40.8394 -38.1484  31.7326 -33.3383  55.5837 -52.7371   4.7578\n",
      "  52.4796 -55.3243  27.1172  -3.7195]\n"
     ]
    }
   ],
   "source": [
    "x = npla.solve(A, b)\n",
    "\n",
    "print('x:', x)"
   ]
  },
  {
   "cell_type": "code",
   "execution_count": 19,
   "metadata": {},
   "outputs": [
    {
     "name": "stdout",
     "output_type": "stream",
     "text": [
      "n: 20\n",
      "\n",
      "relative residual norm: 5.116979263680122e-16\n",
      "relative error norm: 30.627485857988308\n",
      "\n",
      "condition number of A: 2.6937874400784947e+18\n"
     ]
    }
   ],
   "source": [
    "residual = b - A @ x\n",
    "error = x_exact - x\n",
    "\n",
    "print('n:', A.shape[1])\n",
    "print()\n",
    "print('relative residual norm:', npla.norm(residual)/npla.norm(b))\n",
    "print('relative error norm:', npla.norm(error)/npla.norm(x_exact))\n",
    "print()\n",
    "print('condition number of A:', npla.cond(A, 2))"
   ]
  },
  {
   "cell_type": "code",
   "execution_count": 20,
   "metadata": {},
   "outputs": [
    {
     "name": "stdout",
     "output_type": "stream",
     "text": [
      "singular values: [1.9071e+00 4.8704e-01 7.5596e-02 8.9611e-03 8.6767e-04 7.0334e-05\n",
      " 4.8305e-06 2.8277e-07 1.4140e-08 6.0361e-10 2.1929e-11 6.7408e-13\n",
      " 1.7383e-14 3.7358e-16 1.4048e-17 1.1844e-17 7.0744e-18 3.8403e-18\n",
      " 2.5573e-18 9.0534e-19]\n"
     ]
    }
   ],
   "source": [
    "U, S, Vt = npla.svd(A)\n",
    "print('singular values:', S)"
   ]
  },
  {
   "cell_type": "code",
   "execution_count": 21,
   "metadata": {},
   "outputs": [
    {
     "data": {
      "text/plain": [
       "13"
      ]
     },
     "execution_count": 21,
     "metadata": {},
     "output_type": "execute_result"
    }
   ],
   "source": [
    "npla.matrix_rank(A)"
   ]
  },
  {
   "cell_type": "markdown",
   "metadata": {},
   "source": [
    "# Jacobi iterative method for Ax = b"
   ]
  },
  {
   "cell_type": "code",
   "execution_count": 22,
   "metadata": {},
   "outputs": [
    {
     "data": {
      "text/plain": [
       "array([[ 3,  1],\n",
       "       [-2,  4]])"
      ]
     },
     "execution_count": 22,
     "metadata": {},
     "output_type": "execute_result"
    }
   ],
   "source": [
    "A = np.array([[3,1],[-2,4]])\n",
    "A"
   ]
  },
  {
   "cell_type": "code",
   "execution_count": 23,
   "metadata": {},
   "outputs": [
    {
     "data": {
      "text/plain": [
       "array([9, 8])"
      ]
     },
     "execution_count": 23,
     "metadata": {},
     "output_type": "execute_result"
    }
   ],
   "source": [
    "b = np.array([9,8])\n",
    "b"
   ]
  },
  {
   "cell_type": "code",
   "execution_count": 24,
   "metadata": {},
   "outputs": [
    {
     "data": {
      "text/plain": [
       "array([2., 3.])"
      ]
     },
     "execution_count": 24,
     "metadata": {},
     "output_type": "execute_result"
    }
   ],
   "source": [
    "npla.solve(A,b)"
   ]
  },
  {
   "cell_type": "code",
   "execution_count": 25,
   "metadata": {},
   "outputs": [
    {
     "data": {
      "text/plain": [
       "(array([2., 3.]), 0.0)"
      ]
     },
     "execution_count": 25,
     "metadata": {},
     "output_type": "execute_result"
    }
   ],
   "source": [
    "cs111.LUsolve(A,b)"
   ]
  },
  {
   "cell_type": "code",
   "execution_count": 26,
   "metadata": {},
   "outputs": [
    {
     "data": {
      "text/plain": [
       "array([0., 0.])"
      ]
     },
     "execution_count": 26,
     "metadata": {},
     "output_type": "execute_result"
    }
   ],
   "source": [
    "# Start the iteration with x = 0 as our first guess\n",
    "x = np.zeros(2)\n",
    "x"
   ]
  },
  {
   "cell_type": "code",
   "execution_count": 27,
   "metadata": {},
   "outputs": [
    {
     "data": {
      "text/plain": [
       "1.0"
      ]
     },
     "execution_count": 27,
     "metadata": {},
     "output_type": "execute_result"
    }
   ],
   "source": [
    "# How good is x? Compute the relative residual norm\n",
    "relres = npla.norm(b - A@x) / npla.norm(b)\n",
    "relres"
   ]
  },
  {
   "cell_type": "code",
   "execution_count": 28,
   "metadata": {},
   "outputs": [
    {
     "name": "stdout",
     "output_type": "stream",
     "text": [
      "x: [3. 2.]\n",
      "relres: 0.5252257314388903\n"
     ]
    }
   ],
   "source": [
    "# Try to improve the guess\n",
    "x = np.array([(9-x[1])/3, (8+2*x[0])/4])\n",
    "print('x:',x)\n",
    "\n",
    "relres = npla.norm(A@x-b)/npla.norm(b)\n",
    "print('relres:',relres)"
   ]
  },
  {
   "cell_type": "code",
   "execution_count": 29,
   "metadata": {},
   "outputs": [
    {
     "name": "stdout",
     "output_type": "stream",
     "text": [
      "x: [2.3333 3.5   ]\n",
      "relres: 0.1666666666666666\n"
     ]
    }
   ],
   "source": [
    "# Try to improve the guess\n",
    "x = np.array([(9-x[1])/3, (8+2*x[0])/4])\n",
    "print('x:',x)\n",
    "\n",
    "relres = npla.norm(A@x-b)/npla.norm(b)\n",
    "print('relres:',relres)"
   ]
  },
  {
   "cell_type": "code",
   "execution_count": 30,
   "metadata": {},
   "outputs": [
    {
     "name": "stdout",
     "output_type": "stream",
     "text": [
      "x: [1.8333 3.1667]\n",
      "relres: 0.08753762190648182\n"
     ]
    }
   ],
   "source": [
    "# Try to improve the guess\n",
    "x = np.array([(9-x[1])/3, (8+2*x[0])/4])\n",
    "print('x:',x)\n",
    "\n",
    "relres = npla.norm(A@x-b)/npla.norm(b)\n",
    "print('relres:',relres)"
   ]
  },
  {
   "cell_type": "code",
   "execution_count": 31,
   "metadata": {},
   "outputs": [
    {
     "name": "stdout",
     "output_type": "stream",
     "text": [
      "x: [1.9444 2.9167]\n",
      "relres: 0.027777777777777832\n"
     ]
    }
   ],
   "source": [
    "# Try to improve the guess\n",
    "x = np.array([(9-x[1])/3, (8+2*x[0])/4])\n",
    "print('x:',x)\n",
    "\n",
    "relres = npla.norm(A@x-b)/npla.norm(b)\n",
    "print('relres:',relres)"
   ]
  },
  {
   "cell_type": "code",
   "execution_count": 32,
   "metadata": {},
   "outputs": [
    {
     "name": "stdout",
     "output_type": "stream",
     "text": [
      "x: [2.0278 2.9722]\n",
      "relres: 0.014589603651080349\n"
     ]
    }
   ],
   "source": [
    "# Try to improve the guess\n",
    "x = np.array([(9-x[1])/3, (8+2*x[0])/4])\n",
    "print('x:',x)\n",
    "\n",
    "relres = npla.norm(A@x-b)/npla.norm(b)\n",
    "print('relres:',relres)"
   ]
  },
  {
   "cell_type": "code",
   "execution_count": 33,
   "metadata": {},
   "outputs": [
    {
     "name": "stdout",
     "output_type": "stream",
     "text": [
      "x: [2.0093 3.0139]\n",
      "relres: 0.00462962962962965\n"
     ]
    }
   ],
   "source": [
    "# Try to improve the guess\n",
    "x = np.array([(9-x[1])/3, (8+2*x[0])/4])\n",
    "print('x:',x)\n",
    "\n",
    "relres = npla.norm(A@x-b)/npla.norm(b)\n",
    "print('relres:',relres)"
   ]
  },
  {
   "cell_type": "code",
   "execution_count": 34,
   "metadata": {},
   "outputs": [
    {
     "name": "stdout",
     "output_type": "stream",
     "text": [
      "x: [1.9954 3.0046]\n",
      "relres: 0.00243160060851345\n"
     ]
    }
   ],
   "source": [
    "# Try to improve the guess\n",
    "x = np.array([(9-x[1])/3, (8+2*x[0])/4])\n",
    "print('x:',x)\n",
    "\n",
    "relres = npla.norm(A@x-b)/npla.norm(b)\n",
    "print('relres:',relres)"
   ]
  },
  {
   "cell_type": "code",
   "execution_count": null,
   "metadata": {},
   "outputs": [],
   "source": [
    "# Try to improve the guess\n",
    "x = np.array([(9-x[1])/3, (8+2*x[0])/4])\n",
    "print('x:',x)\n",
    "\n",
    "relres = npla.norm(A@x-b)/npla.norm(b)\n",
    "print('relres:',relres)"
   ]
  },
  {
   "cell_type": "code",
   "execution_count": 35,
   "metadata": {},
   "outputs": [
    {
     "name": "stdout",
     "output_type": "stream",
     "text": [
      "x: [1.9985 2.9977]\n",
      "relres: 0.0007716049382715942\n"
     ]
    }
   ],
   "source": [
    "# Try to improve the guess\n",
    "x = np.array([(9-x[1])/3, (8+2*x[0])/4])\n",
    "print('x:',x)\n",
    "\n",
    "relres = npla.norm(A@x-b)/npla.norm(b)\n",
    "print('relres:',relres)"
   ]
  },
  {
   "cell_type": "code",
   "execution_count": 36,
   "metadata": {},
   "outputs": [
    {
     "name": "stdout",
     "output_type": "stream",
     "text": [
      "x: [2.0008 2.9992]\n",
      "relres: 0.0004052667680856294\n"
     ]
    }
   ],
   "source": [
    "# Try to improve the guess\n",
    "x = np.array([(9-x[1])/3, (8+2*x[0])/4])\n",
    "print('x:',x)\n",
    "\n",
    "relres = npla.norm(A@x-b)/npla.norm(b)\n",
    "print('relres:',relres)"
   ]
  },
  {
   "cell_type": "code",
   "execution_count": 37,
   "metadata": {},
   "outputs": [
    {
     "data": {
      "text/plain": [
       "1.4560832005096076"
      ]
     },
     "execution_count": 37,
     "metadata": {},
     "output_type": "execute_result"
    }
   ],
   "source": [
    "npla.cond(A)"
   ]
  },
  {
   "cell_type": "markdown",
   "metadata": {},
   "source": [
    "# Matrix view of Jacobi"
   ]
  },
  {
   "cell_type": "code",
   "execution_count": 38,
   "metadata": {},
   "outputs": [
    {
     "data": {
      "text/plain": [
       "array([[ 3,  1],\n",
       "       [-2,  4]])"
      ]
     },
     "execution_count": 38,
     "metadata": {},
     "output_type": "execute_result"
    }
   ],
   "source": [
    "A"
   ]
  },
  {
   "cell_type": "code",
   "execution_count": 39,
   "metadata": {},
   "outputs": [
    {
     "data": {
      "text/plain": [
       "array([3, 4])"
      ]
     },
     "execution_count": 39,
     "metadata": {},
     "output_type": "execute_result"
    }
   ],
   "source": [
    "d = A.diagonal()\n",
    "d"
   ]
  },
  {
   "cell_type": "code",
   "execution_count": 40,
   "metadata": {},
   "outputs": [
    {
     "data": {
      "text/plain": [
       "array([[3, 0],\n",
       "       [0, 4]])"
      ]
     },
     "execution_count": 40,
     "metadata": {},
     "output_type": "execute_result"
    }
   ],
   "source": [
    "D = np.diag(d)\n",
    "D"
   ]
  },
  {
   "cell_type": "code",
   "execution_count": 41,
   "metadata": {},
   "outputs": [
    {
     "data": {
      "text/plain": [
       "array([[ 0,  1],\n",
       "       [-2,  0]])"
      ]
     },
     "execution_count": 41,
     "metadata": {},
     "output_type": "execute_result"
    }
   ],
   "source": [
    "C = A - D\n",
    "C"
   ]
  },
  {
   "cell_type": "code",
   "execution_count": 42,
   "metadata": {},
   "outputs": [
    {
     "data": {
      "text/plain": [
       "array([0., 0.])"
      ]
     },
     "execution_count": 42,
     "metadata": {},
     "output_type": "execute_result"
    }
   ],
   "source": [
    "# initial guess x = 0\n",
    "x = np.zeros(2)\n",
    "x"
   ]
  },
  {
   "cell_type": "code",
   "execution_count": 43,
   "metadata": {},
   "outputs": [
    {
     "name": "stdout",
     "output_type": "stream",
     "text": [
      "x: [3. 2.]\n",
      "relres: 0.5252257314388903\n"
     ]
    }
   ],
   "source": [
    "# try to improve the guess, matrix version\n",
    "x = (b - C@x) / d\n",
    "print('x:',x)\n",
    "\n",
    "relres = npla.norm(A@x-b)/npla.norm(b)\n",
    "print('relres:',relres)"
   ]
  },
  {
   "cell_type": "code",
   "execution_count": 44,
   "metadata": {},
   "outputs": [
    {
     "name": "stdout",
     "output_type": "stream",
     "text": [
      "x: [2.3333 3.5   ]\n",
      "relres: 0.1666666666666666\n"
     ]
    }
   ],
   "source": [
    "# try to improve the guess, matrix version\n",
    "x = (b - C@x) / d\n",
    "print('x:',x)\n",
    "\n",
    "relres = npla.norm(A@x-b)/npla.norm(b)\n",
    "print('relres:',relres)"
   ]
  },
  {
   "cell_type": "code",
   "execution_count": 45,
   "metadata": {},
   "outputs": [
    {
     "name": "stdout",
     "output_type": "stream",
     "text": [
      "x: [1.8333 3.1667]\n",
      "relres: 0.08753762190648182\n"
     ]
    }
   ],
   "source": [
    "# try to improve the guess, matrix version\n",
    "x = (b - C@x) / d\n",
    "print('x:',x)\n",
    "\n",
    "relres = npla.norm(A@x-b)/npla.norm(b)\n",
    "print('relres:',relres)"
   ]
  },
  {
   "cell_type": "code",
   "execution_count": 46,
   "metadata": {},
   "outputs": [
    {
     "name": "stdout",
     "output_type": "stream",
     "text": [
      "iteration 0 x: [3. 2.] , relres: 0.5252257314388903\n",
      "iteration 1 x: [2.3333 3.5   ] , relres: 0.1666666666666666\n",
      "iteration 2 x: [1.8333 3.1667] , relres: 0.08753762190648182\n",
      "iteration 3 x: [1.9444 2.9167] , relres: 0.027777777777777832\n",
      "iteration 4 x: [2.0278 2.9722] , relres: 0.014589603651080349\n",
      "iteration 5 x: [2.0093 3.0139] , relres: 0.00462962962962965\n",
      "iteration 6 x: [1.9954 3.0046] , relres: 0.00243160060851345\n",
      "iteration 7 x: [1.9985 2.9977] , relres: 0.0007716049382715942\n",
      "iteration 8 x: [2.0008 2.9992] , relres: 0.0004052667680856294\n",
      "iteration 9 x: [2.0003 3.0004] , relres: 0.0001286008230453045\n",
      "iteration 10 x: [1.9999 3.0001] , relres: 6.754446134775651e-05\n",
      "iteration 11 x: [2.     2.9999] , relres: 2.143347050755075e-05\n",
      "iteration 12 x: [2. 3.] , relres: 1.1257410224711609e-05\n",
      "iteration 13 x: [2. 3.] , relres: 3.572245084626502e-06\n",
      "iteration 14 x: [2. 3.] , relres: 1.8762350374519347e-06\n",
      "iteration 15 x: [2. 3.] , relres: 5.953741808037523e-07\n",
      "iteration 16 x: [2. 3.] , relres: 3.1270583952089815e-07\n",
      "iteration 17 x: [2. 3.] , relres: 9.922902990936187e-08\n",
      "iteration 18 x: [2. 3.] , relres: 5.211764003288578e-08\n",
      "iteration 19 x: [2. 3.] , relres: 1.653817172098115e-08\n",
      "iteration 20 x: [2. 3.] , relres: 8.686273338814296e-09\n",
      "iteration 21 x: [2. 3.] , relres: 2.7563618330312806e-09\n",
      "iteration 22 x: [2. 3.] , relres: 1.4477123786337694e-09\n",
      "iteration 23 x: [2. 3.] , relres: 4.5939367559075863e-10\n",
      "iteration 24 x: [2. 3.] , relres: 2.412854508632904e-10\n"
     ]
    }
   ],
   "source": [
    "x = np.zeros(2)\n",
    "for i in range(25):\n",
    "    x = (b - C@x) / d\n",
    "    relres = npla.norm(A@x-b)/npla.norm(b)\n",
    "    print('iteration', i, 'x:', x, ', relres:' ,relres)"
   ]
  },
  {
   "cell_type": "code",
   "execution_count": 47,
   "metadata": {},
   "outputs": [],
   "source": [
    "x, rr = cs111.Jsolve(A,b)"
   ]
  },
  {
   "cell_type": "code",
   "execution_count": 48,
   "metadata": {},
   "outputs": [
    {
     "data": {
      "text/plain": [
       "array([2., 3.])"
      ]
     },
     "execution_count": 48,
     "metadata": {},
     "output_type": "execute_result"
    }
   ],
   "source": [
    "x"
   ]
  },
  {
   "cell_type": "code",
   "execution_count": 49,
   "metadata": {},
   "outputs": [
    {
     "data": {
      "text/plain": [
       "[1.0,\n",
       " 0.5252257314388903,\n",
       " 0.1666666666666666,\n",
       " 0.08753762190648182,\n",
       " 0.027777777777777832,\n",
       " 0.014589603651080349,\n",
       " 0.00462962962962965,\n",
       " 0.00243160060851345,\n",
       " 0.0007716049382715942,\n",
       " 0.0004052667680856294,\n",
       " 0.0001286008230453045,\n",
       " 6.754446134775651e-05,\n",
       " 2.143347050755075e-05,\n",
       " 1.1257410224711609e-05,\n",
       " 3.572245084626502e-06,\n",
       " 1.8762350374519347e-06,\n",
       " 5.953741808037523e-07,\n",
       " 3.1270583952089815e-07,\n",
       " 9.922902990936187e-08,\n",
       " 5.211764003288578e-08,\n",
       " 1.653817172098115e-08,\n",
       " 8.686273338814296e-09]"
      ]
     },
     "execution_count": 49,
     "metadata": {},
     "output_type": "execute_result"
    }
   ],
   "source": [
    "rr"
   ]
  },
  {
   "cell_type": "code",
   "execution_count": 50,
   "metadata": {},
   "outputs": [],
   "source": [
    "cs111.Jsolve?"
   ]
  },
  {
   "cell_type": "code",
   "execution_count": null,
   "metadata": {},
   "outputs": [],
   "source": []
  }
 ],
 "metadata": {
  "kernelspec": {
   "display_name": "Python 3",
   "language": "python",
   "name": "python3"
  },
  "language_info": {
   "codemirror_mode": {
    "name": "ipython",
    "version": 3
   },
   "file_extension": ".py",
   "mimetype": "text/x-python",
   "name": "python",
   "nbconvert_exporter": "python",
   "pygments_lexer": "ipython3",
   "version": "3.6.5"
  }
 },
 "nbformat": 4,
 "nbformat_minor": 2
}
