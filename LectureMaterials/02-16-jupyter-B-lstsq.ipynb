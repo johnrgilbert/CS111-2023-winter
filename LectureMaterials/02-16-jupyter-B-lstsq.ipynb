{
 "cells": [
  {
   "cell_type": "markdown",
   "metadata": {},
   "source": [
    "# Transcript B from Lecture, February 16, 2023"
   ]
  },
  {
   "cell_type": "code",
   "execution_count": 1,
   "metadata": {},
   "outputs": [],
   "source": [
    "import sys\n",
    "\n",
    "########################################\n",
    "# Change the string in the line below! #\n",
    "########################################\n",
    "sys.path.append(\"/Users/gilbert/Documents/CS111-2023-winter/Python\") \n",
    "\n",
    "import os\n",
    "import time\n",
    "import math\n",
    "import numpy as np\n",
    "import numpy.linalg as npla\n",
    "import scipy\n",
    "from scipy import linalg as spla\n",
    "import scipy.sparse\n",
    "import scipy.sparse.linalg\n",
    "from scipy import integrate\n",
    "import networkx as nx\n",
    "import json\n",
    "import cs111\n",
    "\n",
    "##########################################################\n",
    "# If this import for matplotlib doesn't work, try saying #\n",
    "#   conda install -c conda-forge ipympl                  #\n",
    "# at a shell prompt on your computer                     #\n",
    "##########################################################\n",
    "import matplotlib\n",
    "%matplotlib ipympl\n",
    "\n",
    "import matplotlib.pyplot as plt\n",
    "from matplotlib import cm\n",
    "from mpl_toolkits.mplot3d import axes3d\n",
    "\n",
    "\n",
    "\n",
    "np.set_printoptions(precision = 4)"
   ]
  },
  {
   "cell_type": "markdown",
   "metadata": {},
   "source": [
    "# Data fitting by least squares"
   ]
  },
  {
   "cell_type": "markdown",
   "metadata": {},
   "source": [
    "## The surveyor problem"
   ]
  },
  {
   "cell_type": "code",
   "execution_count": null,
   "metadata": {},
   "outputs": [],
   "source": [
    "A = np.array([[1,0,0],[0,1,0],[0,0,1],[-1,1,0],[-1,0,1],[0,-1,1]])\n",
    "b = np.array([1237,1941,2417,711,1177,475])\n",
    "print('A:'); print(A)\n",
    "print('\\nb:', b)"
   ]
  },
  {
   "cell_type": "code",
   "execution_count": null,
   "metadata": {},
   "outputs": [],
   "source": [
    "x = npla.solve(A,b)"
   ]
  },
  {
   "cell_type": "code",
   "execution_count": null,
   "metadata": {},
   "outputs": [],
   "source": [
    "x, resid, rank, sv = npla.lstsq(A, b, rcond = None)\n",
    "x"
   ]
  },
  {
   "cell_type": "code",
   "execution_count": null,
   "metadata": {},
   "outputs": [],
   "source": [
    "npla.lstsq?\n"
   ]
  },
  {
   "cell_type": "code",
   "execution_count": null,
   "metadata": {},
   "outputs": [],
   "source": [
    "x = npla.lstsq(A, b, rcond = None)[0]\n",
    "x"
   ]
  },
  {
   "cell_type": "code",
   "execution_count": null,
   "metadata": {},
   "outputs": [],
   "source": [
    "b - A@x"
   ]
  },
  {
   "cell_type": "code",
   "execution_count": null,
   "metadata": {},
   "outputs": [],
   "source": [
    "relres = npla.norm(b - A@x)/npla.norm(b)\n",
    "print('relres =', relres)"
   ]
  },
  {
   "cell_type": "code",
   "execution_count": null,
   "metadata": {},
   "outputs": [],
   "source": [
    "first_surveyor_x = np.array([1237,1941,2417])\n",
    "relres = npla.norm(b - A @ first_surveyor_x)/npla.norm(b)\n",
    "print(\"first surveyor's relres =\", relres)"
   ]
  },
  {
   "cell_type": "markdown",
   "metadata": {},
   "source": [
    "# Fitting a linear-regression line to data"
   ]
  },
  {
   "cell_type": "markdown",
   "metadata": {},
   "source": [
    "<b>Warning: This data originated from a real source (SDSS), but it has been messed around with and should be thought of as only a toy example."
   ]
  },
  {
   "cell_type": "code",
   "execution_count": 2,
   "metadata": {},
   "outputs": [],
   "source": [
    "u = np.array([\n",
    "24.41442,\n",
    "25.67274,\n",
    "26.02992,\n",
    "23.00638,\n",
    "24.86972,\n",
    "21.96248,\n",
    "21.87139,\n",
    "24.93143,\n",
    "22.90206,\n",
    "22.749,\n",
    "23.84269,\n",
    "21.74025,\n",
    "23.87719,\n",
    "19.22808,\n",
    "21.62093,\n",
    "25.31738,\n",
    "24.78468,\n",
    "26.16757,\n",
    "24.25187,\n",
    "23.59213,\n",
    "22.67077,\n",
    "25.01685,\n",
    "25.43069,\n",
    "24.23741,\n",
    "22.36275,\n",
    "24.56208,\n",
    "21.57241,\n",
    "28.41815,\n",
    "25.05081,\n",
    "20.96467,\n",
    "23.56018,\n",
    "23.45984,\n",
    "22.8903,\n",
    "22.97415,\n",
    "20.78101,\n",
    "22.46072,\n",
    "24.60077,\n",
    "24.78432,\n",
    "23.35197,\n",
    "24.09856,\n",
    "25.7874,\n",
    "22.36821,\n",
    "24.50825,\n",
    "22.06679,\n",
    "16.63657,\n",
    "24.38522,\n",
    "26.19138,\n",
    "21.29271])\n",
    "\n",
    "z = np.array([\n",
    "21.37779,\n",
    "21.2569,\n",
    "19.88106,\n",
    "20.76563,\n",
    "23.18144,\n",
    "19.76097,\n",
    "18.34194,\n",
    "21.97318,\n",
    "18.26459,\n",
    "20.63926,\n",
    "21.69268,\n",
    "18.20393,\n",
    "20.19502,\n",
    "15.4874,\n",
    "21.864,\n",
    "22.357,\n",
    "22.36432,\n",
    "20.08167,\n",
    "20.08758,\n",
    "20.00934,\n",
    "19.9816,\n",
    "21.85483,\n",
    "19.38139,\n",
    "17.90937,\n",
    "16.79848,\n",
    "22.54093,\n",
    "18.07866,\n",
    "27.90404,\n",
    "21.32371,\n",
    "17.1744,\n",
    "18.08388,\n",
    "22.01883,\n",
    "19.4599,\n",
    "22.5115,\n",
    "16.82848,\n",
    "21.34581,\n",
    "20.29847,\n",
    "22.91343,\n",
    "19.40759,\n",
    "21.99136,\n",
    "22.56684,\n",
    "19.13174,\n",
    "22.60053,\n",
    "20.24307,\n",
    "13.87426,\n",
    "19.74682,\n",
    "21.74273,\n",
    "17.74383])/100"
   ]
  },
  {
   "cell_type": "code",
   "execution_count": 3,
   "metadata": {},
   "outputs": [
    {
     "data": {
      "text/plain": [
       "48"
      ]
     },
     "execution_count": 3,
     "metadata": {},
     "output_type": "execute_result"
    }
   ],
   "source": [
    "len(u)"
   ]
  },
  {
   "cell_type": "code",
   "execution_count": 4,
   "metadata": {},
   "outputs": [
    {
     "data": {
      "text/plain": [
       "48"
      ]
     },
     "execution_count": 4,
     "metadata": {},
     "output_type": "execute_result"
    }
   ],
   "source": [
    "len(z)"
   ]
  },
  {
   "cell_type": "code",
   "execution_count": 5,
   "metadata": {},
   "outputs": [
    {
     "data": {
      "text/plain": [
       "Text(0.5, 1.0, 'Hubble diagram: magnitude and red shift of astronomical objects')"
      ]
     },
     "execution_count": 5,
     "metadata": {},
     "output_type": "execute_result"
    },
    {
     "data": {
      "image/png": "[encoded data removed]",
      "text/plain": [
       "<Figure size 640x480 with 1 Axes>"
      ]
     },
     "metadata": {},
     "output_type": "display_data"
    }
   ],
   "source": [
    "%matplotlib inline\n",
    "plt.figure()\n",
    "plt.plot(u,z,'.')\n",
    "plt.xlabel('magnitude u_i')\n",
    "plt.ylabel('redshift z_i')\n",
    "plt.title('Hubble diagram: magnitude and red shift of astronomical objects')"
   ]
  },
  {
   "cell_type": "code",
   "execution_count": 6,
   "metadata": {},
   "outputs": [
    {
     "name": "stdout",
     "output_type": "stream",
     "text": [
      "A is a 48-by-2 matrix.\n",
      "b is a 48-vector.\n"
     ]
    }
   ],
   "source": [
    "m = len(u)\n",
    "A = np.ones((m,2))\n",
    "A[:,1] = u\n",
    "\n",
    "b = z\n",
    "\n",
    "print(f\"A is a {A.shape[0]}-by-{A.shape[1]} matrix.\\nb is a {len(b)}-vector.\")"
   ]
  },
  {
   "cell_type": "code",
   "execution_count": 7,
   "metadata": {},
   "outputs": [
    {
     "data": {
      "text/plain": [
       "array([[ 1.    , 24.4144],\n",
       "       [ 1.    , 25.6727],\n",
       "       [ 1.    , 26.0299],\n",
       "       [ 1.    , 23.0064],\n",
       "       [ 1.    , 24.8697],\n",
       "       [ 1.    , 21.9625],\n",
       "       [ 1.    , 21.8714],\n",
       "       [ 1.    , 24.9314],\n",
       "       [ 1.    , 22.9021],\n",
       "       [ 1.    , 22.749 ],\n",
       "       [ 1.    , 23.8427],\n",
       "       [ 1.    , 21.7402],\n",
       "       [ 1.    , 23.8772],\n",
       "       [ 1.    , 19.2281],\n",
       "       [ 1.    , 21.6209],\n",
       "       [ 1.    , 25.3174],\n",
       "       [ 1.    , 24.7847],\n",
       "       [ 1.    , 26.1676],\n",
       "       [ 1.    , 24.2519],\n",
       "       [ 1.    , 23.5921],\n",
       "       [ 1.    , 22.6708],\n",
       "       [ 1.    , 25.0169],\n",
       "       [ 1.    , 25.4307],\n",
       "       [ 1.    , 24.2374],\n",
       "       [ 1.    , 22.3627],\n",
       "       [ 1.    , 24.5621],\n",
       "       [ 1.    , 21.5724],\n",
       "       [ 1.    , 28.4182],\n",
       "       [ 1.    , 25.0508],\n",
       "       [ 1.    , 20.9647],\n",
       "       [ 1.    , 23.5602],\n",
       "       [ 1.    , 23.4598],\n",
       "       [ 1.    , 22.8903],\n",
       "       [ 1.    , 22.9742],\n",
       "       [ 1.    , 20.781 ],\n",
       "       [ 1.    , 22.4607],\n",
       "       [ 1.    , 24.6008],\n",
       "       [ 1.    , 24.7843],\n",
       "       [ 1.    , 23.352 ],\n",
       "       [ 1.    , 24.0986],\n",
       "       [ 1.    , 25.7874],\n",
       "       [ 1.    , 22.3682],\n",
       "       [ 1.    , 24.5083],\n",
       "       [ 1.    , 22.0668],\n",
       "       [ 1.    , 16.6366],\n",
       "       [ 1.    , 24.3852],\n",
       "       [ 1.    , 26.1914],\n",
       "       [ 1.    , 21.2927]])"
      ]
     },
     "execution_count": 7,
     "metadata": {},
     "output_type": "execute_result"
    }
   ],
   "source": [
    "A"
   ]
  },
  {
   "cell_type": "code",
   "execution_count": 8,
   "metadata": {},
   "outputs": [
    {
     "data": {
      "text/plain": [
       "array([-0.0113,  0.0091])"
      ]
     },
     "execution_count": 8,
     "metadata": {},
     "output_type": "execute_result"
    }
   ],
   "source": [
    "x = npla.lstsq(A, b, rcond = None)[0]\n",
    "x"
   ]
  },
  {
   "cell_type": "code",
   "execution_count": 9,
   "metadata": {},
   "outputs": [
    {
     "data": {
      "text/plain": [
       "array([15., 20., 25., 30.])"
      ]
     },
     "execution_count": 9,
     "metadata": {},
     "output_type": "execute_result"
    }
   ],
   "source": [
    "np.linspace(15,30,num=4)"
   ]
  },
  {
   "cell_type": "code",
   "execution_count": 10,
   "metadata": {},
   "outputs": [
    {
     "data": {
      "text/plain": [
       "Text(0.5, 1.0, 'Hubble diagram: magnitude and red shift of astronomical objects')"
      ]
     },
     "execution_count": 10,
     "metadata": {},
     "output_type": "execute_result"
    },
    {
     "data": {
      "image/png": "[encoded data removed]",
      "text/plain": [
       "<Figure size 640x480 with 1 Axes>"
      ]
     },
     "metadata": {},
     "output_type": "display_data"
    }
   ],
   "source": [
    "%matplotlib inline\n",
    "plt.figure()\n",
    "plt.plot(u,z,'.')\n",
    "lineu = np.linspace(15,30,num=4)\n",
    "linez = x[0] + x[1]*lineu\n",
    "plt.plot(lineu,linez)\n",
    "plt.xlabel('magnitude u')\n",
    "plt.ylabel('red shift z')\n",
    "plt.legend(('observations', 'linear fit'))\n",
    "plt.title('Hubble diagram: magnitude and red shift of astronomical objects')"
   ]
  },
  {
   "cell_type": "code",
   "execution_count": null,
   "metadata": {},
   "outputs": [],
   "source": [
    "x"
   ]
  },
  {
   "cell_type": "markdown",
   "metadata": {},
   "source": [
    "## SVD and least squares"
   ]
  },
  {
   "cell_type": "code",
   "execution_count": 11,
   "metadata": {},
   "outputs": [
    {
     "name": "stdout",
     "output_type": "stream",
     "text": [
      "singular values: [163.7247   0.5805]\n",
      "\n",
      "U:\n",
      "[[-0.1492 -0.0523 -0.1322 ... -0.1406 -0.1314 -0.1562]\n",
      " [-0.1569 -0.1438 -0.1909 ... -0.0721 -0.2026  0.1514]\n",
      " [-0.1591 -0.1697  0.9569 ... -0.026  -0.0448  0.0063]\n",
      " ...\n",
      " [-0.1491 -0.0502 -0.0249 ...  0.9797 -0.0254 -0.0116]\n",
      " [-0.1601 -0.1814 -0.0449 ... -0.0265  0.9533  0.008 ]\n",
      " [-0.1302  0.1744  0.0093 ... -0.0096  0.0111  0.9548]]\n",
      "\n",
      "S:\n",
      "[[163.7247   0.    ]\n",
      " [  0.       0.5805]\n",
      " [  0.       0.    ]\n",
      " [  0.       0.    ]\n",
      " [  0.       0.    ]\n",
      " [  0.       0.    ]\n",
      " [  0.       0.    ]\n",
      " [  0.       0.    ]\n",
      " [  0.       0.    ]\n",
      " [  0.       0.    ]\n",
      " [  0.       0.    ]\n",
      " [  0.       0.    ]\n",
      " [  0.       0.    ]\n",
      " [  0.       0.    ]\n",
      " [  0.       0.    ]\n",
      " [  0.       0.    ]\n",
      " [  0.       0.    ]\n",
      " [  0.       0.    ]\n",
      " [  0.       0.    ]\n",
      " [  0.       0.    ]\n",
      " [  0.       0.    ]\n",
      " [  0.       0.    ]\n",
      " [  0.       0.    ]\n",
      " [  0.       0.    ]\n",
      " [  0.       0.    ]\n",
      " [  0.       0.    ]\n",
      " [  0.       0.    ]\n",
      " [  0.       0.    ]\n",
      " [  0.       0.    ]\n",
      " [  0.       0.    ]\n",
      " [  0.       0.    ]\n",
      " [  0.       0.    ]\n",
      " [  0.       0.    ]\n",
      " [  0.       0.    ]\n",
      " [  0.       0.    ]\n",
      " [  0.       0.    ]\n",
      " [  0.       0.    ]\n",
      " [  0.       0.    ]\n",
      " [  0.       0.    ]\n",
      " [  0.       0.    ]\n",
      " [  0.       0.    ]\n",
      " [  0.       0.    ]\n",
      " [  0.       0.    ]\n",
      " [  0.       0.    ]\n",
      " [  0.       0.    ]\n",
      " [  0.       0.    ]\n",
      " [  0.       0.    ]\n",
      " [  0.       0.    ]]\n",
      "\n",
      "V:\n",
      "[[-0.0422  0.9991]\n",
      " [-0.9991 -0.0422]]\n"
     ]
    }
   ],
   "source": [
    "U,sigma,Vt = npla.svd(A)\n",
    "\n",
    "print('singular values:', sigma)\n",
    "print()\n",
    "\n",
    "S = np.zeros(A.shape)\n",
    "for i, s in enumerate(sigma):\n",
    "    S[i,i] = s\n",
    "    \n",
    "V = Vt.T\n",
    "\n",
    "print('U:'); print(U)\n",
    "print()\n",
    "print('S:'); print(S)\n",
    "print()\n",
    "print('V:'); print(V)"
   ]
  },
  {
   "cell_type": "code",
   "execution_count": null,
   "metadata": {},
   "outputs": [],
   "source": [
    "npla.norm(A - U@S@V.T)"
   ]
  },
  {
   "cell_type": "markdown",
   "metadata": {},
   "source": [
    "The least squares problem is to find the $x$ that minimizes the 2-norm $||Ax-b||_2$. We can use SVD to solve this, because multiplication by an orthogonal matrix doesn't change the 2-norm of a vector.\n",
    "\n",
    "We want to minimize \n",
    "\n",
    "$$||Ax-b||_2 = ||USV^Tx-b||_2.$$\n",
    "\n",
    "Multiplying by the orthogonal matrix $U^T$, this is the same as minimizing \n",
    "\n",
    "$$||U^TUSV^Tx - U^Tb||_2 = ||SV^Tx-U^Tb||_2.$$\n",
    "\n",
    "Define $y=V^Tx$. Then if we can somehow find the $y$ that minimizes\n",
    "\n",
    "$$||Sy - U^Tb||_2,$$\n",
    "\n",
    "we can compute $x = Vy$ and we'll be done."
   ]
  },
  {
   "cell_type": "code",
   "execution_count": 12,
   "metadata": {},
   "outputs": [
    {
     "name": "stdout",
     "output_type": "stream",
     "text": [
      "b: [0.2138 0.2126 0.1988 0.2077 0.2318 0.1976 0.1834 0.2197 0.1826 0.2064\n",
      " 0.2169 0.182  0.202  0.1549 0.2186 0.2236 0.2236 0.2008 0.2009 0.2001\n",
      " 0.1998 0.2185 0.1938 0.1791 0.168  0.2254 0.1808 0.279  0.2132 0.1717\n",
      " 0.1808 0.2202 0.1946 0.2251 0.1683 0.2135 0.203  0.2291 0.1941 0.2199\n",
      " 0.2257 0.1913 0.226  0.2024 0.1387 0.1975 0.2174 0.1774]\n",
      "\n",
      "U.T @ b: [-1.4103 -0.0068 -0.0256  0.0089  0.0173  0.0076 -0.0058  0.0047 -0.0153\n",
      "  0.0098  0.0111 -0.006  -0.0042 -0.012   0.0316  0.0052  0.0098 -0.0247\n",
      " -0.0085 -0.0037  0.0039  0.0028 -0.0255 -0.0301 -0.0254  0.0135 -0.0059\n",
      "  0.0345 -0.0028 -0.0098 -0.0226  0.0176 -0.0032  0.0266 -0.0117  0.0193\n",
      " -0.0093  0.0153 -0.0076  0.0119  0.0034 -0.0021  0.0145  0.0116 -0.0062\n",
      " -0.013  -0.0083 -0.0069]\n"
     ]
    }
   ],
   "source": [
    "print('b:', b)\n",
    "print()\n",
    "print('U.T @ b:', U.T@b)"
   ]
  },
  {
   "cell_type": "code",
   "execution_count": 13,
   "metadata": {},
   "outputs": [
    {
     "name": "stdout",
     "output_type": "stream",
     "text": [
      "sigma: [163.7247   0.5805]\n",
      "\n",
      "S:\n",
      "[[163.7247   0.    ]\n",
      " [  0.       0.5805]\n",
      " [  0.       0.    ]\n",
      " [  0.       0.    ]\n",
      " [  0.       0.    ]\n",
      " [  0.       0.    ]\n",
      " [  0.       0.    ]\n",
      " [  0.       0.    ]\n",
      " [  0.       0.    ]\n",
      " [  0.       0.    ]]\n",
      "...\n"
     ]
    }
   ],
   "source": [
    "print('sigma:', sigma)\n",
    "print()\n",
    "print('S:'); print(S[:10,:]); print('...')"
   ]
  },
  {
   "cell_type": "markdown",
   "metadata": {},
   "source": [
    "The bottom part of $S$ is all zero. Therefore the bottom part of $Sy$ will be zero no matter what $y$ is, and the best we can do to minimize $||Sy - U^Tb||$ is to make the top part of $Sy$ match the top part of $U^Tb$.\n",
    "\n",
    "That's easy because the top part of $S$ is diagonal."
   ]
  },
  {
   "cell_type": "code",
   "execution_count": 14,
   "metadata": {},
   "outputs": [
    {
     "name": "stdout",
     "output_type": "stream",
     "text": [
      "top part of S:\n",
      " [[163.7247   0.    ]\n",
      " [  0.       0.5805]]\n",
      "\n",
      "top part of U.T @ b: [-1.4103 -0.0068]\n"
     ]
    }
   ],
   "source": [
    "print('top part of S:\\n', S[:2,:])\n",
    "print()\n",
    "print('top part of U.T @ b:', (U.T@b)[:2])"
   ]
  },
  {
   "cell_type": "markdown",
   "metadata": {},
   "source": [
    "To solve $S_{top}y = (U^Tb)_{top}$ for $y$, just divide the right-hand side $(U^Tb)_{top}$ elementwise by the diagonal elements of $S_{top}$, which are the singular values."
   ]
  },
  {
   "cell_type": "code",
   "execution_count": 15,
   "metadata": {},
   "outputs": [
    {
     "name": "stdout",
     "output_type": "stream",
     "text": [
      "y: [-0.0086 -0.0116]\n"
     ]
    }
   ],
   "source": [
    "y = (U.T @ b)[:2] / sigma\n",
    "\n",
    "print('y:', y)"
   ]
  },
  {
   "cell_type": "code",
   "execution_count": 16,
   "metadata": {},
   "outputs": [
    {
     "name": "stdout",
     "output_type": "stream",
     "text": [
      "S @ y  : [-1.4103 -0.0068  0.      0.      0.    ] ... 0.0\n",
      "\n",
      "U.T @ b: [-1.4103 -0.0068 -0.0256  0.0089  0.0173] ... -0.00686558838116616\n"
     ]
    }
   ],
   "source": [
    "print('S @ y  :', (S@y)[:5], '...', (S@y)[-1])\n",
    "print()\n",
    "print('U.T @ b:', (U.T@b)[:5], '...', (U.T@b)[-1])"
   ]
  },
  {
   "cell_type": "markdown",
   "metadata": {},
   "source": [
    "Now the solution $x$ that minimizes $||Ax-b||_2$ is just $Vy$."
   ]
  },
  {
   "cell_type": "code",
   "execution_count": 17,
   "metadata": {},
   "outputs": [
    {
     "name": "stdout",
     "output_type": "stream",
     "text": [
      "x from SVD:        [-0.0113  0.0091]\n",
      "\n",
      "x from npla.lstsq: [-0.0113  0.0091]\n"
     ]
    }
   ],
   "source": [
    "x = V@y\n",
    "\n",
    "print('x from SVD:       ', x)\n",
    "print()\n",
    "\n",
    "print('x from npla.lstsq:', npla.lstsq(A, b, rcond=None)[0])"
   ]
  },
  {
   "cell_type": "markdown",
   "metadata": {},
   "source": [
    "We can compute the residual norm for the optimal solution $x$ in several different ways."
   ]
  },
  {
   "cell_type": "code",
   "execution_count": 18,
   "metadata": {},
   "outputs": [
    {
     "data": {
      "text/plain": [
       "0.1028936444623248"
      ]
     },
     "execution_count": 18,
     "metadata": {},
     "output_type": "execute_result"
    }
   ],
   "source": [
    "npla.norm(A@x - b)"
   ]
  },
  {
   "cell_type": "code",
   "execution_count": 19,
   "metadata": {},
   "outputs": [
    {
     "data": {
      "text/plain": [
       "0.10289364446232468"
      ]
     },
     "execution_count": 19,
     "metadata": {},
     "output_type": "execute_result"
    }
   ],
   "source": [
    "npla.norm(S@y - U.T@b)"
   ]
  },
  {
   "cell_type": "code",
   "execution_count": 20,
   "metadata": {},
   "outputs": [
    {
     "data": {
      "text/plain": [
       "0.10289364446232468"
      ]
     },
     "execution_count": 20,
     "metadata": {},
     "output_type": "execute_result"
    }
   ],
   "source": [
    "npla.norm((U.T@b)[2:])"
   ]
  },
  {
   "cell_type": "markdown",
   "metadata": {},
   "source": [
    "We use our new x from SVD to plot the least-squares line, and get the same picture we did with npla.lstsq"
   ]
  },
  {
   "cell_type": "code",
   "execution_count": 21,
   "metadata": {},
   "outputs": [
    {
     "data": {
      "text/plain": [
       "Text(0.5, 1.0, 'Hubble diagram: magnitude and red shift of astronomical objects')"
      ]
     },
     "execution_count": 21,
     "metadata": {},
     "output_type": "execute_result"
    },
    {
     "data": {
      "image/png": "[encoded data removed]",
      "text/plain": [
       "<Figure size 640x480 with 1 Axes>"
      ]
     },
     "metadata": {},
     "output_type": "display_data"
    }
   ],
   "source": [
    "%matplotlib inline\n",
    "plt.figure()\n",
    "plt.plot(u,z,'.')\n",
    "lineu = np.linspace(15,30,num=4)\n",
    "linez = x[0] + x[1]*lineu\n",
    "plt.plot(lineu,linez)\n",
    "plt.xlabel('magnitude u')\n",
    "plt.ylabel('red shift z')\n",
    "plt.legend(('observations', 'linear fit'))\n",
    "plt.title('Hubble diagram: magnitude and red shift of astronomical objects')"
   ]
  },
  {
   "cell_type": "markdown",
   "metadata": {},
   "source": [
    "## The surveyors again, using SVD"
   ]
  },
  {
   "cell_type": "code",
   "execution_count": null,
   "metadata": {},
   "outputs": [],
   "source": [
    "A = np.array([[1,0,0],[0,1,0],[0,0,1],[-1,1,0],[-1,0,1],[0,-1,1]])\n",
    "b = np.array([1237,1941,2417,711,1177,475])\n",
    "print('A:'); print(A)\n",
    "print()\n",
    "print('b:', b)"
   ]
  },
  {
   "cell_type": "code",
   "execution_count": null,
   "metadata": {},
   "outputs": [],
   "source": [
    "U,sigma,Vt = npla.svd(A)\n",
    "\n",
    "print('singular values:', sigma)\n",
    "print()\n",
    "\n",
    "S = np.zeros(A.shape)\n",
    "for i, s in enumerate(sigma):\n",
    "    S[i,i] = s\n",
    "    \n",
    "V = Vt.T\n",
    "\n",
    "print('U:'); print(U)\n",
    "print()\n",
    "print('S:'); print(S)\n",
    "print()\n",
    "print('V:'); print(V)"
   ]
  },
  {
   "cell_type": "code",
   "execution_count": null,
   "metadata": {},
   "outputs": [],
   "source": [
    "print('A:'); print(A)\n",
    "print()\n",
    "print('U @ S @ V.T:'); print(U @ S @ V.T)\n"
   ]
  },
  {
   "cell_type": "code",
   "execution_count": null,
   "metadata": {},
   "outputs": [],
   "source": [
    "npla.norm(A - U@S@V.T)"
   ]
  },
  {
   "cell_type": "code",
   "execution_count": null,
   "metadata": {},
   "outputs": [],
   "source": [
    "print('b:', b)\n",
    "print()\n",
    "print('U.T @ b:', U.T@b)"
   ]
  },
  {
   "cell_type": "code",
   "execution_count": null,
   "metadata": {},
   "outputs": [],
   "source": [
    "print('sigma:', sigma)\n",
    "print()\n",
    "print('S:'); print(S)"
   ]
  },
  {
   "cell_type": "code",
   "execution_count": null,
   "metadata": {},
   "outputs": [],
   "source": [
    "print('first 3 elements of U.T @ b:', (U.T @ b)[:3])"
   ]
  },
  {
   "cell_type": "code",
   "execution_count": null,
   "metadata": {},
   "outputs": [],
   "source": [
    "y = (U.T @ b)[:3] / sigma\n",
    "\n",
    "print('y:', y)"
   ]
  },
  {
   "cell_type": "code",
   "execution_count": null,
   "metadata": {},
   "outputs": [],
   "source": [
    "x = V@y\n",
    "\n",
    "print('x:', x)"
   ]
  },
  {
   "cell_type": "code",
   "execution_count": null,
   "metadata": {},
   "outputs": [],
   "source": [
    "print('npla.lstsq x:', npla.lstsq(A, b, rcond=None)[0])"
   ]
  },
  {
   "cell_type": "code",
   "execution_count": null,
   "metadata": {},
   "outputs": [],
   "source": [
    "npla.norm(A@x - b)"
   ]
  },
  {
   "cell_type": "code",
   "execution_count": null,
   "metadata": {},
   "outputs": [],
   "source": [
    "npla.norm(S@y - U.T@b)"
   ]
  },
  {
   "cell_type": "code",
   "execution_count": null,
   "metadata": {},
   "outputs": [],
   "source": [
    "print('S@y:', S@y)\n",
    "print()\n",
    "print('U.T@b:', U.T@b)\n",
    "print()\n",
    "print('S@y - U.T@b:', S@y - U.T@b)"
   ]
  },
  {
   "cell_type": "code",
   "execution_count": null,
   "metadata": {},
   "outputs": [],
   "source": [
    "npla.norm((U.T@b)[3:])"
   ]
  },
  {
   "cell_type": "code",
   "execution_count": null,
   "metadata": {},
   "outputs": [],
   "source": [
    "npla.lstsq?"
   ]
  },
  {
   "cell_type": "code",
   "execution_count": null,
   "metadata": {},
   "outputs": [],
   "source": []
  }
 ],
 "metadata": {
  "kernelspec": {
   "display_name": "Python 3 (ipykernel)",
   "language": "python",
   "name": "python3"
  },
  "language_info": {
   "codemirror_mode": {
    "name": "ipython",
    "version": 3
   },
   "file_extension": ".py",
   "mimetype": "text/x-python",
   "name": "python",
   "nbconvert_exporter": "python",
   "pygments_lexer": "ipython3",
   "version": "3.9.15"
  }
 },
 "nbformat": 4,
 "nbformat_minor": 2
}
