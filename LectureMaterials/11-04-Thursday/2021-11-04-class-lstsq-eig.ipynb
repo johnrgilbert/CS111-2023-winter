{
 "cells": [
  {
   "cell_type": "markdown",
   "metadata": {},
   "source": [
    "# Transcript from Lecture, November 4, 2021"
   ]
  },
  {
   "cell_type": "code",
   "execution_count": 1,
   "metadata": {},
   "outputs": [],
   "source": [
    "import sys\n",
    "\n",
    "########################################\n",
    "# Change the string in the line below! #\n",
    "########################################\n",
    "sys.path.append(\"/Users/gilbert/Documents/CS111-2021-fall/Python\") \n",
    "\n",
    "import os\n",
    "import time\n",
    "import math\n",
    "import numpy as np\n",
    "import numpy.linalg as npla\n",
    "import scipy\n",
    "from scipy import linalg as spla\n",
    "import scipy.sparse\n",
    "import scipy.sparse.linalg\n",
    "from scipy import integrate\n",
    "import networkx as nx\n",
    "import json\n",
    "import cs111\n",
    "\n",
    "##########################################################\n",
    "# If this import for matplotlib doesn't work, try saying #\n",
    "#   conda install -c conda-forge ipympl                  #\n",
    "# at a shell prompt on your computer                     #\n",
    "##########################################################\n",
    "import matplotlib\n",
    "%matplotlib ipympl\n",
    "\n",
    "import matplotlib.pyplot as plt\n",
    "from matplotlib import cm\n",
    "from mpl_toolkits.mplot3d import axes3d\n",
    "\n",
    "\n",
    "\n",
    "\n",
    "np.set_printoptions(precision = 4)"
   ]
  },
  {
   "cell_type": "markdown",
   "metadata": {},
   "source": [
    "# Data fitting by least squares"
   ]
  },
  {
   "cell_type": "markdown",
   "metadata": {},
   "source": [
    "## The surveyor problem"
   ]
  },
  {
   "cell_type": "code",
   "execution_count": null,
   "metadata": {},
   "outputs": [],
   "source": [
    "A = np.array([[1,0,0],[0,1,0],[0,0,1],[-1,1,0],[-1,0,1],[0,-1,1]])\n",
    "b = np.array([1237,1941,2417,711,1177,475])\n",
    "print('A:'); print(A)\n",
    "print('\\nb:', b)"
   ]
  },
  {
   "cell_type": "code",
   "execution_count": null,
   "metadata": {},
   "outputs": [],
   "source": [
    "x = npla.solve(A,b)"
   ]
  },
  {
   "cell_type": "code",
   "execution_count": null,
   "metadata": {},
   "outputs": [],
   "source": [
    "x, resid, rank, sv = npla.lstsq(A, b, rcond = None)\n",
    "x"
   ]
  },
  {
   "cell_type": "code",
   "execution_count": null,
   "metadata": {},
   "outputs": [],
   "source": [
    "npla.lstsq?\n"
   ]
  },
  {
   "cell_type": "code",
   "execution_count": null,
   "metadata": {},
   "outputs": [],
   "source": [
    "x = npla.lstsq(A, b, rcond = None)[0]\n",
    "x"
   ]
  },
  {
   "cell_type": "code",
   "execution_count": null,
   "metadata": {},
   "outputs": [],
   "source": [
    "b - A@x"
   ]
  },
  {
   "cell_type": "code",
   "execution_count": null,
   "metadata": {},
   "outputs": [],
   "source": [
    "relres = npla.norm(b - A@x)/npla.norm(b)\n",
    "print('relres =', relres)"
   ]
  },
  {
   "cell_type": "code",
   "execution_count": null,
   "metadata": {},
   "outputs": [],
   "source": [
    "first_surveyor_x = np.array([1237,1941,2417])\n",
    "relres = npla.norm(b - A @ first_surveyor_x)/npla.norm(b)\n",
    "print(\"first surveyor's relres =\", relres)"
   ]
  },
  {
   "cell_type": "markdown",
   "metadata": {},
   "source": [
    "## Fitting a linear-regression line to data"
   ]
  },
  {
   "cell_type": "markdown",
   "metadata": {},
   "source": [
    "<b>Warning: This data originated from a real source (SDSS), but it has been messed around with and should be thought of as only a toy example."
   ]
  },
  {
   "cell_type": "code",
   "execution_count": 2,
   "metadata": {},
   "outputs": [],
   "source": [
    "u = np.array([\n",
    "24.41442,\n",
    "25.67274,\n",
    "26.02992,\n",
    "23.00638,\n",
    "24.86972,\n",
    "21.96248,\n",
    "21.87139,\n",
    "24.93143,\n",
    "22.90206,\n",
    "22.749,\n",
    "23.84269,\n",
    "21.74025,\n",
    "23.87719,\n",
    "19.22808,\n",
    "21.62093,\n",
    "25.31738,\n",
    "24.78468,\n",
    "26.16757,\n",
    "24.25187,\n",
    "23.59213,\n",
    "22.67077,\n",
    "25.01685,\n",
    "25.43069,\n",
    "24.23741,\n",
    "22.36275,\n",
    "24.56208,\n",
    "21.57241,\n",
    "28.41815,\n",
    "25.05081,\n",
    "20.96467,\n",
    "23.56018,\n",
    "23.45984,\n",
    "22.8903,\n",
    "22.97415,\n",
    "20.78101,\n",
    "22.46072,\n",
    "24.60077,\n",
    "24.78432,\n",
    "23.35197,\n",
    "24.09856,\n",
    "25.7874,\n",
    "22.36821,\n",
    "24.50825,\n",
    "22.06679,\n",
    "16.63657,\n",
    "24.38522,\n",
    "26.19138,\n",
    "21.29271])\n",
    "\n",
    "z = np.array([\n",
    "21.37779,\n",
    "21.2569,\n",
    "19.88106,\n",
    "20.76563,\n",
    "23.18144,\n",
    "19.76097,\n",
    "18.34194,\n",
    "21.97318,\n",
    "18.26459,\n",
    "20.63926,\n",
    "21.69268,\n",
    "18.20393,\n",
    "20.19502,\n",
    "15.4874,\n",
    "21.864,\n",
    "22.357,\n",
    "22.36432,\n",
    "20.08167,\n",
    "20.08758,\n",
    "20.00934,\n",
    "19.9816,\n",
    "21.85483,\n",
    "19.38139,\n",
    "17.90937,\n",
    "16.79848,\n",
    "22.54093,\n",
    "18.07866,\n",
    "27.90404,\n",
    "21.32371,\n",
    "17.1744,\n",
    "18.08388,\n",
    "22.01883,\n",
    "19.4599,\n",
    "22.5115,\n",
    "16.82848,\n",
    "21.34581,\n",
    "20.29847,\n",
    "22.91343,\n",
    "19.40759,\n",
    "21.99136,\n",
    "22.56684,\n",
    "19.13174,\n",
    "22.60053,\n",
    "20.24307,\n",
    "13.87426,\n",
    "19.74682,\n",
    "21.74273,\n",
    "17.74383])/100"
   ]
  },
  {
   "cell_type": "code",
   "execution_count": 3,
   "metadata": {},
   "outputs": [
    {
     "data": {
      "text/plain": [
       "(48,)"
      ]
     },
     "execution_count": 3,
     "metadata": {},
     "output_type": "execute_result"
    }
   ],
   "source": [
    "u.shape"
   ]
  },
  {
   "cell_type": "code",
   "execution_count": 4,
   "metadata": {},
   "outputs": [
    {
     "data": {
      "text/plain": [
       "(48,)"
      ]
     },
     "execution_count": 4,
     "metadata": {},
     "output_type": "execute_result"
    }
   ],
   "source": [
    "z.shape"
   ]
  },
  {
   "cell_type": "code",
   "execution_count": 5,
   "metadata": {},
   "outputs": [
    {
     "data": {
      "text/plain": [
       "Text(0.5, 1.0, 'Hubble diagram: magnitude and red shift of astronomical objects')"
      ]
     },
     "execution_count": 5,
     "metadata": {},
     "output_type": "execute_result"
    },
    {
     "data": {
      "image/png": "[encoded data removed]",
      "text/plain": [
       "<Figure size 432x288 with 1 Axes>"
      ]
     },
     "metadata": {
      "needs_background": "light"
     },
     "output_type": "display_data"
    }
   ],
   "source": [
    "%matplotlib inline\n",
    "plt.figure()\n",
    "plt.plot(u,z,'.')\n",
    "plt.xlabel('magnitude u_i')\n",
    "plt.ylabel('redshift z_i')\n",
    "plt.title('Hubble diagram: magnitude and red shift of astronomical objects')"
   ]
  },
  {
   "cell_type": "code",
   "execution_count": 6,
   "metadata": {},
   "outputs": [
    {
     "data": {
      "text/plain": [
       "(48, 2)"
      ]
     },
     "execution_count": 6,
     "metadata": {},
     "output_type": "execute_result"
    }
   ],
   "source": [
    "m = len(u)\n",
    "A = np.ones((m,2))\n",
    "A[:,1] = u\n",
    "A.shape"
   ]
  },
  {
   "cell_type": "code",
   "execution_count": 7,
   "metadata": {},
   "outputs": [
    {
     "data": {
      "text/plain": [
       "array([[ 1.    , 24.4144],\n",
       "       [ 1.    , 25.6727],\n",
       "       [ 1.    , 26.0299],\n",
       "       [ 1.    , 23.0064],\n",
       "       [ 1.    , 24.8697],\n",
       "       [ 1.    , 21.9625],\n",
       "       [ 1.    , 21.8714],\n",
       "       [ 1.    , 24.9314],\n",
       "       [ 1.    , 22.9021],\n",
       "       [ 1.    , 22.749 ],\n",
       "       [ 1.    , 23.8427],\n",
       "       [ 1.    , 21.7402],\n",
       "       [ 1.    , 23.8772],\n",
       "       [ 1.    , 19.2281],\n",
       "       [ 1.    , 21.6209],\n",
       "       [ 1.    , 25.3174],\n",
       "       [ 1.    , 24.7847],\n",
       "       [ 1.    , 26.1676],\n",
       "       [ 1.    , 24.2519],\n",
       "       [ 1.    , 23.5921],\n",
       "       [ 1.    , 22.6708],\n",
       "       [ 1.    , 25.0169],\n",
       "       [ 1.    , 25.4307],\n",
       "       [ 1.    , 24.2374],\n",
       "       [ 1.    , 22.3627],\n",
       "       [ 1.    , 24.5621],\n",
       "       [ 1.    , 21.5724],\n",
       "       [ 1.    , 28.4182],\n",
       "       [ 1.    , 25.0508],\n",
       "       [ 1.    , 20.9647],\n",
       "       [ 1.    , 23.5602],\n",
       "       [ 1.    , 23.4598],\n",
       "       [ 1.    , 22.8903],\n",
       "       [ 1.    , 22.9742],\n",
       "       [ 1.    , 20.781 ],\n",
       "       [ 1.    , 22.4607],\n",
       "       [ 1.    , 24.6008],\n",
       "       [ 1.    , 24.7843],\n",
       "       [ 1.    , 23.352 ],\n",
       "       [ 1.    , 24.0986],\n",
       "       [ 1.    , 25.7874],\n",
       "       [ 1.    , 22.3682],\n",
       "       [ 1.    , 24.5083],\n",
       "       [ 1.    , 22.0668],\n",
       "       [ 1.    , 16.6366],\n",
       "       [ 1.    , 24.3852],\n",
       "       [ 1.    , 26.1914],\n",
       "       [ 1.    , 21.2927]])"
      ]
     },
     "execution_count": 7,
     "metadata": {},
     "output_type": "execute_result"
    }
   ],
   "source": [
    "A"
   ]
  },
  {
   "cell_type": "code",
   "execution_count": 8,
   "metadata": {},
   "outputs": [
    {
     "data": {
      "text/plain": [
       "array([-0.0113,  0.0091])"
      ]
     },
     "execution_count": 8,
     "metadata": {},
     "output_type": "execute_result"
    }
   ],
   "source": [
    "x = npla.lstsq(A, z, rcond = None)[0]\n",
    "x"
   ]
  },
  {
   "cell_type": "code",
   "execution_count": 9,
   "metadata": {},
   "outputs": [
    {
     "data": {
      "text/plain": [
       "array([15., 20., 25., 30.])"
      ]
     },
     "execution_count": 9,
     "metadata": {},
     "output_type": "execute_result"
    }
   ],
   "source": [
    "np.linspace(15,30,num=4)"
   ]
  },
  {
   "cell_type": "code",
   "execution_count": 10,
   "metadata": {},
   "outputs": [
    {
     "data": {
      "text/plain": [
       "Text(0.5, 1.0, 'Hubble diagram: magnitude and red shift of astronomical objects')"
      ]
     },
     "execution_count": 10,
     "metadata": {},
     "output_type": "execute_result"
    },
    {
     "data": {
      "image/png": "[encoded data removed]",
      "text/plain": [
       "<Figure size 432x288 with 1 Axes>"
      ]
     },
     "metadata": {
      "needs_background": "light"
     },
     "output_type": "display_data"
    }
   ],
   "source": [
    "%matplotlib inline\n",
    "plt.figure()\n",
    "plt.plot(u,z,'.')\n",
    "lineu = np.linspace(15,30,num=4)\n",
    "linez = x[0] + x[1]*lineu\n",
    "plt.plot(lineu,linez)\n",
    "plt.xlabel('magnitude u')\n",
    "plt.ylabel('red shift z')\n",
    "plt.legend(('observations', 'linear fit'))\n",
    "plt.title('Hubble diagram: magnitude and red shift of astronomical objects')"
   ]
  },
  {
   "cell_type": "code",
   "execution_count": null,
   "metadata": {},
   "outputs": [],
   "source": [
    "x"
   ]
  },
  {
   "cell_type": "markdown",
   "metadata": {},
   "source": [
    "## SVD and least squares"
   ]
  },
  {
   "cell_type": "code",
   "execution_count": 11,
   "metadata": {},
   "outputs": [
    {
     "name": "stdout",
     "output_type": "stream",
     "text": [
      "A:\n",
      "[[ 1  0  0]\n",
      " [ 0  1  0]\n",
      " [ 0  0  1]\n",
      " [-1  1  0]\n",
      " [-1  0  1]\n",
      " [ 0 -1  1]]\n",
      "\n",
      "b: [1237 1941 2417  711 1177  475]\n"
     ]
    }
   ],
   "source": [
    "# The surveyors again\n",
    "\n",
    "A = np.array([[1,0,0],[0,1,0],[0,0,1],[-1,1,0],[-1,0,1],[0,-1,1]])\n",
    "b = np.array([1237,1941,2417,711,1177,475])\n",
    "print('A:'); print(A)\n",
    "print()\n",
    "print('b:', b)"
   ]
  },
  {
   "cell_type": "code",
   "execution_count": 12,
   "metadata": {},
   "outputs": [
    {
     "name": "stdout",
     "output_type": "stream",
     "text": [
      "singular values: [2. 2. 1.]\n",
      "\n",
      "U:\n",
      "[[-1.4551e-16 -4.0825e-01  5.7735e-01  5.1134e-01  4.8783e-01 -2.3508e-02]\n",
      " [ 3.5355e-01  2.0412e-01  5.7735e-01 -4.8783e-01  2.3508e-02  5.1134e-01]\n",
      " [-3.5355e-01  2.0412e-01  5.7735e-01 -2.3508e-02 -5.1134e-01 -4.8783e-01]\n",
      " [ 3.5355e-01  6.1237e-01 -5.8001e-17  6.6639e-01 -1.7856e-01  1.5505e-01]\n",
      " [-3.5355e-01  6.1237e-01 -6.3767e-17 -1.5505e-01  6.6639e-01 -1.7856e-01]\n",
      " [-7.0711e-01 -2.9055e-17 -6.3767e-17  1.7856e-01 -1.5505e-01  6.6639e-01]]\n",
      "\n",
      "S:\n",
      "[[2. 0. 0.]\n",
      " [0. 2. 0.]\n",
      " [0. 0. 1.]\n",
      " [0. 0. 0.]\n",
      " [0. 0. 0.]\n",
      " [0. 0. 0.]]\n",
      "\n",
      "V:\n",
      "[[-0.     -0.8165  0.5774]\n",
      " [ 0.7071  0.4082  0.5774]\n",
      " [-0.7071  0.4082  0.5774]]\n"
     ]
    }
   ],
   "source": [
    "U,sigma,Vt = npla.svd(A)\n",
    "\n",
    "print('singular values:', sigma)\n",
    "print()\n",
    "\n",
    "S = np.zeros(A.shape)\n",
    "for i, s in enumerate(sigma):\n",
    "    S[i,i] = s\n",
    "    \n",
    "V = Vt.T\n",
    "\n",
    "print('U:'); print(U)\n",
    "print()\n",
    "print('S:'); print(S)\n",
    "print()\n",
    "print('V:'); print(V)"
   ]
  },
  {
   "cell_type": "code",
   "execution_count": 13,
   "metadata": {},
   "outputs": [
    {
     "name": "stdout",
     "output_type": "stream",
     "text": [
      "A:\n",
      "[[ 1  0  0]\n",
      " [ 0  1  0]\n",
      " [ 0  0  1]\n",
      " [-1  1  0]\n",
      " [-1  0  1]\n",
      " [ 0 -1  1]]\n",
      "\n",
      "U @ S @ V.T:\n",
      "[[ 1.0000e+00 -2.2499e-16  2.1910e-16]\n",
      " [ 1.0808e-16  1.0000e+00  5.5217e-16]\n",
      " [ 9.0901e-17 -2.4217e-16  1.0000e+00]\n",
      " [-1.0000e+00  1.0000e+00  1.3305e-16]\n",
      " [-1.0000e+00 -3.6816e-17  1.0000e+00]\n",
      " [ 1.0631e-17 -1.0000e+00  1.0000e+00]]\n"
     ]
    }
   ],
   "source": [
    "print('A:'); print(A)\n",
    "print()\n",
    "print('U @ S @ V.T:'); print(U @ S @ V.T)\n"
   ]
  },
  {
   "cell_type": "code",
   "execution_count": 14,
   "metadata": {},
   "outputs": [
    {
     "data": {
      "text/plain": [
       "1.1466394180170253e-15"
      ]
     },
     "execution_count": 14,
     "metadata": {},
     "output_type": "execute_result"
    }
   ],
   "source": [
    "npla.norm(A - U@S@V.T)"
   ]
  },
  {
   "cell_type": "markdown",
   "metadata": {},
   "source": [
    "The least squares problem is to find the $x$ that minimizes the 2-norm $||Ax-b||_2$. We can use SVD to solve this, because multiplication by an orthogonal matrix doesn't change the 2-norm of a vector.\n",
    "\n",
    "We want to minimize \n",
    "\n",
    "$$||Ax-b|| = ||USV^Tx-b||.$$\n",
    "\n",
    "Multiplying by the orthogonal matrix $U^T$, this is the same as minimizing \n",
    "\n",
    "$$||U^TUSV^Tx - U^Tb|| = ||SV^Tx-U^Tb||.$$\n",
    "\n",
    "Define $y=V^Tx$. Then if we can somehow find the $y$ that minimizes\n",
    "\n",
    "$$||Sy - U^Tb||,$$\n",
    "\n",
    "we can compute $x = Vy$ and we'll be done."
   ]
  },
  {
   "cell_type": "code",
   "execution_count": 15,
   "metadata": {},
   "outputs": [
    {
     "name": "stdout",
     "output_type": "stream",
     "text": [
      "b: [1237 1941 2417  711 1177  475]\n",
      "U.T @ b: [-6.6892e+02  1.5407e+03  3.2303e+03  4.9513e+00 -3.0940e+00  9.5464e-01]\n"
     ]
    }
   ],
   "source": [
    "print('b:', b)\n",
    "print('U.T @ b:', U.T@b)"
   ]
  },
  {
   "cell_type": "code",
   "execution_count": 16,
   "metadata": {},
   "outputs": [
    {
     "name": "stdout",
     "output_type": "stream",
     "text": [
      "S:\n",
      "[[2. 0. 0.]\n",
      " [0. 2. 0.]\n",
      " [0. 0. 1.]\n",
      " [0. 0. 0.]\n",
      " [0. 0. 0.]\n",
      " [0. 0. 0.]]\n",
      "\n",
      "sigma: [2. 2. 1.]\n"
     ]
    }
   ],
   "source": [
    "print('S:'); print(S)\n",
    "print()\n",
    "print('sigma:', sigma)"
   ]
  },
  {
   "cell_type": "markdown",
   "metadata": {},
   "source": [
    "The bottom part of $S$ is zero. Therefore the bottom part of $Sy$ will be zero no matter what $y$ is, and the best we can do to minimize $||Sy - U^Tb||$ is to make the top part of $Sy$ match the top part of $U^Tb$.\n",
    "\n",
    "That's easy because the top part of $S$ is diagonal."
   ]
  },
  {
   "cell_type": "code",
   "execution_count": 17,
   "metadata": {},
   "outputs": [
    {
     "name": "stdout",
     "output_type": "stream",
     "text": [
      "first 3 elements of U.T @ b: [-668.923  1540.729  3230.2748]\n"
     ]
    }
   ],
   "source": [
    "print('first 3 elements of U.T @ b:', (U.T @ b)[:3])"
   ]
  },
  {
   "cell_type": "code",
   "execution_count": 18,
   "metadata": {},
   "outputs": [
    {
     "name": "stdout",
     "output_type": "stream",
     "text": [
      "y: [-334.4615  770.3645 3230.2748]\n"
     ]
    }
   ],
   "source": [
    "y = (U.T @ b)[:3] / sigma\n",
    "\n",
    "print('y:', y)"
   ]
  },
  {
   "cell_type": "code",
   "execution_count": 19,
   "metadata": {},
   "outputs": [
    {
     "name": "stdout",
     "output_type": "stream",
     "text": [
      "x: [1236. 1943. 2416.]\n"
     ]
    }
   ],
   "source": [
    "x = V@y\n",
    "\n",
    "print('x:', x)"
   ]
  },
  {
   "cell_type": "code",
   "execution_count": 20,
   "metadata": {},
   "outputs": [
    {
     "name": "stdout",
     "output_type": "stream",
     "text": [
      "npla.lstsq x: [1236. 1943. 2416.]\n"
     ]
    }
   ],
   "source": [
    "print('npla.lstsq x:', npla.lstsq(A, b, rcond=None)[0])"
   ]
  },
  {
   "cell_type": "code",
   "execution_count": 21,
   "metadata": {},
   "outputs": [
    {
     "data": {
      "text/plain": [
       "5.916079783099616"
      ]
     },
     "execution_count": 21,
     "metadata": {},
     "output_type": "execute_result"
    }
   ],
   "source": [
    "npla.norm(A@x - b)"
   ]
  },
  {
   "cell_type": "code",
   "execution_count": 22,
   "metadata": {},
   "outputs": [
    {
     "data": {
      "text/plain": [
       "5.916079783099692"
      ]
     },
     "execution_count": 22,
     "metadata": {},
     "output_type": "execute_result"
    }
   ],
   "source": [
    "npla.norm(S@y - U.T@b)"
   ]
  },
  {
   "cell_type": "code",
   "execution_count": 23,
   "metadata": {},
   "outputs": [
    {
     "name": "stdout",
     "output_type": "stream",
     "text": [
      "S@y: [-668.923  1540.729  3230.2748    0.        0.        0.    ]\n",
      "\n",
      "U.T@b: [-6.6892e+02  1.5407e+03  3.2303e+03  4.9513e+00 -3.0940e+00  9.5464e-01]\n",
      "\n",
      "S@y - U.T@b: [ 0.      0.      0.     -4.9513  3.094  -0.9546]\n"
     ]
    }
   ],
   "source": [
    "print('S@y:', S@y)\n",
    "print()\n",
    "print('U.T@b:', U.T@b)\n",
    "print()\n",
    "print('S@y - U.T@b:', S@y - U.T@b)"
   ]
  },
  {
   "cell_type": "code",
   "execution_count": 24,
   "metadata": {},
   "outputs": [
    {
     "data": {
      "text/plain": [
       "5.916079783099692"
      ]
     },
     "execution_count": 24,
     "metadata": {},
     "output_type": "execute_result"
    }
   ],
   "source": [
    "npla.norm((U.T@b)[3:])"
   ]
  },
  {
   "cell_type": "code",
   "execution_count": 25,
   "metadata": {},
   "outputs": [],
   "source": [
    "npla.lstsq?"
   ]
  },
  {
   "cell_type": "markdown",
   "metadata": {},
   "source": [
    "# Eigenvalues and eigenvectors"
   ]
  },
  {
   "cell_type": "markdown",
   "metadata": {},
   "source": [
    "If $w$ is a nonzero vector and $\\lambda$ is a number and $Aw = \\lambda w$, we say $w$ is an *eigenvector* of $A$ with *eigenvalue* $\\lambda$. Notice that in this case any nonzero multiple of $w$ is also an eigenvector.\n",
    "\n",
    "Every matrix has at least one eigenvalue/eigenvector, and an $n$-by-$n$ matrix has at most $n$ linearly independent eigenvectors."
   ]
  },
  {
   "cell_type": "code",
   "execution_count": 26,
   "metadata": {},
   "outputs": [],
   "source": [
    "spla.eig?"
   ]
  },
  {
   "cell_type": "code",
   "execution_count": 27,
   "metadata": {},
   "outputs": [
    {
     "data": {
      "text/plain": [
       "array([[1., 0., 0.],\n",
       "       [0., 1., 0.],\n",
       "       [0., 0., 1.]])"
      ]
     },
     "execution_count": 27,
     "metadata": {},
     "output_type": "execute_result"
    }
   ],
   "source": [
    "A = np.eye(3)\n",
    "A"
   ]
  },
  {
   "cell_type": "code",
   "execution_count": 28,
   "metadata": {},
   "outputs": [
    {
     "name": "stdout",
     "output_type": "stream",
     "text": [
      "lam: [1.+0.j 1.+0.j 1.+0.j]\n",
      "W:\n",
      "[[1. 0. 0.]\n",
      " [0. 1. 0.]\n",
      " [0. 0. 1.]]\n"
     ]
    }
   ],
   "source": [
    "lam, W = spla.eig(A)\n",
    "print('lam:', lam)\n",
    "print('W:')\n",
    "print(W)"
   ]
  },
  {
   "cell_type": "code",
   "execution_count": 29,
   "metadata": {},
   "outputs": [
    {
     "data": {
      "text/plain": [
       "array([[1, 0, 0],\n",
       "       [0, 2, 0],\n",
       "       [0, 0, 3]])"
      ]
     },
     "execution_count": 29,
     "metadata": {},
     "output_type": "execute_result"
    }
   ],
   "source": [
    "A = np.diag([1,2,3])\n",
    "A"
   ]
  },
  {
   "cell_type": "code",
   "execution_count": 30,
   "metadata": {},
   "outputs": [
    {
     "name": "stdout",
     "output_type": "stream",
     "text": [
      "lam: [1.+0.j 2.+0.j 3.+0.j]\n",
      "W:\n",
      "[[1. 0. 0.]\n",
      " [0. 1. 0.]\n",
      " [0. 0. 1.]]\n"
     ]
    }
   ],
   "source": [
    "lam, W = spla.eig(A)\n",
    "print('lam:', lam)\n",
    "print('W:')\n",
    "print(W)"
   ]
  },
  {
   "cell_type": "code",
   "execution_count": 31,
   "metadata": {},
   "outputs": [
    {
     "data": {
      "text/plain": [
       "array([[1, 0, 0],\n",
       "       [0, 0, 0],\n",
       "       [0, 0, 3]])"
      ]
     },
     "execution_count": 31,
     "metadata": {},
     "output_type": "execute_result"
    }
   ],
   "source": [
    "# An eigenvalue can be zero (but an eigenvector can't be the zero vector)\n",
    "A[1,1] = 0\n",
    "A"
   ]
  },
  {
   "cell_type": "code",
   "execution_count": 32,
   "metadata": {},
   "outputs": [
    {
     "name": "stdout",
     "output_type": "stream",
     "text": [
      "lam: [1.+0.j 0.+0.j 3.+0.j]\n",
      "W:\n",
      "[[1. 0. 0.]\n",
      " [0. 1. 0.]\n",
      " [0. 0. 1.]]\n"
     ]
    }
   ],
   "source": [
    "# An eigenvalue can be zero (but an eigenvector can't be the zero vector)\n",
    "lam, W = spla.eig(A)\n",
    "print('lam:', lam)\n",
    "print('W:')\n",
    "print(W)"
   ]
  },
  {
   "cell_type": "code",
   "execution_count": 33,
   "metadata": {},
   "outputs": [
    {
     "data": {
      "text/plain": [
       "array([[0, 1, 0, 0],\n",
       "       [0, 0, 1, 0],\n",
       "       [0, 0, 0, 1],\n",
       "       [1, 0, 0, 0]])"
      ]
     },
     "execution_count": 33,
     "metadata": {},
     "output_type": "execute_result"
    }
   ],
   "source": [
    "A = np.array([[0,1,0,0], [0,0,1,0], [0,0,0,1], [1,0,0,0]])\n",
    "A"
   ]
  },
  {
   "cell_type": "code",
   "execution_count": 34,
   "metadata": {},
   "outputs": [
    {
     "name": "stdout",
     "output_type": "stream",
     "text": [
      "lam: [-1.0000e+00+0.j  8.3267e-17+1.j  8.3267e-17-1.j  1.0000e+00+0.j]\n",
      "W:\n",
      "[[-5.0000e-01+0.0000e+00j  1.9926e-17-5.0000e-01j  1.9926e-17+5.0000e-01j\n",
      "  -5.0000e-01+0.0000e+00j]\n",
      " [ 5.0000e-01+0.0000e+00j  5.0000e-01+0.0000e+00j  5.0000e-01-0.0000e+00j\n",
      "  -5.0000e-01+0.0000e+00j]\n",
      " [-5.0000e-01+0.0000e+00j -2.1421e-16+5.0000e-01j -2.1421e-16-5.0000e-01j\n",
      "  -5.0000e-01+0.0000e+00j]\n",
      " [ 5.0000e-01+0.0000e+00j -5.0000e-01+1.2665e-16j -5.0000e-01-1.2665e-16j\n",
      "  -5.0000e-01+0.0000e+00j]]\n"
     ]
    }
   ],
   "source": [
    "lam, W = spla.eig(A)\n",
    "print('lam:', lam)\n",
    "print('W:')\n",
    "print(W)"
   ]
  },
  {
   "cell_type": "code",
   "execution_count": 35,
   "metadata": {},
   "outputs": [
    {
     "data": {
      "text/plain": [
       "array([[0.3582, 0.3117, 0.8357, 0.6985],\n",
       "       [0.2933, 0.6358, 0.8445, 0.7384],\n",
       "       [0.4422, 0.9567, 0.44  , 0.0894],\n",
       "       [0.0451, 0.723 , 0.8633, 0.8652]])"
      ]
     },
     "execution_count": 35,
     "metadata": {},
     "output_type": "execute_result"
    }
   ],
   "source": [
    "A = np.random.rand(4,4)\n",
    "A"
   ]
  },
  {
   "cell_type": "code",
   "execution_count": 36,
   "metadata": {},
   "outputs": [
    {
     "name": "stdout",
     "output_type": "stream",
     "text": [
      "lam: [ 2.2855+0.j      0.246 +0.j     -0.1161+0.0817j -0.1161-0.0817j]\n",
      "W:\n",
      "[[ 0.4706+0.j      0.1948+0.j      0.451 -0.0104j  0.451 +0.0104j]\n",
      " [ 0.5459+0.j     -0.1516+0.j      0.1661-0.0652j  0.1661+0.0652j]\n",
      " [ 0.4224+0.j      0.6392+0.j     -0.7222+0.j     -0.7222-0.j    ]\n",
      " [ 0.5496+0.j     -0.7284+0.j      0.4849+0.0889j  0.4849-0.0889j]]\n"
     ]
    }
   ],
   "source": [
    "lam, W = spla.eig(A)\n",
    "print('lam:', lam)\n",
    "print('W:')\n",
    "print(W)"
   ]
  },
  {
   "cell_type": "code",
   "execution_count": null,
   "metadata": {},
   "outputs": [],
   "source": []
  }
 ],
 "metadata": {
  "kernelspec": {
   "display_name": "Python 3",
   "language": "python",
   "name": "python3"
  },
  "language_info": {
   "codemirror_mode": {
    "name": "ipython",
    "version": 3
   },
   "file_extension": ".py",
   "mimetype": "text/x-python",
   "name": "python",
   "nbconvert_exporter": "python",
   "pygments_lexer": "ipython3",
   "version": "3.6.13"
  }
 },
 "nbformat": 4,
 "nbformat_minor": 2
}
