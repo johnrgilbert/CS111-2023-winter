{
 "cells": [
  {
   "cell_type": "markdown",
   "metadata": {},
   "source": [
    "# Transcript from Lecture 4, January 24, 2023\n"
   ]
  },
  {
   "cell_type": "code",
   "execution_count": 1,
   "metadata": {},
   "outputs": [],
   "source": [
    "import sys\n",
    "\n",
    "########################################\n",
    "# Change the string in the line below! #\n",
    "########################################\n",
    "sys.path.append(\"/Users/gilbert/Documents/CS111-2023-winter/Python\") \n",
    "\n",
    "import os\n",
    "import time\n",
    "import math\n",
    "import numpy as np\n",
    "import numpy.linalg as npla\n",
    "import scipy\n",
    "from scipy import linalg as spla\n",
    "import scipy.sparse\n",
    "import scipy.sparse.linalg\n",
    "from scipy import integrate\n",
    "import networkx as nx\n",
    "import cs111\n",
    "\n",
    "##########################################################\n",
    "# If this import for matplotlib doesn't work, try saying #\n",
    "#   conda install -c conda-forge ipympl                  #\n",
    "# at a shell prompt on your computer                     #\n",
    "##########################################################\n",
    "import matplotlib\n",
    "%matplotlib ipympl\n",
    "\n",
    "import matplotlib.pyplot as plt\n",
    "from matplotlib import cm\n",
    "from mpl_toolkits.mplot3d import axes3d\n",
    "\n",
    "\n",
    "\n",
    "\n",
    "np.set_printoptions(precision = 4)"
   ]
  },
  {
   "cell_type": "markdown",
   "metadata": {},
   "source": [
    "# Unit lower triangular solve"
   ]
  },
  {
   "cell_type": "code",
   "execution_count": 2,
   "metadata": {},
   "outputs": [
    {
     "name": "stdout",
     "output_type": "stream",
     "text": [
      "L:\n",
      " [[ 1  0  0  0]\n",
      " [ 1  1  0  0]\n",
      " [ 2  0  1  0]\n",
      " [-1  2  1  1]]\n"
     ]
    }
   ],
   "source": [
    "L = np.array([[1,0,0,0], [1,1,0,0], [2,0,1,0], [-1,2,1,1]])\n",
    "print(\"L:\\n\", L)"
   ]
  },
  {
   "cell_type": "code",
   "execution_count": 3,
   "metadata": {},
   "outputs": [
    {
     "name": "stdout",
     "output_type": "stream",
     "text": [
      "b: [2 3 3 1]\n"
     ]
    }
   ],
   "source": [
    "b = np.array([2,3,3,1])\n",
    "print(\"b:\", b)"
   ]
  },
  {
   "cell_type": "code",
   "execution_count": 4,
   "metadata": {},
   "outputs": [
    {
     "name": "stdout",
     "output_type": "stream",
     "text": [
      "y: [ 2.  1. -1.  2.]\n"
     ]
    }
   ],
   "source": [
    "y = npla.solve(L, b)\n",
    "print(\"y:\", y)"
   ]
  },
  {
   "cell_type": "code",
   "execution_count": 5,
   "metadata": {},
   "outputs": [
    {
     "data": {
      "text/plain": [
       "array([ 2.,  1., -1.,  2.])"
      ]
     },
     "execution_count": 5,
     "metadata": {},
     "output_type": "execute_result"
    }
   ],
   "source": [
    "cs111.Lsolve(L, b)"
   ]
  },
  {
   "cell_type": "code",
   "execution_count": 6,
   "metadata": {},
   "outputs": [
    {
     "name": "stdout",
     "output_type": "stream",
     "text": [
      "L @ y: [2. 3. 3. 1.]\n"
     ]
    }
   ],
   "source": [
    "print(\"L @ y:\", L @ y)"
   ]
  },
  {
   "cell_type": "markdown",
   "metadata": {},
   "source": [
    "<b>Let L be an n-by-n unit lower triangular matrix, and b an n-vector.<br><br>\n",
    "What's the asymptotic complexity of x = cs111.Lsolve(L, b), as O(...)?"
   ]
  },
  {
   "cell_type": "markdown",
   "metadata": {},
   "source": [
    "# LU factorization of a matrix"
   ]
  },
  {
   "cell_type": "markdown",
   "metadata": {},
   "source": [
    "<b>Theorem: If square matrix *A* is not singular, then there exist a permutation matrix *P*, a unit lower \n",
    "    triangular matrix *L*, and an upper triangular matrix *U* (not necessarily unit upper triangular)\n",
    "    such that\n",
    "    \n",
    "    P @ A == L @ U\n",
    "    \n",
    "<b>or equivalently\n",
    "    \n",
    "    A = P.T @ L @ U"
   ]
  },
  {
   "cell_type": "code",
   "execution_count": 7,
   "metadata": {},
   "outputs": [
    {
     "name": "stdout",
     "output_type": "stream",
     "text": [
      "A:\n",
      " [[ 0.    4.    4.    1.  ]\n",
      " [ 2.   -1.5  -1.25  2.25]\n",
      " [ 4.    1.    1.5   1.5 ]\n",
      " [ 8.    2.    1.    1.  ]]\n"
     ]
    }
   ],
   "source": [
    "A = np.array(\n",
    "      [[ 0.  ,  4.  ,  4.  ,  1.  ],\n",
    "       [ 2.  , -1.5 , -1.25,  2.25],\n",
    "       [ 4.  ,  1.  ,  1.5 ,  1.5 ],\n",
    "       [ 8.  ,  2.  ,  1.  ,  1.  ]])\n",
    "\n",
    "print('A:\\n', A)"
   ]
  },
  {
   "cell_type": "code",
   "execution_count": 8,
   "metadata": {},
   "outputs": [],
   "source": [
    "# Our cs111.LUfactor() returns the permutation as an array p, not a matrix P\n",
    "\n",
    "L,U,p = cs111.LUfactor(A)"
   ]
  },
  {
   "cell_type": "code",
   "execution_count": 9,
   "metadata": {},
   "outputs": [
    {
     "name": "stdout",
     "output_type": "stream",
     "text": [
      "L:\n",
      " [[ 1.    0.    0.    0.  ]\n",
      " [ 0.    1.    0.    0.  ]\n",
      " [ 0.5   0.    1.    0.  ]\n",
      " [ 0.25 -0.5   0.5   1.  ]]\n",
      "\n",
      "U:\n",
      " [[8. 2. 1. 1.]\n",
      " [0. 4. 4. 1.]\n",
      " [0. 0. 1. 1.]\n",
      " [0. 0. 0. 2.]]\n",
      "\n",
      "p: [3 0 2 1]\n"
     ]
    }
   ],
   "source": [
    "print('L:\\n', L)\n",
    "print('\\nU:\\n', U)\n",
    "print('\\np:', p)"
   ]
  },
  {
   "cell_type": "code",
   "execution_count": 10,
   "metadata": {},
   "outputs": [
    {
     "name": "stdout",
     "output_type": "stream",
     "text": [
      "L @ U\n",
      " [[ 8.    2.    1.    1.  ]\n",
      " [ 0.    4.    4.    1.  ]\n",
      " [ 4.    1.    1.5   1.5 ]\n",
      " [ 2.   -1.5  -1.25  2.25]]\n"
     ]
    }
   ],
   "source": [
    "print('L @ U\\n', L@U)"
   ]
  },
  {
   "cell_type": "code",
   "execution_count": 11,
   "metadata": {},
   "outputs": [
    {
     "name": "stdout",
     "output_type": "stream",
     "text": [
      "A[p,:]\n",
      " [[ 8.    2.    1.    1.  ]\n",
      " [ 0.    4.    4.    1.  ]\n",
      " [ 4.    1.    1.5   1.5 ]\n",
      " [ 2.   -1.5  -1.25  2.25]]\n"
     ]
    }
   ],
   "source": [
    "print('A[p,:]\\n', A[p,:])"
   ]
  },
  {
   "cell_type": "markdown",
   "metadata": {},
   "source": [
    "# Solving Ax = b by using the LU factorization"
   ]
  },
  {
   "cell_type": "code",
   "execution_count": 12,
   "metadata": {},
   "outputs": [
    {
     "name": "stdout",
     "output_type": "stream",
     "text": [
      "b: [0.0317 0.5563 0.6567 0.9838]\n"
     ]
    }
   ],
   "source": [
    "# Get a right-hand side\n",
    "\n",
    "b = np.random.random(4)\n",
    "print('b:', b)"
   ]
  },
  {
   "cell_type": "code",
   "execution_count": 13,
   "metadata": {},
   "outputs": [
    {
     "data": {
      "text/plain": [
       "array([ 0.1187, -0.0654,  0.0429,  0.1219])"
      ]
     },
     "execution_count": 13,
     "metadata": {},
     "output_type": "execute_result"
    }
   ],
   "source": [
    "# Here's the answer numpy gives us\n",
    "\n",
    "x = npla.solve(A,b)\n",
    "x"
   ]
  },
  {
   "cell_type": "code",
   "execution_count": 14,
   "metadata": {},
   "outputs": [
    {
     "data": {
      "text/plain": [
       "array([3, 0, 2, 1])"
      ]
     },
     "execution_count": 14,
     "metadata": {},
     "output_type": "execute_result"
    }
   ],
   "source": [
    "p"
   ]
  },
  {
   "cell_type": "code",
   "execution_count": null,
   "metadata": {},
   "outputs": [],
   "source": [
    "# Here's the answer we get by using the matrix factorization"
   ]
  },
  {
   "cell_type": "code",
   "execution_count": 15,
   "metadata": {},
   "outputs": [
    {
     "name": "stdout",
     "output_type": "stream",
     "text": [
      "b[p]: [0.9838 0.0317 0.6567 0.5563]\n"
     ]
    }
   ],
   "source": [
    "print('b[p]:', b[p])"
   ]
  },
  {
   "cell_type": "code",
   "execution_count": 16,
   "metadata": {},
   "outputs": [
    {
     "name": "stdout",
     "output_type": "stream",
     "text": [
      "y: [0.9838 0.0317 0.1648 0.2438]\n"
     ]
    }
   ],
   "source": [
    "y = cs111.Lsolve(L, b[p])\n",
    "print('y:', y)"
   ]
  },
  {
   "cell_type": "code",
   "execution_count": 17,
   "metadata": {},
   "outputs": [
    {
     "name": "stdout",
     "output_type": "stream",
     "text": [
      "x: [ 0.1187 -0.0654  0.0429  0.1219]\n"
     ]
    }
   ],
   "source": [
    "x = cs111.Usolve(U, y)\n",
    "print('x:', x)"
   ]
  },
  {
   "cell_type": "code",
   "execution_count": 18,
   "metadata": {},
   "outputs": [
    {
     "name": "stdout",
     "output_type": "stream",
     "text": [
      "b = [0.0317 0.5563 0.6567 0.9838]\n",
      "\n",
      "Ax = [0.0317 0.5563 0.6567 0.9838]\n",
      "\n",
      "Residual: b - Ax = [0.0000e+00 1.1102e-16 0.0000e+00 0.0000e+00]\n",
      "\n",
      "Residual norm: ||(b - Ax)|| = 1.1102230246251565e-16\n",
      "\n",
      "Relative residual norm: ||(b - Ax)|| / ||b|| = 8.49095972596132e-17\n"
     ]
    }
   ],
   "source": [
    "# Check the answer\n",
    "\n",
    "print('b =', b)\n",
    "print()\n",
    "\n",
    "print(\"Ax =\", A @ x)\n",
    "print()\n",
    "\n",
    "print(\"Residual: b - Ax =\", b - A @ x)\n",
    "print()\n",
    "\n",
    "print(\"Residual norm: ||(b - Ax)|| =\", npla.norm(b - A@x))\n",
    "print()\n",
    "\n",
    "print(\"Relative residual norm: ||(b - Ax)|| / ||b|| =\", npla.norm(b-A@x)/npla.norm(b))"
   ]
  },
  {
   "cell_type": "markdown",
   "metadata": {},
   "source": [
    "Where do all those tiny numbers come from? Floating-point! We'll get back to that later."
   ]
  },
  {
   "cell_type": "markdown",
   "metadata": {},
   "source": [
    "# cs111.LUsolve() packages this all up in one call"
   ]
  },
  {
   "cell_type": "code",
   "execution_count": 19,
   "metadata": {},
   "outputs": [
    {
     "name": "stdout",
     "output_type": "stream",
     "text": [
      "x: [ 0.1187 -0.0654  0.0429  0.1219]\n",
      "\n",
      "relative residual: 8.49095972596132e-17\n"
     ]
    }
   ],
   "source": [
    "x, rel_res = cs111.LUsolve(A,b)\n",
    "\n",
    "print('x:', x)\n",
    "print()\n",
    "print('relative residual:', rel_res)"
   ]
  },
  {
   "cell_type": "markdown",
   "metadata": {},
   "source": [
    "# Factoring A = LU by Gaussian elimination"
   ]
  },
  {
   "cell_type": "code",
   "execution_count": 20,
   "metadata": {},
   "outputs": [
    {
     "data": {
      "text/plain": [
       "array([[12., 60., 99., 69., 87.],\n",
       "       [74., 37., 33., 78., 94.],\n",
       "       [23., 39., 41., 82., 79.],\n",
       "       [19., 39.,  3., 24., 50.],\n",
       "       [54., 74., 36., 93., 36.]])"
      ]
     },
     "execution_count": 20,
     "metadata": {},
     "output_type": "execute_result"
    }
   ],
   "source": [
    "# Let's get a random matrix for an example\n",
    "\n",
    "n = 5\n",
    "\n",
    "A = np.round(np.random.random((n,n))*100)\n",
    "A"
   ]
  },
  {
   "cell_type": "code",
   "execution_count": 21,
   "metadata": {},
   "outputs": [
    {
     "name": "stdout",
     "output_type": "stream",
     "text": [
      "b: [0.8194 0.6234 0.8539 0.663  0.335 ]\n"
     ]
    }
   ],
   "source": [
    "b = np.random.random(n)\n",
    "print(\"b:\", b)"
   ]
  },
  {
   "cell_type": "code",
   "execution_count": 22,
   "metadata": {},
   "outputs": [],
   "source": [
    "L, U = cs111.LUfactorNoPiv(A)"
   ]
  },
  {
   "cell_type": "code",
   "execution_count": 23,
   "metadata": {},
   "outputs": [
    {
     "data": {
      "text/plain": [
       "array([[1.    , 0.    , 0.    , 0.    , 0.    ],\n",
       "       [6.1667, 1.    , 0.    , 0.    , 0.    ],\n",
       "       [1.9167, 0.2282, 1.    , 0.    , 0.    ],\n",
       "       [1.5833, 0.1682, 3.3415, 1.    , 0.    ],\n",
       "       [4.5   , 0.5886, 4.106 , 1.0675, 1.    ]])"
      ]
     },
     "execution_count": 23,
     "metadata": {},
     "output_type": "execute_result"
    }
   ],
   "source": [
    "L"
   ]
  },
  {
   "cell_type": "code",
   "execution_count": 24,
   "metadata": {},
   "outputs": [
    {
     "data": {
      "text/plain": [
       "array([[  12.    ,   60.    ,   99.    ,   69.    ,   87.    ],\n",
       "       [   0.    , -333.    , -577.5   , -347.5   , -442.5   ],\n",
       "       [   0.    ,    0.    ,  -16.9482,   29.0593,   13.241 ],\n",
       "       [   0.    ,    0.    ,    0.    , -123.9141,  -57.5807],\n",
       "       [   0.    ,    0.    ,    0.    ,    0.    ,  -87.9474]])"
      ]
     },
     "execution_count": 24,
     "metadata": {},
     "output_type": "execute_result"
    }
   ],
   "source": [
    "U"
   ]
  },
  {
   "cell_type": "code",
   "execution_count": 25,
   "metadata": {},
   "outputs": [
    {
     "name": "stdout",
     "output_type": "stream",
     "text": [
      "b: [0.8194 0.6234 0.8539 0.663  0.335 ]\n",
      "\n",
      "y: [ 0.8194 -4.4296  0.2943 -0.8729 -1.0216]\n",
      "\n",
      "x: [-0.0084  0.0056 -0.0055  0.0016  0.0116]\n",
      "\n",
      "A @ x: [0.8194 0.6234 0.8539 0.663  0.335 ]\n",
      "\n",
      "b - A @ x: [ 0.0000e+00 -6.6613e-16 -1.1102e-16  0.0000e+00  1.6653e-16]\n"
     ]
    }
   ],
   "source": [
    "print(\"b:\", b)\n",
    "print()\n",
    "\n",
    "y = cs111.Lsolve(L, b)\n",
    "print(\"y:\", y)\n",
    "print()\n",
    "\n",
    "x = cs111.Usolve(U, y)\n",
    "print(\"x:\", x)\n",
    "print()\n",
    "\n",
    "print(\"A @ x:\", A @ x)\n",
    "print()\n",
    "\n",
    "print(\"b - A @ x:\", b - A @ x)"
   ]
  },
  {
   "cell_type": "markdown",
   "metadata": {},
   "source": [
    "<b>What is the asymptotic running time of cs111.LUfactorNoPiv(A)?"
   ]
  },
  {
   "cell_type": "markdown",
   "metadata": {},
   "source": [
    "# Permuting rows of A : Partial pivoting"
   ]
  },
  {
   "cell_type": "code",
   "execution_count": 26,
   "metadata": {},
   "outputs": [
    {
     "data": {
      "text/plain": [
       "array([[1, 1, 2],\n",
       "       [1, 1, 3],\n",
       "       [2, 3, 4]])"
      ]
     },
     "execution_count": 26,
     "metadata": {},
     "output_type": "execute_result"
    }
   ],
   "source": [
    "A = np.array([[1,1,2], [1,1,3], [2,3,4]])\n",
    "A"
   ]
  },
  {
   "cell_type": "code",
   "execution_count": 27,
   "metadata": {
    "scrolled": true
   },
   "outputs": [
    {
     "ename": "AssertionError",
     "evalue": "pivot is zero, can't continue",
     "output_type": "error",
     "traceback": [
      "\u001b[0;31m---------------------------------------------------------------------------\u001b[0m",
      "\u001b[0;31mAssertionError\u001b[0m                            Traceback (most recent call last)",
      "\u001b[0;32m/var/folders/lz/5_q87gdn7zq7nsmnvpvc2ydw0000gn/T/ipykernel_32980/3758014044.py\u001b[0m in \u001b[0;36m<module>\u001b[0;34m\u001b[0m\n\u001b[0;32m----> 1\u001b[0;31m \u001b[0mL\u001b[0m\u001b[0;34m,\u001b[0m \u001b[0mU\u001b[0m \u001b[0;34m=\u001b[0m \u001b[0mcs111\u001b[0m\u001b[0;34m.\u001b[0m\u001b[0mLUfactorNoPiv\u001b[0m\u001b[0;34m(\u001b[0m\u001b[0mA\u001b[0m\u001b[0;34m)\u001b[0m\u001b[0;34m\u001b[0m\u001b[0;34m\u001b[0m\u001b[0m\n\u001b[0m",
      "\u001b[0;32m~/Documents/CS111-2023-winter/Python/Prep/cs111/LU.py\u001b[0m in \u001b[0;36mLUfactorNoPiv\u001b[0;34m(A)\u001b[0m\n\u001b[1;32m     27\u001b[0m         \u001b[0;31m# Update the rest of the matrix\u001b[0m\u001b[0;34m\u001b[0m\u001b[0;34m\u001b[0m\u001b[0m\n\u001b[1;32m     28\u001b[0m         \u001b[0mpivot\u001b[0m \u001b[0;34m=\u001b[0m \u001b[0mLU\u001b[0m\u001b[0;34m[\u001b[0m\u001b[0mpiv_col\u001b[0m\u001b[0;34m,\u001b[0m \u001b[0mpiv_col\u001b[0m\u001b[0;34m]\u001b[0m\u001b[0;34m\u001b[0m\u001b[0;34m\u001b[0m\u001b[0m\n\u001b[0;32m---> 29\u001b[0;31m         \u001b[0;32massert\u001b[0m \u001b[0mpivot\u001b[0m \u001b[0;34m!=\u001b[0m \u001b[0;36m0.\u001b[0m\u001b[0;34m,\u001b[0m \u001b[0;34m\"pivot is zero, can't continue\"\u001b[0m\u001b[0;34m\u001b[0m\u001b[0;34m\u001b[0m\u001b[0m\n\u001b[0m\u001b[1;32m     30\u001b[0m         \u001b[0;32mfor\u001b[0m \u001b[0mrow\u001b[0m \u001b[0;32min\u001b[0m \u001b[0mrange\u001b[0m\u001b[0;34m(\u001b[0m\u001b[0mpiv_col\u001b[0m \u001b[0;34m+\u001b[0m \u001b[0;36m1\u001b[0m\u001b[0;34m,\u001b[0m \u001b[0mn\u001b[0m\u001b[0;34m)\u001b[0m\u001b[0;34m:\u001b[0m\u001b[0;34m\u001b[0m\u001b[0;34m\u001b[0m\u001b[0m\n\u001b[1;32m     31\u001b[0m             \u001b[0mmultiplier\u001b[0m \u001b[0;34m=\u001b[0m \u001b[0mLU\u001b[0m\u001b[0;34m[\u001b[0m\u001b[0mrow\u001b[0m\u001b[0;34m,\u001b[0m \u001b[0mpiv_col\u001b[0m\u001b[0;34m]\u001b[0m \u001b[0;34m/\u001b[0m \u001b[0mpivot\u001b[0m\u001b[0;34m\u001b[0m\u001b[0;34m\u001b[0m\u001b[0m\n",
      "\u001b[0;31mAssertionError\u001b[0m: pivot is zero, can't continue"
     ]
    }
   ],
   "source": [
    "L, U = cs111.LUfactorNoPiv(A)"
   ]
  },
  {
   "cell_type": "code",
   "execution_count": 28,
   "metadata": {},
   "outputs": [],
   "source": [
    "# LU factorization with partial pivoting ('partial pivoting' means 'permute rows, not columns, of A')\n",
    "L, U, p = cs111.LUfactor(A)"
   ]
  },
  {
   "cell_type": "code",
   "execution_count": 29,
   "metadata": {},
   "outputs": [
    {
     "data": {
      "text/plain": [
       "array([[1. , 0. , 0. ],\n",
       "       [0.5, 1. , 0. ],\n",
       "       [0.5, 1. , 1. ]])"
      ]
     },
     "execution_count": 29,
     "metadata": {},
     "output_type": "execute_result"
    }
   ],
   "source": [
    "L"
   ]
  },
  {
   "cell_type": "code",
   "execution_count": 30,
   "metadata": {},
   "outputs": [
    {
     "data": {
      "text/plain": [
       "array([[ 2. ,  3. ,  4. ],\n",
       "       [ 0. , -0.5,  1. ],\n",
       "       [ 0. ,  0. , -1. ]])"
      ]
     },
     "execution_count": 30,
     "metadata": {},
     "output_type": "execute_result"
    }
   ],
   "source": [
    "U"
   ]
  },
  {
   "cell_type": "code",
   "execution_count": 31,
   "metadata": {},
   "outputs": [
    {
     "name": "stdout",
     "output_type": "stream",
     "text": [
      "p: [2 1 0]\n"
     ]
    }
   ],
   "source": [
    "# The permutation of the rows of A\n",
    "print(\"p:\", p)"
   ]
  },
  {
   "cell_type": "code",
   "execution_count": 32,
   "metadata": {},
   "outputs": [
    {
     "data": {
      "text/plain": [
       "array([[2., 3., 4.],\n",
       "       [1., 1., 3.],\n",
       "       [1., 1., 2.]])"
      ]
     },
     "execution_count": 32,
     "metadata": {},
     "output_type": "execute_result"
    }
   ],
   "source": [
    "L @ U"
   ]
  },
  {
   "cell_type": "code",
   "execution_count": 33,
   "metadata": {},
   "outputs": [
    {
     "data": {
      "text/plain": [
       "array([[1, 1, 2],\n",
       "       [1, 1, 3],\n",
       "       [2, 3, 4]])"
      ]
     },
     "execution_count": 33,
     "metadata": {},
     "output_type": "execute_result"
    }
   ],
   "source": [
    "A"
   ]
  },
  {
   "cell_type": "code",
   "execution_count": 34,
   "metadata": {},
   "outputs": [
    {
     "data": {
      "text/plain": [
       "array([[2, 3, 4],\n",
       "       [1, 1, 3],\n",
       "       [1, 1, 2]])"
      ]
     },
     "execution_count": 34,
     "metadata": {},
     "output_type": "execute_result"
    }
   ],
   "source": [
    "A[p, :]"
   ]
  },
  {
   "cell_type": "code",
   "execution_count": 35,
   "metadata": {},
   "outputs": [
    {
     "name": "stdout",
     "output_type": "stream",
     "text": [
      "b: [0.5646 0.2334 0.7285]\n"
     ]
    }
   ],
   "source": [
    "n = A.shape[0]\n",
    "b = np.random.random(n)\n",
    "print(\"b:\", b)"
   ]
  },
  {
   "cell_type": "code",
   "execution_count": 36,
   "metadata": {},
   "outputs": [
    {
     "name": "stdout",
     "output_type": "stream",
     "text": [
      "b: [0.5646 0.2334 0.7285]\n",
      "\n",
      "b[p]: [0.7285 0.2334 0.5646]\n",
      "\n",
      "y: [ 0.7285 -0.1309  0.3313]\n",
      "\n",
      "x: [ 1.6279 -0.4008 -0.3313]\n",
      "\n",
      "A @ x: [0.5646 0.2334 0.7285]\n",
      "\n",
      "b - A @ x: [-1.1102e-16 -1.1102e-16 -1.1102e-16]\n"
     ]
    }
   ],
   "source": [
    "# A complete solve with partial pivoting\n",
    "print(\"b:\", b)\n",
    "print()\n",
    "\n",
    "print(\"b[p]:\", b[p])\n",
    "print()\n",
    "\n",
    "y = cs111.Lsolve(L, b[p])\n",
    "print(\"y:\", y)\n",
    "print()\n",
    "\n",
    "x = cs111.Usolve(U, y)\n",
    "print(\"x:\", x)\n",
    "print()\n",
    "\n",
    "print(\"A @ x:\", A @ x)\n",
    "print()\n",
    "\n",
    "print(\"b - A @ x:\", b - A @ x)"
   ]
  },
  {
   "cell_type": "markdown",
   "metadata": {},
   "source": [
    "<b>What is the asymptotic running time of L, U, p = cs111.LUfactor(A)?"
   ]
  },
  {
   "cell_type": "markdown",
   "metadata": {},
   "source": [
    "# Putting it all together: LUsolve"
   ]
  },
  {
   "cell_type": "code",
   "execution_count": 37,
   "metadata": {},
   "outputs": [
    {
     "name": "stdout",
     "output_type": "stream",
     "text": [
      "b: [0.5646 0.2334 0.7285]\n",
      "\n",
      "x: [ 1.6279 -0.4008 -0.3313]\n",
      "\n",
      "A @ x: [0.5646 0.2334 0.7285]\n",
      "\n",
      "b - A @ x: [-1.1102e-16 -1.1102e-16 -1.1102e-16]\n"
     ]
    }
   ],
   "source": [
    "print(\"b:\", b)\n",
    "print()\n",
    "\n",
    "x, rel_res = cs111.LUsolve(A, b)\n",
    "print(\"x:\", x)\n",
    "print()\n",
    "\n",
    "print(\"A @ x:\", A @ x)\n",
    "print()\n",
    "\n",
    "print(\"b - A @ x:\", b - A @ x)"
   ]
  },
  {
   "cell_type": "markdown",
   "metadata": {},
   "source": [
    "<b>What is the asymptotic running time of L, U, p = cs111.LUsolve(A)?"
   ]
  },
  {
   "cell_type": "markdown",
   "metadata": {},
   "source": [
    "# How good is the answer? Measuring accuracy"
   ]
  },
  {
   "cell_type": "code",
   "execution_count": null,
   "metadata": {},
   "outputs": [],
   "source": [
    "# Next time!"
   ]
  }
 ],
 "metadata": {
  "kernelspec": {
   "display_name": "Python 3 (ipykernel)",
   "language": "python",
   "name": "python3"
  },
  "language_info": {
   "codemirror_mode": {
    "name": "ipython",
    "version": 3
   },
   "file_extension": ".py",
   "mimetype": "text/x-python",
   "name": "python",
   "nbconvert_exporter": "python",
   "pygments_lexer": "ipython3",
   "version": "3.9.15"
  }
 },
 "nbformat": 4,
 "nbformat_minor": 2
}
