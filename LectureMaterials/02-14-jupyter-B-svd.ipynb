{
 "cells": [
  {
   "cell_type": "markdown",
   "metadata": {},
   "source": [
    "# Transcript B from Lecture, February 14, 2023"
   ]
  },
  {
   "cell_type": "code",
   "execution_count": 2,
   "metadata": {},
   "outputs": [],
   "source": [
    "import sys\n",
    "\n",
    "########################################\n",
    "# Change the string in the line below! #\n",
    "########################################\n",
    "sys.path.append(\"/Users/gilbert/Documents/CS111-2023-winter/Python\") \n",
    "\n",
    "import os\n",
    "import time\n",
    "import math\n",
    "import numpy as np\n",
    "import numpy.linalg as npla\n",
    "import scipy\n",
    "from scipy import linalg as spla\n",
    "import scipy.sparse\n",
    "import scipy.sparse.linalg\n",
    "from scipy import integrate\n",
    "import networkx as nx\n",
    "import cs111\n",
    "\n",
    "##########################################################\n",
    "# If this import for matplotlib doesn't work, try saying #\n",
    "#   conda install -c conda-forge ipympl                  #\n",
    "# at a shell prompt on your computer                     #\n",
    "##########################################################\n",
    "import matplotlib\n",
    "%matplotlib inline\n",
    "\n",
    "import matplotlib.pyplot as plt\n",
    "from matplotlib import cm\n",
    "from mpl_toolkits.mplot3d import axes3d\n",
    "\n",
    "np.set_printoptions(precision = 4)"
   ]
  },
  {
   "cell_type": "markdown",
   "metadata": {},
   "source": [
    "# Singular value decomposition: SVD"
   ]
  },
  {
   "cell_type": "markdown",
   "metadata": {},
   "source": [
    "The **singular value decomposition** of an arbitrary $m$-by-$n$ matrix $A$ is\n",
    "\n",
    "$$A = USV^T,$$\n",
    "\n",
    "where $U$ is an $m$-by-$m$ orthogonal matrix ($U$'s columns $u_0$, $u_1$, $\\ldots$, $u_{m-1}$ all have length 1 and are perpendicular to each other, so that $U^TU=I$); and $V$ is an $n$-by-$n$ orthogonal matrix ($V^TV=I$, where now the $v_i$ are columns of $V$ and thus _rows_ of $V^T$); and $S$ is an $m$-by-$n$ diagonal matrix, whose diagonal elements are $\\sigma_0 \\ge \\sigma_1 \\ge \\ldots \\ge \\sigma_{\\min(m,n)-1}\\ge 0$. The $\\sigma_i$'s are called the _singular values_ of $A$."
   ]
  },
  {
   "cell_type": "code",
   "execution_count": 3,
   "metadata": {},
   "outputs": [
    {
     "name": "stdout",
     "output_type": "stream",
     "text": [
      "V:\n",
      " [[ 0.9231  0.3846]\n",
      " [-0.3846  0.9231]]\n",
      "\n",
      "U:\n",
      " [[ 0.8 -0.6]\n",
      " [ 0.6  0.8]]\n",
      "\n",
      "sigma: [5, 1]\n",
      "\n",
      "S:\n",
      " [[5 0]\n",
      " [0 1]]\n",
      "\n",
      "A:\n",
      " [[ 3.4615 -2.0923]\n",
      " [ 3.0769 -0.4154]]\n"
     ]
    }
   ],
   "source": [
    "# A small example\n",
    "\n",
    "V = np.array([[12/13, 5/13], [-5/13, 12/13]])\n",
    "print('V:\\n',V)\n",
    "print()\n",
    "\n",
    "U = np.array([[4/5, -3/5], [3/5, 4/5]])\n",
    "print('U:\\n',U)\n",
    "print()\n",
    "\n",
    "sigma =[5,1]\n",
    "print('sigma:', sigma)\n",
    "print()\n",
    "\n",
    "S = np.diag(sigma)\n",
    "print('S:\\n', S)\n",
    "print()\n",
    "\n",
    "A = U @ S @ V.T\n",
    "print('A:\\n', A)"
   ]
  },
  {
   "cell_type": "code",
   "execution_count": 4,
   "metadata": {},
   "outputs": [
    {
     "data": {
      "text/plain": [
       "array([[1., 0.],\n",
       "       [0., 1.]])"
      ]
     },
     "execution_count": 4,
     "metadata": {},
     "output_type": "execute_result"
    }
   ],
   "source": [
    "U @ U.T"
   ]
  },
  {
   "cell_type": "code",
   "execution_count": 5,
   "metadata": {},
   "outputs": [
    {
     "data": {
      "text/plain": [
       "array([[1., 0.],\n",
       "       [0., 1.]])"
      ]
     },
     "execution_count": 5,
     "metadata": {},
     "output_type": "execute_result"
    }
   ],
   "source": [
    "V @ V.T"
   ]
  },
  {
   "cell_type": "code",
   "execution_count": 6,
   "metadata": {},
   "outputs": [
    {
     "data": {
      "text/plain": [
       "array([[ 4. , -0.6],\n",
       "       [ 3. ,  0.8]])"
      ]
     },
     "execution_count": 6,
     "metadata": {},
     "output_type": "execute_result"
    }
   ],
   "source": [
    "A @ V"
   ]
  },
  {
   "cell_type": "code",
   "execution_count": 7,
   "metadata": {},
   "outputs": [
    {
     "data": {
      "text/plain": [
       "array([[ 4. , -0.6],\n",
       "       [ 3. ,  0.8]])"
      ]
     },
     "execution_count": 7,
     "metadata": {},
     "output_type": "execute_result"
    }
   ],
   "source": [
    "U @ S"
   ]
  },
  {
   "cell_type": "markdown",
   "metadata": {},
   "source": [
    "<b> SVD of a random 8-by-5 matrix"
   ]
  },
  {
   "cell_type": "code",
   "execution_count": 8,
   "metadata": {},
   "outputs": [
    {
     "data": {
      "text/plain": [
       "array([[0.6805, 0.282 , 0.5037, 0.3215, 0.306 ],\n",
       "       [0.2173, 0.0332, 0.3094, 0.2458, 0.1808],\n",
       "       [0.2844, 0.9761, 0.93  , 0.5894, 0.5109],\n",
       "       [0.612 , 0.8296, 0.5528, 0.6991, 0.273 ],\n",
       "       [0.5296, 0.358 , 0.2676, 0.1897, 0.0486],\n",
       "       [0.5466, 0.912 , 0.7365, 0.9607, 0.4241],\n",
       "       [0.1061, 0.438 , 0.515 , 0.8893, 0.9375],\n",
       "       [0.4041, 0.1368, 0.1314, 0.989 , 0.0657]])"
      ]
     },
     "execution_count": 8,
     "metadata": {},
     "output_type": "execute_result"
    }
   ],
   "source": [
    "A = np.random.rand(8,5)\n",
    "A"
   ]
  },
  {
   "cell_type": "markdown",
   "metadata": {},
   "source": [
    "The scipy routine spla.svd(A) returns the three elements of the SVD, but not exactly in the form $A=USV^T$. Instead, spla.svd() returns the matrix $U$, then a vector of the $\\min(m-1, n-1)$ singular values, then the matrix $V^T$ (not $V$). "
   ]
  },
  {
   "cell_type": "code",
   "execution_count": 9,
   "metadata": {},
   "outputs": [],
   "source": [
    "spla.svd?"
   ]
  },
  {
   "cell_type": "markdown",
   "metadata": {},
   "source": [
    "<b>Use spla.svd() to compute the SVD and then form the actual matrices $U$, $S$, and $V$."
   ]
  },
  {
   "cell_type": "code",
   "execution_count": 10,
   "metadata": {},
   "outputs": [
    {
     "name": "stdout",
     "output_type": "stream",
     "text": [
      "shape of A: (8, 5)\n",
      "\n",
      "shape of U: (8, 8)\n",
      "sigma: [3.2581 0.8445 0.8103 0.4992 0.222 ]\n",
      "shape of Vt: (5, 5)\n"
     ]
    }
   ],
   "source": [
    "print('shape of A:', A.shape)\n",
    "print()\n",
    "\n",
    "U,sigma,Vt = spla.svd(A)\n",
    "\n",
    "print('shape of U:', U.shape)\n",
    "print('sigma:', sigma)\n",
    "print('shape of Vt:', Vt.shape)"
   ]
  },
  {
   "cell_type": "code",
   "execution_count": 11,
   "metadata": {},
   "outputs": [
    {
     "name": "stdout",
     "output_type": "stream",
     "text": [
      "\n",
      "U:\n",
      " [[-0.2726  0.2965  0.1453 -0.7167  0.0558 -0.2715  0.4737  0.0427]\n",
      " [-0.1323 -0.0328  0.0584 -0.3602  0.5682  0.315  -0.4634 -0.4598]\n",
      " [-0.4636  0.1522 -0.5328  0.2286  0.4451 -0.3277 -0.1223  0.3246]\n",
      " [-0.4172  0.2805  0.107   0.2154 -0.4133 -0.3574 -0.2261 -0.5828]\n",
      " [-0.1861  0.4102  0.1646 -0.1788 -0.3232  0.3267 -0.5064  0.52  ]\n",
      " [-0.509   0.0642  0.044   0.2905  0.0202  0.6494  0.4703 -0.0842]\n",
      " [-0.3983 -0.7349 -0.2433 -0.3088 -0.3597  0.0175 -0.1149  0.0615]\n",
      " [-0.2585 -0.311   0.7693  0.215   0.2663 -0.2513 -0.0625  0.2457]]\n",
      "\n",
      "S:\n",
      " [[3.2581 0.     0.     0.     0.    ]\n",
      " [0.     0.8445 0.     0.     0.    ]\n",
      " [0.     0.     0.8103 0.     0.    ]\n",
      " [0.     0.     0.     0.4992 0.    ]\n",
      " [0.     0.     0.     0.     0.222 ]\n",
      " [0.     0.     0.     0.     0.    ]\n",
      " [0.     0.     0.     0.     0.    ]\n",
      " [0.     0.     0.     0.     0.    ]]\n",
      "\n",
      "V:\n",
      " [[-0.3453  0.5426  0.5207 -0.5026 -0.2502]\n",
      " [-0.4974  0.3608 -0.3586  0.5666 -0.4156]\n",
      " [-0.4616  0.2054 -0.3614 -0.2112  0.7547]\n",
      " [-0.5584 -0.5311  0.543   0.2995  0.1469]\n",
      " [-0.3294 -0.501  -0.4182 -0.5403 -0.4166]]\n"
     ]
    }
   ],
   "source": [
    "S = np.zeros(A.shape)\n",
    "for i in range(len(sigma)):\n",
    "    S[i,i] = sigma[i]\n",
    "V = Vt.T\n",
    "\n",
    "print('\\nU:\\n', U)\n",
    "print('\\nS:\\n', S)\n",
    "print('\\nV:\\n', V)"
   ]
  },
  {
   "cell_type": "code",
   "execution_count": 12,
   "metadata": {},
   "outputs": [
    {
     "name": "stdout",
     "output_type": "stream",
     "text": [
      "norm of difference between U.T @ U     and I: 1.7706981164910314e-15\n",
      "norm of difference between V.T @ V     and I: 1.4676375744040777e-15\n",
      "norm of difference between U @ S @ V.T and A: 2.573880721974471e-15\n"
     ]
    }
   ],
   "source": [
    "print('norm of difference between U.T @ U     and I:', npla.norm(U.T @ U - np.eye(A.shape[0])))\n",
    "print('norm of difference between V.T @ V     and I:', npla.norm(V.T @ V - np.eye(A.shape[1])))\n",
    "print('norm of difference between U @ S @ V.T and A:', npla.norm(U @ S @ V.T - A) )"
   ]
  },
  {
   "cell_type": "code",
   "execution_count": 13,
   "metadata": {},
   "outputs": [
    {
     "name": "stdout",
     "output_type": "stream",
     "text": [
      "\n"
     ]
    },
    {
     "data": {
      "image/png": "[encoded data removed]",
      "text/plain": [
       "<Figure size 640x480 with 1 Axes>"
      ]
     },
     "metadata": {},
     "output_type": "display_data"
    }
   ],
   "source": [
    "fig0 = plt.figure()\n",
    "plt.plot(sigma,'.')\n",
    "plt.yscale('log')\n",
    "plt.title('Singular values on log scale')\n",
    "plt.ylabel('singular value')\n",
    "plt.xlabel('index')\n",
    "print()"
   ]
  },
  {
   "cell_type": "markdown",
   "metadata": {},
   "source": [
    "# SVD theorems"
   ]
  },
  {
   "cell_type": "code",
   "execution_count": 14,
   "metadata": {},
   "outputs": [
    {
     "name": "stdout",
     "output_type": "stream",
     "text": [
      "shape of A: (8, 5)\n",
      "\n",
      "shape of U: (8, 8)\n",
      "sigma: [3.1342 1.0385 0.7798 0.4365 0.3541]\n",
      "shape of Vt: (5, 5)\n"
     ]
    }
   ],
   "source": [
    "A = np.random.rand(8,5)\n",
    "print('shape of A:', A.shape)\n",
    "print()\n",
    "\n",
    "U,sigma,Vt = spla.svd(A)\n",
    "\n",
    "print('shape of U:', U.shape)\n",
    "print('sigma:', sigma)\n",
    "print('shape of Vt:', Vt.shape)\n"
   ]
  },
  {
   "cell_type": "markdown",
   "metadata": {},
   "source": [
    "<h3>Theorem 1. The rank of $A$ is the number of nonzero singular values.</h3>\n",
    "\n",
    "In our example, sure enough, the matrix $A$ has rank 5."
   ]
  },
  {
   "cell_type": "code",
   "execution_count": 15,
   "metadata": {},
   "outputs": [
    {
     "name": "stdout",
     "output_type": "stream",
     "text": [
      "singular values: [3.1342 1.0385 0.7798 0.4365 0.3541]\n",
      "rank(A): 5\n"
     ]
    }
   ],
   "source": [
    "print('singular values:', sigma)\n",
    "print('rank(A):', npla.matrix_rank(A))"
   ]
  },
  {
   "cell_type": "markdown",
   "metadata": {},
   "source": [
    "In floating-point arithmetic, what counts as \"nonzero\" can be a judgement call. To illustrate this, we form a new 8-by-5 matrix $B$ whose first 4 columns are the same as $A$ and whose 5th column is the sum of the first 4 columns. "
   ]
  },
  {
   "cell_type": "code",
   "execution_count": 16,
   "metadata": {},
   "outputs": [
    {
     "name": "stdout",
     "output_type": "stream",
     "text": [
      "B:\n",
      " [[0.208  0.1337 0.2438 0.4014 0.9869]\n",
      " [0.9086 0.1326 0.5008 0.4871 2.0291]\n",
      " [0.1267 0.0727 0.4328 0.5225 1.1548]\n",
      " [0.7742 0.2808 0.7063 0.6221 2.3834]\n",
      " [0.5653 0.8832 0.1495 0.7688 2.3669]\n",
      " [0.7327 0.1008 0.8524 0.1675 1.8535]\n",
      " [0.3542 0.184  0.2892 0.1765 1.0038]\n",
      " [0.6872 0.1401 0.2314 0.833  1.8918]]\n",
      "\n",
      "B @ [1, 1, 1, 1, -1] should be the zero vector: [0.0000e+00 0.0000e+00 0.0000e+00 1.1102e-16 0.0000e+00 0.0000e+00\n",
      " 0.0000e+00 0.0000e+00]\n",
      "\n",
      "norm of B @ [1, 1, 1, 1, -1]: 1.1102230246251565e-16\n"
     ]
    }
   ],
   "source": [
    "B = A.copy()\n",
    "B[:,4] = A @ [1, 1, 1, 1, 0]\n",
    "# can you see why this replaces column 4 of B with the sum of the first 4 columns of A?\n",
    "\n",
    "print('B:\\n', B)\n",
    "print()\n",
    "print('B @ [1, 1, 1, 1, -1] should be the zero vector:', B @ [1, 1, 1, 1, -1])\n",
    "print()\n",
    "print('norm of B @ [1, 1, 1, 1, -1]:', npla.norm(B @ [1, 1, 1, 1, -1]))"
   ]
  },
  {
   "cell_type": "markdown",
   "metadata": {},
   "source": [
    "Mathematically speaking, $B$ should have rank 4 because one column is linearly dependent on the other four columns. In floating-point arithmetic, though, round-off error makes the last column not quite exactly equal to the sum of the others. The exact rank of this perturbed matrix is 5, and sure enough all of its computed singular values are nonzero. "
   ]
  },
  {
   "cell_type": "code",
   "execution_count": 17,
   "metadata": {},
   "outputs": [
    {
     "name": "stdout",
     "output_type": "stream",
     "text": [
      "singular values of B: [5.7102e+00 9.2696e-01 5.1527e-01 4.3104e-01 1.9230e-16]\n"
     ]
    }
   ],
   "source": [
    "UB, sigmaB, VtB = spla.svd(B)\n",
    "print('singular values of B:', sigmaB)"
   ]
  },
  {
   "cell_type": "markdown",
   "metadata": {},
   "source": [
    "However, because only 4 of the singular values are significantly larger than machine epsilon, we (and numpy) say that $B$ has \"numerical rank\" 4."
   ]
  },
  {
   "cell_type": "code",
   "execution_count": 18,
   "metadata": {},
   "outputs": [
    {
     "data": {
      "text/plain": [
       "4"
      ]
     },
     "execution_count": 18,
     "metadata": {},
     "output_type": "execute_result"
    }
   ],
   "source": [
    "npla.matrix_rank(B)"
   ]
  },
  {
   "cell_type": "markdown",
   "metadata": {},
   "source": [
    "We defined the 2-norm of a matrix a while ago, \n",
    "but we never talked about algorithms to compute it.\n",
    "It turns out that the SVD gives us an algorithm.\n",
    "\n",
    "<h3>Theorem 2. The 2-norm $||A||_2$ is equal to the largest singular value $\\sigma_0$.</h3>\n",
    "\n",
    "This is because the norm of $A$ is the largest stretch it applies to any vector, \n",
    "\n",
    "$$||A||_2 = \\max_x (||Ax||_2/||x||_2).$$\n",
    "\n",
    "We saw that $A$ maps the unit sphere to an ellipsoid, and the largest stretch happens at the longest axis of the ellipsoid, whose length is $\\sigma_0$. The actual vectors are $x=v_0$ and $Ax = \\sigma_0 u_0$."
   ]
  },
  {
   "cell_type": "code",
   "execution_count": 19,
   "metadata": {},
   "outputs": [
    {
     "name": "stdout",
     "output_type": "stream",
     "text": [
      "singular values of A: [3.1342 1.0385 0.7798 0.4365 0.3541]\n",
      "2-norm of A: 3.134221241399855\n",
      "\n",
      "v_0: [-0.5222 -0.2057 -0.3956 -0.4547 -0.5673]\n",
      "u_0: [-0.1942 -0.4733 -0.3215 -0.5003 -0.2978 -0.3046 -0.2476 -0.3765]\n",
      "\n",
      "A @ v_0      : [-0.6088 -1.4835 -1.0076 -1.5681 -0.9334 -0.9548 -0.7759 -1.1802]\n",
      "sigma_0 * u_0: [-0.6088 -1.4835 -1.0076 -1.5681 -0.9334 -0.9548 -0.7759 -1.1802]\n",
      "\n",
      "norm(A @ v_0) / norm(v_0) : 3.1342212413998554\n"
     ]
    }
   ],
   "source": [
    "V = Vt.T\n",
    "\n",
    "v0 = V[:,0]\n",
    "u0 = U[:,0]\n",
    "\n",
    "print('singular values of A:', sigma)\n",
    "print('2-norm of A:', npla.norm(A,2))\n",
    "print()\n",
    "\n",
    "print('v_0:', v0)\n",
    "print('u_0:', u0)\n",
    "print()\n",
    "print('A @ v_0      :', A@v0)\n",
    "print('sigma_0 * u_0:', sigma[0] * u0)\n",
    "\n",
    "\n",
    "print()\n",
    "print('norm(A @ v_0) / norm(v_0) :', npla.norm(A@v0, 2) / npla.norm(v0, 2))"
   ]
  },
  {
   "cell_type": "markdown",
   "metadata": {},
   "source": [
    "<h3><center> Condition number</center></h3>\n",
    "    \n",
    "The SVD also gives us a way to compute the condition number of $A$ in the 2-norm, $\\kappa_2(A)$.\n",
    "Recall the definition\n",
    "\n",
    "$$\\kappa(A) = \\max(\\mbox{stretch}) / \\min(\\mbox{stretch}),$$\n",
    "\n",
    "the ratio of the maximum amount any vector is stretched by $A$ to the minimum amount \n",
    "any vector is stretched by $A$. \n",
    "\n",
    "The minimum is 0 if $A$ is square and singular, \n",
    "or more generally if the rank of $A$ is less than the number of columns,\n",
    "and in that case the condition number is infinite.\n",
    "If $A$ is square and nonsingular, the condition number is \n",
    "    \n",
    "$$\\kappa(A) = ||A||\\cdot||A^{-1}||.$$\n",
    "\n",
    "From the discussion of $||A||_2$ above, it is clear that\n",
    "\n",
    "<h3>Theorem 3. The 2-norm condition number  $\\kappa_2(A)$ is equal to the ratio of the largest and smallest singular values,</h3>\n",
    "\n",
    "$$\\kappa_2(A) = \\sigma_0 / \\sigma_{\\min(m,n)-1}$$"
   ]
  },
  {
   "cell_type": "code",
   "execution_count": 20,
   "metadata": {},
   "outputs": [
    {
     "name": "stdout",
     "output_type": "stream",
     "text": [
      "ratio of extreme singular values:  8.852137620377821\n"
     ]
    }
   ],
   "source": [
    "print('ratio of extreme singular values: ', sigma[0]/sigma[-1])\n",
    "#print('2-norm condition number of matrix:', npla.cond(A,2))\n"
   ]
  },
  {
   "cell_type": "code",
   "execution_count": 21,
   "metadata": {},
   "outputs": [
    {
     "data": {
      "text/plain": [
       "8.852137620377823"
      ]
     },
     "execution_count": 21,
     "metadata": {},
     "output_type": "execute_result"
    }
   ],
   "source": [
    "# numpy's condition number routine works for non-square matrices in some numpy versions but not others.\n",
    "\n",
    "npla.cond(A,2)"
   ]
  },
  {
   "cell_type": "markdown",
   "metadata": {},
   "source": [
    "The _Frobenius norm_ of a matrix is the square root of the sum of the squares of all\n",
    "of its elements. It's as if we took the whole $m$-by-$n$ matrix as a vector in $mn$-dimensional space and computed its Euclidean length. This is an easy norm to compute, so we often use it to compare two matrices with each other. It turns out the SVD gives the Frobenius norm too.\n",
    "\n",
    "<h3>Theorem 4. The Frobenius norm $||A||_F=(\\sum_i\\sum_j a_{ij}^2)^{1/2}$ is equal to $(\\sum_i \\sigma_i^2)^{1/2}$."
   ]
  },
  {
   "cell_type": "code",
   "execution_count": 22,
   "metadata": {},
   "outputs": [
    {
     "name": "stdout",
     "output_type": "stream",
     "text": [
      "sqrt(sum(singular values squared)): 3.4388669141165162\n",
      "sqrt(sum(matrix elements squared)): 3.4388669141165176\n",
      "Frobenius norm of matrix:           3.4388669141165176\n"
     ]
    }
   ],
   "source": [
    "sumsig = 0\n",
    "for i in range(len(sigma)):\n",
    "    sumsig += sigma[i]**2\n",
    "print('sqrt(sum(singular values squared)):', np.sqrt(sumsig))\n",
    "\n",
    "nrows, ncols = A.shape\n",
    "sumsqA = 0\n",
    "for i in range(nrows):\n",
    "    for j in range(ncols):\n",
    "        sumsqA += A[i,j]**2\n",
    "print('sqrt(sum(matrix elements squared)):', np.sqrt(sumsqA))\n",
    "\n",
    "print('Frobenius norm of matrix:          ', npla.norm(A,'fro'))\n"
   ]
  },
  {
   "cell_type": "code",
   "execution_count": 23,
   "metadata": {},
   "outputs": [
    {
     "data": {
      "text/plain": [
       "3.4388669141165176"
      ]
     },
     "execution_count": 23,
     "metadata": {},
     "output_type": "execute_result"
    }
   ],
   "source": [
    "# The default norm for npla.norm() is the Frobenius norm:\n",
    "\n",
    "npla.norm(A)"
   ]
  },
  {
   "cell_type": "markdown",
   "metadata": {},
   "source": [
    "The determinant of a matrix is important in matrix theory, \n",
    "but is hardly ever computed in numerical linear algebra where matrix norms and\n",
    "condition numbers are more useful.\n",
    "However, the SVD does give a way to compute the determinant of a (square) matrix,\n",
    "up to its sign.\n",
    "\n",
    "<h3>Theorem 5. The determinant of a square matrix is $\\pm$ the product of its singular values, $\\prod_i \\sigma_i$.</h3>"
   ]
  },
  {
   "cell_type": "code",
   "execution_count": 24,
   "metadata": {},
   "outputs": [
    {
     "name": "stdout",
     "output_type": "stream",
     "text": [
      "shape of square matrix: (5, 5)\n",
      "product of singular values: 0.016881483566176535\n",
      "determinant of matrix:      0.016881483566176532\n"
     ]
    }
   ],
   "source": [
    "Asquare = A[:5,:]\n",
    "print('shape of square matrix:', Asquare.shape)\n",
    "UAs, sigmaAs, VtAs = npla.svd(Asquare)\n",
    "\n",
    "prodsig = 1\n",
    "for i in range(len(sigmaAs)):\n",
    "    prodsig *= sigmaAs[i]\n",
    "print('product of singular values:', prodsig)\n",
    "\n",
    "print('determinant of matrix:     ', npla.det(Asquare))\n"
   ]
  },
  {
   "cell_type": "markdown",
   "metadata": {},
   "source": [
    "# Sum of rank-1 matrices, and low-rank approximation"
   ]
  },
  {
   "cell_type": "markdown",
   "metadata": {},
   "source": [
    "Our next theorem is just a simple way to rewrite the SVD equation $A=USV^T$.\n",
    "Recall that $u_i$ is column $i$ of $U$ and $v_i$ is column $i$ of $V$, so $v_i^T$ is row $i$ of $V^T$.\n",
    "It is straightforward to check algebraically that\n",
    "\n",
    "<h3>Theorem 6. Matrix $A$ is the sum of rank-1 matrices: $A = \\sum_{i=0}^{\\min(m,n)}\\sigma_i u_i v_i^T$ </h3>\n",
    "\n",
    "Each term in the sum is a scalar multiple of the outer product $u_i v_i^T$,\n",
    "which is an $m$-by-$n$ matrix whose rank is 1;\n",
    "it's essentially the multiplication table of the elements of $u_i$ (as rows) times\n",
    "the elements of $v_i$ (as columns).\n",
    "(Indeed, every matrix product $AB$ can be written as a sum of rank-1 matrices, \n",
    "each of which is the outer product of a column of $A$ and a row of $B$.)\n",
    "\n",
    "Though it's just a humble algebraic identity, this last theorem actually motivates\n",
    "the greatest applications of SVD in data analysis. \n",
    "We'll see that in the next section, but first let's just check the theorem numerically \n",
    "for our example matrix.\n",
    "\n",
    "We ought to be able to compute $u_i v_i^T$ as U[:,i] @ V[:,i].T in numpy.\n",
    "Unfortunately numpy is broken here -- it gets confused because it can't tell that U[:,i] is a column vector and V[:,i].T is a row vector, and it does the wrong thing.\n",
    "(Matlab on the other hand gets this right.)\n",
    "In numpy, we have to use the np.outer() function to compute the outer product of two vectors,\n",
    "as we do below."
   ]
  },
  {
   "cell_type": "code",
   "execution_count": 25,
   "metadata": {},
   "outputs": [
    {
     "name": "stdout",
     "output_type": "stream",
     "text": [
      "norm of difference between Asum and A: 5.644149362314962e-15\n"
     ]
    }
   ],
   "source": [
    "Asum = np.zeros(A.shape)\n",
    "for i in range(len(sigma)):\n",
    "    Asum += sigma[i] * np.outer(U[:,i], V[:,i])\n",
    "\n",
    "print('norm of difference between Asum and A:',  npla.norm(Asum - A))"
   ]
  },
  {
   "cell_type": "markdown",
   "metadata": {},
   "source": [
    "What happens if we truncate the sum in Theorem 6 (above) after some number $k<\\min(m,n)$ of terms? Let us define\n",
    "\n",
    "$$A_k = \\sum_{i=0}^{k-1}\\sigma_i u_i v_i^T,$$\n",
    "\n",
    "with $A_{\\min(m,n)} = A$.\n",
    "We can think of each rank-1 term $\\sigma_i u_i v_i^T$ as adding some \"weight\" to the matrix, in an informal sense. The terms are added in order of decreasing weight, because $\\sigma_0 \\ge \\sigma_1 \\ge \\cdots$. If the first singular values are much larger than the later ones, we might hope that $A_k$ would be a good approximation to $A$ for small values of $k$. This turns out to be true in a very strong sense: $A_k$ is the _best_ possible rank-$k$ approximation to $A$, as measured in either the 2-norm or the Frobenius norm.\n",
    "\n",
    "<h3> Theorem 7. Among all $m$-by-$n$ matrices $B_k$ that have rank $k$, \n",
    "the minimum possible value of $||A-B_k||_2$ is attained when $B_k=A_k$ as defined above.\n",
    "That value is $||A-A_k||_2 = \\sigma_{k}$.</h3>\n",
    "\n",
    "<h3> Theorem 8. Among all $m$-by-$n$ matrices $B_k$ that have rank $k$, \n",
    "the minimum possible value of $||A-B_k||_F$ is attained when $B_k=A_k$.\n",
    "That value is $||A-A_k||_F = (\\sum_{i\\ge k}\\sigma_{k}^2)^{1/2}$. </h3>\n",
    "\n",
    "For the case $k=0$, we get the results of Theorems 2 and 4 above. \n",
    "For $k\\ge \\mbox{rank}(A)$, we get $A=A_k$.\n",
    "\n",
    "We illustrate Theorem 7 with our sample 8-by-5 matrix."
   ]
  },
  {
   "cell_type": "code",
   "execution_count": 26,
   "metadata": {},
   "outputs": [
    {
     "name": "stdout",
     "output_type": "stream",
     "text": [
      "shape of A: (8, 5)\n",
      "singular values: [3.1342 1.0385 0.7798 0.4365 0.3541]\n",
      "rank(A): 5\n",
      "\n",
      "rank 0 approximation: 2-norm(A0 - A) = 3.134221241399855\n",
      "rank 1 approximation: 2-norm(A1 - A) = 1.038481173610056\n",
      "rank 2 approximation: 2-norm(A2 - A) = 0.7798329547515089\n",
      "rank 3 approximation: 2-norm(A3 - A) = 0.4364849626735341\n",
      "rank 4 approximation: 2-norm(A4 - A) = 0.3540637725948599\n",
      "rank 5 approximation: 2-norm(A5 - A) = 4.618158061901078e-15\n"
     ]
    }
   ],
   "source": [
    "nrows, ncols = A.shape\n",
    "print('shape of A:', (nrows, ncols))\n",
    "\n",
    "U,sigma,Vt = spla.svd(A)\n",
    "\n",
    "print('singular values:', sigma)\n",
    "print('rank(A):', npla.matrix_rank(A))\n",
    "print()\n",
    "\n",
    "Ak = np.zeros(A.shape)\n",
    "for k in range(len(sigma)):\n",
    "    print('rank', npla.matrix_rank(Ak), 'approximation: 2-norm(A%d - A) =' % k, npla.norm(Ak-A,2))\n",
    "    Ak += sigma[k] * np.outer(U[:,k], Vt[k,:])\n",
    "print('rank', npla.matrix_rank(Ak), 'approximation: 2-norm(A%d - A) =' % len(sigma), npla.norm(Ak-A,2))\n"
   ]
  },
  {
   "cell_type": "code",
   "execution_count": null,
   "metadata": {},
   "outputs": [],
   "source": []
  }
 ],
 "metadata": {
  "kernelspec": {
   "display_name": "Python 3 (ipykernel)",
   "language": "python",
   "name": "python3"
  },
  "language_info": {
   "codemirror_mode": {
    "name": "ipython",
    "version": 3
   },
   "file_extension": ".py",
   "mimetype": "text/x-python",
   "name": "python",
   "nbconvert_exporter": "python",
   "pygments_lexer": "ipython3",
   "version": "3.9.15"
  }
 },
 "nbformat": 4,
 "nbformat_minor": 2
}
