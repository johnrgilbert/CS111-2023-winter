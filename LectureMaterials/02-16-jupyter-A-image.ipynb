{
 "cells": [
  {
   "cell_type": "markdown",
   "metadata": {},
   "source": [
    "# Transcript A for Lecture, February 16, 2023"
   ]
  },
  {
   "cell_type": "code",
   "execution_count": 1,
   "metadata": {},
   "outputs": [],
   "source": [
    "import sys\n",
    "\n",
    "########################################\n",
    "# Change the string in the line below! #\n",
    "########################################\n",
    "sys.path.append(\"/Users/gilbert/Documents/CS111-2023-winter/Python\") \n",
    "\n",
    "import os\n",
    "import time\n",
    "import math\n",
    "import numpy as np\n",
    "import numpy.linalg as npla\n",
    "import scipy\n",
    "from scipy import linalg as spla\n",
    "import scipy.sparse\n",
    "import scipy.sparse.linalg\n",
    "from scipy import integrate\n",
    "import networkx as nx\n",
    "import cs111\n",
    "\n",
    "##########################################################\n",
    "# If this import for matplotlib doesn't work, try saying #\n",
    "#   conda install -c conda-forge ipympl                  #\n",
    "# at a shell prompt on your computer                     #\n",
    "##########################################################\n",
    "import matplotlib\n",
    "# %matplotlib inline\n",
    "%matplotlib tk\n",
    "\n",
    "import matplotlib.pyplot as plt\n",
    "from matplotlib import cm\n",
    "from mpl_toolkits.mplot3d import axes3d\n",
    "\n",
    "np.set_printoptions(precision = 4)"
   ]
  },
  {
   "cell_type": "markdown",
   "metadata": {},
   "source": [
    "# Image compression using SVD and low-rank approximation"
   ]
  },
  {
   "cell_type": "markdown",
   "metadata": {},
   "source": [
    "The low-rank approximation theory above is useful in many contexts for summarizing or compressing data. For example, \"latent semantic indexing\" is a summarization and classification technique for word in documents; you can read more about it at https://en.wikipedia.org/wiki/Latent_semantic_analysis.\n",
    "\n",
    "Here we will give an example of using SVD to compress the data in an image. We start with a famous photograph of Yosemite by Ansel Adams."
   ]
  },
  {
   "cell_type": "code",
   "execution_count": 2,
   "metadata": {
    "scrolled": true
   },
   "outputs": [
    {
     "name": "stdout",
     "output_type": "stream",
     "text": [
      "size of matrix M: (1200, 956)\n"
     ]
    }
   ],
   "source": [
    "# Read the image from a .jpg file and get just the black intensity of each pixel\n",
    "adams = plt.imread('02-16-halfdome.jpg')\n",
    "M = np.float64(adams[:,:,0])\n",
    "nrows, ncols = M.shape\n",
    "print('size of matrix M:', M.shape)"
   ]
  },
  {
   "cell_type": "code",
   "execution_count": 3,
   "metadata": {},
   "outputs": [
    {
     "name": "stdout",
     "output_type": "stream",
     "text": [
      "\n"
     ]
    }
   ],
   "source": [
    "# plot the original image (matrix)\n",
    "plt.figure(figsize=(10,10))\n",
    "plt.gray()\n",
    "plt.imshow(M)\n",
    "plt.title('original image, %d by %d pixels' % (nrows, ncols))\n",
    "print()"
   ]
  },
  {
   "cell_type": "markdown",
   "metadata": {},
   "source": [
    "The matrix $M$ has about a million elements, all independent of each other. Here are a few of them."
   ]
  },
  {
   "cell_type": "code",
   "execution_count": 4,
   "metadata": {},
   "outputs": [
    {
     "name": "stdout",
     "output_type": "stream",
     "text": [
      "Storage needed for all of M: 1147200\n",
      "\n",
      "First 5 rows and cols of M:\n",
      " [[93. 91. 84. 82. 87.]\n",
      " [85. 85. 84. 83. 82.]\n",
      " [80. 80. 82. 83. 81.]\n",
      " [87. 86. 83. 82. 84.]\n",
      " [77. 82. 78. 78. 87.]]\n"
     ]
    }
   ],
   "source": [
    "nrows, ncols = M.shape\n",
    "print('Storage needed for all of M:', nrows*ncols)\n",
    "print()\n",
    "print('First 5 rows and cols of M:\\n', M[:5,:5])"
   ]
  },
  {
   "cell_type": "markdown",
   "metadata": {},
   "source": [
    "Let's compute the SVD of $M$. We plot the singular values on a log scale."
   ]
  },
  {
   "cell_type": "code",
   "execution_count": 5,
   "metadata": {},
   "outputs": [
    {
     "name": "stdout",
     "output_type": "stream",
     "text": [
      "\n"
     ]
    }
   ],
   "source": [
    "U, sigma, Vt = spla.svd(M)\n",
    "\n",
    "# %matplotlib inline\n",
    "fig0 = plt.figure(figsize=(10,8))\n",
    "plt.plot(sigma,'.')\n",
    "plt.yscale('log')\n",
    "plt.title('Singular values on log scale')\n",
    "plt.ylabel('singular value')\n",
    "plt.xlabel('index')\n",
    "plt.grid()\n",
    "print()"
   ]
  },
  {
   "cell_type": "markdown",
   "metadata": {},
   "source": [
    "We notice that the sizes of the singular values drop by two orders of magnitude in the first 150 or so. That suggests that the rank-150 approximation to $M$ is accurate to within about $1\\%$. The advantage of the approximation is that we don't need to store all of $A$; we can reconstruct the image if we just store the first 150 vectors $u_i$ and $v_i$ (we can either store the first 150 $\\sigma_i$ too, or we can multiply them into the $u_i$'s or $v_i$'s).\n",
    "\n",
    "Let's try it. We'll also verify that the 2-norms are what Theorem 7 says they should be."
   ]
  },
  {
   "cell_type": "code",
   "execution_count": 6,
   "metadata": {},
   "outputs": [
    {
     "name": "stdout",
     "output_type": "stream",
     "text": [
      "Rank 150 approximation:\n",
      "\n",
      "2-norm(M) = 83403.20249998092\n",
      " sigma[0] = 83403.20249998092\n",
      "\n",
      "2-norm(M150-M) = 943.3802639594555\n",
      "    sigma[150] = 943.3802639594556\n",
      "\n",
      "Relative error = 0.011311079619031073\n",
      "\n",
      "Storage needed for all of M: 1147200\n",
      "Storage needed for M150:      323400\n",
      "\n",
      "Compression factor: 3.547309833024119\n"
     ]
    }
   ],
   "source": [
    "k = 150 # try this first with 150, then with 50, then 10, then 2, then 1\n",
    "\n",
    "print(f\"Rank {k} approximation:\")\n",
    "print()\n",
    "\n",
    "nrows, ncols = M.shape\n",
    "Mk = np.zeros(M.shape)\n",
    "for i in range(k):\n",
    "    Mk += sigma[i] * np.outer(U[:,i], Vt[i,:])\n",
    "    \n",
    "print('2-norm(M) =', npla.norm(M,2))\n",
    "print(' sigma[0] =', sigma[0])\n",
    "print()\n",
    "print('2-norm(M%d-M) =' % k, npla.norm(Mk-M, 2))\n",
    "print('    sigma[%d] =' % k, sigma[k])\n",
    "print()\n",
    "print('Relative error =', sigma[k]/sigma[0])\n",
    "print()\n",
    "\n",
    "Mstorage = nrows*ncols\n",
    "Mkstorage = k * (nrows+ncols)\n",
    "\n",
    "print('Storage needed for all of M:', Mstorage)\n",
    "print('Storage needed for M%d:     ' % k, Mkstorage)\n",
    "print()\n",
    "print('Compression factor:', Mstorage/Mkstorage)\n"
   ]
  },
  {
   "cell_type": "markdown",
   "metadata": {},
   "source": [
    "Finally let's look at the compressed image, which is $M_k$. You see that we do give up some image quality for the compression. \n",
    "\n",
    "Try changing the value of $k$ in the cell above, and running this experiment with a few different values to compare. How much can you compress without being able to see the difference between $M$ and $M_k$? At the other end, if you just take $k=1$ or $4$ or $10$ can you see any features of the original image in the compressed version?"
   ]
  },
  {
   "cell_type": "code",
   "execution_count": 7,
   "metadata": {},
   "outputs": [
    {
     "name": "stdout",
     "output_type": "stream",
     "text": [
      "\n"
     ]
    }
   ],
   "source": [
    "# plot the compressed image\n",
    "plt.figure(figsize=(10,10))\n",
    "plt.gray()\n",
    "plt.imshow(Mk)\n",
    "plt.title('compressed image, rank %d' % k)\n",
    "print()"
   ]
  },
  {
   "cell_type": "code",
   "execution_count": 8,
   "metadata": {},
   "outputs": [
    {
     "name": "stdout",
     "output_type": "stream",
     "text": [
      "Rank 50 approximation:\n",
      "\n",
      "2-norm(M) = 83403.20249998092\n",
      " sigma[0] = 83403.20249998092\n",
      "\n",
      "2-norm(M50-M) = 2055.4835155806973\n",
      "    sigma[50] = 2055.4835155806995\n",
      "\n",
      "Relative error = 0.024645138963113194\n",
      "\n",
      "Storage needed for all of M: 1147200\n",
      "Storage needed for M50:      107800\n",
      "\n",
      "Compression factor: 10.641929499072356\n"
     ]
    }
   ],
   "source": [
    "k = 50 # try this first with 150, then with 50, then 10, then 2, then 1\n",
    "\n",
    "print(f\"Rank {k} approximation:\")\n",
    "print()\n",
    "\n",
    "nrows, ncols = M.shape\n",
    "Mk = np.zeros(M.shape)\n",
    "for i in range(k):\n",
    "    Mk += sigma[i] * np.outer(U[:,i], Vt[i,:])\n",
    "    \n",
    "print('2-norm(M) =', npla.norm(M,2))\n",
    "print(' sigma[0] =', sigma[0])\n",
    "print()\n",
    "print('2-norm(M%d-M) =' % k, npla.norm(Mk-M, 2))\n",
    "print('    sigma[%d] =' % k, sigma[k])\n",
    "print()\n",
    "print('Relative error =', sigma[k]/sigma[0])\n",
    "print()\n",
    "\n",
    "Mstorage = nrows*ncols\n",
    "Mkstorage = k * (nrows+ncols)\n",
    "\n",
    "print('Storage needed for all of M:', Mstorage)\n",
    "print('Storage needed for M%d:     ' % k, Mkstorage)\n",
    "print()\n",
    "print('Compression factor:', Mstorage/Mkstorage)"
   ]
  },
  {
   "cell_type": "code",
   "execution_count": 9,
   "metadata": {},
   "outputs": [
    {
     "name": "stdout",
     "output_type": "stream",
     "text": [
      "\n"
     ]
    }
   ],
   "source": [
    "# plot the compressed image\n",
    "plt.figure(figsize=(10,10))\n",
    "plt.gray()\n",
    "plt.imshow(Mk)\n",
    "plt.title('compressed image, rank %d' % k)\n",
    "print()"
   ]
  },
  {
   "cell_type": "code",
   "execution_count": 12,
   "metadata": {},
   "outputs": [
    {
     "name": "stdout",
     "output_type": "stream",
     "text": [
      "Rank 6 approximation:\n",
      "\n",
      "2-norm(M) = 83403.20249998092\n",
      " sigma[0] = 83403.20249998092\n",
      "\n",
      "2-norm(M6-M) = 7574.449642160659\n",
      "    sigma[6] = 7574.449642160661\n",
      "\n",
      "Relative error = 0.09081725179752412\n",
      "\n",
      "Storage needed for all of M: 1147200\n",
      "Storage needed for M6:      12936\n",
      "\n",
      "Compression factor: 88.68274582560296\n"
     ]
    }
   ],
   "source": [
    "k = 6 # try this first with 150, then with 50, then 10, then 2, then 1\n",
    "\n",
    "print(f\"Rank {k} approximation:\")\n",
    "print()\n",
    "\n",
    "nrows, ncols = M.shape\n",
    "Mk = np.zeros(M.shape)\n",
    "for i in range(k):\n",
    "    Mk += sigma[i] * np.outer(U[:,i], Vt[i,:])\n",
    "    \n",
    "print('2-norm(M) =', npla.norm(M,2))\n",
    "print(' sigma[0] =', sigma[0])\n",
    "print()\n",
    "print('2-norm(M%d-M) =' % k, npla.norm(Mk-M, 2))\n",
    "print('    sigma[%d] =' % k, sigma[k])\n",
    "print()\n",
    "print('Relative error =', sigma[k]/sigma[0])\n",
    "print()\n",
    "\n",
    "Mstorage = nrows*ncols\n",
    "Mkstorage = k * (nrows+ncols)\n",
    "\n",
    "print('Storage needed for all of M:', Mstorage)\n",
    "print('Storage needed for M%d:     ' % k, Mkstorage)\n",
    "print()\n",
    "print('Compression factor:', Mstorage/Mkstorage)"
   ]
  },
  {
   "cell_type": "code",
   "execution_count": 13,
   "metadata": {},
   "outputs": [
    {
     "name": "stdout",
     "output_type": "stream",
     "text": [
      "\n"
     ]
    }
   ],
   "source": [
    "# plot the compressed image\n",
    "plt.figure(figsize=(10,10))\n",
    "plt.gray()\n",
    "plt.imshow(Mk)\n",
    "plt.title('compressed image, rank %d' % k)\n",
    "print()"
   ]
  },
  {
   "cell_type": "code",
   "execution_count": null,
   "metadata": {},
   "outputs": [],
   "source": [
    "# plot the original image (matrix)\n",
    "plt.figure(figsize=(10,10))\n",
    "plt.gray()\n",
    "plt.imshow(M)\n",
    "plt.title('original image, %d by %d pixels' % (nrows, ncols))\n",
    "print()"
   ]
  },
  {
   "cell_type": "code",
   "execution_count": 14,
   "metadata": {},
   "outputs": [],
   "source": [
    "plt.close('all')"
   ]
  },
  {
   "cell_type": "code",
   "execution_count": null,
   "metadata": {},
   "outputs": [],
   "source": []
  }
 ],
 "metadata": {
  "kernelspec": {
   "display_name": "Python 3 (ipykernel)",
   "language": "python",
   "name": "python3"
  },
  "language_info": {
   "codemirror_mode": {
    "name": "ipython",
    "version": 3
   },
   "file_extension": ".py",
   "mimetype": "text/x-python",
   "name": "python",
   "nbconvert_exporter": "python",
   "pygments_lexer": "ipython3",
   "version": "3.9.15"
  }
 },
 "nbformat": 4,
 "nbformat_minor": 2
}
