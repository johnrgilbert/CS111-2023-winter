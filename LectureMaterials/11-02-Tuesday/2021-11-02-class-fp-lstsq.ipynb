{
 "cells": [
  {
   "cell_type": "markdown",
   "metadata": {},
   "source": [
    "# Transcript from Lecture, November 2, 2021"
   ]
  },
  {
   "cell_type": "code",
   "execution_count": 1,
   "metadata": {},
   "outputs": [],
   "source": [
    "import sys\n",
    "\n",
    "########################################\n",
    "# Change the string in the line below! #\n",
    "########################################\n",
    "sys.path.append(\"/Users/gilbert/Documents/CS111-2021-fall/Python\") \n",
    "\n",
    "import os\n",
    "import time\n",
    "import math\n",
    "import numpy as np\n",
    "import numpy.linalg as npla\n",
    "import scipy\n",
    "from scipy import linalg as spla\n",
    "import scipy.sparse\n",
    "import scipy.sparse.linalg\n",
    "from scipy import integrate\n",
    "import networkx as nx\n",
    "import json\n",
    "import cs111\n",
    "\n",
    "##########################################################\n",
    "# If this import for matplotlib doesn't work, try saying #\n",
    "#   conda install -c conda-forge ipympl                  #\n",
    "# at a shell prompt on your computer                     #\n",
    "##########################################################\n",
    "import matplotlib\n",
    "%matplotlib ipympl\n",
    "\n",
    "import matplotlib.pyplot as plt\n",
    "from matplotlib import cm\n",
    "from mpl_toolkits.mplot3d import axes3d\n",
    "\n",
    "\n",
    "\n",
    "\n",
    "np.set_printoptions(precision = 4)"
   ]
  },
  {
   "cell_type": "markdown",
   "metadata": {},
   "source": [
    "# Round-off error: Errors due to rounding in floating-point"
   ]
  },
  {
   "cell_type": "markdown",
   "metadata": {},
   "source": [
    "## Cancellation when subtracting almost equal numbers"
   ]
  },
  {
   "cell_type": "code",
   "execution_count": 2,
   "metadata": {},
   "outputs": [
    {
     "data": {
      "text/plain": [
       "0.3333333333333333"
      ]
     },
     "execution_count": 2,
     "metadata": {},
     "output_type": "execute_result"
    }
   ],
   "source": [
    "1/3"
   ]
  },
  {
   "cell_type": "code",
   "execution_count": 3,
   "metadata": {},
   "outputs": [
    {
     "data": {
      "text/plain": [
       "0.33333333333333326"
      ]
     },
     "execution_count": 3,
     "metadata": {},
     "output_type": "execute_result"
    }
   ],
   "source": [
    "a = 1\n",
    "a + 1/3 - a"
   ]
  },
  {
   "cell_type": "code",
   "execution_count": 4,
   "metadata": {},
   "outputs": [
    {
     "data": {
      "text/plain": [
       "0.3333333333333286"
      ]
     },
     "execution_count": 4,
     "metadata": {},
     "output_type": "execute_result"
    }
   ],
   "source": [
    "a = 100\n",
    "a + 1/3 - a"
   ]
  },
  {
   "cell_type": "code",
   "execution_count": 5,
   "metadata": {},
   "outputs": [
    {
     "data": {
      "text/plain": [
       "0.33333333337213844"
      ]
     },
     "execution_count": 5,
     "metadata": {},
     "output_type": "execute_result"
    }
   ],
   "source": [
    "a = 1000000\n",
    "a + 1/3 - a"
   ]
  },
  {
   "cell_type": "code",
   "execution_count": 6,
   "metadata": {},
   "outputs": [
    {
     "data": {
      "text/plain": [
       "0.33333396911621094"
      ]
     },
     "execution_count": 6,
     "metadata": {},
     "output_type": "execute_result"
    }
   ],
   "source": [
    "a = 10**10\n",
    "a + 1/3 - a"
   ]
  },
  {
   "cell_type": "code",
   "execution_count": 7,
   "metadata": {},
   "outputs": [
    {
     "data": {
      "text/plain": [
       "0.375"
      ]
     },
     "execution_count": 7,
     "metadata": {},
     "output_type": "execute_result"
    }
   ],
   "source": [
    "a = 10**15\n",
    "a + 1/3 - a"
   ]
  },
  {
   "cell_type": "code",
   "execution_count": 8,
   "metadata": {},
   "outputs": [
    {
     "data": {
      "text/plain": [
       "0.0"
      ]
     },
     "execution_count": 8,
     "metadata": {},
     "output_type": "execute_result"
    }
   ],
   "source": [
    "a = 10**16\n",
    "a + 1/3 - a"
   ]
  },
  {
   "cell_type": "markdown",
   "metadata": {},
   "source": [
    "## Floating-point addition is not associative!"
   ]
  },
  {
   "cell_type": "code",
   "execution_count": 9,
   "metadata": {},
   "outputs": [
    {
     "name": "stdout",
     "output_type": "stream",
     "text": [
      "(a+b)+c: 5.551115123125783e-17\n",
      "\n",
      "a+(b+c): 0.0\n"
     ]
    }
   ],
   "source": [
    "a = -1/2\n",
    "b = 1/2\n",
    "c = 2 ** -54\n",
    "\n",
    "print(\"(a+b)+c:\", (a+b)+c)\n",
    "print()\n",
    "print(\"a+(b+c):\", a+(b+c))\n",
    "\n"
   ]
  },
  {
   "cell_type": "code",
   "execution_count": 10,
   "metadata": {},
   "outputs": [
    {
     "name": "stdout",
     "output_type": "stream",
     "text": [
      "input     : 5.551115123125783e-17\n",
      "as float64: 5.5511151231257827e-17\n",
      "as hex    : 3c90000000000000\n",
      "sign      : 0 means +\n",
      "exponent  : 3c9 means 969 - 1023 = -54\n",
      "mantissa  : 1.0000000000000000000000000000000000000000000000000000\n",
      "\n",
      "input     : 0.0\n",
      "as float64: 0.0000000000000000e+00\n",
      "as hex    : 0000000000000000\n",
      "sign      : 0 means +\n",
      "exponent  : 000 means zero or denormal\n",
      "\n"
     ]
    }
   ],
   "source": [
    "cs111.print_float64((a+b)+c)\n",
    "cs111.print_float64(a+(b+c))"
   ]
  },
  {
   "cell_type": "markdown",
   "metadata": {},
   "source": [
    "## Catastrophic cancellation in action: computing $(x-1)^7$"
   ]
  },
  {
   "cell_type": "code",
   "execution_count": 11,
   "metadata": {},
   "outputs": [],
   "source": [
    "# A simple function of a real number x\n",
    "def f1(x):\n",
    "    return (x-1)**7\n",
    "\n",
    "# Same function as f1, but multiplied out and written as a polynomial in x\n",
    "def f2(x):\n",
    "    return x**7 - 7*x**6 + 21*x**5 - 35*x**4 + 35*x**3 - 21*x**2 + 7*x - 1\n"
   ]
  },
  {
   "cell_type": "code",
   "execution_count": 12,
   "metadata": {},
   "outputs": [
    {
     "name": "stdout",
     "output_type": "stream",
     "text": [
      "x: 1 ; (x-1)**7: 0 ;  polynomial: 0\n"
     ]
    }
   ],
   "source": [
    "x = 1\n",
    "print('x:', x, '; (x-1)**7:', f1(x), ';  polynomial:', f2(x))"
   ]
  },
  {
   "cell_type": "code",
   "execution_count": 13,
   "metadata": {},
   "outputs": [
    {
     "name": "stdout",
     "output_type": "stream",
     "text": [
      "x: 1.1 ; (x-1)**7: 1.0000000000000062e-07 ;  polynomial: 1.0000000649768026e-07\n"
     ]
    }
   ],
   "source": [
    "x = 1.1\n",
    "print('x:', x, '; (x-1)**7:', f1(x), ';  polynomial:', f2(x))"
   ]
  },
  {
   "cell_type": "code",
   "execution_count": 14,
   "metadata": {},
   "outputs": [
    {
     "name": "stdout",
     "output_type": "stream",
     "text": [
      "x: 1.01 ; (x-1)**7: 1.0000000000000062e-14 ;  polynomial: 1.4210854715202004e-14\n"
     ]
    }
   ],
   "source": [
    "x = 1.01\n",
    "print('x:', x, '; (x-1)**7:', f1(x), ';  polynomial:', f2(x))"
   ]
  },
  {
   "cell_type": "code",
   "execution_count": 15,
   "metadata": {},
   "outputs": [
    {
     "name": "stdout",
     "output_type": "stream",
     "text": [
      "x: 1.001 ; (x-1)**7: 9.99999999999229e-22 ;  polynomial: 8.881784197001252e-15\n"
     ]
    }
   ],
   "source": [
    "x = 1.001\n",
    "print('x:', x, '; (x-1)**7:', f1(x), ';  polynomial:', f2(x))"
   ]
  },
  {
   "cell_type": "code",
   "execution_count": 16,
   "metadata": {},
   "outputs": [
    {
     "name": "stderr",
     "output_type": "stream",
     "text": [
      "/Users/gilbert/anaconda3/lib/python3.6/site-packages/ipykernel_launcher.py:21: RuntimeWarning: invalid value encountered in true_divide\n"
     ]
    },
    {
     "data": {
      "text/plain": [
       "Text(0.5, 1.0, 'relative error in polynomial f2(x)')"
      ]
     },
     "execution_count": 16,
     "metadata": {},
     "output_type": "execute_result"
    },
    {
     "data": {
      "image/png": "[encoded data removed]",
      "text/plain": [
       "<Figure size 432x288 with 1 Axes>"
      ]
     },
     "metadata": {
      "needs_background": "light"
     },
     "output_type": "display_data"
    },
    {
     "data": {
      "image/png": "[encoded data removed]",
      "text/plain": [
       "<Figure size 432x288 with 1 Axes>"
      ]
     },
     "metadata": {
      "needs_background": "light"
     },
     "output_type": "display_data"
    }
   ],
   "source": [
    "xvals = np.linspace(.99, 1.01, 101)\n",
    "\n",
    "y1 = []\n",
    "y2 = []\n",
    "for x in xvals:\n",
    "    y1.append(f1(x))\n",
    "    y2.append(f2(x))\n",
    "y1 = np.array(y1)\n",
    "y2 = np.array(y2)\n",
    "\n",
    "%matplotlib inline\n",
    "plt.figure()\n",
    "plt.plot(xvals, y2, label = 'polynomial')\n",
    "plt.plot(xvals, y1, label = '(x-1)**7')\n",
    "plt.xlabel('x')\n",
    "plt.ylabel('y')\n",
    "plt.title('two ways to compute (x-1)**7')\n",
    "plt.legend()\n",
    "\n",
    "plt.figure()\n",
    "plt.semilogy(xvals, np.abs((y1-y2)/y1))\n",
    "plt.xlabel('x')\n",
    "plt.ylabel('error')\n",
    "plt.title('relative error in polynomial f2(x)')\n"
   ]
  },
  {
   "cell_type": "markdown",
   "metadata": {},
   "source": [
    "# Round-off error in LU with partial pivoting"
   ]
  },
  {
   "cell_type": "code",
   "execution_count": null,
   "metadata": {},
   "outputs": [],
   "source": []
  },
  {
   "cell_type": "markdown",
   "metadata": {},
   "source": [
    "# Data fitting by least squares"
   ]
  },
  {
   "cell_type": "markdown",
   "metadata": {},
   "source": [
    "## The surveyor problem"
   ]
  },
  {
   "cell_type": "code",
   "execution_count": 17,
   "metadata": {},
   "outputs": [
    {
     "name": "stdout",
     "output_type": "stream",
     "text": [
      "A:\n",
      "[[ 1  0  0]\n",
      " [ 0  1  0]\n",
      " [ 0  0  1]\n",
      " [-1  1  0]\n",
      " [-1  0  1]\n",
      " [ 0 -1  1]]\n",
      "\n",
      "b: [1237 1941 2417  711 1177  475]\n"
     ]
    }
   ],
   "source": [
    "A = np.array([[1,0,0],[0,1,0],[0,0,1],[-1,1,0],[-1,0,1],[0,-1,1]])\n",
    "b = np.array([1237,1941,2417,711,1177,475])\n",
    "print('A:'); print(A)\n",
    "print('\\nb:', b)"
   ]
  },
  {
   "cell_type": "code",
   "execution_count": 18,
   "metadata": {},
   "outputs": [
    {
     "ename": "LinAlgError",
     "evalue": "Last 2 dimensions of the array must be square",
     "output_type": "error",
     "traceback": [
      "\u001b[0;31m---------------------------------------------------------------------------\u001b[0m",
      "\u001b[0;31mLinAlgError\u001b[0m                               Traceback (most recent call last)",
      "\u001b[0;32m<ipython-input-18-f3211a701d2a>\u001b[0m in \u001b[0;36m<module>\u001b[0;34m\u001b[0m\n\u001b[0;32m----> 1\u001b[0;31m \u001b[0mx\u001b[0m \u001b[0;34m=\u001b[0m \u001b[0mnpla\u001b[0m\u001b[0;34m.\u001b[0m\u001b[0msolve\u001b[0m\u001b[0;34m(\u001b[0m\u001b[0mA\u001b[0m\u001b[0;34m,\u001b[0m\u001b[0mb\u001b[0m\u001b[0;34m)\u001b[0m\u001b[0;34m\u001b[0m\u001b[0;34m\u001b[0m\u001b[0m\n\u001b[0m",
      "\u001b[0;32m<__array_function__ internals>\u001b[0m in \u001b[0;36msolve\u001b[0;34m(*args, **kwargs)\u001b[0m\n",
      "\u001b[0;32m~/anaconda3/lib/python3.6/site-packages/numpy/linalg/linalg.py\u001b[0m in \u001b[0;36msolve\u001b[0;34m(a, b)\u001b[0m\n\u001b[1;32m    379\u001b[0m     \u001b[0ma\u001b[0m\u001b[0;34m,\u001b[0m \u001b[0m_\u001b[0m \u001b[0;34m=\u001b[0m \u001b[0m_makearray\u001b[0m\u001b[0;34m(\u001b[0m\u001b[0ma\u001b[0m\u001b[0;34m)\u001b[0m\u001b[0;34m\u001b[0m\u001b[0;34m\u001b[0m\u001b[0m\n\u001b[1;32m    380\u001b[0m     \u001b[0m_assert_stacked_2d\u001b[0m\u001b[0;34m(\u001b[0m\u001b[0ma\u001b[0m\u001b[0;34m)\u001b[0m\u001b[0;34m\u001b[0m\u001b[0;34m\u001b[0m\u001b[0m\n\u001b[0;32m--> 381\u001b[0;31m     \u001b[0m_assert_stacked_square\u001b[0m\u001b[0;34m(\u001b[0m\u001b[0ma\u001b[0m\u001b[0;34m)\u001b[0m\u001b[0;34m\u001b[0m\u001b[0;34m\u001b[0m\u001b[0m\n\u001b[0m\u001b[1;32m    382\u001b[0m     \u001b[0mb\u001b[0m\u001b[0;34m,\u001b[0m \u001b[0mwrap\u001b[0m \u001b[0;34m=\u001b[0m \u001b[0m_makearray\u001b[0m\u001b[0;34m(\u001b[0m\u001b[0mb\u001b[0m\u001b[0;34m)\u001b[0m\u001b[0;34m\u001b[0m\u001b[0;34m\u001b[0m\u001b[0m\n\u001b[1;32m    383\u001b[0m     \u001b[0mt\u001b[0m\u001b[0;34m,\u001b[0m \u001b[0mresult_t\u001b[0m \u001b[0;34m=\u001b[0m \u001b[0m_commonType\u001b[0m\u001b[0;34m(\u001b[0m\u001b[0ma\u001b[0m\u001b[0;34m,\u001b[0m \u001b[0mb\u001b[0m\u001b[0;34m)\u001b[0m\u001b[0;34m\u001b[0m\u001b[0;34m\u001b[0m\u001b[0m\n",
      "\u001b[0;32m~/anaconda3/lib/python3.6/site-packages/numpy/linalg/linalg.py\u001b[0m in \u001b[0;36m_assert_stacked_square\u001b[0;34m(*arrays)\u001b[0m\n\u001b[1;32m    202\u001b[0m         \u001b[0mm\u001b[0m\u001b[0;34m,\u001b[0m \u001b[0mn\u001b[0m \u001b[0;34m=\u001b[0m \u001b[0ma\u001b[0m\u001b[0;34m.\u001b[0m\u001b[0mshape\u001b[0m\u001b[0;34m[\u001b[0m\u001b[0;34m-\u001b[0m\u001b[0;36m2\u001b[0m\u001b[0;34m:\u001b[0m\u001b[0;34m]\u001b[0m\u001b[0;34m\u001b[0m\u001b[0;34m\u001b[0m\u001b[0m\n\u001b[1;32m    203\u001b[0m         \u001b[0;32mif\u001b[0m \u001b[0mm\u001b[0m \u001b[0;34m!=\u001b[0m \u001b[0mn\u001b[0m\u001b[0;34m:\u001b[0m\u001b[0;34m\u001b[0m\u001b[0;34m\u001b[0m\u001b[0m\n\u001b[0;32m--> 204\u001b[0;31m             \u001b[0;32mraise\u001b[0m \u001b[0mLinAlgError\u001b[0m\u001b[0;34m(\u001b[0m\u001b[0;34m'Last 2 dimensions of the array must be square'\u001b[0m\u001b[0;34m)\u001b[0m\u001b[0;34m\u001b[0m\u001b[0;34m\u001b[0m\u001b[0m\n\u001b[0m\u001b[1;32m    205\u001b[0m \u001b[0;34m\u001b[0m\u001b[0m\n\u001b[1;32m    206\u001b[0m \u001b[0;32mdef\u001b[0m \u001b[0m_assert_finite\u001b[0m\u001b[0;34m(\u001b[0m\u001b[0;34m*\u001b[0m\u001b[0marrays\u001b[0m\u001b[0;34m)\u001b[0m\u001b[0;34m:\u001b[0m\u001b[0;34m\u001b[0m\u001b[0;34m\u001b[0m\u001b[0m\n",
      "\u001b[0;31mLinAlgError\u001b[0m: Last 2 dimensions of the array must be square"
     ]
    }
   ],
   "source": [
    "x = npla.solve(A,b)"
   ]
  },
  {
   "cell_type": "code",
   "execution_count": 19,
   "metadata": {},
   "outputs": [
    {
     "data": {
      "text/plain": [
       "array([1236., 1943., 2416.])"
      ]
     },
     "execution_count": 19,
     "metadata": {},
     "output_type": "execute_result"
    }
   ],
   "source": [
    "x, resid, rank, sv = npla.lstsq(A, b, rcond = None)\n",
    "x"
   ]
  },
  {
   "cell_type": "code",
   "execution_count": 21,
   "metadata": {},
   "outputs": [],
   "source": [
    "npla.lstsq?\n"
   ]
  },
  {
   "cell_type": "code",
   "execution_count": 22,
   "metadata": {},
   "outputs": [
    {
     "data": {
      "text/plain": [
       "array([1236., 1943., 2416.])"
      ]
     },
     "execution_count": 22,
     "metadata": {},
     "output_type": "execute_result"
    }
   ],
   "source": [
    "x = npla.lstsq(A, b, rcond = None)[0]\n",
    "x"
   ]
  },
  {
   "cell_type": "code",
   "execution_count": 23,
   "metadata": {},
   "outputs": [
    {
     "data": {
      "text/plain": [
       "array([ 1., -2.,  1.,  4., -3.,  2.])"
      ]
     },
     "execution_count": 23,
     "metadata": {},
     "output_type": "execute_result"
    }
   ],
   "source": [
    "b - A@x"
   ]
  },
  {
   "cell_type": "code",
   "execution_count": 24,
   "metadata": {},
   "outputs": [
    {
     "name": "stdout",
     "output_type": "stream",
     "text": [
      "relres = 0.001624903391484253\n"
     ]
    }
   ],
   "source": [
    "relres = npla.norm(b - A@x)/npla.norm(b)\n",
    "print('relres =', relres)"
   ]
  },
  {
   "cell_type": "code",
   "execution_count": 25,
   "metadata": {},
   "outputs": [
    {
     "name": "stdout",
     "output_type": "stream",
     "text": [
      "first surveyor's relres = 0.002109694296525749\n"
     ]
    }
   ],
   "source": [
    "first_surveyor_x = np.array([1237,1941,2417])\n",
    "relres = npla.norm(b - A @ first_surveyor_x)/npla.norm(b)\n",
    "print(\"first surveyor's relres =\", relres)"
   ]
  },
  {
   "cell_type": "markdown",
   "metadata": {},
   "source": [
    "## Fitting a linear-regression line to data"
   ]
  },
  {
   "cell_type": "markdown",
   "metadata": {},
   "source": [
    "<b>Warning: This data originated from a real source (SDSS), but it has been messed around with and should be thought of as only a toy example."
   ]
  },
  {
   "cell_type": "code",
   "execution_count": 26,
   "metadata": {},
   "outputs": [],
   "source": [
    "u = np.array([\n",
    "24.41442,\n",
    "25.67274,\n",
    "26.02992,\n",
    "23.00638,\n",
    "24.86972,\n",
    "21.96248,\n",
    "21.87139,\n",
    "24.93143,\n",
    "22.90206,\n",
    "22.749,\n",
    "23.84269,\n",
    "21.74025,\n",
    "23.87719,\n",
    "19.22808,\n",
    "21.62093,\n",
    "25.31738,\n",
    "24.78468,\n",
    "26.16757,\n",
    "24.25187,\n",
    "23.59213,\n",
    "22.67077,\n",
    "25.01685,\n",
    "25.43069,\n",
    "24.23741,\n",
    "22.36275,\n",
    "24.56208,\n",
    "21.57241,\n",
    "28.41815,\n",
    "25.05081,\n",
    "20.96467,\n",
    "23.56018,\n",
    "23.45984,\n",
    "22.8903,\n",
    "22.97415,\n",
    "20.78101,\n",
    "22.46072,\n",
    "24.60077,\n",
    "24.78432,\n",
    "23.35197,\n",
    "24.09856,\n",
    "25.7874,\n",
    "22.36821,\n",
    "24.50825,\n",
    "22.06679,\n",
    "16.63657,\n",
    "24.38522,\n",
    "26.19138,\n",
    "21.29271])\n",
    "\n",
    "z = np.array([\n",
    "21.37779,\n",
    "21.2569,\n",
    "19.88106,\n",
    "20.76563,\n",
    "23.18144,\n",
    "19.76097,\n",
    "18.34194,\n",
    "21.97318,\n",
    "18.26459,\n",
    "20.63926,\n",
    "21.69268,\n",
    "18.20393,\n",
    "20.19502,\n",
    "15.4874,\n",
    "21.864,\n",
    "22.357,\n",
    "22.36432,\n",
    "20.08167,\n",
    "20.08758,\n",
    "20.00934,\n",
    "19.9816,\n",
    "21.85483,\n",
    "19.38139,\n",
    "17.90937,\n",
    "16.79848,\n",
    "22.54093,\n",
    "18.07866,\n",
    "27.90404,\n",
    "21.32371,\n",
    "17.1744,\n",
    "18.08388,\n",
    "22.01883,\n",
    "19.4599,\n",
    "22.5115,\n",
    "16.82848,\n",
    "21.34581,\n",
    "20.29847,\n",
    "22.91343,\n",
    "19.40759,\n",
    "21.99136,\n",
    "22.56684,\n",
    "19.13174,\n",
    "22.60053,\n",
    "20.24307,\n",
    "13.87426,\n",
    "19.74682,\n",
    "21.74273,\n",
    "17.74383])/100"
   ]
  },
  {
   "cell_type": "code",
   "execution_count": 27,
   "metadata": {},
   "outputs": [
    {
     "data": {
      "text/plain": [
       "(48,)"
      ]
     },
     "execution_count": 27,
     "metadata": {},
     "output_type": "execute_result"
    }
   ],
   "source": [
    "u.shape"
   ]
  },
  {
   "cell_type": "code",
   "execution_count": 28,
   "metadata": {},
   "outputs": [
    {
     "data": {
      "text/plain": [
       "(48,)"
      ]
     },
     "execution_count": 28,
     "metadata": {},
     "output_type": "execute_result"
    }
   ],
   "source": [
    "z.shape"
   ]
  },
  {
   "cell_type": "code",
   "execution_count": 29,
   "metadata": {},
   "outputs": [
    {
     "data": {
      "text/plain": [
       "Text(0.5, 1.0, 'Hubble diagram: magnitude and red shift of astronomical objects')"
      ]
     },
     "execution_count": 29,
     "metadata": {},
     "output_type": "execute_result"
    },
    {
     "data": {
      "image/png": "[encoded data removed]",
      "text/plain": [
       "<Figure size 432x288 with 1 Axes>"
      ]
     },
     "metadata": {
      "needs_background": "light"
     },
     "output_type": "display_data"
    }
   ],
   "source": [
    "%matplotlib inline\n",
    "plt.figure()\n",
    "plt.plot(u,z,'.')\n",
    "plt.xlabel('magnitude u_i')\n",
    "plt.ylabel('redshift z_i')\n",
    "plt.title('Hubble diagram: magnitude and red shift of astronomical objects')"
   ]
  },
  {
   "cell_type": "code",
   "execution_count": 30,
   "metadata": {},
   "outputs": [
    {
     "data": {
      "text/plain": [
       "(48, 2)"
      ]
     },
     "execution_count": 30,
     "metadata": {},
     "output_type": "execute_result"
    }
   ],
   "source": [
    "m = len(u)\n",
    "A = np.ones((m,2))\n",
    "A[:,1] = u\n",
    "A.shape"
   ]
  },
  {
   "cell_type": "code",
   "execution_count": 31,
   "metadata": {},
   "outputs": [
    {
     "data": {
      "text/plain": [
       "array([[ 1.    , 24.4144],\n",
       "       [ 1.    , 25.6727],\n",
       "       [ 1.    , 26.0299],\n",
       "       [ 1.    , 23.0064],\n",
       "       [ 1.    , 24.8697],\n",
       "       [ 1.    , 21.9625],\n",
       "       [ 1.    , 21.8714],\n",
       "       [ 1.    , 24.9314],\n",
       "       [ 1.    , 22.9021],\n",
       "       [ 1.    , 22.749 ],\n",
       "       [ 1.    , 23.8427],\n",
       "       [ 1.    , 21.7402],\n",
       "       [ 1.    , 23.8772],\n",
       "       [ 1.    , 19.2281],\n",
       "       [ 1.    , 21.6209],\n",
       "       [ 1.    , 25.3174],\n",
       "       [ 1.    , 24.7847],\n",
       "       [ 1.    , 26.1676],\n",
       "       [ 1.    , 24.2519],\n",
       "       [ 1.    , 23.5921],\n",
       "       [ 1.    , 22.6708],\n",
       "       [ 1.    , 25.0169],\n",
       "       [ 1.    , 25.4307],\n",
       "       [ 1.    , 24.2374],\n",
       "       [ 1.    , 22.3627],\n",
       "       [ 1.    , 24.5621],\n",
       "       [ 1.    , 21.5724],\n",
       "       [ 1.    , 28.4182],\n",
       "       [ 1.    , 25.0508],\n",
       "       [ 1.    , 20.9647],\n",
       "       [ 1.    , 23.5602],\n",
       "       [ 1.    , 23.4598],\n",
       "       [ 1.    , 22.8903],\n",
       "       [ 1.    , 22.9742],\n",
       "       [ 1.    , 20.781 ],\n",
       "       [ 1.    , 22.4607],\n",
       "       [ 1.    , 24.6008],\n",
       "       [ 1.    , 24.7843],\n",
       "       [ 1.    , 23.352 ],\n",
       "       [ 1.    , 24.0986],\n",
       "       [ 1.    , 25.7874],\n",
       "       [ 1.    , 22.3682],\n",
       "       [ 1.    , 24.5083],\n",
       "       [ 1.    , 22.0668],\n",
       "       [ 1.    , 16.6366],\n",
       "       [ 1.    , 24.3852],\n",
       "       [ 1.    , 26.1914],\n",
       "       [ 1.    , 21.2927]])"
      ]
     },
     "execution_count": 31,
     "metadata": {},
     "output_type": "execute_result"
    }
   ],
   "source": [
    "A"
   ]
  },
  {
   "cell_type": "code",
   "execution_count": 32,
   "metadata": {},
   "outputs": [
    {
     "data": {
      "text/plain": [
       "array([-0.0113,  0.0091])"
      ]
     },
     "execution_count": 32,
     "metadata": {},
     "output_type": "execute_result"
    }
   ],
   "source": [
    "x = npla.lstsq(A, z, rcond = None)[0]\n",
    "x"
   ]
  },
  {
   "cell_type": "code",
   "execution_count": 33,
   "metadata": {},
   "outputs": [
    {
     "data": {
      "text/plain": [
       "array([15., 20., 25., 30.])"
      ]
     },
     "execution_count": 33,
     "metadata": {},
     "output_type": "execute_result"
    }
   ],
   "source": [
    "np.linspace(15,30,num=4)"
   ]
  },
  {
   "cell_type": "code",
   "execution_count": 34,
   "metadata": {},
   "outputs": [
    {
     "data": {
      "text/plain": [
       "Text(0.5, 1.0, 'Hubble diagram: magnitude and red shift of astronomical objects')"
      ]
     },
     "execution_count": 34,
     "metadata": {},
     "output_type": "execute_result"
    },
    {
     "data": {
      "image/png": "[encoded data removed]",
      "text/plain": [
       "<Figure size 432x288 with 1 Axes>"
      ]
     },
     "metadata": {
      "needs_background": "light"
     },
     "output_type": "display_data"
    }
   ],
   "source": [
    "%matplotlib inline\n",
    "plt.figure()\n",
    "plt.plot(u,z,'.')\n",
    "lineu = np.linspace(15,30,num=4)\n",
    "linez = x[0] + x[1]*lineu\n",
    "plt.plot(lineu,linez)\n",
    "plt.xlabel('magnitude u')\n",
    "plt.ylabel('red shift z')\n",
    "plt.legend(('observations', 'linear fit'))\n",
    "plt.title('Hubble diagram: magnitude and red shift of astronomical objects')"
   ]
  },
  {
   "cell_type": "code",
   "execution_count": null,
   "metadata": {},
   "outputs": [],
   "source": [
    "x"
   ]
  },
  {
   "cell_type": "markdown",
   "metadata": {},
   "source": [
    "## SVD and least squares"
   ]
  },
  {
   "cell_type": "code",
   "execution_count": null,
   "metadata": {},
   "outputs": [],
   "source": [
    "# The surveyors again\n",
    "\n",
    "A = np.array([[1,0,0],[0,1,0],[0,0,1],[-1,1,0],[-1,0,1],[0,-1,1]])\n",
    "b = np.array([1237,1941,2417,711,1177,475])\n",
    "print('A:'); print(A)\n",
    "print()\n",
    "print('b:', b)"
   ]
  },
  {
   "cell_type": "code",
   "execution_count": null,
   "metadata": {},
   "outputs": [],
   "source": [
    "U,sigma,Vt = npla.svd(A)\n",
    "\n",
    "print('singular values:', sigma)\n",
    "print()\n",
    "\n",
    "S = np.zeros(A.shape)\n",
    "for i, s in enumerate(sigma):\n",
    "    S[i,i] = s\n",
    "    \n",
    "V = Vt.T\n",
    "\n",
    "print('U:'); print(U)\n",
    "print()\n",
    "print('S:'); print(S)\n",
    "print()\n",
    "print('V:'); print(V)"
   ]
  },
  {
   "cell_type": "code",
   "execution_count": null,
   "metadata": {},
   "outputs": [],
   "source": [
    "print('A:'); print(A)\n",
    "print()\n",
    "print('U @ S @ V.T:'); print(U @ S @ V.T)\n"
   ]
  },
  {
   "cell_type": "code",
   "execution_count": null,
   "metadata": {},
   "outputs": [],
   "source": [
    "npla.norm(A - U@S@V.T)"
   ]
  },
  {
   "cell_type": "markdown",
   "metadata": {},
   "source": [
    "The least squares problem is to find the $x$ that minimizes the 2-norm $||Ax-b||_2$. We can use SVD to solve this, because multiplication by an orthogonal matrix doesn't change the 2-norm of a vector.\n",
    "\n",
    "We want to minimize \n",
    "\n",
    "$$||Ax-b|| = ||USV^Tx-b||.$$\n",
    "\n",
    "Multiplying by the orthogonal matrix $U^T$, this is the same as minimizing \n",
    "\n",
    "$$||U^TUSV^Tx - U^Tb|| = ||SV^Tx-U^Tb||.$$\n",
    "\n",
    "Define $y=V^Tx$. Then if we can somehow find the $y$ that minimizes\n",
    "\n",
    "$$||Sy - U^Tb||,$$\n",
    "\n",
    "we can compute $x = Vy$ and we'll be done."
   ]
  },
  {
   "cell_type": "code",
   "execution_count": null,
   "metadata": {},
   "outputs": [],
   "source": [
    "print('b:', b)\n",
    "print('U.T @ b:', U.T@b)"
   ]
  },
  {
   "cell_type": "code",
   "execution_count": null,
   "metadata": {},
   "outputs": [],
   "source": [
    "print('S:'); print(S)\n",
    "print()\n",
    "print('sigma:', sigma)"
   ]
  },
  {
   "cell_type": "markdown",
   "metadata": {},
   "source": [
    "The bottom part of $S$ is zero. Therefore the bottom part of $Sy$ will be zero no matter what $y$ is, and the best we can do to minimize $||Sy - U^Tb||$ is to make the top part of $Sy$ match the top part of $U^Tb$.\n",
    "\n",
    "That's easy because the top part of $S$ is diagonal."
   ]
  },
  {
   "cell_type": "code",
   "execution_count": null,
   "metadata": {},
   "outputs": [],
   "source": [
    "print('first 3 elements of U.T @ b:', (U.T @ b)[:3])"
   ]
  },
  {
   "cell_type": "code",
   "execution_count": null,
   "metadata": {},
   "outputs": [],
   "source": [
    "y = (U.T @ b)[:3] / sigma\n",
    "\n",
    "print('y:', y)"
   ]
  },
  {
   "cell_type": "code",
   "execution_count": null,
   "metadata": {},
   "outputs": [],
   "source": [
    "x = V@y\n",
    "\n",
    "print('x:', x)"
   ]
  },
  {
   "cell_type": "code",
   "execution_count": null,
   "metadata": {},
   "outputs": [],
   "source": [
    "print('npla.lstsq x:', npla.lstsq(A, b, rcond=None)[0])"
   ]
  },
  {
   "cell_type": "code",
   "execution_count": null,
   "metadata": {},
   "outputs": [],
   "source": [
    "npla.norm(A@x - b)"
   ]
  },
  {
   "cell_type": "code",
   "execution_count": null,
   "metadata": {},
   "outputs": [],
   "source": [
    "npla.norm(S@y - U.T@b)"
   ]
  },
  {
   "cell_type": "code",
   "execution_count": null,
   "metadata": {},
   "outputs": [],
   "source": [
    "print('S@y:', S@y)\n",
    "print()\n",
    "print('U.T@b:', U.T@b)\n",
    "print()\n",
    "print('S@y - U.T@b:', S@y - U.T@b)"
   ]
  },
  {
   "cell_type": "code",
   "execution_count": null,
   "metadata": {},
   "outputs": [],
   "source": [
    "npla.norm((U.T@b)[3:])"
   ]
  },
  {
   "cell_type": "code",
   "execution_count": null,
   "metadata": {},
   "outputs": [],
   "source": []
  }
 ],
 "metadata": {
  "kernelspec": {
   "display_name": "Python 3",
   "language": "python",
   "name": "python3"
  },
  "language_info": {
   "codemirror_mode": {
    "name": "ipython",
    "version": 3
   },
   "file_extension": ".py",
   "mimetype": "text/x-python",
   "name": "python",
   "nbconvert_exporter": "python",
   "pygments_lexer": "ipython3",
   "version": "3.6.13"
  }
 },
 "nbformat": 4,
 "nbformat_minor": 2
}
