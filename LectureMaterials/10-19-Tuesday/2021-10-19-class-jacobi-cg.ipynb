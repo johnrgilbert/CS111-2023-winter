{
 "cells": [
  {
   "cell_type": "markdown",
   "metadata": {},
   "source": [
    "# Transcript from Lecture, October 19, 2021\n"
   ]
  },
  {
   "cell_type": "code",
   "execution_count": 1,
   "metadata": {},
   "outputs": [],
   "source": [
    "import sys\n",
    "\n",
    "########################################\n",
    "# Change the string in the line below! #\n",
    "########################################\n",
    "sys.path.append(\"/Users/gilbert/Documents/CS111-2021-fall/Python\") \n",
    "\n",
    "import os\n",
    "import time\n",
    "import math\n",
    "import numpy as np\n",
    "import numpy.linalg as npla\n",
    "import scipy\n",
    "from scipy import linalg as spla\n",
    "import scipy.sparse\n",
    "import scipy.sparse.linalg\n",
    "from scipy import integrate\n",
    "import networkx as nx\n",
    "import cs111\n",
    "\n",
    "##########################################################\n",
    "# If this import for matplotlib doesn't work, try saying #\n",
    "#   conda install -c conda-forge ipympl                  #\n",
    "# at a shell prompt on your computer                     #\n",
    "##########################################################\n",
    "import matplotlib\n",
    "%matplotlib ipympl\n",
    "\n",
    "import matplotlib.pyplot as plt\n",
    "from matplotlib import cm\n",
    "from mpl_toolkits.mplot3d import axes3d\n",
    "\n",
    "\n",
    "\n",
    "\n",
    "np.set_printoptions(precision = 4)"
   ]
  },
  {
   "cell_type": "markdown",
   "metadata": {},
   "source": [
    "# Jacobi iterative method for Ax = b (matrix view)"
   ]
  },
  {
   "cell_type": "code",
   "execution_count": 2,
   "metadata": {},
   "outputs": [
    {
     "data": {
      "text/plain": [
       "array([[ 3, -1,  1],\n",
       "       [-2,  4,  1],\n",
       "       [ 1,  0, -3]])"
      ]
     },
     "execution_count": 2,
     "metadata": {},
     "output_type": "execute_result"
    }
   ],
   "source": [
    "A = np.array([[3,-1,1],[-2,4,1],[1,0,-3]])\n",
    "A"
   ]
  },
  {
   "cell_type": "code",
   "execution_count": 3,
   "metadata": {},
   "outputs": [
    {
     "data": {
      "text/plain": [
       "array([ 4,  9, -8])"
      ]
     },
     "execution_count": 3,
     "metadata": {},
     "output_type": "execute_result"
    }
   ],
   "source": [
    "b = np.array([4,9,-8])\n",
    "b"
   ]
  },
  {
   "cell_type": "code",
   "execution_count": 4,
   "metadata": {},
   "outputs": [
    {
     "data": {
      "text/plain": [
       "array([1., 2., 3.])"
      ]
     },
     "execution_count": 4,
     "metadata": {},
     "output_type": "execute_result"
    }
   ],
   "source": [
    "npla.solve(A,b)"
   ]
  },
  {
   "cell_type": "code",
   "execution_count": 5,
   "metadata": {},
   "outputs": [
    {
     "data": {
      "text/plain": [
       "(array([1., 2., 3.]), 0.0)"
      ]
     },
     "execution_count": 5,
     "metadata": {},
     "output_type": "execute_result"
    }
   ],
   "source": [
    "cs111.LUsolve(A,b)"
   ]
  },
  {
   "cell_type": "code",
   "execution_count": 6,
   "metadata": {},
   "outputs": [
    {
     "data": {
      "text/plain": [
       "array([ 3,  4, -3])"
      ]
     },
     "execution_count": 6,
     "metadata": {},
     "output_type": "execute_result"
    }
   ],
   "source": [
    "d = A.diagonal()\n",
    "d"
   ]
  },
  {
   "cell_type": "code",
   "execution_count": 7,
   "metadata": {},
   "outputs": [
    {
     "data": {
      "text/plain": [
       "array([[ 3,  0,  0],\n",
       "       [ 0,  4,  0],\n",
       "       [ 0,  0, -3]])"
      ]
     },
     "execution_count": 7,
     "metadata": {},
     "output_type": "execute_result"
    }
   ],
   "source": [
    "D = np.diag(d)\n",
    "D"
   ]
  },
  {
   "cell_type": "code",
   "execution_count": 8,
   "metadata": {},
   "outputs": [
    {
     "data": {
      "text/plain": [
       "array([[ 0, -1,  1],\n",
       "       [-2,  0,  1],\n",
       "       [ 1,  0,  0]])"
      ]
     },
     "execution_count": 8,
     "metadata": {},
     "output_type": "execute_result"
    }
   ],
   "source": [
    "C = A - D\n",
    "C"
   ]
  },
  {
   "cell_type": "code",
   "execution_count": 9,
   "metadata": {},
   "outputs": [
    {
     "name": "stdout",
     "output_type": "stream",
     "text": [
      "x: [0. 0. 0.]\n",
      "relres: 1.0\n"
     ]
    }
   ],
   "source": [
    "# initial guess x = 0\n",
    "\n",
    "x = np.zeros(3)\n",
    "print('x:',x)\n",
    "\n",
    "relres = npla.norm(A@x-b)/npla.norm(b)\n",
    "print('relres:',relres)"
   ]
  },
  {
   "cell_type": "code",
   "execution_count": 10,
   "metadata": {},
   "outputs": [
    {
     "name": "stdout",
     "output_type": "stream",
     "text": [
      "x: [1.3333 2.25   2.6667]\n",
      "relres: 0.11009281484864232\n"
     ]
    }
   ],
   "source": [
    "# try to improve the guess, matrix version\n",
    "x = (b - C@x) / d\n",
    "print('x:',x)\n",
    "\n",
    "relres = npla.norm(A@x-b)/npla.norm(b)\n",
    "print('relres:',relres)"
   ]
  },
  {
   "cell_type": "code",
   "execution_count": 11,
   "metadata": {},
   "outputs": [
    {
     "name": "stdout",
     "output_type": "stream",
     "text": [
      "x: [1.1944 2.25   3.1111]\n",
      "relres: 0.06772367705848906\n"
     ]
    }
   ],
   "source": [
    "# try to improve the guess, matrix version\n",
    "x = (b - C@x) / d\n",
    "print('x:',x)\n",
    "\n",
    "relres = npla.norm(A@x-b)/npla.norm(b)\n",
    "print('relres:',relres)"
   ]
  },
  {
   "cell_type": "code",
   "execution_count": 12,
   "metadata": {},
   "outputs": [
    {
     "name": "stdout",
     "output_type": "stream",
     "text": [
      "x: [1.0463 2.0694 3.0648]\n",
      "relres: 0.025228572791021472\n"
     ]
    }
   ],
   "source": [
    "# try to improve the guess, matrix version\n",
    "x = (b - C@x) / d\n",
    "print('x:',x)\n",
    "\n",
    "relres = npla.norm(A@x-b)/npla.norm(b)\n",
    "print('relres:',relres)"
   ]
  },
  {
   "cell_type": "code",
   "execution_count": 13,
   "metadata": {},
   "outputs": [
    {
     "name": "stdout",
     "output_type": "stream",
     "text": [
      "iteration 0 x: [1.3333 2.25   2.6667] , relres: 0.11009281484864232\n",
      "iteration 1 x: [1.1944 2.25   3.1111] , relres: 0.06772367705848906\n",
      "iteration 2 x: [1.0463 2.0694 3.0648] , relres: 0.025228572791021472\n",
      "iteration 3 x: [1.0015 2.0069 3.0154] , relres: 0.004848508554135736\n",
      "iteration 4 x: [0.9972 1.9969 3.0005] , relres: 0.0007097510453110915\n",
      "iteration 5 x: [0.9988 1.9985 2.9991] , relres: 0.00045881447631884156\n",
      "iteration 6 x: [0.9998 1.9996 2.9996] , relres: 0.00014805175855482053\n",
      "iteration 7 x: [1.     2.     2.9999] , relres: 1.8326292927075283e-05\n",
      "iteration 8 x: [1. 2. 3.] , relres: 5.5247721590329305e-06\n",
      "iteration 9 x: [1. 2. 3.] , relres: 3.3135499185794736e-06\n",
      "iteration 10 x: [1. 2. 3.] , relres: 6.532135347878024e-07\n",
      "iteration 11 x: [1. 2. 3.] , relres: 1.0924086459857045e-07\n",
      "iteration 12 x: [1. 2. 3.] , relres: 5.9011126647527464e-08\n",
      "iteration 13 x: [1. 2. 3.] , relres: 1.4753632319085098e-08\n",
      "iteration 14 x: [1. 2. 3.] , relres: 5.375393037573431e-09\n",
      "iteration 15 x: [1. 2. 3.] , relres: 1.010716111190072e-09\n",
      "iteration 16 x: [1. 2. 3.] , relres: 2.638665573838638e-10\n",
      "iteration 17 x: [1. 2. 3.] , relres: 1.9625146175611968e-10\n",
      "iteration 18 x: [1. 2. 3.] , relres: 3.102191667837147e-11\n",
      "iteration 19 x: [1. 2. 3.] , relres: 1.2777820130008641e-11\n",
      "iteration 20 x: [1. 2. 3.] , relres: 6.864311946777392e-12\n",
      "iteration 21 x: [1. 2. 3.] , relres: 1.5323936229999025e-12\n",
      "iteration 22 x: [1. 2. 3.] , relres: 7.132551363648866e-13\n",
      "iteration 23 x: [1. 2. 3.] , relres: 2.691963022779374e-13\n",
      "iteration 24 x: [1. 2. 3.] , relres: 8.131704861927637e-14\n"
     ]
    }
   ],
   "source": [
    "x = np.zeros(3)\n",
    "for i in range(25):\n",
    "    x = (b - C@x) / d\n",
    "    relres = npla.norm(A@x-b)/npla.norm(b)\n",
    "    print('iteration', i, 'x:', x, ', relres:' ,relres)"
   ]
  },
  {
   "cell_type": "code",
   "execution_count": 14,
   "metadata": {},
   "outputs": [],
   "source": [
    "x, rr = cs111.Jsolve(A,b)"
   ]
  },
  {
   "cell_type": "code",
   "execution_count": 15,
   "metadata": {},
   "outputs": [
    {
     "data": {
      "text/plain": [
       "array([1., 2., 3.])"
      ]
     },
     "execution_count": 15,
     "metadata": {},
     "output_type": "execute_result"
    }
   ],
   "source": [
    "x"
   ]
  },
  {
   "cell_type": "code",
   "execution_count": 16,
   "metadata": {},
   "outputs": [
    {
     "data": {
      "text/plain": [
       "[1.0,\n",
       " 0.11009281484864232,\n",
       " 0.06772367705848906,\n",
       " 0.025228572791021472,\n",
       " 0.004848508554135736,\n",
       " 0.0007097510453110915,\n",
       " 0.00045881447631884156,\n",
       " 0.00014805175855482053,\n",
       " 1.8326292927075283e-05,\n",
       " 5.5247721590329305e-06,\n",
       " 3.3135499185794736e-06,\n",
       " 6.532135347878024e-07,\n",
       " 1.0924086459857045e-07,\n",
       " 5.9011126647527464e-08,\n",
       " 1.4753632319085098e-08,\n",
       " 5.375393037573431e-09]"
      ]
     },
     "execution_count": 16,
     "metadata": {},
     "output_type": "execute_result"
    }
   ],
   "source": [
    "rr"
   ]
  },
  {
   "cell_type": "code",
   "execution_count": null,
   "metadata": {},
   "outputs": [],
   "source": [
    "cs111.Jsolve?"
   ]
  },
  {
   "cell_type": "markdown",
   "metadata": {},
   "source": [
    "# What can go wrong with Jacobi?"
   ]
  },
  {
   "cell_type": "code",
   "execution_count": 17,
   "metadata": {},
   "outputs": [
    {
     "name": "stdout",
     "output_type": "stream",
     "text": [
      "A:\n",
      " [[5 2 3]\n",
      " [4 5 6]\n",
      " [3 4 3]]\n"
     ]
    }
   ],
   "source": [
    "# What could go wrong?\n",
    "A = np.array([[5,2,3],[4,5,6],[3,4,3]])\n",
    "print('A:\\n',A)"
   ]
  },
  {
   "cell_type": "code",
   "execution_count": 18,
   "metadata": {},
   "outputs": [
    {
     "name": "stdout",
     "output_type": "stream",
     "text": [
      "b: [10 15 10]\n"
     ]
    }
   ],
   "source": [
    "b = A @ np.array([1,1,1])\n",
    "print('b:', b)"
   ]
  },
  {
   "cell_type": "code",
   "execution_count": 19,
   "metadata": {},
   "outputs": [
    {
     "data": {
      "text/plain": [
       "array([1., 1., 1.])"
      ]
     },
     "execution_count": 19,
     "metadata": {},
     "output_type": "execute_result"
    }
   ],
   "source": [
    "npla.solve(A,b)"
   ]
  },
  {
   "cell_type": "code",
   "execution_count": 20,
   "metadata": {},
   "outputs": [
    {
     "data": {
      "text/plain": [
       "array([[0, 2, 3],\n",
       "       [4, 0, 6],\n",
       "       [3, 4, 0]])"
      ]
     },
     "execution_count": 20,
     "metadata": {},
     "output_type": "execute_result"
    }
   ],
   "source": [
    "d = A.diagonal()\n",
    "D = np.diag(d)\n",
    "C = A-D\n",
    "C"
   ]
  },
  {
   "cell_type": "code",
   "execution_count": 21,
   "metadata": {},
   "outputs": [
    {
     "data": {
      "text/plain": [
       "array([5, 5, 3])"
      ]
     },
     "execution_count": 21,
     "metadata": {},
     "output_type": "execute_result"
    }
   ],
   "source": [
    "d"
   ]
  },
  {
   "cell_type": "code",
   "execution_count": 22,
   "metadata": {},
   "outputs": [
    {
     "name": "stdout",
     "output_type": "stream",
     "text": [
      "x: [0. 0. 0.]\n",
      "relres: 1.0\n"
     ]
    }
   ],
   "source": [
    "# initial guess x = 0\n",
    "x = np.zeros(3)\n",
    "print('x:',x)\n",
    "\n",
    "relres = npla.norm(A@x-b)/npla.norm(b)\n",
    "print('relres:',relres)"
   ]
  },
  {
   "cell_type": "code",
   "execution_count": 23,
   "metadata": {},
   "outputs": [
    {
     "name": "stdout",
     "output_type": "stream",
     "text": [
      "x: [2.     3.     3.3333]\n",
      "relres: 1.791483118733158\n"
     ]
    }
   ],
   "source": [
    "# try to improve the guess, matrix version\n",
    "x = (b - C@x) / d     # divide vector elementwise by d\n",
    "print('x:',x)\n",
    "\n",
    "relres = npla.norm(A@x-b)/npla.norm(b)\n",
    "print('relres:',relres)"
   ]
  },
  {
   "cell_type": "code",
   "execution_count": 24,
   "metadata": {},
   "outputs": [
    {
     "name": "stdout",
     "output_type": "stream",
     "text": [
      "x: [-1.2    -2.6    -2.6667]\n",
      "relres: 3.1652822567199093\n"
     ]
    }
   ],
   "source": [
    "# try to improve the guess, matrix version\n",
    "x = (b - C@x) / d\n",
    "print('x:',x)\n",
    "\n",
    "relres = npla.norm(A@x-b)/npla.norm(b)\n",
    "print('relres:',relres)"
   ]
  },
  {
   "cell_type": "code",
   "execution_count": 25,
   "metadata": {},
   "outputs": [
    {
     "name": "stdout",
     "output_type": "stream",
     "text": [
      "x: [4.64 7.16 8.  ]\n",
      "relres: 5.6329103542328385\n"
     ]
    }
   ],
   "source": [
    "# try to improve the guess, matrix version\n",
    "x = (b - C@x) / d\n",
    "print('x:',x)\n",
    "\n",
    "relres = npla.norm(A@x-b)/npla.norm(b)\n",
    "print('relres:',relres)"
   ]
  },
  {
   "cell_type": "code",
   "execution_count": 26,
   "metadata": {},
   "outputs": [
    {
     "name": "stdout",
     "output_type": "stream",
     "text": [
      "x: [ -5.664  -10.312  -10.8533]\n",
      "relres: 9.982717172487776\n"
     ]
    }
   ],
   "source": [
    "# try to improve the guess, matrix version\n",
    "x = (b - C@x) / d\n",
    "print('x:',x)\n",
    "\n",
    "relres = npla.norm(A@x-b)/npla.norm(b)\n",
    "print('relres:',relres)"
   ]
  },
  {
   "cell_type": "code",
   "execution_count": 27,
   "metadata": {},
   "outputs": [],
   "source": [
    "x, rr = cs111.Jsolve(A,b)"
   ]
  },
  {
   "cell_type": "code",
   "execution_count": 28,
   "metadata": {},
   "outputs": [
    {
     "data": {
      "text/plain": [
       "array([-1.1051e+249, -1.8668e+249, -2.0248e+249])"
      ]
     },
     "execution_count": 28,
     "metadata": {},
     "output_type": "execute_result"
    }
   ],
   "source": [
    "x"
   ]
  },
  {
   "cell_type": "code",
   "execution_count": 29,
   "metadata": {},
   "outputs": [
    {
     "data": {
      "text/plain": [
       "1001"
      ]
     },
     "execution_count": 29,
     "metadata": {},
     "output_type": "execute_result"
    }
   ],
   "source": [
    "len(rr)\n"
   ]
  },
  {
   "cell_type": "markdown",
   "metadata": {},
   "source": [
    "# Jacobi on the temperature problem"
   ]
  },
  {
   "cell_type": "code",
   "execution_count": 30,
   "metadata": {},
   "outputs": [],
   "source": [
    "# Jacobi on the temperature problem\n",
    "k = 100\n",
    "A = cs111.make_A(k)\n",
    "b = cs111.make_b(k, right=cs111.radiator(k))"
   ]
  },
  {
   "cell_type": "code",
   "execution_count": 31,
   "metadata": {},
   "outputs": [
    {
     "data": {
      "text/plain": [
       "(10000, 10000)"
      ]
     },
     "execution_count": 31,
     "metadata": {},
     "output_type": "execute_result"
    }
   ],
   "source": [
    "A.shape"
   ]
  },
  {
   "cell_type": "code",
   "execution_count": 32,
   "metadata": {},
   "outputs": [
    {
     "data": {
      "text/plain": [
       "49600"
      ]
     },
     "execution_count": 32,
     "metadata": {},
     "output_type": "execute_result"
    }
   ],
   "source": [
    "A.nnz"
   ]
  },
  {
   "cell_type": "code",
   "execution_count": 33,
   "metadata": {},
   "outputs": [
    {
     "data": {
      "application/vnd.jupyter.widget-view+json": {
       "model_id": "",
       "version_major": 2,
       "version_minor": 0
      },
      "text/plain": [
       "FigureCanvasNbAgg()"
      ]
     },
     "metadata": {},
     "output_type": "display_data"
    },
    {
     "data": {
      "text/plain": [
       "<matplotlib.lines.Line2D at 0x7fce8c0515c0>"
      ]
     },
     "execution_count": 33,
     "metadata": {},
     "output_type": "execute_result"
    }
   ],
   "source": [
    "plt.spy(A)"
   ]
  },
  {
   "cell_type": "code",
   "execution_count": 34,
   "metadata": {},
   "outputs": [
    {
     "data": {
      "text/plain": [
       "(10000,)"
      ]
     },
     "execution_count": 34,
     "metadata": {},
     "output_type": "execute_result"
    }
   ],
   "source": [
    "t = scipy.sparse.linalg.spsolve(A,b)\n",
    "t.shape"
   ]
  },
  {
   "cell_type": "code",
   "execution_count": 35,
   "metadata": {},
   "outputs": [
    {
     "data": {
      "application/vnd.jupyter.widget-view+json": {
       "model_id": "",
       "version_major": 2,
       "version_minor": 0
      },
      "text/plain": [
       "FigureCanvasNbAgg()"
      ]
     },
     "metadata": {},
     "output_type": "display_data"
    },
    {
     "data": {
      "text/plain": [
       "<mpl_toolkits.mplot3d.art3d.Poly3DCollection at 0x7fce8bfd5860>"
      ]
     },
     "execution_count": 35,
     "metadata": {},
     "output_type": "execute_result"
    }
   ],
   "source": [
    "T = t.reshape(k,k)\n",
    "X,Y = np.meshgrid(range(k),range(k))\n",
    "fig = plt.figure()\n",
    "ax = fig.gca(projection='3d')\n",
    "ax = fig.gca()\n",
    "ax.plot_surface(X,Y,T,cmap=cm.hot)"
   ]
  },
  {
   "cell_type": "code",
   "execution_count": 36,
   "metadata": {},
   "outputs": [
    {
     "data": {
      "text/plain": [
       "[1.0,\n",
       " 0.5542945049874644,\n",
       " 0.4002642837972196,\n",
       " 0.3190119823562452,\n",
       " 0.2679303998944448,\n",
       " 0.23248621574849976,\n",
       " 0.20627524658793236,\n",
       " 0.18600765094325752,\n",
       " 0.16980907607726523,\n",
       " 0.15652841397547487,\n",
       " 0.14541721825234222]"
      ]
     },
     "execution_count": 36,
     "metadata": {},
     "output_type": "execute_result"
    }
   ],
   "source": [
    "t, resvec = cs111.Jsolve(A,b, max_iters=10)\n",
    "resvec"
   ]
  },
  {
   "cell_type": "code",
   "execution_count": 37,
   "metadata": {},
   "outputs": [
    {
     "data": {
      "text/plain": [
       "(10000,)"
      ]
     },
     "execution_count": 37,
     "metadata": {},
     "output_type": "execute_result"
    }
   ],
   "source": [
    "t.shape"
   ]
  },
  {
   "cell_type": "code",
   "execution_count": 38,
   "metadata": {},
   "outputs": [
    {
     "data": {
      "application/vnd.jupyter.widget-view+json": {
       "model_id": "",
       "version_major": 2,
       "version_minor": 0
      },
      "text/plain": [
       "FigureCanvasNbAgg()"
      ]
     },
     "metadata": {},
     "output_type": "display_data"
    },
    {
     "data": {
      "text/plain": [
       "<mpl_toolkits.mplot3d.art3d.Poly3DCollection at 0x7fce8d2138d0>"
      ]
     },
     "execution_count": 38,
     "metadata": {},
     "output_type": "execute_result"
    }
   ],
   "source": [
    "T = t.reshape(k,k)\n",
    "X,Y = np.meshgrid(range(k),range(k))\n",
    "fig = plt.figure()\n",
    "ax = fig.gca(projection='3d')\n",
    "ax = fig.gca()\n",
    "ax.plot_surface(X,Y,T,cmap=cm.hot)"
   ]
  },
  {
   "cell_type": "code",
   "execution_count": 42,
   "metadata": {},
   "outputs": [
    {
     "data": {
      "text/plain": [
       "9.99538423208645e-09"
      ]
     },
     "execution_count": 42,
     "metadata": {},
     "output_type": "execute_result"
    }
   ],
   "source": [
    "t, resvec = cs111.Jsolve(A,b, max_iters=50000)\n",
    "resvec[-1]"
   ]
  },
  {
   "cell_type": "code",
   "execution_count": 44,
   "metadata": {},
   "outputs": [
    {
     "data": {
      "text/plain": [
       "27595"
      ]
     },
     "execution_count": 44,
     "metadata": {},
     "output_type": "execute_result"
    }
   ],
   "source": [
    "len(resvec)"
   ]
  },
  {
   "cell_type": "code",
   "execution_count": 45,
   "metadata": {},
   "outputs": [
    {
     "data": {
      "application/vnd.jupyter.widget-view+json": {
       "model_id": "",
       "version_major": 2,
       "version_minor": 0
      },
      "text/plain": [
       "FigureCanvasNbAgg()"
      ]
     },
     "metadata": {},
     "output_type": "display_data"
    },
    {
     "data": {
      "text/plain": [
       "<mpl_toolkits.mplot3d.art3d.Poly3DCollection at 0x7fce8e3d2978>"
      ]
     },
     "execution_count": 45,
     "metadata": {},
     "output_type": "execute_result"
    }
   ],
   "source": [
    "T = t.reshape(k,k)\n",
    "X,Y = np.meshgrid(range(k),range(k))\n",
    "fig = plt.figure()\n",
    "ax = fig.gca(projection='3d')\n",
    "ax = fig.gca()\n",
    "ax.plot_surface(X,Y,T,cmap=cm.hot)"
   ]
  },
  {
   "cell_type": "code",
   "execution_count": 46,
   "metadata": {},
   "outputs": [
    {
     "name": "stdout",
     "output_type": "stream",
     "text": [
      "\n",
      "Jacobi iters: 10000\n",
      "last rel res: 4.974732257148453e-05\n",
      "computed rel res: 4.974732257148453e-05\n"
     ]
    },
    {
     "data": {
      "text/plain": [
       "Text(0.5,1,'Iterative methods for temperature problem with n = 10000')"
      ]
     },
     "execution_count": 46,
     "metadata": {},
     "output_type": "execute_result"
    },
    {
     "data": {
      "image/png": "[encoded data removed]",
      "text/plain": [
       "<Figure size 432x288 with 1 Axes>"
      ]
     },
     "metadata": {},
     "output_type": "display_data"
    }
   ],
   "source": [
    "# Plot relative residual norm as a function of iteration for Jacobi\n",
    "%matplotlib inline\n",
    "plt.figure()\n",
    "\n",
    "(xJ,resvecJ) = cs111.Jsolve(A, b, tol = 1e-6, max_iters = 10000)\n",
    "print('\\nJacobi iters:', len(resvecJ)-1)\n",
    "print('last rel res:', resvecJ[-1])\n",
    "print('computed rel res:', npla.norm(A@xJ - b) / npla.norm(b))\n",
    "plt.semilogy(resvecJ, label = 'Jacobi')\n",
    "\n",
    "plt.legend()\n",
    "plt.xlabel('iterations')\n",
    "plt.ylabel('relative residual')\n",
    "plt.title('Iterative methods for temperature problem with n = %d' % A.shape[0])"
   ]
  },
  {
   "cell_type": "markdown",
   "metadata": {},
   "source": [
    "# Conjugate gradient iteration (SPD matrices only)"
   ]
  },
  {
   "cell_type": "code",
   "execution_count": 47,
   "metadata": {},
   "outputs": [
    {
     "data": {
      "text/plain": [
       "9.372731143778617e-06"
      ]
     },
     "execution_count": 47,
     "metadata": {},
     "output_type": "execute_result"
    }
   ],
   "source": [
    "# Conjugate gradient is a more powerful iterative method than Jacobi\n",
    "t, resvec = cs111.CGsolve(A,b, max_iters=200)\n",
    "resvec[-1]"
   ]
  },
  {
   "cell_type": "code",
   "execution_count": 48,
   "metadata": {},
   "outputs": [
    {
     "name": "stdout",
     "output_type": "stream",
     "text": [
      "\n",
      "Jacobi iters: 1000\n",
      "last rel res: 0.004335982306673086\n",
      "computed rel res: 0.004335982306673086\n",
      "\n",
      "CG iters: 270\n",
      "last rel res: 9.809648149551421e-09\n",
      "computed rel res: 9.809648149551421e-09\n"
     ]
    },
    {
     "data": {
      "text/plain": [
       "Text(0.5,1,'Iterative methods for temperature problem with n = 10000')"
      ]
     },
     "execution_count": 48,
     "metadata": {},
     "output_type": "execute_result"
    },
    {
     "data": {
      "image/png": "[encoded data removed]",
      "text/plain": [
       "<Figure size 432x288 with 1 Axes>"
      ]
     },
     "metadata": {},
     "output_type": "display_data"
    }
   ],
   "source": [
    "# Plot relative residual (y axis) versus iteration number (x axis) for both Jacobi and CG\n",
    "\n",
    "%matplotlib inline\n",
    "plt.figure()\n",
    "\n",
    "(xJ,resvecJ) = cs111.Jsolve(A, b, tol = 1e-8, max_iters = 1000)\n",
    "print('\\nJacobi iters:', len(resvecJ)-1)\n",
    "print('last rel res:', resvecJ[-1])\n",
    "print('computed rel res:', npla.norm(A@xJ - b) / npla.norm(b))\n",
    "plt.semilogy(resvecJ, label = 'Jacobi')\n",
    "\n",
    "(xCG,resvecCG) = cs111.CGsolve(A, b, tol = 1e-8, max_iters = 1000)\n",
    "print('\\nCG iters:', len(resvecCG)-1)\n",
    "print('last rel res:', resvecCG[-1])\n",
    "print('computed rel res:', npla.norm(A@xCG - b) / npla.norm(b))\n",
    "plt.semilogy(resvecCG, label = 'CG')\n",
    "\n",
    "plt.legend()\n",
    "plt.xlabel('iterations')\n",
    "plt.ylabel('relative residual')\n",
    "plt.title('Iterative methods for temperature problem with n = %d' % A.shape[0])"
   ]
  },
  {
   "cell_type": "code",
   "execution_count": 49,
   "metadata": {},
   "outputs": [],
   "source": [
    "scipy.sparse.linalg.cg?"
   ]
  },
  {
   "cell_type": "markdown",
   "metadata": {},
   "source": [
    "# CG works if the matrix is symmetric positive definite (SPD)"
   ]
  },
  {
   "cell_type": "code",
   "execution_count": 50,
   "metadata": {},
   "outputs": [
    {
     "data": {
      "text/plain": [
       "array([[ 4., -1., -1.,  0.],\n",
       "       [-1.,  4.,  0., -1.],\n",
       "       [-1.,  0.,  4., -1.],\n",
       "       [ 0., -1., -1.,  4.]])"
      ]
     },
     "execution_count": 50,
     "metadata": {},
     "output_type": "execute_result"
    }
   ],
   "source": [
    "A = cs111.make_A(2).toarray()\n",
    "A"
   ]
  },
  {
   "cell_type": "code",
   "execution_count": 51,
   "metadata": {},
   "outputs": [
    {
     "data": {
      "text/plain": [
       "True"
      ]
     },
     "execution_count": 51,
     "metadata": {},
     "output_type": "execute_result"
    }
   ],
   "source": [
    "# Symmetric:\n",
    "np.all(A == A.T)"
   ]
  },
  {
   "cell_type": "code",
   "execution_count": 52,
   "metadata": {},
   "outputs": [
    {
     "data": {
      "text/plain": [
       "array([4.    , 3.75  , 3.7333, 3.4286])"
      ]
     },
     "execution_count": 52,
     "metadata": {},
     "output_type": "execute_result"
    }
   ],
   "source": [
    "# Positive definite: LU without partial pivoting works, and all pivots are positive:\n",
    "L, U = cs111.LUfactorNoPiv(A)\n",
    "U.diagonal()"
   ]
  },
  {
   "cell_type": "code",
   "execution_count": 53,
   "metadata": {},
   "outputs": [
    {
     "data": {
      "text/plain": [
       "array([[ 1.    ,  0.    ,  0.    ,  0.    ],\n",
       "       [-0.25  ,  1.    ,  0.    ,  0.    ],\n",
       "       [-0.25  , -0.0667,  1.    ,  0.    ],\n",
       "       [ 0.    , -0.2667, -0.2857,  1.    ]])"
      ]
     },
     "execution_count": 53,
     "metadata": {},
     "output_type": "execute_result"
    }
   ],
   "source": [
    "L"
   ]
  },
  {
   "cell_type": "code",
   "execution_count": 54,
   "metadata": {},
   "outputs": [
    {
     "data": {
      "text/plain": [
       "array([[ 4.    , -1.    , -1.    ,  0.    ],\n",
       "       [ 0.    ,  3.75  , -0.25  , -1.    ],\n",
       "       [ 0.    ,  0.    ,  3.7333, -1.0667],\n",
       "       [ 0.    ,  0.    ,  0.    ,  3.4286]])"
      ]
     },
     "execution_count": 54,
     "metadata": {},
     "output_type": "execute_result"
    }
   ],
   "source": [
    "U"
   ]
  },
  {
   "cell_type": "code",
   "execution_count": 55,
   "metadata": {},
   "outputs": [
    {
     "data": {
      "text/plain": [
       "array([2., 4., 6., 4.])"
      ]
     },
     "execution_count": 55,
     "metadata": {},
     "output_type": "execute_result"
    }
   ],
   "source": [
    "# Positive definite: Eigenvalues are all positive\n",
    "vals, vecs = npla.eig(A)\n",
    "vals"
   ]
  },
  {
   "cell_type": "code",
   "execution_count": 56,
   "metadata": {},
   "outputs": [
    {
     "data": {
      "text/plain": [
       "array([-0.1517,  0.118 ,  0.3026,  1.5363])"
      ]
     },
     "execution_count": 56,
     "metadata": {},
     "output_type": "execute_result"
    }
   ],
   "source": [
    "# Positive definite: x.T @ A @ x > 0 for every nonzero vector x\n",
    "x = np.random.randn(4)\n",
    "x"
   ]
  },
  {
   "cell_type": "code",
   "execution_count": 57,
   "metadata": {},
   "outputs": [
    {
     "data": {
      "text/plain": [
       "8.789901681016133"
      ]
     },
     "execution_count": 57,
     "metadata": {},
     "output_type": "execute_result"
    }
   ],
   "source": [
    "x.T @ A @ x"
   ]
  },
  {
   "cell_type": "code",
   "execution_count": null,
   "metadata": {},
   "outputs": [],
   "source": [
    "np.random.randn?"
   ]
  },
  {
   "cell_type": "markdown",
   "metadata": {},
   "source": [
    "<b>Theorem: If A is any matrix, square or not, with full column rank (i.e. all the columns are linearly independent), then A.T @ A is SPD."
   ]
  },
  {
   "cell_type": "code",
   "execution_count": 58,
   "metadata": {},
   "outputs": [
    {
     "data": {
      "text/plain": [
       "array([[0.4899, 0.1567, 0.1451, 0.375 ],\n",
       "       [0.5577, 0.032 , 0.3526, 0.969 ],\n",
       "       [0.3773, 0.6279, 0.9896, 0.336 ],\n",
       "       [0.9739, 0.4887, 0.9708, 0.8049],\n",
       "       [0.6801, 0.0923, 0.2462, 0.2301],\n",
       "       [0.0484, 0.3831, 0.832 , 0.228 ],\n",
       "       [0.9259, 0.082 , 0.0089, 0.0529],\n",
       "       [0.537 , 0.7642, 0.9371, 0.9801]])"
      ]
     },
     "execution_count": 58,
     "metadata": {},
     "output_type": "execute_result"
    }
   ],
   "source": [
    "A = np.random.random((8,4))\n",
    "A"
   ]
  },
  {
   "cell_type": "code",
   "execution_count": 59,
   "metadata": {},
   "outputs": [
    {
     "data": {
      "text/plain": [
       "4"
      ]
     },
     "execution_count": 59,
     "metadata": {},
     "output_type": "execute_result"
    }
   ],
   "source": [
    "npla.matrix_rank(A)"
   ]
  },
  {
   "cell_type": "code",
   "execution_count": 60,
   "metadata": {},
   "outputs": [
    {
     "data": {
      "text/plain": [
       "array([[3.2524, 1.3751, 2.3056, 2.3776],\n",
       "       [1.3751, 1.4047, 2.1881, 1.5561],\n",
       "       [2.3056, 2.1881, 3.6981, 2.6752],\n",
       "       [2.3776, 1.5561, 2.6752, 2.9086]])"
      ]
     },
     "execution_count": 60,
     "metadata": {},
     "output_type": "execute_result"
    }
   ],
   "source": [
    "B = A.T @ A\n",
    "B"
   ]
  },
  {
   "cell_type": "code",
   "execution_count": 61,
   "metadata": {},
   "outputs": [
    {
     "data": {
      "text/plain": [
       "array([9.3328, 1.3222, 0.5314, 0.0773])"
      ]
     },
     "execution_count": 61,
     "metadata": {},
     "output_type": "execute_result"
    }
   ],
   "source": [
    "vals, vecs = npla.eig(B)\n",
    "vals"
   ]
  },
  {
   "cell_type": "code",
   "execution_count": 62,
   "metadata": {},
   "outputs": [
    {
     "data": {
      "text/plain": [
       "array([3.2524, 0.8232, 0.2755, 0.6871])"
      ]
     },
     "execution_count": 62,
     "metadata": {},
     "output_type": "execute_result"
    }
   ],
   "source": [
    "L, U = cs111.LUfactorNoPiv(B)\n",
    "U.diagonal()"
   ]
  },
  {
   "cell_type": "markdown",
   "metadata": {},
   "source": [
    "<b> Every entry of A.T @ A is the dot product of two columns of A"
   ]
  },
  {
   "cell_type": "code",
   "execution_count": 63,
   "metadata": {},
   "outputs": [
    {
     "data": {
      "text/plain": [
       "2.305645961159575"
      ]
     },
     "execution_count": 63,
     "metadata": {},
     "output_type": "execute_result"
    }
   ],
   "source": [
    "A[:, 2].dot(A[:,0])"
   ]
  },
  {
   "cell_type": "code",
   "execution_count": 64,
   "metadata": {},
   "outputs": [
    {
     "data": {
      "text/plain": [
       "2.305645961159575"
      ]
     },
     "execution_count": 64,
     "metadata": {},
     "output_type": "execute_result"
    }
   ],
   "source": [
    "B[2,0]"
   ]
  },
  {
   "cell_type": "code",
   "execution_count": null,
   "metadata": {},
   "outputs": [],
   "source": []
  }
 ],
 "metadata": {
  "kernelspec": {
   "display_name": "Python 3",
   "language": "python",
   "name": "python3"
  },
  "language_info": {
   "codemirror_mode": {
    "name": "ipython",
    "version": 3
   },
   "file_extension": ".py",
   "mimetype": "text/x-python",
   "name": "python",
   "nbconvert_exporter": "python",
   "pygments_lexer": "ipython3",
   "version": "3.6.5"
  }
 },
 "nbformat": 4,
 "nbformat_minor": 2
}
