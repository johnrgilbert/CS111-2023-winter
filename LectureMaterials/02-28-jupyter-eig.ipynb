{
 "cells": [
  {
   "cell_type": "markdown",
   "metadata": {},
   "source": [
    "# Transcript from Lecture, February 28, 2023"
   ]
  },
  {
   "cell_type": "code",
   "execution_count": 1,
   "metadata": {},
   "outputs": [],
   "source": [
    "import sys\n",
    "\n",
    "########################################\n",
    "# Change the string in the line below! #\n",
    "########################################\n",
    "sys.path.append(\"/Users/gilbert/Documents/CS111-2023-winter/Python\") \n",
    "\n",
    "import os\n",
    "import time\n",
    "import math\n",
    "import numpy as np\n",
    "import numpy.linalg as npla\n",
    "import scipy\n",
    "from scipy import linalg as spla\n",
    "import scipy.sparse\n",
    "import scipy.sparse.linalg\n",
    "from scipy import integrate\n",
    "import networkx as nx\n",
    "import json\n",
    "import cs111\n",
    "\n",
    "#######################################################\n",
    "# Here are three different ways to have plots appear. #\n",
    "# Uncomment the one you want to use.                  #\n",
    "#                                                     #\n",
    "# inline    : static plot in notebook                 #\n",
    "# ipympl    : plot in notebook with pan/zoom controls #\n",
    "# tk        : plot in popup window with pan/zoom      #\n",
    "#                                                     #\n",
    "# If %matplotlib ipympl doesn't work, try saying:     #\n",
    "#   conda install -c conda-forge ipympl               #\n",
    "# at a shell prompt.                                  #\n",
    "#######################################################\n",
    "import matplotlib\n",
    "%matplotlib inline \n",
    "# %matplotlib ipympl\n",
    "# %matplotlib tk \n",
    "\n",
    "import matplotlib.pyplot as plt\n",
    "from matplotlib import cm\n",
    "from mpl_toolkits.mplot3d import axes3d\n",
    "\n",
    "np.set_printoptions(precision = 4)"
   ]
  },
  {
   "cell_type": "markdown",
   "metadata": {},
   "source": [
    "# Eigenvalues and eigenvectors"
   ]
  },
  {
   "cell_type": "markdown",
   "metadata": {},
   "source": [
    "If $w$ is a nonzero vector and $\\lambda$ is a number and $Aw = \\lambda w$, we say $w$ is an *eigenvector* of $A$ with *eigenvalue* $\\lambda$. Notice that in this case any nonzero multiple of $w$ is also an eigenvector.\n",
    "\n",
    "Every matrix has at least one eigenvalue/eigenvector, and an $n$-by-$n$ matrix has at most $n$ linearly independent eigenvectors."
   ]
  },
  {
   "cell_type": "code",
   "execution_count": 2,
   "metadata": {},
   "outputs": [
    {
     "data": {
      "text/plain": [
       "array([[1, 0, 0],\n",
       "       [0, 2, 0],\n",
       "       [0, 0, 3]])"
      ]
     },
     "execution_count": 2,
     "metadata": {},
     "output_type": "execute_result"
    }
   ],
   "source": [
    "A = np.diag([1,2,3])\n",
    "A"
   ]
  },
  {
   "cell_type": "code",
   "execution_count": 3,
   "metadata": {},
   "outputs": [
    {
     "name": "stdout",
     "output_type": "stream",
     "text": [
      "lam: [1.+0.j 2.+0.j 3.+0.j]\n",
      "W:\n",
      "[[1. 0. 0.]\n",
      " [0. 1. 0.]\n",
      " [0. 0. 1.]]\n"
     ]
    }
   ],
   "source": [
    "lam, W = spla.eig(A)\n",
    "print('lam:', lam)\n",
    "print('W:')\n",
    "print(W)"
   ]
  },
  {
   "cell_type": "code",
   "execution_count": 4,
   "metadata": {},
   "outputs": [
    {
     "data": {
      "text/plain": [
       "array([[1, 0, 0],\n",
       "       [0, 0, 0],\n",
       "       [0, 0, 3]])"
      ]
     },
     "execution_count": 4,
     "metadata": {},
     "output_type": "execute_result"
    }
   ],
   "source": [
    "# An eigenvalue can be zero (but an eigenvector can't be the zero vector)\n",
    "\n",
    "A[1,1] = 0\n",
    "A"
   ]
  },
  {
   "cell_type": "code",
   "execution_count": 5,
   "metadata": {},
   "outputs": [
    {
     "name": "stdout",
     "output_type": "stream",
     "text": [
      "lam: [1.+0.j 0.+0.j 3.+0.j]\n",
      "W:\n",
      "[[1. 0. 0.]\n",
      " [0. 1. 0.]\n",
      " [0. 0. 1.]]\n"
     ]
    }
   ],
   "source": [
    "# An eigenvalue can be zero (but an eigenvector can't be the zero vector)\n",
    "\n",
    "lam, W = spla.eig(A)\n",
    "print('lam:', lam)\n",
    "print('W:')\n",
    "print(W)"
   ]
  },
  {
   "cell_type": "code",
   "execution_count": 6,
   "metadata": {},
   "outputs": [
    {
     "data": {
      "text/plain": [
       "array([[0, 1, 0, 0],\n",
       "       [0, 0, 1, 0],\n",
       "       [0, 0, 0, 1],\n",
       "       [1, 0, 0, 0]])"
      ]
     },
     "execution_count": 6,
     "metadata": {},
     "output_type": "execute_result"
    }
   ],
   "source": [
    "# A real matrix can have complex eigenvalues and eigenvectors\n",
    "\n",
    "A = np.array([[0,1,0,0], [0,0,1,0], [0,0,0,1], [1,0,0,0]])\n",
    "A"
   ]
  },
  {
   "cell_type": "code",
   "execution_count": 7,
   "metadata": {},
   "outputs": [
    {
     "name": "stdout",
     "output_type": "stream",
     "text": [
      "lam: [-1.0000e+00+0.j -5.5511e-17+1.j -5.5511e-17-1.j  1.0000e+00+0.j]\n",
      "W:\n",
      "[[-5.0000e-01+0.0000e+00j  5.0000e-01+0.0000e+00j  5.0000e-01-0.0000e+00j\n",
      "  -5.0000e-01+0.0000e+00j]\n",
      " [ 5.0000e-01+0.0000e+00j -3.0531e-16+5.0000e-01j -3.0531e-16-5.0000e-01j\n",
      "  -5.0000e-01+0.0000e+00j]\n",
      " [-5.0000e-01+0.0000e+00j -5.0000e-01-1.1102e-16j -5.0000e-01+1.1102e-16j\n",
      "  -5.0000e-01+0.0000e+00j]\n",
      " [ 5.0000e-01+0.0000e+00j  1.9429e-16-5.0000e-01j  1.9429e-16+5.0000e-01j\n",
      "  -5.0000e-01+0.0000e+00j]]\n"
     ]
    }
   ],
   "source": [
    "lam, W = spla.eig(A)\n",
    "print('lam:', lam)\n",
    "print('W:')\n",
    "print(W)"
   ]
  },
  {
   "cell_type": "code",
   "execution_count": 8,
   "metadata": {},
   "outputs": [
    {
     "name": "stdout",
     "output_type": "stream",
     "text": [
      "A:\n",
      "[[0.4643 0.0637 0.1792 0.7695]\n",
      " [0.0935 0.9746 0.3868 0.0665]\n",
      " [0.6401 0.5639 0.5664 0.1074]\n",
      " [0.6955 0.6965 0.0234 0.7889]]\n",
      "\n",
      "lam: [ 1.7315+0.j     -0.27  +0.j      0.6664+0.0487j  0.6664-0.0487j]\n",
      "W:\n",
      "[[-0.4717+0.j     -0.6563+0.j      0.6283+0.0018j  0.6283-0.0018j]\n",
      " [-0.3665+0.j     -0.1439+0.j     -0.6679+0.j     -0.6679-0.j    ]\n",
      " [-0.4947+0.j      0.5333+0.j      0.3569-0.0952j  0.3569+0.0952j]\n",
      " [-0.6312+0.j      0.514 +0.j      0.1371+0.0624j  0.1371-0.0624j]]\n"
     ]
    }
   ],
   "source": [
    "A = np.random.rand(4,4)\n",
    "print('A:'); print(A)\n",
    "print()\n",
    "\n",
    "lam, W = spla.eig(A)\n",
    "print('lam:', lam)\n",
    "print('W:'); print(W)"
   ]
  },
  {
   "cell_type": "code",
   "execution_count": 9,
   "metadata": {},
   "outputs": [
    {
     "data": {
      "text/plain": [
       "(0.6663539836228751+0.04866097875472126j)"
      ]
     },
     "execution_count": 9,
     "metadata": {},
     "output_type": "execute_result"
    }
   ],
   "source": [
    "i = 2\n",
    "val = lam[i]\n",
    "val"
   ]
  },
  {
   "cell_type": "code",
   "execution_count": 10,
   "metadata": {},
   "outputs": [
    {
     "data": {
      "text/plain": [
       "array([ 0.6283+0.0018j, -0.6679+0.j    ,  0.3569-0.0952j,  0.1371+0.0624j])"
      ]
     },
     "execution_count": 10,
     "metadata": {},
     "output_type": "execute_result"
    }
   ],
   "source": [
    "vec = W[:,i]\n",
    "vec"
   ]
  },
  {
   "cell_type": "code",
   "execution_count": 11,
   "metadata": {},
   "outputs": [
    {
     "data": {
      "text/plain": [
       "1.0"
      ]
     },
     "execution_count": 11,
     "metadata": {},
     "output_type": "execute_result"
    }
   ],
   "source": [
    "npla.norm(vec)"
   ]
  },
  {
   "cell_type": "code",
   "execution_count": 12,
   "metadata": {},
   "outputs": [
    {
     "name": "stdout",
     "output_type": "stream",
     "text": [
      "val * vec: [ 0.4186+0.0318j -0.4451-0.0325j  0.2424-0.0461j  0.0883+0.0482j]\n",
      "  A @ vec: [ 0.4186+0.0318j -0.4451-0.0325j  0.2424-0.0461j  0.0883+0.0482j]\n"
     ]
    }
   ],
   "source": [
    "print('val * vec:', val * vec)\n",
    "print('  A @ vec:', A @ vec)"
   ]
  },
  {
   "cell_type": "code",
   "execution_count": 13,
   "metadata": {},
   "outputs": [
    {
     "name": "stdout",
     "output_type": "stream",
     "text": [
      "val * vec2: [ 0.8372+0.0636j -0.8901-0.065j   0.4849-0.0921j  0.1766+0.0965j]\n",
      "  A @ vec2: [ 0.8372+0.0636j -0.8901-0.065j   0.4849-0.0921j  0.1766+0.0965j]\n"
     ]
    }
   ],
   "source": [
    "# Any multiple of an eigenvector is an eigenvector (with the same eigenvalue)\n",
    "\n",
    "vec2 = 2 * vec\n",
    "\n",
    "print('val * vec2:', val * vec2)\n",
    "print('  A @ vec2:', A @ vec2)"
   ]
  },
  {
   "cell_type": "code",
   "execution_count": 14,
   "metadata": {},
   "outputs": [
    {
     "name": "stdout",
     "output_type": "stream",
     "text": [
      "A:\n",
      "[[1 2 3]\n",
      " [0 1 2]\n",
      " [0 0 1]]\n",
      "\n",
      "lam: [1.+0.j 1.+0.j 1.+0.j]\n",
      "W:\n",
      "[[ 1.0000e+00 -1.0000e+00  1.0000e+00]\n",
      " [ 0.0000e+00  1.1102e-16 -1.1102e-16]\n",
      " [ 0.0000e+00  0.0000e+00  1.2326e-32]]\n"
     ]
    }
   ],
   "source": [
    "# An n-by-n matrix has at most n linearly independent eigenvectors, but can have fewer\n",
    "\n",
    "A = np.array([[1,2,3], [0,1,2], [0,0,1]])\n",
    "\n",
    "print('A:'); print(A)\n",
    "print()\n",
    "\n",
    "lam, W = spla.eig(A)\n",
    "print('lam:', lam)\n",
    "print('W:'); print(W)"
   ]
  },
  {
   "cell_type": "code",
   "execution_count": 15,
   "metadata": {},
   "outputs": [],
   "source": [
    "# Can you see why all three eigenvectors above are \"really\" the same one?"
   ]
  },
  {
   "cell_type": "markdown",
   "metadata": {},
   "source": [
    "The eigenvalues of $A$ and $A^T$ are the same, though the eigenvectors aren't necessarily the same."
   ]
  },
  {
   "cell_type": "code",
   "execution_count": 16,
   "metadata": {},
   "outputs": [
    {
     "name": "stdout",
     "output_type": "stream",
     "text": [
      "A:\n",
      "[[0.7875 0.574  0.4177]\n",
      " [0.775  0.5924 0.9607]\n",
      " [0.6731 0.7215 0.8575]]\n",
      "\n",
      "lam: [ 2.108 +0.j  0.2803+0.j -0.1508+0.j]\n",
      "W:\n",
      "[[-0.4697 -0.7871  0.357 ]\n",
      " [-0.6314  0.3058 -0.8559]\n",
      " [-0.6171  0.5356  0.3741]]\n"
     ]
    }
   ],
   "source": [
    "A = np.random.rand(3,3)\n",
    "\n",
    "print('A:'); print(A)\n",
    "print()\n",
    "\n",
    "lam, W = spla.eig(A)\n",
    "print('lam:', lam)\n",
    "print('W:'); print(W)"
   ]
  },
  {
   "cell_type": "code",
   "execution_count": 17,
   "metadata": {},
   "outputs": [
    {
     "name": "stdout",
     "output_type": "stream",
     "text": [
      "A.T:\n",
      "[[0.7875 0.775  0.6731]\n",
      " [0.574  0.5924 0.7215]\n",
      " [0.4177 0.9607 0.8575]]\n",
      "\n",
      "lam: [ 2.108 +0.j  0.2803+0.j -0.1508+0.j]\n",
      "W:\n",
      "[[-0.6097 -0.7722  0.1512]\n",
      " [-0.517  -0.0451 -0.7462]\n",
      " [-0.6008  0.6338  0.6483]]\n"
     ]
    }
   ],
   "source": [
    "print('A.T:'); print(A.T)\n",
    "print()\n",
    "\n",
    "lam, W = spla.eig(A.T)\n",
    "print('lam:', lam)\n",
    "print('W:'); print(W)"
   ]
  },
  {
   "cell_type": "markdown",
   "metadata": {},
   "source": [
    "# Eigenvalues and eigenvectors of symmetric matrices"
   ]
  },
  {
   "cell_type": "markdown",
   "metadata": {},
   "source": [
    "If $A$ is an $n$-by-$n$ symmetric matrix,\n",
    "- All the eigenvalues of $A$ are real (no imaginary part)\n",
    "- $A$ has $n$ linearly independent eigenvectors\n",
    "- The eigenvectors can be chosen to be orthogonal to each other\n",
    "\n",
    "Thus, $AW = WS$ holds where $W$ is an orthogonal matrix ($W^TW=I$) and $S$ is a square diagonal matrix. We can therefore write the eigenvalue equation as a matrix factorization:\n",
    "\n",
    "$$A = WSW^T$$\n",
    "\n",
    "We will write $S$ = diag($\\lambda_0, \\lambda_1, \\ldots, \\lambda_{n-1}$) with\n",
    "$$\\lambda_0 \\le \\lambda_1 \\le \\cdots \\lambda_{n-1}.$$ \n",
    "\n",
    "Unfortunately, the standard convention is to number eigenvalues in increasing order and singular values in decreasing order.\n",
    "\n",
    "We will write $w_i$ to mean column $i$ of $W$, so for all $0\\le i < n$,\n",
    "$$Aw_i = \\lambda_i w_i$$\n"
   ]
  },
  {
   "cell_type": "code",
   "execution_count": 18,
   "metadata": {},
   "outputs": [
    {
     "data": {
      "text/plain": [
       "array([[-1.0531, -2.1029, -1.4891, -2.1454],\n",
       "       [-2.1029, -0.5885,  1.0159, -0.1263],\n",
       "       [-1.4891,  1.0159, -3.876 , -1.0162],\n",
       "       [-2.1454, -0.1263, -1.0162,  0.627 ]])"
      ]
     },
     "execution_count": 18,
     "metadata": {},
     "output_type": "execute_result"
    }
   ],
   "source": [
    "# Random symmetric matrix\n",
    "\n",
    "A = np.random.randn(4,4)\n",
    "A = A + A.T\n",
    "A"
   ]
  },
  {
   "cell_type": "code",
   "execution_count": 19,
   "metadata": {},
   "outputs": [
    {
     "name": "stdout",
     "output_type": "stream",
     "text": [
      "A:\n",
      "[[-1.0531 -2.1029 -1.4891 -2.1454]\n",
      " [-2.1029 -0.5885  1.0159 -0.1263]\n",
      " [-1.4891  1.0159 -3.876  -1.0162]\n",
      " [-2.1454 -0.1263 -1.0162  0.627 ]]\n",
      "\n",
      "lam: [-5.1345+0.j -3.111 +0.j  2.639 +0.j  0.7158+0.j]\n",
      "W:\n",
      "[[-0.4951 -0.5487 -0.6519  0.1697]\n",
      " [-0.0588 -0.6579  0.4398 -0.6085]\n",
      " [-0.8027  0.4718  0.1232 -0.3435]\n",
      " [-0.3272 -0.2089  0.6053  0.6949]]\n"
     ]
    }
   ],
   "source": [
    "print('A:'); print(A)\n",
    "print()\n",
    "\n",
    "lam, W = spla.eig(A)\n",
    "print('lam:', lam)\n",
    "print('W:'); print(W)"
   ]
  },
  {
   "cell_type": "code",
   "execution_count": 20,
   "metadata": {},
   "outputs": [
    {
     "name": "stdout",
     "output_type": "stream",
     "text": [
      "A:\n",
      "[[-1.0531 -2.1029 -1.4891 -2.1454]\n",
      " [-2.1029 -0.5885  1.0159 -0.1263]\n",
      " [-1.4891  1.0159 -3.876  -1.0162]\n",
      " [-2.1454 -0.1263 -1.0162  0.627 ]]\n",
      "\n",
      "lam: [-5.1345 -3.111   0.7158  2.639 ]\n",
      "W:\n",
      "[[-0.4951  0.5487  0.1697  0.6519]\n",
      " [-0.0588  0.6579 -0.6085 -0.4398]\n",
      " [-0.8027 -0.4718 -0.3435 -0.1232]\n",
      " [-0.3272  0.2089  0.6949 -0.6053]]\n"
     ]
    }
   ],
   "source": [
    "# Better! Use spla.eigh(A) not spla.eig(A) when A is symmetric\n",
    "\n",
    "print('A:'); print(A)\n",
    "print()\n",
    "\n",
    "lam, W = spla.eigh(A)\n",
    "print('lam:', lam)\n",
    "print('W:'); print(W)"
   ]
  },
  {
   "cell_type": "code",
   "execution_count": 21,
   "metadata": {},
   "outputs": [
    {
     "name": "stdout",
     "output_type": "stream",
     "text": [
      "W.T @ W:\n",
      " [[ 1.0000e+00 -2.2204e-16  5.5511e-17  1.1102e-16]\n",
      " [-2.2204e-16  1.0000e+00  1.1102e-16 -1.6653e-16]\n",
      " [ 5.5511e-17  1.1102e-16  1.0000e+00  1.1102e-16]\n",
      " [ 1.1102e-16 -1.6653e-16  1.1102e-16  1.0000e+00]]\n",
      "\n",
      "norm W.T@W - I: 5.324442579404919e-16\n"
     ]
    }
   ],
   "source": [
    "print('W.T @ W:\\n', W.T @ W)\n",
    "print()\n",
    "print('norm W.T@W - I:', npla.norm(W.T@W - np.eye(4)))"
   ]
  },
  {
   "cell_type": "code",
   "execution_count": 22,
   "metadata": {},
   "outputs": [
    {
     "data": {
      "text/plain": [
       "array([[-5.1345,  0.    ,  0.    ,  0.    ],\n",
       "       [ 0.    , -3.111 ,  0.    ,  0.    ],\n",
       "       [ 0.    ,  0.    ,  0.7158,  0.    ],\n",
       "       [ 0.    ,  0.    ,  0.    ,  2.639 ]])"
      ]
     },
     "execution_count": 22,
     "metadata": {},
     "output_type": "execute_result"
    }
   ],
   "source": [
    "S = np.diag(lam)\n",
    "S"
   ]
  },
  {
   "cell_type": "code",
   "execution_count": 23,
   "metadata": {},
   "outputs": [
    {
     "data": {
      "text/plain": [
       "array([[ 2.5423, -1.7068,  0.1215,  1.7204],\n",
       "       [ 0.3017, -2.0466, -0.4356, -1.1608],\n",
       "       [ 4.1213,  1.4677, -0.2459, -0.3251],\n",
       "       [ 1.6802, -0.6498,  0.4974, -1.5974]])"
      ]
     },
     "execution_count": 23,
     "metadata": {},
     "output_type": "execute_result"
    }
   ],
   "source": [
    "A @ W"
   ]
  },
  {
   "cell_type": "code",
   "execution_count": 24,
   "metadata": {},
   "outputs": [
    {
     "data": {
      "text/plain": [
       "array([[ 2.5423, -1.7068,  0.1215,  1.7204],\n",
       "       [ 0.3017, -2.0466, -0.4356, -1.1608],\n",
       "       [ 4.1213,  1.4677, -0.2459, -0.3251],\n",
       "       [ 1.6802, -0.6498,  0.4974, -1.5974]])"
      ]
     },
     "execution_count": 24,
     "metadata": {},
     "output_type": "execute_result"
    }
   ],
   "source": [
    "W @ S"
   ]
  },
  {
   "cell_type": "code",
   "execution_count": 25,
   "metadata": {},
   "outputs": [
    {
     "data": {
      "text/plain": [
       "array([[-1.0531, -2.1029, -1.4891, -2.1454],\n",
       "       [-2.1029, -0.5885,  1.0159, -0.1263],\n",
       "       [-1.4891,  1.0159, -3.876 , -1.0162],\n",
       "       [-2.1454, -0.1263, -1.0162,  0.627 ]])"
      ]
     },
     "execution_count": 25,
     "metadata": {},
     "output_type": "execute_result"
    }
   ],
   "source": [
    "W @ S @ W.T"
   ]
  },
  {
   "cell_type": "code",
   "execution_count": 26,
   "metadata": {},
   "outputs": [
    {
     "data": {
      "text/plain": [
       "array([[-1.0531, -2.1029, -1.4891, -2.1454],\n",
       "       [-2.1029, -0.5885,  1.0159, -0.1263],\n",
       "       [-1.4891,  1.0159, -3.876 , -1.0162],\n",
       "       [-2.1454, -0.1263, -1.0162,  0.627 ]])"
      ]
     },
     "execution_count": 26,
     "metadata": {},
     "output_type": "execute_result"
    }
   ],
   "source": [
    "A"
   ]
  },
  {
   "cell_type": "markdown",
   "metadata": {},
   "source": [
    "# Symmetric positive definite (SPD) and positive semidefinite (SPSD) matrices"
   ]
  },
  {
   "cell_type": "markdown",
   "metadata": {},
   "source": [
    "A symmetric matrix $A$ is *positive definite* if all its eigenvalues are positive, \n",
    "so $0 < \\lambda_0 \\le \\lambda_1 \\le \\cdots \\lambda_{n-1}$.\n",
    "<br>A symmetric matrix $A$ is positive definite if and only if $x^TAx>0$ for all nonzero vectors $x$.\n",
    "\n",
    "A symmetric matrix $A$ is *positive semidefinite* if all its eigenvalues are nonnegative,\n",
    "so $0 \\le \\lambda_0 \\le \\lambda_1 \\le \\cdots \\lambda_{n-1}$.\n",
    "<br>A symmetric matrix $A$ is positive semidefinite if and only if $x^TAx\\ge 0$ for all nonzero vectors $x$.\n"
   ]
  },
  {
   "cell_type": "code",
   "execution_count": 27,
   "metadata": {},
   "outputs": [
    {
     "name": "stdout",
     "output_type": "stream",
     "text": [
      "A:\n",
      "[[ 3.0872 -1.91   -2.8977  1.7563]\n",
      " [-1.91    2.1748  0.8551 -2.6149]\n",
      " [-2.8977  0.8551  4.6063 -1.4281]\n",
      " [ 1.7563 -2.6149 -1.4281  5.3022]]\n"
     ]
    }
   ],
   "source": [
    "# One way to create an SPD matrix...\n",
    "\n",
    "A = np.random.randn(4,4)\n",
    "A = A.T @ A\n",
    "print('A:'); print(A)"
   ]
  },
  {
   "cell_type": "code",
   "execution_count": 28,
   "metadata": {},
   "outputs": [
    {
     "name": "stdout",
     "output_type": "stream",
     "text": [
      "lam: [0.027  1.2964 4.1383 9.7087]\n",
      "W:\n",
      "[[ 0.6087 -0.5541  0.2846  0.4914]\n",
      " [ 0.6863  0.5511  0.2741 -0.3874]\n",
      " [ 0.3276 -0.4343 -0.6669 -0.5093]\n",
      " [ 0.2262  0.4479 -0.6318  0.5908]]\n"
     ]
    }
   ],
   "source": [
    "lam, W = spla.eigh(A)\n",
    "print('lam:', lam)\n",
    "print('W:')\n",
    "print(W)"
   ]
  },
  {
   "cell_type": "code",
   "execution_count": 29,
   "metadata": {},
   "outputs": [
    {
     "name": "stdout",
     "output_type": "stream",
     "text": [
      "B:\n",
      "[[ 3.0602 -1.91   -2.8977  1.7563]\n",
      " [-1.91    2.1478  0.8551 -2.6149]\n",
      " [-2.8977  0.8551  4.5793 -1.4281]\n",
      " [ 1.7563 -2.6149 -1.4281  5.2752]]\n"
     ]
    }
   ],
   "source": [
    "# Now make it semidefinite by shifting the eigenvalues by lambda_0\n",
    "\n",
    "B = A - lam[0] * np.eye(4)\n",
    "\n",
    "print('B:'); print(B)"
   ]
  },
  {
   "cell_type": "code",
   "execution_count": 30,
   "metadata": {},
   "outputs": [
    {
     "data": {
      "text/plain": [
       "3"
      ]
     },
     "execution_count": 30,
     "metadata": {},
     "output_type": "execute_result"
    }
   ],
   "source": [
    "npla.matrix_rank(B)"
   ]
  },
  {
   "cell_type": "code",
   "execution_count": 31,
   "metadata": {},
   "outputs": [
    {
     "data": {
      "text/plain": [
       "array([ 1.6653e-15, -6.6613e-16, -2.2204e-16,  1.3323e-15])"
      ]
     },
     "execution_count": 31,
     "metadata": {},
     "output_type": "execute_result"
    }
   ],
   "source": [
    "B @ W[:,0]"
   ]
  },
  {
   "cell_type": "code",
   "execution_count": 32,
   "metadata": {},
   "outputs": [
    {
     "name": "stdout",
     "output_type": "stream",
     "text": [
      "lam for A: [0.027  1.2964 4.1383 9.7087]\n",
      "W for A:\n",
      "[[ 0.6087 -0.5541  0.2846  0.4914]\n",
      " [ 0.6863  0.5511  0.2741 -0.3874]\n",
      " [ 0.3276 -0.4343 -0.6669 -0.5093]\n",
      " [ 0.2262  0.4479 -0.6318  0.5908]]\n"
     ]
    }
   ],
   "source": [
    "lam, W = spla.eigh(A)\n",
    "\n",
    "print('lam for A:', lam)\n",
    "print('W for A:'); print(W)"
   ]
  },
  {
   "cell_type": "code",
   "execution_count": 33,
   "metadata": {},
   "outputs": [
    {
     "name": "stdout",
     "output_type": "stream",
     "text": [
      "lam for B: [-4.3039e-16  1.2694e+00  4.1113e+00  9.6818e+00]\n",
      "W for B:\n",
      "[[ 0.6087  0.5541  0.2846  0.4914]\n",
      " [ 0.6863 -0.5511  0.2741 -0.3874]\n",
      " [ 0.3276  0.4343 -0.6669 -0.5093]\n",
      " [ 0.2262 -0.4479 -0.6318  0.5908]]\n"
     ]
    }
   ],
   "source": [
    "lam, W = spla.eigh(B)\n",
    "\n",
    "print('lam for B:', lam)\n",
    "print('W for B:'); print(W)"
   ]
  },
  {
   "cell_type": "code",
   "execution_count": null,
   "metadata": {},
   "outputs": [],
   "source": []
  }
 ],
 "metadata": {
  "kernelspec": {
   "display_name": "Python 3 (ipykernel)",
   "language": "python",
   "name": "python3"
  },
  "language_info": {
   "codemirror_mode": {
    "name": "ipython",
    "version": 3
   },
   "file_extension": ".py",
   "mimetype": "text/x-python",
   "name": "python",
   "nbconvert_exporter": "python",
   "pygments_lexer": "ipython3",
   "version": "3.9.15"
  }
 },
 "nbformat": 4,
 "nbformat_minor": 2
}
