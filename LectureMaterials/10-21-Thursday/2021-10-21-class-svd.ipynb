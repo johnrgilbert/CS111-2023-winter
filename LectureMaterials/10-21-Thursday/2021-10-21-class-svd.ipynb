{
 "cells": [
  {
   "cell_type": "markdown",
   "metadata": {},
   "source": [
    "# Transcript from Lecture, October 21, 2021\n"
   ]
  },
  {
   "cell_type": "code",
   "execution_count": 1,
   "metadata": {},
   "outputs": [],
   "source": [
    "import sys\n",
    "\n",
    "########################################\n",
    "# Change the string in the line below! #\n",
    "########################################\n",
    "sys.path.append(\"/Users/gilbert/Documents/CS111-2021-fall/Python\") \n",
    "\n",
    "import os\n",
    "import time\n",
    "import math\n",
    "import numpy as np\n",
    "import numpy.linalg as npla\n",
    "import scipy\n",
    "from scipy import linalg as spla\n",
    "import scipy.sparse\n",
    "import scipy.sparse.linalg\n",
    "from scipy import integrate\n",
    "import networkx as nx\n",
    "import cs111\n",
    "\n",
    "##########################################################\n",
    "# If this import for matplotlib doesn't work, try saying #\n",
    "#   conda install -c conda-forge ipympl                  #\n",
    "# at a shell prompt on your computer                     #\n",
    "##########################################################\n",
    "import matplotlib\n",
    "%matplotlib ipympl\n",
    "\n",
    "import matplotlib.pyplot as plt\n",
    "from matplotlib import cm\n",
    "from mpl_toolkits.mplot3d import axes3d\n",
    "\n",
    "\n",
    "\n",
    "\n",
    "np.set_printoptions(precision = 4)"
   ]
  },
  {
   "cell_type": "markdown",
   "metadata": {},
   "source": [
    "# Vector dot products and perpendicular (orthogonal) vectors"
   ]
  },
  {
   "cell_type": "code",
   "execution_count": 2,
   "metadata": {},
   "outputs": [
    {
     "name": "stdout",
     "output_type": "stream",
     "text": [
      "x: [ 3  1  4 -3]\n",
      "y: [ 1  2 -1  1]\n"
     ]
    }
   ],
   "source": [
    "x = np.array([3, 1, 4, -3])\n",
    "y = np.array([1, 2, -1 , 1])\n",
    "\n",
    "print('x:', x)\n",
    "print('y:', y)"
   ]
  },
  {
   "cell_type": "code",
   "execution_count": 3,
   "metadata": {},
   "outputs": [
    {
     "data": {
      "text/plain": [
       "-2"
      ]
     },
     "execution_count": 3,
     "metadata": {},
     "output_type": "execute_result"
    }
   ],
   "source": [
    "np.dot(x,y)"
   ]
  },
  {
   "cell_type": "code",
   "execution_count": 4,
   "metadata": {},
   "outputs": [
    {
     "data": {
      "text/plain": [
       "-2"
      ]
     },
     "execution_count": 4,
     "metadata": {},
     "output_type": "execute_result"
    }
   ],
   "source": [
    "x.dot(y)"
   ]
  },
  {
   "cell_type": "code",
   "execution_count": 5,
   "metadata": {},
   "outputs": [
    {
     "data": {
      "text/plain": [
       "-2"
      ]
     },
     "execution_count": 5,
     "metadata": {},
     "output_type": "execute_result"
    }
   ],
   "source": [
    "x.T @ y"
   ]
  },
  {
   "cell_type": "code",
   "execution_count": 6,
   "metadata": {},
   "outputs": [
    {
     "data": {
      "text/plain": [
       "-2"
      ]
     },
     "execution_count": 6,
     "metadata": {},
     "output_type": "execute_result"
    }
   ],
   "source": [
    "x @ y"
   ]
  },
  {
   "cell_type": "code",
   "execution_count": 7,
   "metadata": {},
   "outputs": [
    {
     "data": {
      "text/plain": [
       "35"
      ]
     },
     "execution_count": 7,
     "metadata": {},
     "output_type": "execute_result"
    }
   ],
   "source": [
    "x.T @ x"
   ]
  },
  {
   "cell_type": "code",
   "execution_count": 8,
   "metadata": {},
   "outputs": [
    {
     "data": {
      "text/plain": [
       "5.916079783099616"
      ]
     },
     "execution_count": 8,
     "metadata": {},
     "output_type": "execute_result"
    }
   ],
   "source": [
    "npla.norm(x,2)"
   ]
  },
  {
   "cell_type": "code",
   "execution_count": 9,
   "metadata": {},
   "outputs": [
    {
     "data": {
      "text/plain": [
       "35.0"
      ]
     },
     "execution_count": 9,
     "metadata": {},
     "output_type": "execute_result"
    }
   ],
   "source": [
    "npla.norm(x,2) ** 2"
   ]
  },
  {
   "cell_type": "markdown",
   "metadata": {},
   "source": [
    "<b> Two vectors x and y are *orthogonal* (perpendicular) if x.T @ y = 0"
   ]
  },
  {
   "cell_type": "code",
   "execution_count": 10,
   "metadata": {},
   "outputs": [
    {
     "data": {
      "text/plain": [
       "array([ 3,  1,  4, -3])"
      ]
     },
     "execution_count": 10,
     "metadata": {},
     "output_type": "execute_result"
    }
   ],
   "source": [
    "x"
   ]
  },
  {
   "cell_type": "code",
   "execution_count": 11,
   "metadata": {},
   "outputs": [
    {
     "data": {
      "text/plain": [
       "array([ 1,  4, -1,  1])"
      ]
     },
     "execution_count": 11,
     "metadata": {},
     "output_type": "execute_result"
    }
   ],
   "source": [
    "y = np.array([1, 4, -1 ,1])\n",
    "y"
   ]
  },
  {
   "cell_type": "code",
   "execution_count": 12,
   "metadata": {},
   "outputs": [
    {
     "data": {
      "text/plain": [
       "0"
      ]
     },
     "execution_count": 12,
     "metadata": {},
     "output_type": "execute_result"
    }
   ],
   "source": [
    "x.T @ y"
   ]
  },
  {
   "cell_type": "code",
   "execution_count": 13,
   "metadata": {},
   "outputs": [
    {
     "data": {
      "text/plain": [
       "0"
      ]
     },
     "execution_count": 13,
     "metadata": {},
     "output_type": "execute_result"
    }
   ],
   "source": [
    "x.dot(y)"
   ]
  },
  {
   "cell_type": "markdown",
   "metadata": {},
   "source": [
    "# Orthogonal matrices"
   ]
  },
  {
   "cell_type": "markdown",
   "metadata": {},
   "source": [
    "<b> The square matrix A is *orthogonal* if A.T @ A = I, the identity matrix.\n",
    "\n",
    "The inverse of an orthogonal matrix is its transpose.\n",
    "\n",
    "Therefore, the transpose of an orthogonal matrix is also orthogonal."
   ]
  },
  {
   "cell_type": "code",
   "execution_count": 14,
   "metadata": {},
   "outputs": [
    {
     "data": {
      "text/plain": [
       "array([[-0.1318, -0.0603,  0.1377,  0.168 , -0.9653],\n",
       "       [-0.4285, -0.4479,  0.6719, -0.3889,  0.1146],\n",
       "       [ 0.0199, -0.0388, -0.4708, -0.8543, -0.2162],\n",
       "       [ 0.2809,  0.7492,  0.5175, -0.2967, -0.0629],\n",
       "       [-0.8484,  0.4827, -0.2004,  0.0521,  0.0662]])"
      ]
     },
     "execution_count": 14,
     "metadata": {},
     "output_type": "execute_result"
    }
   ],
   "source": [
    "Q = cs111.random_orthog(5)\n",
    "Q"
   ]
  },
  {
   "cell_type": "code",
   "execution_count": 15,
   "metadata": {},
   "outputs": [
    {
     "data": {
      "text/plain": [
       "array([[ 1.0000e+00, -3.5621e-17,  3.1938e-18,  2.2611e-17, -1.2806e-16],\n",
       "       [-3.5621e-17,  1.0000e+00, -1.2555e-16, -2.7800e-17,  2.5981e-17],\n",
       "       [ 3.1938e-18, -1.2555e-16,  1.0000e+00, -1.7606e-16,  5.6584e-17],\n",
       "       [ 2.2611e-17, -2.7800e-17, -1.7606e-16,  1.0000e+00,  1.0450e-16],\n",
       "       [-1.2806e-16,  2.5981e-17,  5.6584e-17,  1.0450e-16,  1.0000e+00]])"
      ]
     },
     "execution_count": 15,
     "metadata": {},
     "output_type": "execute_result"
    }
   ],
   "source": [
    "Q.T @ Q"
   ]
  },
  {
   "cell_type": "code",
   "execution_count": 16,
   "metadata": {},
   "outputs": [
    {
     "data": {
      "text/plain": [
       "4.860336650511679e-16"
      ]
     },
     "execution_count": 16,
     "metadata": {},
     "output_type": "execute_result"
    }
   ],
   "source": [
    "I = np.eye(5)\n",
    "npla.norm(Q.T @ Q - I, 2)"
   ]
  },
  {
   "cell_type": "markdown",
   "metadata": {},
   "source": [
    "<b>Every column of an orthogonal matrix is a unit vector (a vector of length one)"
   ]
  },
  {
   "cell_type": "code",
   "execution_count": 17,
   "metadata": {},
   "outputs": [
    {
     "data": {
      "text/plain": [
       "1.0"
      ]
     },
     "execution_count": 17,
     "metadata": {},
     "output_type": "execute_result"
    }
   ],
   "source": [
    "v = Q[:, 2]\n",
    "npla.norm(v, 2)"
   ]
  },
  {
   "cell_type": "markdown",
   "metadata": {},
   "source": [
    "<b> Any two different columns of an orthogonal matrix are perpendicular"
   ]
  },
  {
   "cell_type": "code",
   "execution_count": 18,
   "metadata": {},
   "outputs": [
    {
     "data": {
      "text/plain": [
       "-1.6653345369377348e-16"
      ]
     },
     "execution_count": 18,
     "metadata": {},
     "output_type": "execute_result"
    }
   ],
   "source": [
    "w = Q[:,1]\n",
    "v.T @ w"
   ]
  },
  {
   "cell_type": "markdown",
   "metadata": {},
   "source": [
    "<b>The identity matrix is orthogonal"
   ]
  },
  {
   "cell_type": "code",
   "execution_count": 19,
   "metadata": {},
   "outputs": [
    {
     "data": {
      "text/plain": [
       "array([[1., 0., 0., 0., 0.],\n",
       "       [0., 1., 0., 0., 0.],\n",
       "       [0., 0., 1., 0., 0.],\n",
       "       [0., 0., 0., 1., 0.],\n",
       "       [0., 0., 0., 0., 1.]])"
      ]
     },
     "execution_count": 19,
     "metadata": {},
     "output_type": "execute_result"
    }
   ],
   "source": [
    "I = np.eye(5)\n",
    "I"
   ]
  },
  {
   "cell_type": "code",
   "execution_count": 20,
   "metadata": {},
   "outputs": [
    {
     "data": {
      "text/plain": [
       "array([[1., 0., 0., 0., 0.],\n",
       "       [0., 1., 0., 0., 0.],\n",
       "       [0., 0., 1., 0., 0.],\n",
       "       [0., 0., 0., 1., 0.],\n",
       "       [0., 0., 0., 0., 1.]])"
      ]
     },
     "execution_count": 20,
     "metadata": {},
     "output_type": "execute_result"
    }
   ],
   "source": [
    "I.T @ I"
   ]
  },
  {
   "cell_type": "markdown",
   "metadata": {},
   "source": [
    "<b>Permutation matrices are orthogonal"
   ]
  },
  {
   "cell_type": "code",
   "execution_count": 21,
   "metadata": {},
   "outputs": [
    {
     "data": {
      "text/plain": [
       "array([[0, 0, 1, 0, 0],\n",
       "       [1, 0, 0, 0, 0],\n",
       "       [0, 1, 0, 0, 0],\n",
       "       [0, 0, 0, 0, 1],\n",
       "       [0, 0, 0, 1, 0]])"
      ]
     },
     "execution_count": 21,
     "metadata": {},
     "output_type": "execute_result"
    }
   ],
   "source": [
    "P = np.array([[0,0,1,0,0], [1,0,0,0,0], [0,1,0,0,0], [0,0,0,0,1], [0,0,0,1,0]])\n",
    "P"
   ]
  },
  {
   "cell_type": "code",
   "execution_count": 22,
   "metadata": {},
   "outputs": [
    {
     "data": {
      "text/plain": [
       "array([[0, 1, 0, 0, 0],\n",
       "       [0, 0, 1, 0, 0],\n",
       "       [1, 0, 0, 0, 0],\n",
       "       [0, 0, 0, 0, 1],\n",
       "       [0, 0, 0, 1, 0]])"
      ]
     },
     "execution_count": 22,
     "metadata": {},
     "output_type": "execute_result"
    }
   ],
   "source": [
    "P.T"
   ]
  },
  {
   "cell_type": "code",
   "execution_count": 23,
   "metadata": {},
   "outputs": [
    {
     "data": {
      "text/plain": [
       "array([[1, 0, 0, 0, 0],\n",
       "       [0, 1, 0, 0, 0],\n",
       "       [0, 0, 1, 0, 0],\n",
       "       [0, 0, 0, 1, 0],\n",
       "       [0, 0, 0, 0, 1]])"
      ]
     },
     "execution_count": 23,
     "metadata": {},
     "output_type": "execute_result"
    }
   ],
   "source": [
    "P @ P.T"
   ]
  },
  {
   "cell_type": "markdown",
   "metadata": {},
   "source": [
    "# An orthogonal matrix doesn't change the length of a vector"
   ]
  },
  {
   "cell_type": "code",
   "execution_count": 24,
   "metadata": {},
   "outputs": [
    {
     "data": {
      "text/plain": [
       "array([[-0.4333,  0.5729, -0.06  , -0.6124,  0.3246],\n",
       "       [-0.3281, -0.0774,  0.2859,  0.5193,  0.7314],\n",
       "       [ 0.3694,  0.6295, -0.5091,  0.4403,  0.1188],\n",
       "       [ 0.6571, -0.2655, -0.0641, -0.4013,  0.5767],\n",
       "       [ 0.3692,  0.4461,  0.8071,  0.0163, -0.1143]])"
      ]
     },
     "execution_count": 24,
     "metadata": {},
     "output_type": "execute_result"
    }
   ],
   "source": [
    "Q = cs111.random_orthog(5)\n",
    "Q"
   ]
  },
  {
   "cell_type": "code",
   "execution_count": 25,
   "metadata": {},
   "outputs": [
    {
     "name": "stdout",
     "output_type": "stream",
     "text": [
      "v: [0.024  0.302  0.1023 0.5889 0.6101] norm(v): 0.9062581426645598\n"
     ]
    }
   ],
   "source": [
    "v = np.random.random(5)\n",
    "print('v:', v, 'norm(v):', npla.norm(v,2))"
   ]
  },
  {
   "cell_type": "code",
   "execution_count": 26,
   "metadata": {},
   "outputs": [
    {
     "name": "stdout",
     "output_type": "stream",
     "text": [
      "w: [-0.0061  0.7501  0.4787  0.0445  0.166 ] norm(w): 0.90625814266456\n"
     ]
    }
   ],
   "source": [
    "w = Q @ v\n",
    "print('w:', w, 'norm(w):', npla.norm(w,2))"
   ]
  },
  {
   "cell_type": "markdown",
   "metadata": {},
   "source": [
    "<b> Therefore, the 2-norm and 2-condition number of an orthogonal matrix are both 1"
   ]
  },
  {
   "cell_type": "code",
   "execution_count": 27,
   "metadata": {},
   "outputs": [
    {
     "data": {
      "text/plain": [
       "array([[-6.8900e-01,  5.6960e-04,  5.2960e-02,  7.1808e-01, -8.2626e-02],\n",
       "       [ 6.1519e-01, -2.2365e-01, -3.7504e-01,  5.8352e-01, -3.0062e-01],\n",
       "       [ 2.5805e-01,  8.9345e-01,  1.2024e-01,  2.6401e-01,  2.2582e-01],\n",
       "       [-1.1437e-01, -6.1882e-02, -6.8721e-01,  2.3191e-02,  7.1435e-01],\n",
       "       [ 2.5913e-01, -3.8457e-01,  6.0813e-01,  2.7133e-01,  5.8439e-01]])"
      ]
     },
     "execution_count": 27,
     "metadata": {},
     "output_type": "execute_result"
    }
   ],
   "source": [
    "Q = cs111.random_orthog(5)\n",
    "Q"
   ]
  },
  {
   "cell_type": "code",
   "execution_count": 28,
   "metadata": {},
   "outputs": [
    {
     "data": {
      "text/plain": [
       "array([[ 1.0000e+00, -5.5756e-17,  6.4418e-18,  1.1844e-16,  3.6138e-18],\n",
       "       [-5.5756e-17,  1.0000e+00,  8.5063e-17, -1.9757e-17,  1.0588e-16],\n",
       "       [ 6.4418e-18,  8.5063e-17,  1.0000e+00,  2.4923e-16,  4.5388e-17],\n",
       "       [ 1.1844e-16, -1.9757e-17,  2.4923e-16,  1.0000e+00, -2.1472e-16],\n",
       "       [ 3.6138e-18,  1.0588e-16,  4.5388e-17, -2.1472e-16,  1.0000e+00]])"
      ]
     },
     "execution_count": 28,
     "metadata": {},
     "output_type": "execute_result"
    }
   ],
   "source": [
    "Q.T @ Q"
   ]
  },
  {
   "cell_type": "code",
   "execution_count": 29,
   "metadata": {},
   "outputs": [
    {
     "data": {
      "text/plain": [
       "1.0000000000000002"
      ]
     },
     "execution_count": 29,
     "metadata": {},
     "output_type": "execute_result"
    }
   ],
   "source": [
    "npla.norm(Q, 2)"
   ]
  },
  {
   "cell_type": "code",
   "execution_count": 30,
   "metadata": {},
   "outputs": [
    {
     "data": {
      "text/plain": [
       "1.0000000000000004"
      ]
     },
     "execution_count": 30,
     "metadata": {},
     "output_type": "execute_result"
    }
   ],
   "source": [
    "npla.cond(Q, 2)"
   ]
  },
  {
   "cell_type": "code",
   "execution_count": 31,
   "metadata": {},
   "outputs": [
    {
     "data": {
      "text/plain": [
       "1.9357411196466003"
      ]
     },
     "execution_count": 31,
     "metadata": {},
     "output_type": "execute_result"
    }
   ],
   "source": [
    "# Only the 2-norm, not the others!\n",
    "npla.norm(Q, 1)"
   ]
  },
  {
   "cell_type": "markdown",
   "metadata": {},
   "source": [
    "# Solving a linear system with an orthogonal matrix"
   ]
  },
  {
   "cell_type": "code",
   "execution_count": 32,
   "metadata": {},
   "outputs": [
    {
     "data": {
      "text/plain": [
       "array([[-3.3364e-01,  2.4122e-01,  2.2682e-01, -2.7007e-01,  8.4031e-01],\n",
       "       [-5.1772e-01, -4.8411e-01,  6.4336e-01, -9.8660e-02, -2.7196e-01],\n",
       "       [-5.3261e-01,  3.4827e-01, -6.8566e-02,  7.6692e-01, -4.6458e-02],\n",
       "       [-2.4671e-01,  6.8138e-01,  3.9407e-02, -5.0551e-01, -4.6665e-01],\n",
       "       [-5.2546e-01, -3.4911e-01, -7.2691e-01, -2.7133e-01,  5.8566e-04]])"
      ]
     },
     "execution_count": 32,
     "metadata": {},
     "output_type": "execute_result"
    }
   ],
   "source": [
    "Q = cs111.random_orthog(5)\n",
    "Q"
   ]
  },
  {
   "cell_type": "code",
   "execution_count": 33,
   "metadata": {},
   "outputs": [
    {
     "name": "stdout",
     "output_type": "stream",
     "text": [
      "x_exact: [1. 1. 1. 1. 1.]\n",
      "b:       [ 0.7046 -0.7291  0.4676 -0.4981 -1.8722]\n"
     ]
    }
   ],
   "source": [
    "x_exact = np.ones(5)\n",
    "b = Q @ x_exact\n",
    "print('x_exact:', x_exact)\n",
    "print('b:      ', b)"
   ]
  },
  {
   "cell_type": "code",
   "execution_count": 34,
   "metadata": {},
   "outputs": [
    {
     "data": {
      "text/plain": [
       "0.0"
      ]
     },
     "execution_count": 34,
     "metadata": {},
     "output_type": "execute_result"
    }
   ],
   "source": [
    "npla.norm(x_exact) - npla.norm(b)"
   ]
  },
  {
   "cell_type": "code",
   "execution_count": 35,
   "metadata": {},
   "outputs": [
    {
     "data": {
      "text/plain": [
       "array([1., 1., 1., 1., 1.])"
      ]
     },
     "execution_count": 35,
     "metadata": {},
     "output_type": "execute_result"
    }
   ],
   "source": [
    "x = Q.T @ b\n",
    "x"
   ]
  },
  {
   "cell_type": "code",
   "execution_count": 36,
   "metadata": {},
   "outputs": [
    {
     "data": {
      "text/plain": [
       "-4.440892098500626e-16"
      ]
     },
     "execution_count": 36,
     "metadata": {},
     "output_type": "execute_result"
    }
   ],
   "source": [
    "npla.norm(x_exact) - npla.norm(x)"
   ]
  },
  {
   "cell_type": "code",
   "execution_count": 37,
   "metadata": {},
   "outputs": [
    {
     "name": "stdout",
     "output_type": "stream",
     "text": [
      "relative residual norm: 4.1540741810552243e-16\n",
      "relative error norm:    3.6485651666928703e-16\n"
     ]
    }
   ],
   "source": [
    "error = x_exact - x\n",
    "residual = b - Q @ x\n",
    "\n",
    "print(\"relative residual norm:\", npla.norm(residual,2)/npla.norm(b,2))\n",
    "print(\"relative error norm:   \", npla.norm(error,2)/npla.norm(x_exact,2))\n"
   ]
  },
  {
   "cell_type": "markdown",
   "metadata": {},
   "source": [
    "<b> Why not exactly equal? Wait for floating-point arithmetic lecture!\n"
   ]
  },
  {
   "cell_type": "markdown",
   "metadata": {},
   "source": [
    "# Singular value decomposition: SVD"
   ]
  },
  {
   "cell_type": "markdown",
   "metadata": {},
   "source": [
    "The **singular value decomposition** of an arbitrary $m$-by-$n$ matrix $A$ is\n",
    "\n",
    "$$A = USV^T,$$\n",
    "\n",
    "where $U$ is an $m$-by-$m$ orthogonal matrix ($U$'s columns $u_0$, $u_1$, $\\ldots$, $u_{m-1}$ all have length 1 and are perpendicular to each other, so that $U^TU=I$); and $V$ is an $n$-by-$n$ orthogonal matrix ($V^TV=I$, where now the $v_i$ are columns of $V$ and thus _rows_ of $V^T$); and $S$ is an $m$-by-$n$ diagonal matrix, whose diagonal elements are $\\sigma_0 \\ge \\sigma_1 \\ge \\ldots \\ge \\sigma_{\\min(m,n)-1}\\ge 0$. The $\\sigma_i$'s are called the _singular values_ of $A$."
   ]
  },
  {
   "cell_type": "code",
   "execution_count": 38,
   "metadata": {},
   "outputs": [
    {
     "name": "stdout",
     "output_type": "stream",
     "text": [
      "V:\n",
      " [[ 0.9231  0.3846]\n",
      " [-0.3846  0.9231]]\n",
      "\n",
      "U:\n",
      " [[ 0.8 -0.6]\n",
      " [ 0.6  0.8]]\n",
      "\n",
      "sigma: [5, 1]\n",
      "\n",
      "S:\n",
      " [[5 0]\n",
      " [0 1]]\n",
      "\n",
      "A:\n",
      " [[ 3.4615 -2.0923]\n",
      " [ 3.0769 -0.4154]]\n"
     ]
    }
   ],
   "source": [
    "# A small example\n",
    "\n",
    "V = np.array([[12/13, 5/13], [-5/13, 12/13]])\n",
    "print('V:\\n',V)\n",
    "print()\n",
    "\n",
    "U = np.array([[4/5, -3/5], [3/5, 4/5]])\n",
    "print('U:\\n',U)\n",
    "print()\n",
    "\n",
    "sigma =[5,1]\n",
    "print('sigma:', sigma)\n",
    "print()\n",
    "\n",
    "S = np.diag(sigma)\n",
    "print('S:\\n', S)\n",
    "print()\n",
    "\n",
    "A = U @ S @ V.T\n",
    "print('A:\\n', A)"
   ]
  },
  {
   "cell_type": "code",
   "execution_count": 39,
   "metadata": {},
   "outputs": [
    {
     "data": {
      "text/plain": [
       "array([[ 1.0000e+00, -2.6645e-17],\n",
       "       [-2.6645e-17,  1.0000e+00]])"
      ]
     },
     "execution_count": 39,
     "metadata": {},
     "output_type": "execute_result"
    }
   ],
   "source": [
    "U @ U.T"
   ]
  },
  {
   "cell_type": "code",
   "execution_count": 40,
   "metadata": {},
   "outputs": [
    {
     "data": {
      "text/plain": [
       "array([[1.0000e+00, 2.6277e-18],\n",
       "       [2.6277e-18, 1.0000e+00]])"
      ]
     },
     "execution_count": 40,
     "metadata": {},
     "output_type": "execute_result"
    }
   ],
   "source": [
    "V @ V.T"
   ]
  },
  {
   "cell_type": "code",
   "execution_count": 41,
   "metadata": {},
   "outputs": [
    {
     "data": {
      "text/plain": [
       "array([[ 4. , -0.6],\n",
       "       [ 3. ,  0.8]])"
      ]
     },
     "execution_count": 41,
     "metadata": {},
     "output_type": "execute_result"
    }
   ],
   "source": [
    "A @ V"
   ]
  },
  {
   "cell_type": "code",
   "execution_count": 42,
   "metadata": {},
   "outputs": [
    {
     "data": {
      "text/plain": [
       "array([[ 4. , -0.6],\n",
       "       [ 3. ,  0.8]])"
      ]
     },
     "execution_count": 42,
     "metadata": {},
     "output_type": "execute_result"
    }
   ],
   "source": [
    "U @ S"
   ]
  },
  {
   "cell_type": "markdown",
   "metadata": {},
   "source": [
    "<b> SVD of a random 8-by-5 matrix"
   ]
  },
  {
   "cell_type": "code",
   "execution_count": 43,
   "metadata": {},
   "outputs": [
    {
     "data": {
      "text/plain": [
       "array([[0.7049, 0.6859, 0.9308, 0.4466, 0.2988],\n",
       "       [0.4622, 0.7432, 0.2746, 0.856 , 0.1049],\n",
       "       [0.4704, 0.8586, 0.2772, 0.972 , 0.242 ],\n",
       "       [0.568 , 0.4868, 0.4398, 0.7512, 0.885 ],\n",
       "       [0.8545, 0.0575, 0.9277, 0.0608, 0.3459],\n",
       "       [0.1266, 0.0078, 0.8828, 0.9928, 0.9801],\n",
       "       [0.4576, 0.6528, 0.0456, 0.8258, 0.6001],\n",
       "       [0.8746, 0.204 , 0.9731, 0.6723, 0.6738]])"
      ]
     },
     "execution_count": 43,
     "metadata": {},
     "output_type": "execute_result"
    }
   ],
   "source": [
    "A = np.random.rand(8,5)\n",
    "A"
   ]
  },
  {
   "cell_type": "markdown",
   "metadata": {},
   "source": [
    "The scipy routine spla.svd(A) returns the three elements of the SVD, but not exactly in the form $A=USV^T$. Instead, spla.svd() returns the matrix $U$, then a vector of the $\\min(m-1, n-1)$ singular values, then the matrix $V^T$ (not $V$). "
   ]
  },
  {
   "cell_type": "code",
   "execution_count": null,
   "metadata": {},
   "outputs": [],
   "source": [
    "spla.svd?"
   ]
  },
  {
   "cell_type": "markdown",
   "metadata": {},
   "source": [
    "<b>Use spla.svd() to compute the SVD and then form the actual matrices $U$, $S$, and $V$."
   ]
  },
  {
   "cell_type": "code",
   "execution_count": 44,
   "metadata": {
    "scrolled": true
   },
   "outputs": [
    {
     "name": "stdout",
     "output_type": "stream",
     "text": [
      "shape of A: (8, 5)\n",
      "\n",
      "shape of U: (8, 8)\n",
      "sigma: [3.6524 1.3681 1.0468 0.5127 0.2728]\n",
      "shape of Vt: (5, 5)\n"
     ]
    }
   ],
   "source": [
    "print('shape of A:', A.shape)\n",
    "print()\n",
    "\n",
    "U,sigma,Vt = spla.svd(A)\n",
    "\n",
    "print('shape of U:', U.shape)\n",
    "print('sigma:', sigma)\n",
    "print('shape of Vt:', Vt.shape)"
   ]
  },
  {
   "cell_type": "code",
   "execution_count": 45,
   "metadata": {},
   "outputs": [
    {
     "name": "stdout",
     "output_type": "stream",
     "text": [
      "\n",
      "U:\n",
      " [[-0.3694 -0.1335  0.4401 -0.2874  0.684  -0.0514  0.15    0.2767]\n",
      " [-0.3008  0.3895  0.2374 -0.2978 -0.3429 -0.671   0.0516 -0.2056]\n",
      " [-0.3461  0.4585  0.1726 -0.2269 -0.1258  0.6605 -0.3461 -0.1297]\n",
      " [-0.3832  0.0675 -0.2167  0.5297  0.3247 -0.2713 -0.5706 -0.128 ]\n",
      " [-0.2745 -0.5503  0.3495  0.19   -0.1678  0.1328  0.1455 -0.6297]\n",
      " [-0.3893 -0.2002 -0.7339 -0.4562  0.0702  0.0314  0.1574 -0.176 ]\n",
      " [-0.314   0.3923 -0.1079  0.4926  0.0168  0.1359  0.6857  0.0654]\n",
      " [-0.4254 -0.3446  0.0305  0.0989 -0.5099  0.0116 -0.1152  0.6451]]\n",
      "\n",
      "S:\n",
      " [[3.6524 0.     0.     0.     0.    ]\n",
      " [0.     1.3681 0.     0.     0.    ]\n",
      " [0.     0.     1.0468 0.     0.    ]\n",
      " [0.     0.     0.     0.5127 0.    ]\n",
      " [0.     0.     0.     0.     0.2728]\n",
      " [0.     0.     0.     0.     0.    ]\n",
      " [0.     0.     0.     0.     0.    ]\n",
      " [0.     0.     0.     0.     0.    ]]\n",
      "\n",
      "V:\n",
      " [[-0.4324 -0.2028  0.536   0.5275 -0.4543]\n",
      " [-0.348   0.568   0.45   -0.0121  0.5946]\n",
      " [-0.4702 -0.6325  0.1226 -0.5598  0.2247]\n",
      " [-0.5463  0.4607 -0.3547 -0.3394 -0.4983]\n",
      " [-0.4152 -0.1547 -0.6078  0.5414  0.3758]]\n"
     ]
    }
   ],
   "source": [
    "S = np.zeros(A.shape)\n",
    "for i in range(len(sigma)):\n",
    "    S[i,i] = sigma[i]\n",
    "V = Vt.T\n",
    "\n",
    "print('\\nU:\\n', U)\n",
    "print('\\nS:\\n', S)\n",
    "print('\\nV:\\n', V)"
   ]
  },
  {
   "cell_type": "code",
   "execution_count": 46,
   "metadata": {},
   "outputs": [
    {
     "name": "stdout",
     "output_type": "stream",
     "text": [
      "norm of difference between U.T @ U     and I: 2.3033550112261085e-15\n",
      "norm of difference between V.T @ V     and I: 1.3724469393924201e-15\n",
      "norm of difference between U @ S @ V.T and A: 3.3163122064917368e-15\n"
     ]
    }
   ],
   "source": [
    "print('norm of difference between U.T @ U     and I:', npla.norm(U.T @ U - np.eye(A.shape[0])))\n",
    "print('norm of difference between V.T @ V     and I:', npla.norm(V.T @ V - np.eye(A.shape[1])))\n",
    "print('norm of difference between U @ S @ V.T and A:', npla.norm(U @ S @ V.T - A) )"
   ]
  },
  {
   "cell_type": "code",
   "execution_count": 47,
   "metadata": {},
   "outputs": [
    {
     "data": {
      "application/vnd.jupyter.widget-view+json": {
       "model_id": "541677b91ea64e8a93c80aad56409c32",
       "version_major": 2,
       "version_minor": 0
      },
      "text/plain": [
       "Canvas(toolbar=Toolbar(toolitems=[('Home', 'Reset original view', 'home', 'home'), ('Back', 'Back to previous …"
      ]
     },
     "metadata": {},
     "output_type": "display_data"
    },
    {
     "name": "stdout",
     "output_type": "stream",
     "text": [
      "\n"
     ]
    }
   ],
   "source": [
    "fig0 = plt.figure()\n",
    "plt.plot(sigma,'.')\n",
    "plt.yscale('log')\n",
    "plt.title('Singular values on log scale')\n",
    "plt.ylabel('singular value')\n",
    "plt.xlabel('index')\n",
    "print()"
   ]
  }
 ],
 "metadata": {
  "kernelspec": {
   "display_name": "Python 3",
   "language": "python",
   "name": "python3"
  },
  "language_info": {
   "codemirror_mode": {
    "name": "ipython",
    "version": 3
   },
   "file_extension": ".py",
   "mimetype": "text/x-python",
   "name": "python",
   "nbconvert_exporter": "python",
   "pygments_lexer": "ipython3",
   "version": "3.6.13"
  }
 },
 "nbformat": 4,
 "nbformat_minor": 2
}
