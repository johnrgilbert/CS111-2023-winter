{
 "cells": [
  {
   "cell_type": "markdown",
   "metadata": {},
   "source": [
    "# Transcript B from Lecture 7, February 2, 2023\n"
   ]
  },
  {
   "cell_type": "code",
   "execution_count": 2,
   "metadata": {},
   "outputs": [],
   "source": [
    "import sys\n",
    "\n",
    "########################################\n",
    "# Change the string in the line below! #\n",
    "########################################\n",
    "sys.path.append(\"/Users/gilbert/Documents/CS111-2023-winter/Python\") \n",
    "\n",
    "import os\n",
    "import time\n",
    "import math\n",
    "import numpy as np\n",
    "import numpy.linalg as npla\n",
    "import scipy\n",
    "from scipy import linalg as spla\n",
    "import scipy.sparse\n",
    "import scipy.sparse.linalg\n",
    "from scipy import integrate\n",
    "import networkx as nx\n",
    "import cs111\n",
    "\n",
    "##########################################################\n",
    "# If this import for matplotlib doesn't work, try saying #\n",
    "#   conda install -c conda-forge ipympl                  #\n",
    "# at a shell prompt on your computer                     #\n",
    "##########################################################\n",
    "import matplotlib\n",
    "%matplotlib ipympl\n",
    "\n",
    "import matplotlib.pyplot as plt\n",
    "from matplotlib import cm\n",
    "from mpl_toolkits.mplot3d import axes3d\n",
    "\n",
    "\n",
    "\n",
    "\n",
    "np.set_printoptions(precision = 4)"
   ]
  },
  {
   "cell_type": "markdown",
   "metadata": {},
   "source": [
    "# Jacobi iterative method for Ax = b"
   ]
  },
  {
   "cell_type": "code",
   "execution_count": 3,
   "metadata": {},
   "outputs": [
    {
     "data": {
      "text/plain": [
       "array([[ 3,  1],\n",
       "       [-2,  4]])"
      ]
     },
     "execution_count": 3,
     "metadata": {},
     "output_type": "execute_result"
    }
   ],
   "source": [
    "A = np.array([[3,1],[-2,4]])\n",
    "A"
   ]
  },
  {
   "cell_type": "code",
   "execution_count": 4,
   "metadata": {},
   "outputs": [
    {
     "data": {
      "text/plain": [
       "array([9, 8])"
      ]
     },
     "execution_count": 4,
     "metadata": {},
     "output_type": "execute_result"
    }
   ],
   "source": [
    "b = np.array([9,8])\n",
    "b"
   ]
  },
  {
   "cell_type": "code",
   "execution_count": 5,
   "metadata": {},
   "outputs": [
    {
     "data": {
      "text/plain": [
       "array([2., 3.])"
      ]
     },
     "execution_count": 5,
     "metadata": {},
     "output_type": "execute_result"
    }
   ],
   "source": [
    "npla.solve(A,b)"
   ]
  },
  {
   "cell_type": "code",
   "execution_count": 6,
   "metadata": {},
   "outputs": [
    {
     "data": {
      "text/plain": [
       "(array([2., 3.]), 0.0)"
      ]
     },
     "execution_count": 6,
     "metadata": {},
     "output_type": "execute_result"
    }
   ],
   "source": [
    "cs111.LUsolve(A,b)"
   ]
  },
  {
   "cell_type": "code",
   "execution_count": 7,
   "metadata": {},
   "outputs": [
    {
     "data": {
      "text/plain": [
       "array([0., 0.])"
      ]
     },
     "execution_count": 7,
     "metadata": {},
     "output_type": "execute_result"
    }
   ],
   "source": [
    "# Start the iteration with x = 0 as our first guess\n",
    "x = np.zeros(2)\n",
    "x"
   ]
  },
  {
   "cell_type": "code",
   "execution_count": 8,
   "metadata": {},
   "outputs": [
    {
     "data": {
      "text/plain": [
       "1.0"
      ]
     },
     "execution_count": 8,
     "metadata": {},
     "output_type": "execute_result"
    }
   ],
   "source": [
    "# How good is x? Compute the relative residual norm\n",
    "relres = npla.norm(b - A@x) / npla.norm(b)\n",
    "relres"
   ]
  },
  {
   "cell_type": "code",
   "execution_count": 9,
   "metadata": {},
   "outputs": [
    {
     "name": "stdout",
     "output_type": "stream",
     "text": [
      "x: [3. 2.]\n",
      "relres: 0.5252257314388903\n"
     ]
    }
   ],
   "source": [
    "# Try to improve the guess\n",
    "x = np.array([(9-x[1])/3, (8+2*x[0])/4])\n",
    "print('x:',x)\n",
    "\n",
    "relres = npla.norm(A@x-b)/npla.norm(b)\n",
    "print('relres:',relres)"
   ]
  },
  {
   "cell_type": "code",
   "execution_count": 10,
   "metadata": {},
   "outputs": [
    {
     "name": "stdout",
     "output_type": "stream",
     "text": [
      "x: [2.3333 3.5   ]\n",
      "relres: 0.1666666666666666\n"
     ]
    }
   ],
   "source": [
    "# Try to improve the guess\n",
    "x = np.array([(9-x[1])/3, (8+2*x[0])/4])\n",
    "print('x:',x)\n",
    "\n",
    "relres = npla.norm(A@x-b)/npla.norm(b)\n",
    "print('relres:',relres)"
   ]
  },
  {
   "cell_type": "code",
   "execution_count": 11,
   "metadata": {},
   "outputs": [
    {
     "name": "stdout",
     "output_type": "stream",
     "text": [
      "x: [1.8333 3.1667]\n",
      "relres: 0.08753762190648182\n"
     ]
    }
   ],
   "source": [
    "# Try to improve the guess\n",
    "x = np.array([(9-x[1])/3, (8+2*x[0])/4])\n",
    "print('x:',x)\n",
    "\n",
    "relres = npla.norm(A@x-b)/npla.norm(b)\n",
    "print('relres:',relres)"
   ]
  },
  {
   "cell_type": "code",
   "execution_count": 12,
   "metadata": {},
   "outputs": [
    {
     "name": "stdout",
     "output_type": "stream",
     "text": [
      "x: [1.9444 2.9167]\n",
      "relres: 0.027777777777777832\n"
     ]
    }
   ],
   "source": [
    "# Try to improve the guess\n",
    "x = np.array([(9-x[1])/3, (8+2*x[0])/4])\n",
    "print('x:',x)\n",
    "\n",
    "relres = npla.norm(A@x-b)/npla.norm(b)\n",
    "print('relres:',relres)"
   ]
  },
  {
   "cell_type": "code",
   "execution_count": 13,
   "metadata": {},
   "outputs": [
    {
     "name": "stdout",
     "output_type": "stream",
     "text": [
      "x: [2.0278 2.9722]\n",
      "relres: 0.014589603651080349\n"
     ]
    }
   ],
   "source": [
    "# Try to improve the guess\n",
    "x = np.array([(9-x[1])/3, (8+2*x[0])/4])\n",
    "print('x:',x)\n",
    "\n",
    "relres = npla.norm(A@x-b)/npla.norm(b)\n",
    "print('relres:',relres)"
   ]
  },
  {
   "cell_type": "code",
   "execution_count": 14,
   "metadata": {},
   "outputs": [
    {
     "name": "stdout",
     "output_type": "stream",
     "text": [
      "x: [2.0093 3.0139]\n",
      "relres: 0.00462962962962965\n"
     ]
    }
   ],
   "source": [
    "# Try to improve the guess\n",
    "x = np.array([(9-x[1])/3, (8+2*x[0])/4])\n",
    "print('x:',x)\n",
    "\n",
    "relres = npla.norm(A@x-b)/npla.norm(b)\n",
    "print('relres:',relres)"
   ]
  },
  {
   "cell_type": "code",
   "execution_count": 15,
   "metadata": {},
   "outputs": [
    {
     "name": "stdout",
     "output_type": "stream",
     "text": [
      "x: [1.9954 3.0046]\n",
      "relres: 0.00243160060851345\n"
     ]
    }
   ],
   "source": [
    "# Try to improve the guess\n",
    "x = np.array([(9-x[1])/3, (8+2*x[0])/4])\n",
    "print('x:',x)\n",
    "\n",
    "relres = npla.norm(A@x-b)/npla.norm(b)\n",
    "print('relres:',relres)"
   ]
  },
  {
   "cell_type": "code",
   "execution_count": 16,
   "metadata": {},
   "outputs": [
    {
     "name": "stdout",
     "output_type": "stream",
     "text": [
      "x: [1.9985 2.9977]\n",
      "relres: 0.0007716049382715942\n"
     ]
    }
   ],
   "source": [
    "# Try to improve the guess\n",
    "x = np.array([(9-x[1])/3, (8+2*x[0])/4])\n",
    "print('x:',x)\n",
    "\n",
    "relres = npla.norm(A@x-b)/npla.norm(b)\n",
    "print('relres:',relres)"
   ]
  },
  {
   "cell_type": "code",
   "execution_count": 17,
   "metadata": {},
   "outputs": [
    {
     "name": "stdout",
     "output_type": "stream",
     "text": [
      "x: [2.0008 2.9992]\n",
      "relres: 0.0004052667680856294\n"
     ]
    }
   ],
   "source": [
    "# Try to improve the guess\n",
    "x = np.array([(9-x[1])/3, (8+2*x[0])/4])\n",
    "print('x:',x)\n",
    "\n",
    "relres = npla.norm(A@x-b)/npla.norm(b)\n",
    "print('relres:',relres)"
   ]
  },
  {
   "cell_type": "code",
   "execution_count": 18,
   "metadata": {},
   "outputs": [
    {
     "name": "stdout",
     "output_type": "stream",
     "text": [
      "x: [2.0003 3.0004]\n",
      "relres: 0.0001286008230453045\n"
     ]
    }
   ],
   "source": [
    "# Try to improve the guess\n",
    "x = np.array([(9-x[1])/3, (8+2*x[0])/4])\n",
    "print('x:',x)\n",
    "\n",
    "relres = npla.norm(A@x-b)/npla.norm(b)\n",
    "print('relres:',relres)"
   ]
  },
  {
   "cell_type": "code",
   "execution_count": 19,
   "metadata": {},
   "outputs": [
    {
     "data": {
      "text/plain": [
       "1.4560832005096076"
      ]
     },
     "execution_count": 19,
     "metadata": {},
     "output_type": "execute_result"
    }
   ],
   "source": [
    "npla.cond(A)"
   ]
  },
  {
   "cell_type": "markdown",
   "metadata": {},
   "source": [
    "# Matrix view of Jacobi"
   ]
  },
  {
   "cell_type": "code",
   "execution_count": 20,
   "metadata": {},
   "outputs": [
    {
     "data": {
      "text/plain": [
       "array([[ 3,  1],\n",
       "       [-2,  4]])"
      ]
     },
     "execution_count": 20,
     "metadata": {},
     "output_type": "execute_result"
    }
   ],
   "source": [
    "A"
   ]
  },
  {
   "cell_type": "code",
   "execution_count": 21,
   "metadata": {},
   "outputs": [
    {
     "data": {
      "text/plain": [
       "array([3, 4])"
      ]
     },
     "execution_count": 21,
     "metadata": {},
     "output_type": "execute_result"
    }
   ],
   "source": [
    "d = A.diagonal()\n",
    "d"
   ]
  },
  {
   "cell_type": "code",
   "execution_count": 22,
   "metadata": {},
   "outputs": [
    {
     "data": {
      "text/plain": [
       "array([[3, 0],\n",
       "       [0, 4]])"
      ]
     },
     "execution_count": 22,
     "metadata": {},
     "output_type": "execute_result"
    }
   ],
   "source": [
    "D = np.diag(d)\n",
    "D"
   ]
  },
  {
   "cell_type": "code",
   "execution_count": 23,
   "metadata": {},
   "outputs": [
    {
     "data": {
      "text/plain": [
       "array([[ 0,  1],\n",
       "       [-2,  0]])"
      ]
     },
     "execution_count": 23,
     "metadata": {},
     "output_type": "execute_result"
    }
   ],
   "source": [
    "C = A - D\n",
    "C"
   ]
  },
  {
   "cell_type": "code",
   "execution_count": 24,
   "metadata": {},
   "outputs": [
    {
     "data": {
      "text/plain": [
       "array([0., 0.])"
      ]
     },
     "execution_count": 24,
     "metadata": {},
     "output_type": "execute_result"
    }
   ],
   "source": [
    "# initial guess x = 0\n",
    "x = np.zeros(2)\n",
    "x"
   ]
  },
  {
   "cell_type": "code",
   "execution_count": 25,
   "metadata": {},
   "outputs": [
    {
     "name": "stdout",
     "output_type": "stream",
     "text": [
      "x: [3. 2.]\n",
      "relres: 0.5252257314388903\n"
     ]
    }
   ],
   "source": [
    "# try to improve the guess, matrix version\n",
    "x = (b - C@x) / d\n",
    "print('x:',x)\n",
    "\n",
    "relres = npla.norm(A@x-b)/npla.norm(b)\n",
    "print('relres:',relres)"
   ]
  },
  {
   "cell_type": "code",
   "execution_count": 26,
   "metadata": {},
   "outputs": [
    {
     "name": "stdout",
     "output_type": "stream",
     "text": [
      "x: [2.3333 3.5   ]\n",
      "relres: 0.1666666666666666\n"
     ]
    }
   ],
   "source": [
    "# try to improve the guess, matrix version\n",
    "x = (b - C@x) / d\n",
    "print('x:',x)\n",
    "\n",
    "relres = npla.norm(A@x-b)/npla.norm(b)\n",
    "print('relres:',relres)"
   ]
  },
  {
   "cell_type": "code",
   "execution_count": 27,
   "metadata": {},
   "outputs": [
    {
     "name": "stdout",
     "output_type": "stream",
     "text": [
      "x: [1.8333 3.1667]\n",
      "relres: 0.08753762190648182\n"
     ]
    }
   ],
   "source": [
    "# try to improve the guess, matrix version\n",
    "x = (b - C@x) / d\n",
    "print('x:',x)\n",
    "\n",
    "relres = npla.norm(A@x-b)/npla.norm(b)\n",
    "print('relres:',relres)"
   ]
  },
  {
   "cell_type": "code",
   "execution_count": 28,
   "metadata": {},
   "outputs": [
    {
     "name": "stdout",
     "output_type": "stream",
     "text": [
      "iteration 0 x: [3. 2.] , relres: 0.5252257314388903\n",
      "iteration 1 x: [2.3333 3.5   ] , relres: 0.1666666666666666\n",
      "iteration 2 x: [1.8333 3.1667] , relres: 0.08753762190648182\n",
      "iteration 3 x: [1.9444 2.9167] , relres: 0.027777777777777832\n",
      "iteration 4 x: [2.0278 2.9722] , relres: 0.014589603651080349\n",
      "iteration 5 x: [2.0093 3.0139] , relres: 0.00462962962962965\n",
      "iteration 6 x: [1.9954 3.0046] , relres: 0.00243160060851345\n",
      "iteration 7 x: [1.9985 2.9977] , relres: 0.0007716049382715942\n",
      "iteration 8 x: [2.0008 2.9992] , relres: 0.0004052667680856294\n",
      "iteration 9 x: [2.0003 3.0004] , relres: 0.0001286008230453045\n",
      "iteration 10 x: [1.9999 3.0001] , relres: 6.754446134775651e-05\n",
      "iteration 11 x: [2.     2.9999] , relres: 2.143347050755075e-05\n",
      "iteration 12 x: [2. 3.] , relres: 1.1257410224711609e-05\n",
      "iteration 13 x: [2. 3.] , relres: 3.572245084626502e-06\n",
      "iteration 14 x: [2. 3.] , relres: 1.8762350374519347e-06\n",
      "iteration 15 x: [2. 3.] , relres: 5.953741808037523e-07\n",
      "iteration 16 x: [2. 3.] , relres: 3.1270583952089815e-07\n",
      "iteration 17 x: [2. 3.] , relres: 9.922902990936187e-08\n",
      "iteration 18 x: [2. 3.] , relres: 5.211764003288578e-08\n",
      "iteration 19 x: [2. 3.] , relres: 1.653817172098115e-08\n",
      "iteration 20 x: [2. 3.] , relres: 8.686273338814296e-09\n",
      "iteration 21 x: [2. 3.] , relres: 2.7563618330312806e-09\n",
      "iteration 22 x: [2. 3.] , relres: 1.4477123786337694e-09\n",
      "iteration 23 x: [2. 3.] , relres: 4.5939367559075863e-10\n",
      "iteration 24 x: [2. 3.] , relres: 2.412854508632904e-10\n"
     ]
    }
   ],
   "source": [
    "x = np.zeros(2)\n",
    "for i in range(25):\n",
    "    x = (b - C@x) / d\n",
    "    relres = npla.norm(A@x-b)/npla.norm(b)\n",
    "    print('iteration', i, 'x:', x, ', relres:' ,relres)"
   ]
  },
  {
   "cell_type": "code",
   "execution_count": null,
   "metadata": {},
   "outputs": [],
   "source": []
  }
 ],
 "metadata": {
  "kernelspec": {
   "display_name": "Python 3 (ipykernel)",
   "language": "python",
   "name": "python3"
  },
  "language_info": {
   "codemirror_mode": {
    "name": "ipython",
    "version": 3
   },
   "file_extension": ".py",
   "mimetype": "text/x-python",
   "name": "python",
   "nbconvert_exporter": "python",
   "pygments_lexer": "ipython3",
   "version": "3.9.15"
  }
 },
 "nbformat": 4,
 "nbformat_minor": 2
}
