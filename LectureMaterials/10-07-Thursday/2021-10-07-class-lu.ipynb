{
 "cells": [
  {
   "cell_type": "markdown",
   "metadata": {},
   "source": [
    "# Transcript from Lecture 5, October 7, 2021\n"
   ]
  },
  {
   "cell_type": "code",
   "execution_count": 1,
   "metadata": {},
   "outputs": [],
   "source": [
    "import sys\n",
    "\n",
    "########################################\n",
    "# Change the string in the line below! #\n",
    "########################################\n",
    "sys.path.append(\"/Users/gilbert/Documents/CS111-2021-fall/Python\") \n",
    "\n",
    "import os\n",
    "import time\n",
    "import math\n",
    "import numpy as np\n",
    "import numpy.linalg as npla\n",
    "import scipy\n",
    "from scipy import linalg as spla\n",
    "import scipy.sparse\n",
    "import scipy.sparse.linalg\n",
    "from scipy import integrate\n",
    "import networkx as nx\n",
    "import cs111\n",
    "\n",
    "##########################################################\n",
    "# If this import for matplotlib doesn't work, try saying #\n",
    "#   conda install -c conda-forge ipympl                  #\n",
    "# at a shell prompt on your computer                     #\n",
    "##########################################################\n",
    "import matplotlib\n",
    "%matplotlib ipympl\n",
    "\n",
    "import matplotlib.pyplot as plt\n",
    "from matplotlib import cm\n",
    "from mpl_toolkits.mplot3d import axes3d\n",
    "\n",
    "\n",
    "\n",
    "\n",
    "np.set_printoptions(precision = 4)"
   ]
  },
  {
   "cell_type": "markdown",
   "metadata": {},
   "source": [
    "# Easy matrices to solve with"
   ]
  },
  {
   "cell_type": "code",
   "execution_count": 2,
   "metadata": {},
   "outputs": [
    {
     "data": {
      "text/plain": [
       "array([[ 1. ,  0. ,  0. ,  0. ],\n",
       "       [ 0.5,  1. ,  0. ,  0. ],\n",
       "       [ 0. ,  0.5,  1. ,  0. ],\n",
       "       [-0.5, -0.5,  0. ,  1. ]])"
      ]
     },
     "execution_count": 2,
     "metadata": {},
     "output_type": "execute_result"
    }
   ],
   "source": [
    "# Unit lower triangular (ones on the diagonal)\n",
    "L = L = np.array([[1,0,0,0], [.5,1,0,0], [0,.5,1,0], [-.5,-.5,0,1]])\n",
    "L"
   ]
  },
  {
   "cell_type": "code",
   "execution_count": 3,
   "metadata": {},
   "outputs": [
    {
     "name": "stdout",
     "output_type": "stream",
     "text": [
      "b: [9.2272e-01 7.8387e-05 5.1428e-01 4.8955e-02]\n"
     ]
    }
   ],
   "source": [
    "# Make a right-hand side \n",
    "b = np.random.rand(4)\n",
    "print(\"b:\", b)"
   ]
  },
  {
   "cell_type": "code",
   "execution_count": 4,
   "metadata": {},
   "outputs": [
    {
     "name": "stdout",
     "output_type": "stream",
     "text": [
      "x: [ 0.9227 -0.4613  0.7449  0.2797]\n",
      "\n",
      "b - Lx: [0. 0. 0. 0.]\n"
     ]
    }
   ],
   "source": [
    "# Solve with unit lower triangular\n",
    "x = cs111.Lsolve(L, b)\n",
    "print(\"x:\", x)\n",
    "print()\n",
    "print(\"b - Lx:\", b - L@x)  # residual vector"
   ]
  },
  {
   "cell_type": "code",
   "execution_count": 5,
   "metadata": {},
   "outputs": [
    {
     "data": {
      "text/plain": [
       "array([[2, 7, 1, 8],\n",
       "       [0, 2, 8, 1],\n",
       "       [0, 0, 8, 2],\n",
       "       [0, 0, 0, 8]])"
      ]
     },
     "execution_count": 5,
     "metadata": {},
     "output_type": "execute_result"
    }
   ],
   "source": [
    "# Upper triangular (not unit diagonal)\n",
    "U = np.array([[2,7,1,8], [0,2,8,1], [0,0,8,2], [0,0,0,8]])\n",
    "U"
   ]
  },
  {
   "cell_type": "code",
   "execution_count": 6,
   "metadata": {},
   "outputs": [
    {
     "name": "stdout",
     "output_type": "stream",
     "text": [
      "b: [0.9057 0.6007 0.3195 0.8634]\n"
     ]
    }
   ],
   "source": [
    "# Make a new right-hand side \n",
    "b = np.random.rand(4)\n",
    "print(\"b:\", b)"
   ]
  },
  {
   "cell_type": "code",
   "execution_count": 7,
   "metadata": {},
   "outputs": [
    {
     "name": "stdout",
     "output_type": "stream",
     "text": [
      "x: [-0.6665  0.1946  0.013   0.1079]\n",
      "\n",
      "b - Ux: [0. 0. 0. 0.]\n"
     ]
    }
   ],
   "source": [
    "# Solve with general upper triangular\n",
    "x = cs111.Usolve(U, b)\n",
    "print(\"x:\", x)\n",
    "print()\n",
    "print(\"b - Ux:\", b - U@x)"
   ]
  },
  {
   "cell_type": "markdown",
   "metadata": {},
   "source": [
    "# Solving Ax = b when you know a factorization into easy matrices"
   ]
  },
  {
   "cell_type": "code",
   "execution_count": 8,
   "metadata": {},
   "outputs": [
    {
     "data": {
      "text/plain": [
       "array([[ 2. ,  7. ,  1. ,  8. ],\n",
       "       [ 1. ,  5.5,  8.5,  5. ],\n",
       "       [ 0. ,  1. , 12. ,  2.5],\n",
       "       [-1. , -4.5, -4.5,  3.5]])"
      ]
     },
     "execution_count": 8,
     "metadata": {},
     "output_type": "execute_result"
    }
   ],
   "source": [
    "# Now a different matrix A and right-hand side vector b\n",
    "A = np.array([[ 2. ,  7. ,  1. ,  8. ],\n",
    "       [ 1. ,  5.5,  8.5,  5. ],\n",
    "       [ 0. ,  1. , 12. ,  2.5],\n",
    "       [-1. , -4.5, -4.5,  3.5]])\n",
    "A"
   ]
  },
  {
   "cell_type": "code",
   "execution_count": 9,
   "metadata": {},
   "outputs": [
    {
     "data": {
      "text/plain": [
       "array([[ 2. ,  7. ,  1. ,  8. ],\n",
       "       [ 1. ,  5.5,  8.5,  5. ],\n",
       "       [ 0. ,  1. , 12. ,  2.5],\n",
       "       [-1. , -4.5, -4.5,  3.5]])"
      ]
     },
     "execution_count": 9,
     "metadata": {},
     "output_type": "execute_result"
    }
   ],
   "source": [
    "L @ U"
   ]
  },
  {
   "cell_type": "code",
   "execution_count": 10,
   "metadata": {},
   "outputs": [
    {
     "data": {
      "text/plain": [
       "array([[0., 0., 0., 0.],\n",
       "       [0., 0., 0., 0.],\n",
       "       [0., 0., 0., 0.],\n",
       "       [0., 0., 0., 0.]])"
      ]
     },
     "execution_count": 10,
     "metadata": {},
     "output_type": "execute_result"
    }
   ],
   "source": [
    "A - L@U"
   ]
  },
  {
   "cell_type": "markdown",
   "metadata": {},
   "source": [
    "Since **A==L@U**, we can substitute **L@U** for **A**:\n",
    "\n",
    "> **A @ x == b**  is the same as  **(L @ U) @ x == b**\n",
    "    \n",
    "Since matrix and vector multiplication is associative, we can rearrange the parentheses:\n",
    "\n",
    "> **(L @ U) @ x == b**  is the same as   **L @ (U @ x) == b**\n",
    "    \n",
    "Now define **y==U@x**. Substituting, we see that \n",
    "\n",
    "> **L @ (U @ x) == b**  is the same as  **L @ y == b**\n",
    "    \n",
    "We solve first for **y**, then for **x**."
   ]
  },
  {
   "cell_type": "code",
   "execution_count": 11,
   "metadata": {},
   "outputs": [
    {
     "name": "stdout",
     "output_type": "stream",
     "text": [
      "b: [0.9057 0.6007 0.3195 0.8634]\n",
      "\n",
      "y: [0.9057 0.1479 0.2455 1.3902]\n",
      "\n",
      "x: [-0.3691  0.0381 -0.0128  0.1738]\n",
      "\n",
      "A @ x: [0.9057 0.6007 0.3195 0.8634]\n",
      "\n",
      "b - A @ x: [ 1.1102e-16  0.0000e+00  0.0000e+00 -1.1102e-16]\n"
     ]
    }
   ],
   "source": [
    "print(\"b:\", b)\n",
    "print()\n",
    "\n",
    "y = cs111.Lsolve(L, b)\n",
    "print(\"y:\", y)\n",
    "print()\n",
    "\n",
    "x = cs111.Usolve(U, y)\n",
    "print(\"x:\", x)\n",
    "print()\n",
    "\n",
    "print(\"A @ x:\", A @ x)\n",
    "print()\n",
    "\n",
    "print(\"b - A @ x:\", b - A @ x)"
   ]
  },
  {
   "cell_type": "markdown",
   "metadata": {},
   "source": [
    "Where do all those tiny numbers come from? Floating-point! We'll get back to that later."
   ]
  },
  {
   "cell_type": "markdown",
   "metadata": {},
   "source": [
    "# Factoring A = LU by Gaussian elimination"
   ]
  },
  {
   "cell_type": "code",
   "execution_count": 12,
   "metadata": {},
   "outputs": [],
   "source": [
    "# Just to see that our LUfactor does the right thing\n",
    "\n",
    "LL, UU = cs111.LUfactorNoPiv(A)"
   ]
  },
  {
   "cell_type": "code",
   "execution_count": 13,
   "metadata": {},
   "outputs": [
    {
     "data": {
      "text/plain": [
       "array([[ 1. ,  0. ,  0. ,  0. ],\n",
       "       [ 0.5,  1. ,  0. ,  0. ],\n",
       "       [ 0. ,  0.5,  1. ,  0. ],\n",
       "       [-0.5, -0.5,  0. ,  1. ]])"
      ]
     },
     "execution_count": 13,
     "metadata": {},
     "output_type": "execute_result"
    }
   ],
   "source": [
    "LL"
   ]
  },
  {
   "cell_type": "code",
   "execution_count": 14,
   "metadata": {},
   "outputs": [
    {
     "data": {
      "text/plain": [
       "array([[ 1. ,  0. ,  0. ,  0. ],\n",
       "       [ 0.5,  1. ,  0. ,  0. ],\n",
       "       [ 0. ,  0.5,  1. ,  0. ],\n",
       "       [-0.5, -0.5,  0. ,  1. ]])"
      ]
     },
     "execution_count": 14,
     "metadata": {},
     "output_type": "execute_result"
    }
   ],
   "source": [
    "L"
   ]
  },
  {
   "cell_type": "code",
   "execution_count": 15,
   "metadata": {},
   "outputs": [
    {
     "data": {
      "text/plain": [
       "array([[0., 0., 0., 0.],\n",
       "       [0., 0., 0., 0.],\n",
       "       [0., 0., 0., 0.],\n",
       "       [0., 0., 0., 0.]])"
      ]
     },
     "execution_count": 15,
     "metadata": {},
     "output_type": "execute_result"
    }
   ],
   "source": [
    "UU - U"
   ]
  },
  {
   "cell_type": "code",
   "execution_count": 16,
   "metadata": {},
   "outputs": [
    {
     "data": {
      "text/plain": [
       "array([[56.0049,  4.3766, 73.0235, 92.4498, 48.5622, 54.8524],\n",
       "       [78.4349, 30.052 , 29.2583, 99.4134, 70.8832,  9.412 ],\n",
       "       [ 0.5388, 57.8575, 20.2247, 59.8533, 46.0114, 58.8706],\n",
       "       [17.9577, 20.1103, 68.6195,  7.0729, 70.2326, 64.9586],\n",
       "       [98.025 ,  7.376 , 86.7564, 41.4854, 54.63  , 65.162 ],\n",
       "       [ 2.1294, 95.6386, 99.0477, 27.7796, 64.5426, 89.7163]])"
      ]
     },
     "execution_count": 16,
     "metadata": {},
     "output_type": "execute_result"
    }
   ],
   "source": [
    "# Now let's try a new example. \n",
    "n = 6\n",
    "\n",
    "A = np.random.random((n,n))*100\n",
    "A"
   ]
  },
  {
   "cell_type": "code",
   "execution_count": 17,
   "metadata": {},
   "outputs": [
    {
     "name": "stdout",
     "output_type": "stream",
     "text": [
      "b: [0.008  0.6689 0.6368 0.3487 0.4378 0.4994]\n"
     ]
    }
   ],
   "source": [
    "b = np.random.random(n)\n",
    "print(\"b:\", b)"
   ]
  },
  {
   "cell_type": "code",
   "execution_count": 18,
   "metadata": {},
   "outputs": [],
   "source": [
    "L, U = cs111.LUfactorNoPiv(A)"
   ]
  },
  {
   "cell_type": "code",
   "execution_count": 19,
   "metadata": {},
   "outputs": [
    {
     "data": {
      "text/plain": [
       "array([[ 1.    ,  0.    ,  0.    ,  0.    ,  0.    ,  0.    ],\n",
       "       [ 1.4005,  1.    ,  0.    ,  0.    ,  0.    ,  0.    ],\n",
       "       [ 0.0096,  2.4168,  1.    ,  0.    ,  0.    ,  0.    ],\n",
       "       [ 0.3206,  0.782 ,  0.522 ,  1.    ,  0.    ,  0.    ],\n",
       "       [ 1.7503, -0.0119, -0.2139,  1.3654,  1.    ,  0.    ],\n",
       "       [ 0.038 ,  3.9909,  1.9781,  1.7134,  1.2159,  1.    ]])"
      ]
     },
     "execution_count": 19,
     "metadata": {},
     "output_type": "execute_result"
    }
   ],
   "source": [
    "L"
   ]
  },
  {
   "cell_type": "code",
   "execution_count": 20,
   "metadata": {},
   "outputs": [
    {
     "data": {
      "text/plain": [
       "array([[ 56.0049,   4.3766,  73.0235,  92.4498,  48.5622,  54.8524],\n",
       "       [  0.    ,  23.9226, -73.0111, -30.0625,   2.8718, -67.4089],\n",
       "       [  0.    ,   0.    , 195.9733, 131.6182,  38.6037, 221.2546],\n",
       "       [  0.    ,   0.    ,   0.    , -67.7671,  32.2646, -15.4121],\n",
       "       [  0.    ,   0.    ,   0.    ,   0.    , -66.1299,  36.729 ],\n",
       "       [  0.    ,   0.    ,   0.    ,   0.    ,   0.    , -99.2587]])"
      ]
     },
     "execution_count": 20,
     "metadata": {},
     "output_type": "execute_result"
    }
   ],
   "source": [
    "U"
   ]
  },
  {
   "cell_type": "code",
   "execution_count": 21,
   "metadata": {},
   "outputs": [
    {
     "name": "stdout",
     "output_type": "stream",
     "text": [
      "b: [0.008  0.6689 0.6368 0.3487 0.4378 0.4994]\n",
      "\n",
      "y: [ 0.008   0.6578 -0.953   0.3293 -0.2218 -0.5354]\n",
      "\n",
      "x: [ 0.0071  0.0071 -0.0101 -0.0031  0.0064  0.0054]\n",
      "\n",
      "A @ x: [0.008  0.6689 0.6368 0.3487 0.4378 0.4994]\n",
      "\n",
      "b - A @ x: [ 1.1102e-16 -2.2204e-16  0.0000e+00  1.1102e-16  0.0000e+00 -6.6613e-16]\n"
     ]
    }
   ],
   "source": [
    "print(\"b:\", b)\n",
    "print()\n",
    "\n",
    "y = cs111.Lsolve(L, b)\n",
    "print(\"y:\", y)\n",
    "print()\n",
    "\n",
    "x = cs111.Usolve(U, y)\n",
    "print(\"x:\", x)\n",
    "print()\n",
    "\n",
    "print(\"A @ x:\", A @ x)\n",
    "print()\n",
    "\n",
    "print(\"b - A @ x:\", b - A @ x)"
   ]
  },
  {
   "cell_type": "markdown",
   "metadata": {},
   "source": [
    "<b>What is the asymptotic running time of cs111.LUfactorNoPiv(A)?"
   ]
  },
  {
   "cell_type": "markdown",
   "metadata": {},
   "source": [
    "# Permuting rows of A : Partial pivoting"
   ]
  },
  {
   "cell_type": "code",
   "execution_count": 22,
   "metadata": {},
   "outputs": [
    {
     "data": {
      "text/plain": [
       "array([[1, 1, 2],\n",
       "       [1, 1, 3],\n",
       "       [2, 3, 4]])"
      ]
     },
     "execution_count": 22,
     "metadata": {},
     "output_type": "execute_result"
    }
   ],
   "source": [
    "A = np.array([[1,1,2], [1,1,3], [2,3,4]])\n",
    "A"
   ]
  },
  {
   "cell_type": "code",
   "execution_count": 23,
   "metadata": {
    "scrolled": true
   },
   "outputs": [
    {
     "ename": "AssertionError",
     "evalue": "pivot is zero, can't continue",
     "output_type": "error",
     "traceback": [
      "\u001b[0;31m--------------------------------------------------------------------------\u001b[0m",
      "\u001b[0;31mAssertionError\u001b[0m                           Traceback (most recent call last)",
      "\u001b[0;32m<ipython-input-23-58335946a7d3>\u001b[0m in \u001b[0;36m<module>\u001b[0;34m()\u001b[0m\n\u001b[0;32m----> 1\u001b[0;31m \u001b[0mL\u001b[0m\u001b[0;34m,\u001b[0m \u001b[0mU\u001b[0m \u001b[0;34m=\u001b[0m \u001b[0mcs111\u001b[0m\u001b[0;34m.\u001b[0m\u001b[0mLUfactorNoPiv\u001b[0m\u001b[0;34m(\u001b[0m\u001b[0mA\u001b[0m\u001b[0;34m)\u001b[0m\u001b[0;34m\u001b[0m\u001b[0m\n\u001b[0m",
      "\u001b[0;32m~/Documents/CS111-2021-fall/Python/prep/cs111/LU.py\u001b[0m in \u001b[0;36mLUfactorNoPiv\u001b[0;34m(A)\u001b[0m\n\u001b[1;32m     29\u001b[0m         \u001b[0;31m# Update the rest of the matrix\u001b[0m\u001b[0;34m\u001b[0m\u001b[0;34m\u001b[0m\u001b[0m\n\u001b[1;32m     30\u001b[0m         \u001b[0mpivot\u001b[0m \u001b[0;34m=\u001b[0m \u001b[0mLU\u001b[0m\u001b[0;34m[\u001b[0m\u001b[0mpiv_col\u001b[0m\u001b[0;34m,\u001b[0m \u001b[0mpiv_col\u001b[0m\u001b[0;34m]\u001b[0m\u001b[0;34m\u001b[0m\u001b[0m\n\u001b[0;32m---> 31\u001b[0;31m         \u001b[0;32massert\u001b[0m \u001b[0mpivot\u001b[0m \u001b[0;34m!=\u001b[0m \u001b[0;36m0.\u001b[0m\u001b[0;34m,\u001b[0m \u001b[0;34m\"pivot is zero, can't continue\"\u001b[0m\u001b[0;34m\u001b[0m\u001b[0m\n\u001b[0m\u001b[1;32m     32\u001b[0m         \u001b[0;32mfor\u001b[0m \u001b[0mrow\u001b[0m \u001b[0;32min\u001b[0m \u001b[0mrange\u001b[0m\u001b[0;34m(\u001b[0m\u001b[0mpiv_col\u001b[0m \u001b[0;34m+\u001b[0m \u001b[0;36m1\u001b[0m\u001b[0;34m,\u001b[0m \u001b[0mn\u001b[0m\u001b[0;34m)\u001b[0m\u001b[0;34m:\u001b[0m\u001b[0;34m\u001b[0m\u001b[0m\n\u001b[1;32m     33\u001b[0m             \u001b[0mmultiplier\u001b[0m \u001b[0;34m=\u001b[0m \u001b[0mLU\u001b[0m\u001b[0;34m[\u001b[0m\u001b[0mrow\u001b[0m\u001b[0;34m,\u001b[0m \u001b[0mpiv_col\u001b[0m\u001b[0;34m]\u001b[0m \u001b[0;34m/\u001b[0m \u001b[0mpivot\u001b[0m\u001b[0;34m\u001b[0m\u001b[0m\n",
      "\u001b[0;31mAssertionError\u001b[0m: pivot is zero, can't continue"
     ]
    }
   ],
   "source": [
    "L, U = cs111.LUfactorNoPiv(A)"
   ]
  },
  {
   "cell_type": "code",
   "execution_count": 24,
   "metadata": {},
   "outputs": [],
   "source": [
    "# LU factorization with partial pivoting ('partial pivoting' means 'permute rows, not columns, of A')\n",
    "L, U, p = cs111.LUfactor(A)"
   ]
  },
  {
   "cell_type": "code",
   "execution_count": 25,
   "metadata": {},
   "outputs": [
    {
     "data": {
      "text/plain": [
       "array([[1. , 0. , 0. ],\n",
       "       [0.5, 1. , 0. ],\n",
       "       [0.5, 1. , 1. ]])"
      ]
     },
     "execution_count": 25,
     "metadata": {},
     "output_type": "execute_result"
    }
   ],
   "source": [
    "L"
   ]
  },
  {
   "cell_type": "code",
   "execution_count": 26,
   "metadata": {},
   "outputs": [
    {
     "data": {
      "text/plain": [
       "array([[ 2. ,  3. ,  4. ],\n",
       "       [ 0. , -0.5,  1. ],\n",
       "       [ 0. ,  0. , -1. ]])"
      ]
     },
     "execution_count": 26,
     "metadata": {},
     "output_type": "execute_result"
    }
   ],
   "source": [
    "U"
   ]
  },
  {
   "cell_type": "code",
   "execution_count": 28,
   "metadata": {},
   "outputs": [
    {
     "name": "stdout",
     "output_type": "stream",
     "text": [
      "p: [2 1 0]\n"
     ]
    }
   ],
   "source": [
    "# The permutation of the rows of A\n",
    "print(\"p:\", p)"
   ]
  },
  {
   "cell_type": "code",
   "execution_count": 29,
   "metadata": {},
   "outputs": [
    {
     "data": {
      "text/plain": [
       "array([[2., 3., 4.],\n",
       "       [1., 1., 3.],\n",
       "       [1., 1., 2.]])"
      ]
     },
     "execution_count": 29,
     "metadata": {},
     "output_type": "execute_result"
    }
   ],
   "source": [
    "L @ U"
   ]
  },
  {
   "cell_type": "code",
   "execution_count": 30,
   "metadata": {},
   "outputs": [
    {
     "data": {
      "text/plain": [
       "array([[1, 1, 2],\n",
       "       [1, 1, 3],\n",
       "       [2, 3, 4]])"
      ]
     },
     "execution_count": 30,
     "metadata": {},
     "output_type": "execute_result"
    }
   ],
   "source": [
    "A"
   ]
  },
  {
   "cell_type": "code",
   "execution_count": 31,
   "metadata": {},
   "outputs": [
    {
     "data": {
      "text/plain": [
       "array([[2, 3, 4],\n",
       "       [1, 1, 3],\n",
       "       [1, 1, 2]])"
      ]
     },
     "execution_count": 31,
     "metadata": {},
     "output_type": "execute_result"
    }
   ],
   "source": [
    "A[p, :]"
   ]
  },
  {
   "cell_type": "code",
   "execution_count": 32,
   "metadata": {},
   "outputs": [
    {
     "name": "stdout",
     "output_type": "stream",
     "text": [
      "b: [0.2715 0.5577 0.045 ]\n"
     ]
    }
   ],
   "source": [
    "n = A.shape[0]\n",
    "b = np.random.random(n)\n",
    "print(\"b:\", b)"
   ]
  },
  {
   "cell_type": "code",
   "execution_count": 33,
   "metadata": {},
   "outputs": [
    {
     "name": "stdout",
     "output_type": "stream",
     "text": [
      "b: [0.2715 0.5577 0.045 ]\n",
      "\n",
      "b[p]: [0.045  0.5577 0.2715]\n",
      "\n",
      "y: [ 0.045   0.5352 -0.2862]\n",
      "\n",
      "x: [ 0.1969 -0.4979  0.2862]\n",
      "\n",
      "A @ x: [0.2715 0.5577 0.045 ]\n",
      "\n",
      "b - A @ x: [ 0.0000e+00 -1.1102e-16 -1.1102e-16]\n"
     ]
    }
   ],
   "source": [
    "# A complete solve with partial pivoting\n",
    "print(\"b:\", b)\n",
    "print()\n",
    "\n",
    "print(\"b[p]:\", b[p])\n",
    "print()\n",
    "\n",
    "y = cs111.Lsolve(L, b[p])\n",
    "print(\"y:\", y)\n",
    "print()\n",
    "\n",
    "x = cs111.Usolve(U, y)\n",
    "print(\"x:\", x)\n",
    "print()\n",
    "\n",
    "print(\"A @ x:\", A @ x)\n",
    "print()\n",
    "\n",
    "print(\"b - A @ x:\", b - A @ x)"
   ]
  },
  {
   "cell_type": "markdown",
   "metadata": {},
   "source": [
    "<b>What is the asymptotic running time of L, U, p = cs111.LUfactor(A)?"
   ]
  },
  {
   "cell_type": "markdown",
   "metadata": {},
   "source": [
    "# Putting it all together: LUsolve"
   ]
  },
  {
   "cell_type": "code",
   "execution_count": 34,
   "metadata": {},
   "outputs": [
    {
     "name": "stdout",
     "output_type": "stream",
     "text": [
      "b: [0.2715 0.5577 0.045 ]\n",
      "\n",
      "x: [ 0.1969 -0.4979  0.2862]\n",
      "\n",
      "A @ x: [0.2715 0.5577 0.045 ]\n",
      "\n",
      "b - A @ x: [ 0.0000e+00 -1.1102e-16 -1.1102e-16]\n"
     ]
    }
   ],
   "source": [
    "print(\"b:\", b)\n",
    "print()\n",
    "\n",
    "x, rel_res = cs111.LUsolve(A, b)\n",
    "print(\"x:\", x)\n",
    "print()\n",
    "\n",
    "print(\"A @ x:\", A @ x)\n",
    "print()\n",
    "\n",
    "print(\"b - A @ x:\", b - A @ x)"
   ]
  },
  {
   "cell_type": "markdown",
   "metadata": {},
   "source": [
    "<b>What is the asymptotic running time of L, U, p = cs111.LUsolve(A)?"
   ]
  },
  {
   "cell_type": "markdown",
   "metadata": {},
   "source": [
    "# How good is the answer? Measuring accuracy"
   ]
  },
  {
   "cell_type": "code",
   "execution_count": null,
   "metadata": {},
   "outputs": [],
   "source": [
    "# Next time!"
   ]
  },
  {
   "cell_type": "code",
   "execution_count": null,
   "metadata": {},
   "outputs": [],
   "source": []
  }
 ],
 "metadata": {
  "kernelspec": {
   "display_name": "Python 3",
   "language": "python",
   "name": "python3"
  },
  "language_info": {
   "codemirror_mode": {
    "name": "ipython",
    "version": 3
   },
   "file_extension": ".py",
   "mimetype": "text/x-python",
   "name": "python",
   "nbconvert_exporter": "python",
   "pygments_lexer": "ipython3",
   "version": "3.6.5"
  }
 },
 "nbformat": 4,
 "nbformat_minor": 2
}
