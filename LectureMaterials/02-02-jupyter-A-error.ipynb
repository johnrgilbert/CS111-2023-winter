{
 "cells": [
  {
   "cell_type": "markdown",
   "metadata": {},
   "source": [
    "# Transcript A from Lecture, February 2, 2023\n"
   ]
  },
  {
   "cell_type": "code",
   "execution_count": 1,
   "metadata": {},
   "outputs": [],
   "source": [
    "import sys\n",
    "\n",
    "########################################\n",
    "# Change the string in the line below! #\n",
    "########################################\n",
    "sys.path.append(\"/Users/gilbert/Documents/CS111-2023-winter/Python\") \n",
    "\n",
    "import os\n",
    "import time\n",
    "import math\n",
    "import numpy as np\n",
    "import numpy.linalg as npla\n",
    "import scipy\n",
    "from scipy import linalg as spla\n",
    "import scipy.sparse\n",
    "import scipy.sparse.linalg\n",
    "from scipy import integrate\n",
    "import networkx as nx\n",
    "import cs111\n",
    "\n",
    "##########################################################\n",
    "# If this import for matplotlib doesn't work, try saying #\n",
    "#   conda install -c conda-forge ipympl                  #\n",
    "# at a shell prompt on your computer                     #\n",
    "##########################################################\n",
    "import matplotlib\n",
    "%matplotlib ipympl\n",
    "\n",
    "import matplotlib.pyplot as plt\n",
    "from matplotlib import cm\n",
    "from mpl_toolkits.mplot3d import axes3d\n",
    "\n",
    "\n",
    "\n",
    "\n",
    "np.set_printoptions(precision = 4)"
   ]
  },
  {
   "cell_type": "markdown",
   "metadata": {},
   "source": [
    "# Condition number, residual, and error"
   ]
  },
  {
   "cell_type": "code",
   "execution_count": 2,
   "metadata": {},
   "outputs": [],
   "source": [
    "A = np.random.random((10,10))"
   ]
  },
  {
   "cell_type": "code",
   "execution_count": 3,
   "metadata": {},
   "outputs": [
    {
     "name": "stdout",
     "output_type": "stream",
     "text": [
      "b: [4.5607 5.5798 4.6385 4.5139 3.4155 5.7983 3.9399 3.8312 7.1501 5.6038]\n"
     ]
    }
   ],
   "source": [
    "x_exact = np.ones(A.shape[1])\n",
    "b = A @ x_exact\n",
    "print('b:', b)"
   ]
  },
  {
   "cell_type": "code",
   "execution_count": 4,
   "metadata": {},
   "outputs": [
    {
     "name": "stdout",
     "output_type": "stream",
     "text": [
      "x: [1. 1. 1. 1. 1. 1. 1. 1. 1. 1.]\n"
     ]
    }
   ],
   "source": [
    "x = npla.solve(A, b)\n",
    "\n",
    "print('x:', x)\n"
   ]
  },
  {
   "cell_type": "code",
   "execution_count": 5,
   "metadata": {},
   "outputs": [
    {
     "name": "stdout",
     "output_type": "stream",
     "text": [
      "n: 10\n",
      "\n",
      "relative residual norm: 8.395167502665058e-17\n",
      "relative error norm: 2.885084945932456e-15\n",
      "\n",
      "condition number of A: 72.41659362588157\n"
     ]
    }
   ],
   "source": [
    "residual = b - A @ x\n",
    "error = x_exact - x\n",
    "\n",
    "print('n:', A.shape[1])\n",
    "print()\n",
    "print('relative residual norm:', npla.norm(residual)/npla.norm(b))\n",
    "print('relative error norm:', npla.norm(error)/npla.norm(x_exact))\n",
    "print()\n",
    "print('condition number of A:', npla.cond(A, 2))"
   ]
  },
  {
   "cell_type": "markdown",
   "metadata": {},
   "source": [
    "# The Hilbert matrix, an ill-conditioned example"
   ]
  },
  {
   "cell_type": "code",
   "execution_count": 6,
   "metadata": {},
   "outputs": [],
   "source": [
    "def hilbert(n):\n",
    "    \"\"\"n-by-n Hilbert matrix, a famous example of an ill-conditioned matrix\"\"\"\n",
    "    A = np.zeros((n,n))\n",
    "    for i in range(n):\n",
    "        for j in range(n):\n",
    "            A[i,j] = 1 / (i + j + 1)\n",
    "    return A"
   ]
  },
  {
   "cell_type": "code",
   "execution_count": 7,
   "metadata": {
    "scrolled": true
   },
   "outputs": [
    {
     "name": "stdout",
     "output_type": "stream",
     "text": [
      "hilbert(4):\n",
      " [[1.     0.5    0.3333 0.25  ]\n",
      " [0.5    0.3333 0.25   0.2   ]\n",
      " [0.3333 0.25   0.2    0.1667]\n",
      " [0.25   0.2    0.1667 0.1429]]\n"
     ]
    }
   ],
   "source": [
    "print('hilbert(4):\\n', hilbert(4))"
   ]
  },
  {
   "cell_type": "code",
   "execution_count": 8,
   "metadata": {
    "scrolled": true
   },
   "outputs": [
    {
     "name": "stdout",
     "output_type": "stream",
     "text": [
      "singular values: [1.5002e+00 1.6914e-01 6.7383e-03 9.6702e-05]\n"
     ]
    }
   ],
   "source": [
    "U, S, Vt = npla.svd(hilbert(4))\n",
    "print('singular values:', S)"
   ]
  },
  {
   "cell_type": "code",
   "execution_count": 9,
   "metadata": {},
   "outputs": [
    {
     "data": {
      "text/plain": [
       "4"
      ]
     },
     "execution_count": 9,
     "metadata": {},
     "output_type": "execute_result"
    }
   ],
   "source": [
    "A = hilbert(4)\n",
    "npla.matrix_rank(A)"
   ]
  },
  {
   "cell_type": "code",
   "execution_count": 10,
   "metadata": {},
   "outputs": [
    {
     "data": {
      "text/plain": [
       "1.500214280059243"
      ]
     },
     "execution_count": 10,
     "metadata": {},
     "output_type": "execute_result"
    }
   ],
   "source": [
    "npla.norm(A,2)"
   ]
  },
  {
   "cell_type": "code",
   "execution_count": 11,
   "metadata": {},
   "outputs": [
    {
     "data": {
      "text/plain": [
       "15513.738738928929"
      ]
     },
     "execution_count": 11,
     "metadata": {},
     "output_type": "execute_result"
    }
   ],
   "source": [
    "npla.cond(A,2)"
   ]
  },
  {
   "cell_type": "code",
   "execution_count": 12,
   "metadata": {},
   "outputs": [
    {
     "name": "stdout",
     "output_type": "stream",
     "text": [
      "hilbert(10):\n",
      " [[1.     0.5    0.3333 0.25   0.2    0.1667 0.1429 0.125  0.1111 0.1   ]\n",
      " [0.5    0.3333 0.25   0.2    0.1667 0.1429 0.125  0.1111 0.1    0.0909]\n",
      " [0.3333 0.25   0.2    0.1667 0.1429 0.125  0.1111 0.1    0.0909 0.0833]\n",
      " [0.25   0.2    0.1667 0.1429 0.125  0.1111 0.1    0.0909 0.0833 0.0769]\n",
      " [0.2    0.1667 0.1429 0.125  0.1111 0.1    0.0909 0.0833 0.0769 0.0714]\n",
      " [0.1667 0.1429 0.125  0.1111 0.1    0.0909 0.0833 0.0769 0.0714 0.0667]\n",
      " [0.1429 0.125  0.1111 0.1    0.0909 0.0833 0.0769 0.0714 0.0667 0.0625]\n",
      " [0.125  0.1111 0.1    0.0909 0.0833 0.0769 0.0714 0.0667 0.0625 0.0588]\n",
      " [0.1111 0.1    0.0909 0.0833 0.0769 0.0714 0.0667 0.0625 0.0588 0.0556]\n",
      " [0.1    0.0909 0.0833 0.0769 0.0714 0.0667 0.0625 0.0588 0.0556 0.0526]]\n",
      "\n",
      "singular values: [1.7519e+00 3.4293e-01 3.5742e-02 2.5309e-03 1.2875e-04 4.7297e-06\n",
      " 1.2290e-07 2.1474e-09 2.2667e-11 1.0932e-13]\n"
     ]
    }
   ],
   "source": [
    "A = hilbert(10)\n",
    "print('hilbert(10):\\n', hilbert(10))\n",
    "print()\n",
    "U, S, Vt = npla.svd(A)\n",
    "print('singular values:', S)"
   ]
  },
  {
   "cell_type": "code",
   "execution_count": 13,
   "metadata": {},
   "outputs": [
    {
     "data": {
      "text/plain": [
       "array([2.929 , 2.0199, 1.6032, 1.3468, 1.1682, 1.0349, 0.9307, 0.8467,\n",
       "       0.7773, 0.7188])"
      ]
     },
     "execution_count": 13,
     "metadata": {},
     "output_type": "execute_result"
    }
   ],
   "source": [
    "x_exact = np.ones(A.shape[1])\n",
    "b = A @ x_exact\n",
    "b"
   ]
  },
  {
   "cell_type": "code",
   "execution_count": 14,
   "metadata": {},
   "outputs": [
    {
     "name": "stdout",
     "output_type": "stream",
     "text": [
      "x: [1.     1.     1.     1.     1.0001 0.9996 1.0006 0.9994 1.0003 0.9999]\n"
     ]
    }
   ],
   "source": [
    "x = npla.solve(A, b)\n",
    "\n",
    "print('x:', x)"
   ]
  },
  {
   "cell_type": "code",
   "execution_count": 15,
   "metadata": {},
   "outputs": [
    {
     "name": "stdout",
     "output_type": "stream",
     "text": [
      "n: 10\n",
      "\n",
      "relative residual norm: 1.0000930575135377e-16\n",
      "relative error norm: 0.00030059447258579624\n",
      "\n",
      "condition number of A: 16024909625167.58\n"
     ]
    }
   ],
   "source": [
    "residual = b - A @ x\n",
    "error = x_exact - x\n",
    "\n",
    "print('n:', A.shape[1])\n",
    "print()\n",
    "print('relative residual norm:', npla.norm(residual)/npla.norm(b))\n",
    "print('relative error norm:', npla.norm(error)/npla.norm(x_exact))\n",
    "print()\n",
    "print('condition number of A:', npla.cond(A, 2))"
   ]
  },
  {
   "cell_type": "code",
   "execution_count": 16,
   "metadata": {},
   "outputs": [
    {
     "data": {
      "text/plain": [
       "array([3.5977, 2.6454, 2.1908, 1.901 , 1.6926, 1.5326, 1.4044, 1.2986,\n",
       "       1.2093, 1.1327, 1.066 , 1.0074, 0.9553, 0.9087, 0.8666, 0.8286,\n",
       "       0.7938, 0.762 , 0.7328, 0.7058])"
      ]
     },
     "execution_count": 16,
     "metadata": {},
     "output_type": "execute_result"
    }
   ],
   "source": [
    "A = hilbert(20)\n",
    "x_exact = np.ones(A.shape[1])\n",
    "b = A @ x_exact\n",
    "b"
   ]
  },
  {
   "cell_type": "code",
   "execution_count": 17,
   "metadata": {},
   "outputs": [
    {
     "name": "stdout",
     "output_type": "stream",
     "text": [
      "x: [  1.       0.9998   1.0073   0.8847   1.9403  -3.245   11.1563  -6.9711\n",
      " -17.4924  49.382  -24.0222 -27.9156  13.1482  38.8323  11.1986 -78.8609\n",
      "  28.9709  56.3457 -50.3928  14.034 ]\n"
     ]
    }
   ],
   "source": [
    "x = npla.solve(A, b)\n",
    "\n",
    "print('x:', x)"
   ]
  },
  {
   "cell_type": "code",
   "execution_count": 18,
   "metadata": {},
   "outputs": [
    {
     "name": "stdout",
     "output_type": "stream",
     "text": [
      "n: 20\n",
      "\n",
      "relative residual norm: 5.880725188585429e-16\n",
      "relative error norm: 30.860877247847647\n",
      "\n",
      "condition number of A: 1.5315755993591903e+18\n"
     ]
    }
   ],
   "source": [
    "residual = b - A @ x\n",
    "error = x_exact - x\n",
    "\n",
    "print('n:', A.shape[1])\n",
    "print()\n",
    "print('relative residual norm:', npla.norm(residual)/npla.norm(b))\n",
    "print('relative error norm:', npla.norm(error)/npla.norm(x_exact))\n",
    "print()\n",
    "print('condition number of A:', npla.cond(A, 2))"
   ]
  },
  {
   "cell_type": "code",
   "execution_count": 19,
   "metadata": {},
   "outputs": [
    {
     "name": "stdout",
     "output_type": "stream",
     "text": [
      "singular values: [1.9071e+00 4.8704e-01 7.5596e-02 8.9611e-03 8.6767e-04 7.0334e-05\n",
      " 4.8305e-06 2.8277e-07 1.4140e-08 6.0361e-10 2.1929e-11 6.7408e-13\n",
      " 1.7383e-14 3.8010e-16 1.6005e-17 1.2835e-17 9.7655e-18 7.2755e-18\n",
      " 3.4446e-18 1.2452e-18]\n"
     ]
    }
   ],
   "source": [
    "U, S, Vt = npla.svd(A)\n",
    "print('singular values:', S)"
   ]
  },
  {
   "cell_type": "code",
   "execution_count": 20,
   "metadata": {},
   "outputs": [
    {
     "data": {
      "text/plain": [
       "13"
      ]
     },
     "execution_count": 20,
     "metadata": {},
     "output_type": "execute_result"
    }
   ],
   "source": [
    "npla.matrix_rank(A)"
   ]
  },
  {
   "cell_type": "markdown",
   "metadata": {},
   "source": [
    "## What about the determinant?"
   ]
  },
  {
   "cell_type": "code",
   "execution_count": 21,
   "metadata": {},
   "outputs": [],
   "source": [
    "npla.det?"
   ]
  },
  {
   "cell_type": "code",
   "execution_count": 22,
   "metadata": {},
   "outputs": [],
   "source": [
    "A = np.random.random((5,5))"
   ]
  },
  {
   "cell_type": "code",
   "execution_count": 23,
   "metadata": {},
   "outputs": [
    {
     "data": {
      "text/plain": [
       "-0.11369445621038594"
      ]
     },
     "execution_count": 23,
     "metadata": {},
     "output_type": "execute_result"
    }
   ],
   "source": [
    "npla.det(A)"
   ]
  },
  {
   "cell_type": "code",
   "execution_count": 24,
   "metadata": {},
   "outputs": [
    {
     "data": {
      "text/plain": [
       "3.057466182100202"
      ]
     },
     "execution_count": 24,
     "metadata": {},
     "output_type": "execute_result"
    }
   ],
   "source": [
    "npla.norm(A)"
   ]
  },
  {
   "cell_type": "code",
   "execution_count": 25,
   "metadata": {},
   "outputs": [
    {
     "data": {
      "text/plain": [
       "19.477551924215213"
      ]
     },
     "execution_count": 25,
     "metadata": {},
     "output_type": "execute_result"
    }
   ],
   "source": [
    "npla.cond(A)"
   ]
  },
  {
   "cell_type": "markdown",
   "metadata": {},
   "source": [
    "<b> The determinant is less useful than norm and condition number, especially as **n** grows."
   ]
  },
  {
   "cell_type": "code",
   "execution_count": 26,
   "metadata": {},
   "outputs": [
    {
     "name": "stdout",
     "output_type": "stream",
     "text": [
      "A:\n",
      " [[2. 0. 0. 0. 0. 0. 0. 0. 0. 0.]\n",
      " [0. 2. 0. 0. 0. 0. 0. 0. 0. 0.]\n",
      " [0. 0. 2. 0. 0. 0. 0. 0. 0. 0.]\n",
      " [0. 0. 0. 2. 0. 0. 0. 0. 0. 0.]\n",
      " [0. 0. 0. 0. 2. 0. 0. 0. 0. 0.]\n",
      " [0. 0. 0. 0. 0. 2. 0. 0. 0. 0.]\n",
      " [0. 0. 0. 0. 0. 0. 2. 0. 0. 0.]\n",
      " [0. 0. 0. 0. 0. 0. 0. 2. 0. 0.]\n",
      " [0. 0. 0. 0. 0. 0. 0. 0. 2. 0.]\n",
      " [0. 0. 0. 0. 0. 0. 0. 0. 0. 2.]]\n"
     ]
    }
   ],
   "source": [
    "n = 10\n",
    "A = 2 * np.eye(n)\n",
    "print('A:\\n', A)"
   ]
  },
  {
   "cell_type": "code",
   "execution_count": 27,
   "metadata": {},
   "outputs": [
    {
     "name": "stdout",
     "output_type": "stream",
     "text": [
      "n: 10 \n",
      "norm: 2.0 \n",
      "condition number: 1.0 \n",
      "determinant: 1024.0\n"
     ]
    }
   ],
   "source": [
    "print('n:', n, '\\nnorm:', npla.norm(A,2), '\\ncondition number:', npla.cond(A), '\\ndeterminant:', npla.det(A))"
   ]
  },
  {
   "cell_type": "code",
   "execution_count": 28,
   "metadata": {},
   "outputs": [
    {
     "name": "stdout",
     "output_type": "stream",
     "text": [
      "n: 100 \n",
      "norm: 2.0 \n",
      "condition number: 1.0 \n",
      "determinant: 1.2676506002283037e+30\n"
     ]
    }
   ],
   "source": [
    "n = 100\n",
    "A = 2 * np.eye(n)\n",
    "\n",
    "print('n:', n, '\\nnorm:', npla.norm(A,2), '\\ncondition number:', npla.cond(A), '\\ndeterminant:', npla.det(A))"
   ]
  },
  {
   "cell_type": "code",
   "execution_count": null,
   "metadata": {},
   "outputs": [],
   "source": []
  }
 ],
 "metadata": {
  "kernelspec": {
   "display_name": "Python 3 (ipykernel)",
   "language": "python",
   "name": "python3"
  },
  "language_info": {
   "codemirror_mode": {
    "name": "ipython",
    "version": 3
   },
   "file_extension": ".py",
   "mimetype": "text/x-python",
   "name": "python",
   "nbconvert_exporter": "python",
   "pygments_lexer": "ipython3",
   "version": "3.9.15"
  }
 },
 "nbformat": 4,
 "nbformat_minor": 2
}
