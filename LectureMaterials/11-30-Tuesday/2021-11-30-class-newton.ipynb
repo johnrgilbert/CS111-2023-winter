{
 "cells": [
  {
   "cell_type": "markdown",
   "metadata": {},
   "source": [
    "# Visualizing optimization algorithms\n",
    "\n",
    "This notebook is based on Louis Tiao, [http://louistiao.me/notes/visualizing-and-animating-optimization-algorithms-with-matplotlib/]. Any errors are of course my own.\n"
   ]
  },
  {
   "cell_type": "markdown",
   "metadata": {},
   "source": [
    "In this series of notebooks, we demonstrate some useful patterns and recipes for visualizing animating optimization algorithms using Matplotlib."
   ]
  },
  {
   "cell_type": "code",
   "execution_count": 1,
   "metadata": {},
   "outputs": [],
   "source": [
    "# %matplotlib inline\n",
    "%matplotlib tk\n",
    "\n",
    "import matplotlib.pyplot as plt\n",
    "import autograd.numpy as np\n",
    "\n",
    "from mpl_toolkits.mplot3d import Axes3D\n",
    "from matplotlib.colors import LogNorm\n",
    "from matplotlib import animation\n",
    "from IPython.display import HTML\n",
    "\n",
    "from autograd import elementwise_grad, value_and_grad\n",
    "from scipy.optimize import minimize\n",
    "from collections import defaultdict\n",
    "from itertools import zip_longest\n",
    "from functools import partial"
   ]
  },
  {
   "cell_type": "code",
   "execution_count": 37,
   "metadata": {},
   "outputs": [],
   "source": [
    "plt.close('all')"
   ]
  },
  {
   "cell_type": "markdown",
   "metadata": {},
   "source": [
    "We shall restrict our attention to 3-dimensional problems for right now (i.e. optimizing over only 2 parameters), though what follows can be extended to higher dimensions by plotting all pairs of parameters against each other, effectively projecting the problem to 3-dimensions. \n",
    "\n",
    "The Wikipedia article on [Test functions for optimization](https://en.wikipedia.org/wiki/Test_functions_for_optimization) has a few functions that are useful for evaluating optimization algorithms. In particular, we shall look at **Beale's function**:\n",
    "\n",
    "$$\n",
    "f(x, y) = (1.5 - x + xy)^2 + (2.25 - x + xy^2)^2 + (2.625 - x + xy^3)^2\n",
    "$$\n",
    "\n",
    "Other examples are the quadratic function that Gil **Strang** (and we) will use in lectures about gradient descent,\n",
    "\n",
    "$$\n",
    "f(x, y) = (x^2 + \\alpha y^2)/2 \\;\\;\\; \\mbox{where we usually take $\\alpha=10$)},\n",
    "$$\n",
    "\n",
    "and **Rosenbrock's function**, a simple-looking but notoriously tricky one,\n",
    "\n",
    "$$\n",
    "f(x, y) = (1 - x)^2 + \\alpha(y-x^2)^2 \\;\\;\\; \\mbox{where we will take $\\alpha = 100$)}.\n",
    "$$\n"
   ]
  },
  {
   "cell_type": "code",
   "execution_count": 38,
   "metadata": {},
   "outputs": [],
   "source": [
    "# Define the objective function, the grid we will visualize it on, and the starting point.\n",
    "# Also, since we know the minimum of each of these functions, record that for reference too.\n",
    "\n",
    "function = 'Rosenbrock'\n",
    "\n",
    "if function == 'Beale':\n",
    "    # Beale's function. See https://en.wikipedia.org/wiki/Test_functions_for_optimization\n",
    "    f  = lambda x, y: (1.5 - x + x*y)**2 + (2.25 - x + x*y**2)**2 + (2.625 - x + x*y**3)**2\n",
    "    xmin, xmax, xstep = -4.5, 4.5, .2\n",
    "    ymin, ymax, ystep = -4.5, 4.5, .2\n",
    "    contours = np.logspace(0, 5, 35)\n",
    "    minima = np.array([3., .5])\n",
    "    x0 = np.array([3., 4.])\n",
    "    \n",
    "elif function == 'Rosenbrock':\n",
    "    # Rosenbrock's function. See https://en.wikipedia.org/wiki/Test_functions_for_optimization\n",
    "    alpha = 100\n",
    "    f = lambda x, y: (1.0 - x)**2 + alpha * (y-x**2)**2\n",
    "    xmin, xmax, xstep = -3.5, 2., .05\n",
    "    ymin, ymax, ystep = -5., 5., .05\n",
    "    contours = np.logspace(0, 5, 35)\n",
    "    minima = np.array([1., 1.]) \n",
    "    x0 = np.array([-3., -4.])\n",
    "    \n",
    "elif function == 'Strang':\n",
    "    # The simple quadratic from Gil Strang's lectures on optimization\n",
    "    alpha = 0.1\n",
    "    f = lambda x, y: (x**2 + alpha*y**2) / 2 \n",
    "    xmin, xmax, xstep = -1., 1., .1\n",
    "    ymin, ymax, ystep = -1., 1.5, .1\n",
    "    contours = np.logspace(-2, 0, 20)\n",
    "    minima = np.array([0.,0.])\n",
    "    x0 = np.array([alpha,1.])\n",
    "    \n",
    "else:\n",
    "    assert False\n",
    "    \n",
    "\n"
   ]
  },
  {
   "cell_type": "code",
   "execution_count": 39,
   "metadata": {},
   "outputs": [],
   "source": [
    "x, y = np.meshgrid(np.arange(xmin, xmax + xstep, xstep), np.arange(ymin, ymax + ystep, ystep))"
   ]
  },
  {
   "cell_type": "code",
   "execution_count": 40,
   "metadata": {},
   "outputs": [
    {
     "data": {
      "text/plain": [
       "array([[29776.5     , 28589.253125, 27442.72    , ...,  7414.02    ,\n",
       "         7749.303125,  8101.      ],\n",
       "       [29604.25    , 28420.478125, 27277.37    , ...,  7328.17    ,\n",
       "         7661.528125,  8011.25    ],\n",
       "       [29432.5     , 28252.203125, 27112.52    , ...,  7242.82    ,\n",
       "         7574.253125,  7922.      ],\n",
       "       ...,\n",
       "       [ 5422.5     ,  4923.303125,  4454.92    , ...,   167.22    ,\n",
       "          121.353125,    82.      ],\n",
       "       [ 5349.25    ,  4853.528125,  4388.57    , ...,   180.37    ,\n",
       "          132.578125,    91.25    ],\n",
       "       [ 5276.5     ,  4784.253125,  4322.72    , ...,   194.02    ,\n",
       "          144.303125,   101.      ]])"
      ]
     },
     "execution_count": 40,
     "metadata": {},
     "output_type": "execute_result"
    }
   ],
   "source": [
    "z = f(x, y)\n",
    "z"
   ]
  },
  {
   "cell_type": "code",
   "execution_count": 41,
   "metadata": {},
   "outputs": [
    {
     "name": "stdout",
     "output_type": "stream",
     "text": [
      "known minimum is at argmin(f) = [1. 1.], with f(argmin(f)) = 0.0\n"
     ]
    }
   ],
   "source": [
    "print(f'known minimum is at argmin(f) = {minima}, with f(argmin(f)) = {f(*minima)}')"
   ]
  },
  {
   "cell_type": "code",
   "execution_count": 42,
   "metadata": {},
   "outputs": [
    {
     "name": "stdout",
     "output_type": "stream",
     "text": [
      "[[1.]\n",
      " [1.]]\n",
      "\n",
      "[0.]\n"
     ]
    }
   ],
   "source": [
    "# Make argmin into a numpy array for ease of manipulation\n",
    "minima_ = minima.reshape(-1, 1)\n",
    "\n",
    "print(minima_)\n",
    "print()\n",
    "print(f(*minima_))"
   ]
  },
  {
   "cell_type": "markdown",
   "metadata": {},
   "source": [
    "### 3D Surface Plot"
   ]
  },
  {
   "cell_type": "code",
   "execution_count": 26,
   "metadata": {},
   "outputs": [],
   "source": [
    "fig = plt.figure(figsize=(8, 5))\n",
    "ax = plt.axes(projection='3d', elev=50, azim=-50)\n",
    "\n",
    "ax.plot_surface(x, y, z, norm=LogNorm(), rstride=1, cstride=1, \n",
    "                edgecolor='none', alpha=.8, cmap=plt.cm.jet)\n",
    "ax.plot(*minima_, f(*minima_), 'r*', markersize=10)\n",
    "\n",
    "ax.set_xlabel('$x$')\n",
    "ax.set_ylabel('$y$')\n",
    "ax.set_zlabel('$z$')\n",
    "\n",
    "ax.set_xlim((xmin, xmax))\n",
    "ax.set_ylim((ymin, ymax))\n",
    "ax.set_title(f\"3D surface plot of {function} function\")\n",
    "\n",
    "plt.show()"
   ]
  },
  {
   "cell_type": "markdown",
   "metadata": {},
   "source": [
    "### 2D Contour Plot and Gradient Vector Field"
   ]
  },
  {
   "cell_type": "markdown",
   "metadata": {},
   "source": [
    "We use [autograd](https://github.com/HIPS/autograd) to compute the gradient vector field, and plot it with Matplotlib's [quiver](http://matplotlib.org/api/pyplot_api.html#matplotlib.pyplot.quiver) method."
   ]
  },
  {
   "cell_type": "code",
   "execution_count": 8,
   "metadata": {},
   "outputs": [],
   "source": [
    "dz_dx = elementwise_grad(f, argnum=0)(x, y)\n",
    "dz_dy = elementwise_grad(f, argnum=1)(x, y)"
   ]
  },
  {
   "cell_type": "code",
   "execution_count": 9,
   "metadata": {},
   "outputs": [],
   "source": [
    "fig, ax = plt.subplots(figsize=(10, 6))\n",
    "\n",
    "ax.contour(x, y, z, levels=contours, norm=LogNorm(), cmap=plt.cm.jet)\n",
    "ax.quiver(x, y, x - dz_dx, y - dz_dy, alpha=.5)\n",
    "ax.plot(*minima_, 'r*', markersize=18)\n",
    "\n",
    "ax.set_xlabel('$x$')\n",
    "ax.set_ylabel('$y$')\n",
    "\n",
    "ax.set_xlim((xmin, xmax))\n",
    "ax.set_ylim((ymin, ymax))\n",
    "ax.axis('equal')\n",
    "ax.set_title(f\"{function} function and its gradient\")\n",
    "\n",
    "plt.show()"
   ]
  },
  {
   "cell_type": "markdown",
   "metadata": {},
   "source": [
    "### Gradient-based Optimization"
   ]
  },
  {
   "cell_type": "markdown",
   "metadata": {},
   "source": [
    "For the purposes of this demonstration, we use [SciPy's optimization methods](http://docs.scipy.org/doc/scipy/reference/optimize.html). It goes without saying that the code and patterns for producing these visualizations generalizes easily to other optimization tools and libraries.\n",
    "\n",
    "For Beale, we set the starting point as $(3, 4)$, since it is challenging for algorithms with a little too much momentum in the gradient descent update rule, as they may overshoot and end up in some local minima. For the other functions we pick interesting starting points."
   ]
  },
  {
   "cell_type": "code",
   "execution_count": 27,
   "metadata": {},
   "outputs": [],
   "source": [
    "if function == 'Beale':\n",
    "    x0 = np.array([3., 4.])\n",
    "    \n",
    "elif function == 'Rosenbrock':\n",
    "    x0 = np.array([-3., -4.])\n",
    "    \n",
    "elif function == 'Strang':\n",
    "    x0 = np.array([alpha,1.])\n",
    "    \n",
    "else:\n",
    "    assert False"
   ]
  },
  {
   "cell_type": "markdown",
   "metadata": {},
   "source": [
    "Again, we use `autograd` to compute the gradients, and augment the function slightly to adhere to Scipy's optimization interface."
   ]
  },
  {
   "cell_type": "code",
   "execution_count": 28,
   "metadata": {},
   "outputs": [],
   "source": [
    "func = value_and_grad(lambda args: f(*args))"
   ]
  },
  {
   "cell_type": "markdown",
   "metadata": {},
   "source": [
    "The method we use first is `Newton-CG`, and set the callback simply as `print`. Note that we can only do this in Python 3, where [`print` is an actual function](https://docs.python.org/3.0/whatsnew/3.0.html#print-is-a-function)."
   ]
  },
  {
   "cell_type": "code",
   "execution_count": 29,
   "metadata": {},
   "outputs": [
    {
     "name": "stdout",
     "output_type": "stream",
     "text": [
      "[-2.42374769e-09 -1.83955473e-09]\n",
      "[-2.42374769e-09 -1.83955473e-09]\n"
     ]
    }
   ],
   "source": [
    "res = minimize(func, x0=x0, method='Newton-CG',\n",
    "               jac=True, tol=1e-20, callback=print)"
   ]
  },
  {
   "cell_type": "code",
   "execution_count": 30,
   "metadata": {},
   "outputs": [
    {
     "data": {
      "text/plain": [
       "{'fun': 3.1064745095220755e-18,\n",
       " 'jac': array([-2.42374769e-09, -1.83955473e-10]),\n",
       " 'nfev': 3,\n",
       " 'njev': 7,\n",
       " 'nhev': 0,\n",
       " 'status': 0,\n",
       " 'success': True,\n",
       " 'message': 'Optimization terminated successfully.',\n",
       " 'x': array([-2.42374769e-09, -1.83955473e-09]),\n",
       " 'nit': 2}"
      ]
     },
     "execution_count": 30,
     "metadata": {},
     "output_type": "execute_result"
    }
   ],
   "source": [
    "dict(res)"
   ]
  },
  {
   "cell_type": "markdown",
   "metadata": {},
   "source": [
    "The results look plausibly good, but would be more convincing with some visualization. Let us define a new callback function that appends the intermediate values to a list instead of simply printing it."
   ]
  },
  {
   "cell_type": "code",
   "execution_count": 31,
   "metadata": {},
   "outputs": [],
   "source": [
    "def make_minimize_cb(path=[]):\n",
    "    \n",
    "    def minimize_cb(xk):\n",
    "        # note that we make a deep copy of xk\n",
    "        path.append(np.copy(xk))\n",
    "\n",
    "    return minimize_cb"
   ]
  },
  {
   "cell_type": "markdown",
   "metadata": {},
   "source": [
    "We initialize the list with the starting value."
   ]
  },
  {
   "cell_type": "code",
   "execution_count": 32,
   "metadata": {
    "scrolled": true
   },
   "outputs": [],
   "source": [
    "path_ = [x0]"
   ]
  },
  {
   "cell_type": "code",
   "execution_count": 33,
   "metadata": {},
   "outputs": [],
   "source": [
    "res = minimize(func, x0=x0, method='Newton-CG',\n",
    "               jac=True, tol=1e-20, callback=make_minimize_cb(path_))"
   ]
  },
  {
   "cell_type": "code",
   "execution_count": 34,
   "metadata": {},
   "outputs": [
    {
     "data": {
      "text/plain": [
       "{'fun': 3.1064745095220755e-18,\n",
       " 'jac': array([-2.42374769e-09, -1.83955473e-10]),\n",
       " 'nfev': 3,\n",
       " 'njev': 7,\n",
       " 'nhev': 0,\n",
       " 'status': 0,\n",
       " 'success': True,\n",
       " 'message': 'Optimization terminated successfully.',\n",
       " 'x': array([-2.42374769e-09, -1.83955473e-09]),\n",
       " 'nit': 2}"
      ]
     },
     "execution_count": 34,
     "metadata": {},
     "output_type": "execute_result"
    }
   ],
   "source": [
    "dict(res)"
   ]
  },
  {
   "cell_type": "markdown",
   "metadata": {},
   "source": [
    "We cast the list to a NumPy array and transpose it so it's easier and more natural to work with."
   ]
  },
  {
   "cell_type": "code",
   "execution_count": 35,
   "metadata": {},
   "outputs": [
    {
     "data": {
      "text/plain": [
       "(2, 3)"
      ]
     },
     "execution_count": 35,
     "metadata": {},
     "output_type": "execute_result"
    }
   ],
   "source": [
    "path = np.array(path_).T\n",
    "path.shape"
   ]
  },
  {
   "cell_type": "markdown",
   "metadata": {},
   "source": [
    "### Static Quiver Plot of Path on 2D Contour Plot"
   ]
  },
  {
   "cell_type": "markdown",
   "metadata": {},
   "source": [
    "Again, using the `quiver` method, but in a slightly different way than before, we can represent each step, its length and direction, using the arrows."
   ]
  },
  {
   "cell_type": "code",
   "execution_count": 36,
   "metadata": {},
   "outputs": [
    {
     "data": {
      "text/plain": [
       "Text(0.5, 1.0, \"Newton's method for Strang function\")"
      ]
     },
     "execution_count": 36,
     "metadata": {},
     "output_type": "execute_result"
    }
   ],
   "source": [
    "fig, ax = plt.subplots(figsize=(10, 6))\n",
    "\n",
    "ax.contour(x, y, z, levels=contours, norm=LogNorm(), cmap=plt.cm.jet)\n",
    "ax.quiver(path[0,:-1], path[1,:-1], path[0,1:]-path[0,:-1], path[1,1:]-path[1,:-1], \n",
    "          scale_units='xy', angles='xy', scale=1, width=(xmax-xmin)/1000, color='k')\n",
    "ax.plot(*minima_, 'r*', markersize=18)\n",
    "\n",
    "ax.set_xlabel('$x$')\n",
    "ax.set_ylabel('$y$')\n",
    "\n",
    "ax.set_xlim((xmin, xmax))\n",
    "ax.set_ylim((ymin, ymax))\n",
    "ax.axis('equal')\n",
    "ax.set_title(f\"Newton's method for {function} function\")"
   ]
  },
  {
   "cell_type": "markdown",
   "metadata": {},
   "source": [
    "### Static Quiver Plot of Path on 3D Surface Plot"
   ]
  },
  {
   "cell_type": "markdown",
   "metadata": {},
   "source": [
    "However, this is slightly less useful when plotted against a 3D surface plot..."
   ]
  },
  {
   "cell_type": "code",
   "execution_count": null,
   "metadata": {},
   "outputs": [],
   "source": [
    "fig = plt.figure(figsize=(8, 5))\n",
    "ax = plt.axes(projection='3d', elev=50, azim=-50)\n",
    "\n",
    "ax.plot_surface(x, y, z, norm=LogNorm(), rstride=1, cstride=1, edgecolor='none', alpha=.8, cmap=plt.cm.jet)\n",
    "ax.quiver(path[0,:-1], path[1,:-1], f(*path[::,:-1]), \n",
    "          path[0,1:]-path[0,:-1], path[1,1:]-path[1,:-1], f(*(path[::,1:]-path[::,:-1])), \n",
    "          color='k')\n",
    "ax.plot(*minima_, f(*minima_), 'r*', markersize=10)\n",
    "\n",
    "ax.set_xlabel('$x$')\n",
    "ax.set_ylabel('$y$')\n",
    "ax.set_zlabel('$z$')\n",
    "\n",
    "ax.set_xlim((xmin, xmax))\n",
    "ax.set_ylim((ymin, ymax))\n",
    "ax.set_title(\"Newton's method\")"
   ]
  },
  {
   "cell_type": "markdown",
   "metadata": {},
   "source": [
    "### Animating Single Path on 2D Contour Plot"
   ]
  },
  {
   "cell_type": "markdown",
   "metadata": {},
   "source": [
    "We can also animate the trajectory of the optimization algorithm using the excellent [FuncAnimation](http://matplotlib.org/api/animation_api.html#matplotlib.animation.FuncAnimation) class. First we draw the 2D contour plot as we did before, and initialize the `line` and `point` (which are [Line2D](http://matplotlib.org/api/lines_api.html#matplotlib.lines.Line2D) objects). Guides on how to use the `FuncAnimation` class can be found in tutorials such as [Jake Vanderplas' Matplotlib Animation Tutorial](https://jakevdp.github.io/blog/2012/08/18/matplotlib-animation-tutorial/), so we will not go into too much detail here."
   ]
  },
  {
   "cell_type": "code",
   "execution_count": null,
   "metadata": {},
   "outputs": [],
   "source": [
    "fig, ax = plt.subplots(figsize=(10, 6))\n",
    "\n",
    "ax.contour(x, y, z, levels=np.logspace(0, 5, 35), norm=LogNorm(), cmap=plt.cm.jet)\n",
    "ax.plot(*minima_, 'r*', markersize=18)\n",
    "\n",
    "line, = ax.plot([], [], 'b', label='Newton-CG', lw=2)\n",
    "point, = ax.plot([], [], 'bo')\n",
    "\n",
    "ax.set_xlabel('$x$')\n",
    "ax.set_ylabel('$y$')\n",
    "\n",
    "ax.set_xlim((xmin, xmax))\n",
    "ax.set_ylim((ymin, ymax))\n",
    "ax.axis('equal')\n",
    "\n",
    "ax.legend(loc='upper left')"
   ]
  },
  {
   "cell_type": "code",
   "execution_count": null,
   "metadata": {},
   "outputs": [],
   "source": [
    "def init():\n",
    "    line.set_data([], [])\n",
    "    point.set_data([], [])\n",
    "    return line, point"
   ]
  },
  {
   "cell_type": "markdown",
   "metadata": {},
   "source": [
    "We define our animation to draw the path up to $i$th intermediate point on the $i$th frame."
   ]
  },
  {
   "cell_type": "code",
   "execution_count": null,
   "metadata": {},
   "outputs": [],
   "source": [
    "def animate(i):\n",
    "    line.set_data(*path[::,:i])\n",
    "    point.set_data(*path[::,i-1:i])\n",
    "    return line, point"
   ]
  },
  {
   "cell_type": "markdown",
   "metadata": {},
   "source": [
    "We define the total number of frames to be the total number of steps taken in the optimization and using [blitting](http://devosoft.org/making-efficient-animations-in-matplotlib-with-blitting/) so as to only redraw the parts of the animation that have changed."
   ]
  },
  {
   "cell_type": "code",
   "execution_count": null,
   "metadata": {},
   "outputs": [],
   "source": [
    "anim = animation.FuncAnimation(fig, animate, init_func=init,\n",
    "                               frames=path.shape[1], interval=60, \n",
    "                               repeat_delay=5, blit=True)"
   ]
  },
  {
   "cell_type": "markdown",
   "metadata": {},
   "source": [
    "We can embed the animation directly inside this notebook, as discussed in [my previous post](../embedding-matplotlib-animations-in-jupyter-notebooks)."
   ]
  },
  {
   "cell_type": "code",
   "execution_count": null,
   "metadata": {},
   "outputs": [],
   "source": [
    "HTML(anim.to_html5_video())"
   ]
  },
  {
   "cell_type": "markdown",
   "metadata": {},
   "source": [
    "### Animating Single Path on 3D Surface Plot"
   ]
  },
  {
   "cell_type": "markdown",
   "metadata": {},
   "source": [
    "Extending the above to 3-dimensions is quite trivial."
   ]
  },
  {
   "cell_type": "code",
   "execution_count": null,
   "metadata": {},
   "outputs": [],
   "source": [
    "fig = plt.figure(figsize=(8, 5))\n",
    "ax = plt.axes(projection='3d', elev=50, azim=-50)\n",
    "\n",
    "ax.plot_surface(x, y, z, norm=LogNorm(), rstride=1, cstride=1, edgecolor='none', alpha=.8, cmap=plt.cm.jet)\n",
    "ax.plot(*minima_, f(*minima_), 'r*', markersize=10)\n",
    "\n",
    "line, = ax.plot([], [], [], 'b', label='Newton-CG', lw=2)\n",
    "point, = ax.plot([], [], [], 'bo')\n",
    "\n",
    "ax.set_xlabel('$x$')\n",
    "ax.set_ylabel('$y$')\n",
    "ax.set_zlabel('$z$')\n",
    "\n",
    "ax.set_xlim((xmin, xmax))\n",
    "ax.set_ylim((ymin, ymax))"
   ]
  },
  {
   "cell_type": "markdown",
   "metadata": {},
   "source": [
    "We just have to make use of the `set_3d_properties` method for [Line3D](http://matplotlib.org/mpl_toolkits/mplot3d/api.html#mpl_toolkits.mplot3d.art3d.Line3D) objects to set the height of the points on the path."
   ]
  },
  {
   "cell_type": "code",
   "execution_count": null,
   "metadata": {},
   "outputs": [],
   "source": [
    "def init():\n",
    "    line.set_data([], [])\n",
    "    line.set_3d_properties([])\n",
    "    point.set_data([], [])\n",
    "    point.set_3d_properties([])\n",
    "    return line, point"
   ]
  },
  {
   "cell_type": "code",
   "execution_count": null,
   "metadata": {},
   "outputs": [],
   "source": [
    "def animate(i):\n",
    "    line.set_data(path[0,:i], path[1,:i])\n",
    "    line.set_3d_properties(f(*path[::,:i]))\n",
    "    point.set_data(path[0,i-1:i], path[1,i-1:i])\n",
    "    point.set_3d_properties(f(*path[::,i-1:i]))\n",
    "    return line, point"
   ]
  },
  {
   "cell_type": "code",
   "execution_count": null,
   "metadata": {},
   "outputs": [],
   "source": [
    "anim = animation.FuncAnimation(fig, animate, init_func=init,\n",
    "                               frames=path.shape[1], interval=60, \n",
    "                               repeat_delay=5, blit=True)"
   ]
  },
  {
   "cell_type": "code",
   "execution_count": null,
   "metadata": {},
   "outputs": [],
   "source": [
    "HTML(anim.to_html5_video())"
   ]
  },
  {
   "cell_type": "markdown",
   "metadata": {},
   "source": [
    "### Modularizing and Generalizing to Animate Multiple Paths Simultaneously"
   ]
  },
  {
   "cell_type": "markdown",
   "metadata": {},
   "source": [
    "Instead of initializing the line and point in the global scope, and defining the animation callback functions to use those global variables, we can encapsulate everything in a closure. \n",
    "\n",
    "Or better yet, we could just create subclass of `FuncAnimation` that is initialized with a variable number of paths to plot. In the initialization method, we just create and save the list of `Line2D` objects as attributes, and define animation callback methods that use these attributes."
   ]
  },
  {
   "cell_type": "code",
   "execution_count": 43,
   "metadata": {},
   "outputs": [],
   "source": [
    "class TrajectoryAnimation(animation.FuncAnimation):\n",
    "    \n",
    "    def __init__(self, *paths, labels=[], fig=None, ax=None, frames=None, \n",
    "                 interval=60, repeat_delay=5, blit=True, **kwargs):\n",
    "\n",
    "        if fig is None:\n",
    "            if ax is None:\n",
    "                fig, ax = plt.subplots()\n",
    "            else:\n",
    "                fig = ax.get_figure()\n",
    "        else:\n",
    "            if ax is None:\n",
    "                ax = fig.gca()\n",
    "\n",
    "        self.fig = fig\n",
    "        self.ax = ax\n",
    "        \n",
    "        self.paths = paths\n",
    "\n",
    "        if frames is None:\n",
    "            frames = max(path.shape[1] for path in paths)\n",
    "  \n",
    "        self.lines = [ax.plot([], [], label=label, lw=2)[0] \n",
    "                      for _, label in zip_longest(paths, labels)]\n",
    "        self.points = [ax.plot([], [], 'o', color=line.get_color())[0] \n",
    "                       for line in self.lines]\n",
    "\n",
    "        super(TrajectoryAnimation, self).__init__(fig, self.animate, init_func=self.init_anim,\n",
    "                                                  frames=frames, interval=interval, blit=blit,\n",
    "                                                  repeat_delay=repeat_delay, **kwargs)\n",
    "\n",
    "    def init_anim(self):\n",
    "        for line, point in zip(self.lines, self.points):\n",
    "            line.set_data([], [])\n",
    "            point.set_data([], [])\n",
    "        return self.lines + self.points\n",
    "\n",
    "    def animate(self, i):\n",
    "        for line, point, path in zip(self.lines, self.points, self.paths):\n",
    "            line.set_data(*path[::,:i])\n",
    "            point.set_data(*path[::,i-1:i])\n",
    "        return self.lines + self.points"
   ]
  },
  {
   "cell_type": "markdown",
   "metadata": {},
   "source": [
    "We can extend this to 3-dimensions quite easily:"
   ]
  },
  {
   "cell_type": "code",
   "execution_count": null,
   "metadata": {},
   "outputs": [],
   "source": [
    "class TrajectoryAnimation3D(animation.FuncAnimation):\n",
    "    \n",
    "    def __init__(self, *paths, zpaths, labels=[], fig=None, ax=None, frames=None, \n",
    "                 interval=60, repeat_delay=5, blit=True, **kwargs):\n",
    "\n",
    "        if fig is None:\n",
    "            if ax is None:\n",
    "                fig, ax = plt.subplots()\n",
    "            else:\n",
    "                fig = ax.get_figure()\n",
    "        else:\n",
    "            if ax is None:\n",
    "                ax = fig.gca()\n",
    "\n",
    "        self.fig = fig\n",
    "        self.ax = ax\n",
    "        \n",
    "        self.paths = paths\n",
    "        self.zpaths = zpaths\n",
    "        \n",
    "        if frames is None:\n",
    "            frames = max(path.shape[1] for path in paths)\n",
    "  \n",
    "        self.lines = [ax.plot([], [], [], label=label, lw=2)[0] \n",
    "                      for _, label in zip_longest(paths, labels)]\n",
    "\n",
    "        super(TrajectoryAnimation3D, self).__init__(fig, self.animate, init_func=self.init_anim,\n",
    "                                                  frames=frames, interval=interval, blit=blit,\n",
    "                                                  repeat_delay=repeat_delay, **kwargs)\n",
    "\n",
    "    def init_anim(self):\n",
    "        for line in self.lines:\n",
    "            line.set_data([], [])\n",
    "            line.set_3d_properties([])\n",
    "        return self.lines\n",
    "\n",
    "    def animate(self, i):\n",
    "        for line, path, zpath in zip(self.lines, self.paths, self.zpaths):\n",
    "            line.set_data(*path[::,:i])\n",
    "            line.set_3d_properties(zpath[:i])\n",
    "        return self.lines"
   ]
  },
  {
   "cell_type": "markdown",
   "metadata": {},
   "source": [
    "Note that `TrajectoryAnimation3D` is defined as an altogether different subclass of `FuncAnimation` here. A more elegant approach would be to subclass the `TrajectoryAnimation` class defined above, but this would make this exposition much less readable.\n",
    "\n",
    "Additionally, note that we don't plot the leading point marker here, since this tends to clutter up the visualization on the 3D surface plots."
   ]
  },
  {
   "cell_type": "markdown",
   "metadata": {},
   "source": [
    "### SciPy' Gradient-based Optimization Algorithms"
   ]
  },
  {
   "cell_type": "markdown",
   "metadata": {},
   "source": [
    "Now let's take these newly defined classes out for a spin! Let us simultaneously animate SciPy's gradient-based optimization algorithms."
   ]
  },
  {
   "cell_type": "code",
   "execution_count": 44,
   "metadata": {},
   "outputs": [],
   "source": [
    "methods = [\n",
    "#   \"CG\",\n",
    "#   \"BFGS\",\n",
    "    \"Newton-CG\",\n",
    "    \"L-BFGS-B\",\n",
    "#   \"TNC\",\n",
    "#   \"SLSQP\",\n",
    "#   \"dogleg\",\n",
    "#   \"trust-ncg\"\n",
    "]"
   ]
  },
  {
   "cell_type": "markdown",
   "metadata": {},
   "source": [
    "We do some partial function application here to reduce the amount of code required.."
   ]
  },
  {
   "cell_type": "code",
   "execution_count": 45,
   "metadata": {},
   "outputs": [],
   "source": [
    "minimize_ = partial(minimize, fun=func, x0=x0, jac=True, bounds=[(xmin, xmax), (ymin, ymax)], tol=1e-20)"
   ]
  },
  {
   "cell_type": "markdown",
   "metadata": {},
   "source": [
    "Initialize the trajectories"
   ]
  },
  {
   "cell_type": "code",
   "execution_count": 46,
   "metadata": {},
   "outputs": [],
   "source": [
    "paths_ = defaultdict(list)\n",
    "for method in methods:\n",
    "    paths_[method].append(x0)"
   ]
  },
  {
   "cell_type": "markdown",
   "metadata": {},
   "source": [
    "We expected these warnings, and can safely ignore them here."
   ]
  },
  {
   "cell_type": "code",
   "execution_count": 47,
   "metadata": {},
   "outputs": [
    {
     "name": "stderr",
     "output_type": "stream",
     "text": [
      "/Users/gilbert/anaconda3/lib/python3.6/site-packages/scipy/optimize/_minimize.py:534: RuntimeWarning: Method Newton-CG cannot handle constraints nor bounds.\n",
      "  RuntimeWarning)\n"
     ]
    }
   ],
   "source": [
    "results = {method: minimize_(method=method, callback=make_minimize_cb(paths_[method])) for method in methods}"
   ]
  },
  {
   "cell_type": "code",
   "execution_count": 48,
   "metadata": {},
   "outputs": [],
   "source": [
    "paths = [np.array(paths_[method]).T for method in methods]"
   ]
  },
  {
   "cell_type": "code",
   "execution_count": 49,
   "metadata": {},
   "outputs": [],
   "source": [
    "zpaths = [f(*path) for path in paths]"
   ]
  },
  {
   "cell_type": "code",
   "execution_count": 50,
   "metadata": {},
   "outputs": [
    {
     "data": {
      "text/plain": [
       "<matplotlib.legend.Legend at 0x7ff06e3251d0>"
      ]
     },
     "execution_count": 50,
     "metadata": {},
     "output_type": "execute_result"
    }
   ],
   "source": [
    "fig, ax = plt.subplots(figsize=(10, 6))\n",
    "\n",
    "ax.contour(x, y, z, levels=contours, norm=LogNorm(), cmap=plt.cm.jet)\n",
    "ax.plot(*minima_, 'r*', markersize=10)\n",
    "\n",
    "ax.set_xlabel('$x$')\n",
    "ax.set_ylabel('$y$')\n",
    "ax.set_title(f\"Comparing methods on {function} function\")\n",
    "\n",
    "ax.set_xlim((xmin, xmax))\n",
    "ax.set_ylim((ymin, ymax))\n",
    "ax.axis('equal')\n",
    "\n",
    "anim = TrajectoryAnimation(*paths, labels=methods, ax=ax)\n",
    "\n",
    "ax.legend(loc='upper left')"
   ]
  },
  {
   "cell_type": "code",
   "execution_count": null,
   "metadata": {},
   "outputs": [],
   "source": [
    "HTML(anim.to_html5_video())"
   ]
  },
  {
   "cell_type": "code",
   "execution_count": null,
   "metadata": {},
   "outputs": [],
   "source": [
    "fig = plt.figure(figsize=(8, 5))\n",
    "ax = plt.axes(projection='3d', elev=50, azim=-50)\n",
    "\n",
    "ax.plot_surface(x, y, z, norm=LogNorm(), rstride=1, cstride=1, edgecolor='none', alpha=.8, cmap=plt.cm.jet)\n",
    "ax.plot(*minima_, f(*minima_), 'r*', markersize=10)\n",
    "\n",
    "ax.set_xlabel('$x$')\n",
    "ax.set_ylabel('$y$')\n",
    "ax.set_zlabel('$z$')\n",
    "\n",
    "ax.set_xlim((xmin, xmax))\n",
    "ax.set_ylim((ymin, ymax))\n",
    "\n",
    "anim = TrajectoryAnimation3D(*paths, zpaths=zpaths, labels=methods, ax=ax)\n",
    "\n",
    "ax.legend(loc='upper left')"
   ]
  },
  {
   "cell_type": "code",
   "execution_count": null,
   "metadata": {},
   "outputs": [],
   "source": [
    "HTML(anim.to_html5_video())"
   ]
  },
  {
   "cell_type": "markdown",
   "metadata": {},
   "source": [
    "Having the `TrajectoryAnimation` class at our disposal makes it incredibly simple to not only visualize, but animate optimization procedures, and allows us to better understand and be able to visually debug the optimization problems and algorithms we are working with. \n",
    "\n",
    "Furthermore, the fact that `TrajectoryAnimation` is a subclass of `FunAnimation` means we have the flexibility of exporting and presenting these animations in a variety of formats, e.g. exporting as GIFs, embedding them in Jupyter Notebooks as HTML5 videos. This can make our presentations far more compelling.\n",
    "\n",
    "In future posts in this series, we will demonstrate these methods on other objective functions, other optimization algorithms in other libraries such as [TensorFlow](https://www.tensorflow.org/versions/r0.8/api_docs/python/train.html#optimizers), and generalize to higher-dimensional problems."
   ]
  }
 ],
 "metadata": {
  "kernelspec": {
   "display_name": "Python 3",
   "language": "python",
   "name": "python3"
  },
  "language_info": {
   "codemirror_mode": {
    "name": "ipython",
    "version": 3
   },
   "file_extension": ".py",
   "mimetype": "text/x-python",
   "name": "python",
   "nbconvert_exporter": "python",
   "pygments_lexer": "ipython3",
   "version": "3.6.13"
  }
 },
 "nbformat": 4,
 "nbformat_minor": 1
}
