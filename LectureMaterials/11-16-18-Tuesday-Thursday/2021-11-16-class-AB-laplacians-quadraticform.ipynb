{
 "cells": [
  {
   "cell_type": "markdown",
   "metadata": {},
   "source": [
    "# Transcript A-B from Lecture, November 16-18, 2021"
   ]
  },
  {
   "cell_type": "code",
   "execution_count": null,
   "metadata": {},
   "outputs": [],
   "source": [
    "import sys\n",
    "\n",
    "########################################\n",
    "# Change the string in the line below! #\n",
    "########################################\n",
    "sys.path.append(\"/Users/gilbert/Documents/CS111-2021-fall/Python\") \n",
    "\n",
    "import os\n",
    "import time\n",
    "import math\n",
    "import numpy as np\n",
    "import numpy.linalg as npla\n",
    "import scipy\n",
    "from scipy import linalg as spla\n",
    "import scipy.sparse\n",
    "import scipy.sparse.linalg\n",
    "from scipy import integrate\n",
    "import networkx as nx\n",
    "import json\n",
    "import cs111\n",
    "\n",
    "#######################################################\n",
    "# Here are three different ways to have plots appear. #\n",
    "# Uncomment the one you want to use.                  #\n",
    "#                                                     #\n",
    "# inline    : static plot in notebook                 #\n",
    "# ipympl    : plot in notebook with pan/zoom controls #\n",
    "# tk        : plot in popup window with pan/zoom      #\n",
    "#                                                     #\n",
    "# If %matplotlib ipympl doesn't work, try saying:     #\n",
    "#   conda install -c conda-forge ipympl               #\n",
    "# at a shell prompt.                                  #\n",
    "#######################################################\n",
    "import matplotlib\n",
    "%matplotlib inline \n",
    "# %matplotlib ipympl\n",
    "# %matplotlib tk \n",
    "\n",
    "import matplotlib.pyplot as plt\n",
    "from matplotlib import cm\n",
    "from mpl_toolkits.mplot3d import axes3d\n",
    "\n",
    "np.set_printoptions(precision = 4)"
   ]
  },
  {
   "cell_type": "markdown",
   "metadata": {},
   "source": [
    "# Laplacian matrices of graphs"
   ]
  },
  {
   "cell_type": "markdown",
   "metadata": {},
   "source": [
    "Let $G$ be an undirected graph whose $n$ vertices are the integers from 0 to $n-1$. The *Laplacian matrix* of $G$ is the $n$-by-$n$ matrix $L = L(G)$ whose entries are as follows:\n",
    "\n",
    "- L[i,i] is the degree of vertex i\n",
    "- L[i,j] = -1 if (i,j) is an edge in G (and then also L[j,i] = -1)\n",
    "- The other elements of L are zero"
   ]
  },
  {
   "cell_type": "code",
   "execution_count": null,
   "metadata": {},
   "outputs": [],
   "source": [
    "# The Laplacian matrix of a 4-vertex cycle\n",
    "L = np.array([[2, -1, 0, -1], [-1, 2, -1, 0], [0, -1, 2, -1], [-1, 0, -1, 2]])\n",
    "print('L:'); print(L)"
   ]
  },
  {
   "cell_type": "code",
   "execution_count": null,
   "metadata": {},
   "outputs": [],
   "source": [
    "print('L:'); print(L)\n",
    "print();\n",
    "lam, W = spla.eigh(L)\n",
    "print('lam:', lam)\n",
    "print('W:'); print(W)"
   ]
  },
  {
   "cell_type": "code",
   "execution_count": null,
   "metadata": {},
   "outputs": [],
   "source": [
    "np.ones(4)"
   ]
  },
  {
   "cell_type": "code",
   "execution_count": null,
   "metadata": {},
   "outputs": [],
   "source": [
    "L @ np.ones(4)"
   ]
  },
  {
   "cell_type": "code",
   "execution_count": null,
   "metadata": {},
   "outputs": [],
   "source": [
    "def path(n):\n",
    "    \"\"\"Laplacian matrix of the n-vertex path graph\"\"\"\n",
    "    E = np.diag(np.ones(n-1), -1)\n",
    "    L = 2*np.eye(n) - E - E.T\n",
    "    L[0,0] = 1\n",
    "    L[-1,-1] = 1\n",
    "    return L"
   ]
  },
  {
   "cell_type": "code",
   "execution_count": null,
   "metadata": {},
   "outputs": [],
   "source": [
    "L = path(5)\n",
    "print('L:'); print(L)"
   ]
  },
  {
   "cell_type": "code",
   "execution_count": null,
   "metadata": {},
   "outputs": [],
   "source": [
    "L @ np.ones(5)"
   ]
  },
  {
   "cell_type": "code",
   "execution_count": null,
   "metadata": {},
   "outputs": [],
   "source": [
    "lam, W = spla.eigh(L)\n",
    "print('lam:', lam)\n",
    "print('W:')\n",
    "print(W)"
   ]
  },
  {
   "cell_type": "code",
   "execution_count": null,
   "metadata": {},
   "outputs": [],
   "source": [
    "L = path(20)\n",
    "print('L:'); print(L)"
   ]
  },
  {
   "cell_type": "code",
   "execution_count": null,
   "metadata": {},
   "outputs": [],
   "source": [
    "lam, W = spla.eigh(L)\n",
    "print('lam:', lam)\n",
    "print('W:')\n",
    "print(W)"
   ]
  },
  {
   "cell_type": "code",
   "execution_count": null,
   "metadata": {},
   "outputs": [],
   "source": [
    "i = 0\n",
    "plt.figure()\n",
    "plt.plot(W[:,i], '.')\n",
    "plt.xlabel(f'eigenvector {i} of path graph')"
   ]
  },
  {
   "cell_type": "code",
   "execution_count": null,
   "metadata": {},
   "outputs": [],
   "source": [
    "i = 1\n",
    "plt.figure()\n",
    "plt.plot(W[:,i], '.')\n",
    "plt.xlabel(f'eigenvector {i} of path graph')"
   ]
  },
  {
   "cell_type": "code",
   "execution_count": null,
   "metadata": {},
   "outputs": [],
   "source": [
    "i = 2\n",
    "plt.figure()\n",
    "plt.plot(W[:,i], '.')\n",
    "plt.xlabel(f'eigenvector {i} of path graph')"
   ]
  },
  {
   "cell_type": "code",
   "execution_count": null,
   "metadata": {},
   "outputs": [],
   "source": [
    "plt.figure()\n",
    "\n",
    "for i in range(4):\n",
    "    plt.plot(W[:,i], \".-\", label = f'evec {i}')\n",
    "\n",
    "plt.legend()\n",
    "plt.xlabel('vertex')\n",
    "plt.ylabel('eigenvector element')\n",
    "plt.title('Eigenvectors of the Laplacian of a path')"
   ]
  },
  {
   "cell_type": "code",
   "execution_count": null,
   "metadata": {},
   "outputs": [],
   "source": [
    "L = path(100)\n",
    "lam, W = spla.eigh(L)\n",
    "plt.figure()\n",
    "\n",
    "for i in range(10):\n",
    "    plt.plot(W[:,i], label = f'evec {i}')\n",
    "\n",
    "plt.legend()\n",
    "plt.xlabel('vertex')\n",
    "plt.ylabel('eigenvector element')\n",
    "plt.title('Eigenvectors of the Laplacian of a path')"
   ]
  },
  {
   "cell_type": "markdown",
   "metadata": {},
   "source": [
    "# The Laplacian quadratic form"
   ]
  },
  {
   "cell_type": "code",
   "execution_count": null,
   "metadata": {},
   "outputs": [],
   "source": [
    "n = L.shape[0]\n",
    "\n",
    "x = np.random.randn(n)\n",
    "print('vector x:', x)\n",
    "print()\n",
    "print('x.T @ L @ x:', np.dot(x, L @ x))"
   ]
  },
  {
   "cell_type": "code",
   "execution_count": null,
   "metadata": {},
   "outputs": [],
   "source": [
    "n = L.shape[0]\n",
    "\n",
    "x = np.ones(n)\n",
    "print('vector x:', x)\n",
    "print()\n",
    "print('x.T @ L @ x:', np.dot(x, L @ x))"
   ]
  },
  {
   "cell_type": "code",
   "execution_count": null,
   "metadata": {},
   "outputs": [],
   "source": []
  }
 ],
 "metadata": {
  "kernelspec": {
   "display_name": "Python 3",
   "language": "python",
   "name": "python3"
  },
  "language_info": {
   "codemirror_mode": {
    "name": "ipython",
    "version": 3
   },
   "file_extension": ".py",
   "mimetype": "text/x-python",
   "name": "python",
   "nbconvert_exporter": "python",
   "pygments_lexer": "ipython3",
   "version": "3.6.13"
  }
 },
 "nbformat": 4,
 "nbformat_minor": 2
}
