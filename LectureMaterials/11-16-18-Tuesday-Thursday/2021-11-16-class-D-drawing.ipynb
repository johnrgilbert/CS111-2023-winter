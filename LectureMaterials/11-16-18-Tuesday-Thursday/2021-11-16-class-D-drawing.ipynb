{
 "cells": [
  {
   "cell_type": "markdown",
   "metadata": {},
   "source": [
    "# Transcript D from Lecture, November 16-18, 2021"
   ]
  },
  {
   "cell_type": "code",
   "execution_count": null,
   "metadata": {},
   "outputs": [],
   "source": [
    "import sys\n",
    "\n",
    "########################################\n",
    "# Change the string in the line below! #\n",
    "########################################\n",
    "sys.path.append(\"/Users/gilbert/Documents/CS111-2021-fall/Python\") \n",
    "\n",
    "import os\n",
    "import time\n",
    "import math\n",
    "import numpy as np\n",
    "import numpy.linalg as npla\n",
    "import scipy\n",
    "from scipy import linalg as spla\n",
    "import scipy.sparse\n",
    "import scipy.sparse.linalg\n",
    "from scipy import integrate\n",
    "import networkx as nx\n",
    "import json\n",
    "import cs111\n",
    "\n",
    "#######################################################\n",
    "# Here are three different ways to have plots appear. #\n",
    "# Uncomment the one you want to use.                  #\n",
    "#                                                     #\n",
    "# inline    : static plot in notebook                 #\n",
    "# ipympl    : plot in notebook with pan/zoom controls #\n",
    "# tk        : plot in popup window with pan/zoom      #\n",
    "#                                                     #\n",
    "# If %matplotlib ipympl doesn't work, try saying:     #\n",
    "#   conda install -c conda-forge ipympl               #\n",
    "# at a shell prompt.                                  #\n",
    "#######################################################\n",
    "import matplotlib\n",
    "# %matplotlib inline \n",
    "# %matplotlib ipympl\n",
    "%matplotlib tk \n",
    "\n",
    "import matplotlib.pyplot as plt\n",
    "from matplotlib import cm\n",
    "from mpl_toolkits.mplot3d import axes3d\n",
    "\n",
    "np.set_printoptions(precision = 4)"
   ]
  },
  {
   "cell_type": "markdown",
   "metadata": {},
   "source": [
    "# Dodecahedron"
   ]
  },
  {
   "cell_type": "code",
   "execution_count": null,
   "metadata": {},
   "outputs": [],
   "source": [
    "G = nx.dodecahedral_graph()\n",
    "G.number_of_edges()"
   ]
  },
  {
   "cell_type": "code",
   "execution_count": null,
   "metadata": {},
   "outputs": [],
   "source": [
    "G = nx.dodecahedral_graph()\n",
    "plt.figure()\n",
    "plt.axis('equal')\n",
    "plt.title('spring layout')\n",
    "nx.draw(G, pos=nx.spring_layout(G))  # use spring layout"
   ]
  },
  {
   "cell_type": "code",
   "execution_count": null,
   "metadata": {},
   "outputs": [],
   "source": [
    "plt.figure()\n",
    "plt.axis('equal')\n",
    "plt.title('networkx default layout')\n",
    "nx.draw_networkx(G)"
   ]
  },
  {
   "cell_type": "code",
   "execution_count": null,
   "metadata": {},
   "outputs": [],
   "source": [
    "plt.figure()\n",
    "plt.axis('equal')\n",
    "plt.title('circular layout')\n",
    "nx.draw_circular(G, with_labels = True)"
   ]
  },
  {
   "cell_type": "code",
   "execution_count": null,
   "metadata": {
    "scrolled": true
   },
   "outputs": [],
   "source": [
    "plt.figure()\n",
    "plt.axis('equal')\n",
    "plt.title('kamada-kawai layout')\n",
    "nx.draw_kamada_kawai(G, with_labels = True)"
   ]
  },
  {
   "cell_type": "code",
   "execution_count": null,
   "metadata": {},
   "outputs": [],
   "source": [
    "plt.figure()\n",
    "plt.axis('equal')\n",
    "plt.title('random layout')\n",
    "nx.draw_random(G, with_labels = True)"
   ]
  },
  {
   "cell_type": "code",
   "execution_count": null,
   "metadata": {},
   "outputs": [],
   "source": [
    "plt.close('all')"
   ]
  },
  {
   "cell_type": "markdown",
   "metadata": {},
   "source": [
    "# Spectral drawing"
   ]
  },
  {
   "cell_type": "code",
   "execution_count": null,
   "metadata": {},
   "outputs": [],
   "source": [
    "# Here are some of the graphs that networkx knows how to make. Try them all...\n",
    "\n",
    "G = nx.dodecahedral_graph()\n",
    "# G = nx.house_graph()\n",
    "# G = nx.tutte_graph()\n",
    "# G = nx.moebius_kantor_graph()\n",
    "# G = nx.petersen_graph()\n",
    "# G = nx.truncated_tetrahedron_graph()\n",
    "print(\"vertices:\", G.nodes())\n",
    "print()\n",
    "print(\"edges:\", G.edges())"
   ]
  },
  {
   "cell_type": "code",
   "execution_count": null,
   "metadata": {},
   "outputs": [],
   "source": [
    "L = nx.linalg.laplacian_matrix(G).toarray()\n",
    "L.shape"
   ]
  },
  {
   "cell_type": "code",
   "execution_count": null,
   "metadata": {},
   "outputs": [],
   "source": [
    "%time lam,W = spla.eigh(L)"
   ]
  },
  {
   "cell_type": "code",
   "execution_count": null,
   "metadata": {},
   "outputs": [],
   "source": [
    "print('W.shape:', W.shape)\n",
    "print('first entries of lam:', lam[:6])"
   ]
  },
  {
   "cell_type": "code",
   "execution_count": null,
   "metadata": {},
   "outputs": [],
   "source": [
    "fiedler_value = lam[1]\n",
    "fiedler_value"
   ]
  },
  {
   "cell_type": "code",
   "execution_count": null,
   "metadata": {},
   "outputs": [],
   "source": [
    "fiedler_vector = W[:,1]\n",
    "fiedler_vector"
   ]
  },
  {
   "cell_type": "code",
   "execution_count": null,
   "metadata": {},
   "outputs": [],
   "source": [
    "# Use the first two eigenvectors as coordinates on the vertices\n",
    "\n",
    "wcoords = {}\n",
    "for i in range(G.number_of_nodes()):\n",
    "    wcoords[i] = (W[i,1], W[i,2])"
   ]
  },
  {
   "cell_type": "code",
   "execution_count": null,
   "metadata": {},
   "outputs": [],
   "source": [
    "# Draw the graph with the vertices at the eigenvector coordinates \n",
    "# (also called spectral coordinates)\n",
    "\n",
    "plt.figure()\n",
    "plt.axis('equal')\n",
    "plt.title('spectral layout')\n",
    "nx.draw(G, pos = wcoords, node_shape = '.')"
   ]
  },
  {
   "cell_type": "code",
   "execution_count": null,
   "metadata": {},
   "outputs": [],
   "source": [
    "plt.close('all')"
   ]
  },
  {
   "cell_type": "markdown",
   "metadata": {},
   "source": [
    "# Airfoil"
   ]
  },
  {
   "cell_type": "code",
   "execution_count": null,
   "metadata": {},
   "outputs": [],
   "source": [
    "airfoil, xycoords = cs111.read_mesh('airfoil1')\n",
    "i= 0\n",
    "for v in nx.nodes(airfoil):\n",
    "    print(type(v), ':', v, ' at', xycoords[v])\n",
    "    i +=1\n",
    "    if i > 10:\n",
    "        break"
   ]
  },
  {
   "cell_type": "code",
   "execution_count": null,
   "metadata": {},
   "outputs": [],
   "source": [
    "plt.figure(figsize=(6,6))\n",
    "plt.axis('equal')\n",
    "plt.title('physical mesh layout')\n",
    "nx.draw(airfoil, pos = xycoords, node_size = 1, node_shape = 'o')"
   ]
  },
  {
   "cell_type": "code",
   "execution_count": null,
   "metadata": {},
   "outputs": [],
   "source": [
    "L = nx.linalg.laplacian_matrix(airfoil).toarray()\n",
    "n = L.shape[0]\n",
    "print(f'vertices: {L.shape[0]}, edges: {sum(L.diagonal())//2}')"
   ]
  },
  {
   "cell_type": "code",
   "execution_count": null,
   "metadata": {},
   "outputs": [],
   "source": [
    "%time lam,W = spla.eigh(L)"
   ]
  },
  {
   "cell_type": "code",
   "execution_count": null,
   "metadata": {},
   "outputs": [],
   "source": [
    "print('W.shape:', W.shape)\n",
    "print('first entries of lam:', lam[:6])"
   ]
  },
  {
   "cell_type": "code",
   "execution_count": null,
   "metadata": {
    "scrolled": true
   },
   "outputs": [],
   "source": [
    "wcoords = {}\n",
    "for i in range(W.shape[0]):\n",
    "    wcoords[i] = (W[i,1], W[i,2])\n",
    "\n",
    "plt.figure(figsize=(6,6))\n",
    "plt.axis('equal')\n",
    "plt.title('spectral layout')\n",
    "nx.draw(airfoil, pos = wcoords, node_size = 1, node_shape = '.')"
   ]
  },
  {
   "cell_type": "code",
   "execution_count": null,
   "metadata": {},
   "outputs": [],
   "source": [
    "plt.close('all')"
   ]
  },
  {
   "cell_type": "code",
   "execution_count": null,
   "metadata": {},
   "outputs": [],
   "source": []
  }
 ],
 "metadata": {
  "kernelspec": {
   "display_name": "Python 3",
   "language": "python",
   "name": "python3"
  },
  "language_info": {
   "codemirror_mode": {
    "name": "ipython",
    "version": 3
   },
   "file_extension": ".py",
   "mimetype": "text/x-python",
   "name": "python",
   "nbconvert_exporter": "python",
   "pygments_lexer": "ipython3",
   "version": "3.6.13"
  }
 },
 "nbformat": 4,
 "nbformat_minor": 2
}
