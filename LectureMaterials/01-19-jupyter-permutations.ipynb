{
 "cells": [
  {
   "cell_type": "markdown",
   "metadata": {},
   "source": [
    "# In-class transcript from lecture 3, Jan 19, 2023\n"
   ]
  },
  {
   "cell_type": "code",
   "execution_count": 1,
   "metadata": {},
   "outputs": [],
   "source": [
    "import sys\n",
    "\n",
    "########################################\n",
    "# Change the string in the line below! #\n",
    "########################################\n",
    "sys.path.append(\"/Users/gilbert/Documents/CS111-2023-winter/Python\") \n",
    "\n",
    "import os\n",
    "import time\n",
    "import math\n",
    "import numpy as np\n",
    "import numpy.linalg as npla\n",
    "import scipy\n",
    "from scipy import linalg as spla\n",
    "import scipy.sparse\n",
    "import scipy.sparse.linalg\n",
    "from scipy import integrate\n",
    "import networkx as nx\n",
    "import cs111\n",
    "\n",
    "##########################################################\n",
    "# If this import for matplotlib doesn't work, try saying #\n",
    "#   conda install -c conda-forge ipympl                  #\n",
    "# at a shell prompt on your computer                     #\n",
    "##########################################################\n",
    "import matplotlib\n",
    "%matplotlib ipympl\n",
    "\n",
    "import matplotlib.pyplot as plt\n",
    "from matplotlib import cm\n",
    "from mpl_toolkits.mplot3d import axes3d\n",
    "\n",
    "\n",
    "\n",
    "\n",
    "np.set_printoptions(precision = 4)"
   ]
  },
  {
   "cell_type": "markdown",
   "metadata": {},
   "source": [
    "# Permuting a vector"
   ]
  },
  {
   "cell_type": "code",
   "execution_count": 2,
   "metadata": {},
   "outputs": [
    {
     "name": "stdout",
     "output_type": "stream",
     "text": [
      "v: [3.1 4.1 5.9 2.6 5.3]\n"
     ]
    }
   ],
   "source": [
    "# Here's a vector we can practice on, with n = 5\n",
    "\n",
    "v = np.array([3.1, 4.1, 5.9, 2.6, 5.3])\n",
    "print(\"v:\", v)"
   ]
  },
  {
   "cell_type": "code",
   "execution_count": 3,
   "metadata": {},
   "outputs": [
    {
     "name": "stdout",
     "output_type": "stream",
     "text": [
      "p: [3, 0, 4, 1, 2]\n"
     ]
    }
   ],
   "source": [
    "# Here's our example of a 5-permutation p (lower case p)\n",
    "\n",
    "p = [3, 0, 4, 1, 2]\n",
    "print(\"p:\", p)"
   ]
  },
  {
   "cell_type": "code",
   "execution_count": 4,
   "metadata": {},
   "outputs": [
    {
     "name": "stdout",
     "output_type": "stream",
     "text": [
      "v[p]: [2.6 3.1 5.3 4.1 5.9]\n"
     ]
    }
   ],
   "source": [
    "# Permute the vector with the permutation\n",
    "\n",
    "print(\"v[p]:\", v[p])"
   ]
  },
  {
   "cell_type": "code",
   "execution_count": 5,
   "metadata": {},
   "outputs": [
    {
     "name": "stdout",
     "output_type": "stream",
     "text": [
      "[[0 0 0 1 0]\n",
      " [1 0 0 0 0]\n",
      " [0 0 0 0 1]\n",
      " [0 1 0 0 0]\n",
      " [0 0 1 0 0]]\n"
     ]
    }
   ],
   "source": [
    "# Here's our example of a 5-by-5 permutation matrix P (upper case P)\n",
    "\n",
    "P = np.array([[0,0,0,1,0], [1,0,0,0,0], [0,0,0,0,1], [0,1,0,0,0], [0,0,1,0,0]])\n",
    "\n",
    "print(P)"
   ]
  },
  {
   "cell_type": "code",
   "execution_count": 6,
   "metadata": {},
   "outputs": [
    {
     "name": "stdout",
     "output_type": "stream",
     "text": [
      "P @ v: [2.6 3.1 5.3 4.1 5.9]\n"
     ]
    }
   ],
   "source": [
    "# Permute the vector with the matrix\n",
    "\n",
    "print(\"P @ v:\", P @ v)"
   ]
  },
  {
   "cell_type": "code",
   "execution_count": 7,
   "metadata": {},
   "outputs": [
    {
     "name": "stdout",
     "output_type": "stream",
     "text": [
      "pinv: [1, 3, 4, 0, 2]\n"
     ]
    }
   ],
   "source": [
    "# Here's another permutation we'll call pinv:\n",
    "\n",
    "pinv = [1, 3, 4, 0, 2]\n",
    "print(\"pinv:\", pinv)"
   ]
  },
  {
   "cell_type": "code",
   "execution_count": 8,
   "metadata": {},
   "outputs": [
    {
     "name": "stdout",
     "output_type": "stream",
     "text": [
      "v:       [3.1 4.1 5.9 2.6 5.3]\n",
      "v[p]:    [2.6 3.1 5.3 4.1 5.9]\n",
      "v[pinv]: [4.1 2.6 5.3 3.1 5.9]\n"
     ]
    }
   ],
   "source": [
    "# Permute the vector with pinv -- it's different\n",
    "\n",
    "print(\"v:      \", v)\n",
    "print(\"v[p]:   \", v[p])\n",
    "print(\"v[pinv]:\", v[pinv])"
   ]
  },
  {
   "cell_type": "code",
   "execution_count": 9,
   "metadata": {},
   "outputs": [
    {
     "name": "stdout",
     "output_type": "stream",
     "text": [
      "v[p][pinv]: [3.1 4.1 5.9 2.6 5.3]\n"
     ]
    }
   ],
   "source": [
    "# pinv is the inverse permutation of p\n",
    "\n",
    "vp = v[p]\n",
    "w = vp[pinv]\n",
    "print('v[p][pinv]:', w)"
   ]
  },
  {
   "cell_type": "code",
   "execution_count": 10,
   "metadata": {},
   "outputs": [
    {
     "data": {
      "text/plain": [
       "array([3.1, 4.1, 5.9, 2.6, 5.3])"
      ]
     },
     "execution_count": 10,
     "metadata": {},
     "output_type": "execute_result"
    }
   ],
   "source": [
    "v[p][pinv]"
   ]
  },
  {
   "cell_type": "code",
   "execution_count": 11,
   "metadata": {},
   "outputs": [
    {
     "data": {
      "text/plain": [
       "array([[0, 0, 0, 1, 0],\n",
       "       [1, 0, 0, 0, 0],\n",
       "       [0, 0, 0, 0, 1],\n",
       "       [0, 1, 0, 0, 0],\n",
       "       [0, 0, 1, 0, 0]])"
      ]
     },
     "execution_count": 11,
     "metadata": {},
     "output_type": "execute_result"
    }
   ],
   "source": [
    "# How do we get the  matrix for the inverse permutation?\n",
    "# It's just the transpose!\n",
    "\n",
    "P"
   ]
  },
  {
   "cell_type": "code",
   "execution_count": 12,
   "metadata": {},
   "outputs": [
    {
     "data": {
      "text/plain": [
       "array([[0, 1, 0, 0, 0],\n",
       "       [0, 0, 0, 1, 0],\n",
       "       [0, 0, 0, 0, 1],\n",
       "       [1, 0, 0, 0, 0],\n",
       "       [0, 0, 1, 0, 0]])"
      ]
     },
     "execution_count": 12,
     "metadata": {},
     "output_type": "execute_result"
    }
   ],
   "source": [
    "P.T"
   ]
  },
  {
   "cell_type": "code",
   "execution_count": 13,
   "metadata": {},
   "outputs": [
    {
     "name": "stdout",
     "output_type": "stream",
     "text": [
      "v[pinv]: [4.1 2.6 5.3 3.1 5.9]\n",
      "P.T @ v: [4.1 2.6 5.3 3.1 5.9]\n"
     ]
    }
   ],
   "source": [
    "print(\"v[pinv]:\", v[pinv])\n",
    "print(\"P.T @ v:\", P.T @ v)"
   ]
  },
  {
   "cell_type": "code",
   "execution_count": null,
   "metadata": {},
   "outputs": [],
   "source": [
    "print(\"P.T @ P @ v:\", P.T @ P @ v)"
   ]
  },
  {
   "cell_type": "code",
   "execution_count": 14,
   "metadata": {},
   "outputs": [
    {
     "data": {
      "text/plain": [
       "array([[1, 0, 0, 0, 0],\n",
       "       [0, 1, 0, 0, 0],\n",
       "       [0, 0, 1, 0, 0],\n",
       "       [0, 0, 0, 1, 0],\n",
       "       [0, 0, 0, 0, 1]])"
      ]
     },
     "execution_count": 14,
     "metadata": {},
     "output_type": "execute_result"
    }
   ],
   "source": [
    "# The matrix of the inverse perm is also the inverse matrix!\n",
    "\n",
    "P.T @ P"
   ]
  },
  {
   "cell_type": "code",
   "execution_count": 15,
   "metadata": {},
   "outputs": [
    {
     "data": {
      "text/plain": [
       "array([[1, 0, 0, 0, 0],\n",
       "       [0, 1, 0, 0, 0],\n",
       "       [0, 0, 1, 0, 0],\n",
       "       [0, 0, 0, 1, 0],\n",
       "       [0, 0, 0, 0, 1]])"
      ]
     },
     "execution_count": 15,
     "metadata": {},
     "output_type": "execute_result"
    }
   ],
   "source": [
    "P @ P.T"
   ]
  },
  {
   "cell_type": "markdown",
   "metadata": {},
   "source": [
    "# Permuting a matrix"
   ]
  },
  {
   "cell_type": "code",
   "execution_count": 16,
   "metadata": {},
   "outputs": [
    {
     "data": {
      "text/plain": [
       "array([[ 3.,  9.,  3.,  1., 15.],\n",
       "       [ 7., 11., 19., 12., 20.],\n",
       "       [ 3.,  9., 14.,  3., 10.],\n",
       "       [ 6., 15.,  9.,  3., 19.],\n",
       "       [ 4.,  2., 10.,  3., 10.]])"
      ]
     },
     "execution_count": 16,
     "metadata": {},
     "output_type": "execute_result"
    }
   ],
   "source": [
    "# Let's get a 5-by-5 matrix to experiment with\n",
    "\n",
    "A = (20*np.random.random((5,5))).round()\n",
    "\n",
    "A"
   ]
  },
  {
   "cell_type": "code",
   "execution_count": 17,
   "metadata": {},
   "outputs": [
    {
     "name": "stdout",
     "output_type": "stream",
     "text": [
      "p: [3, 0, 4, 1, 2]\n"
     ]
    }
   ],
   "source": [
    "# Permute the rows of A with the permutation\n",
    "\n",
    "print(\"p:\", p)"
   ]
  },
  {
   "cell_type": "code",
   "execution_count": 18,
   "metadata": {},
   "outputs": [
    {
     "data": {
      "text/plain": [
       "array([[ 6., 15.,  9.,  3., 19.],\n",
       "       [ 3.,  9.,  3.,  1., 15.],\n",
       "       [ 4.,  2., 10.,  3., 10.],\n",
       "       [ 7., 11., 19., 12., 20.],\n",
       "       [ 3.,  9., 14.,  3., 10.]])"
      ]
     },
     "execution_count": 18,
     "metadata": {},
     "output_type": "execute_result"
    }
   ],
   "source": [
    "A[p,:]"
   ]
  },
  {
   "cell_type": "code",
   "execution_count": 19,
   "metadata": {},
   "outputs": [
    {
     "data": {
      "text/plain": [
       "array([[0, 0, 0, 1, 0],\n",
       "       [1, 0, 0, 0, 0],\n",
       "       [0, 0, 0, 0, 1],\n",
       "       [0, 1, 0, 0, 0],\n",
       "       [0, 0, 1, 0, 0]])"
      ]
     },
     "execution_count": 19,
     "metadata": {},
     "output_type": "execute_result"
    }
   ],
   "source": [
    "# Permute the rows of A with the permutation matrix\n",
    "\n",
    "P"
   ]
  },
  {
   "cell_type": "code",
   "execution_count": 20,
   "metadata": {},
   "outputs": [
    {
     "data": {
      "text/plain": [
       "array([[ 6., 15.,  9.,  3., 19.],\n",
       "       [ 3.,  9.,  3.,  1., 15.],\n",
       "       [ 4.,  2., 10.,  3., 10.],\n",
       "       [ 7., 11., 19., 12., 20.],\n",
       "       [ 3.,  9., 14.,  3., 10.]])"
      ]
     },
     "execution_count": 20,
     "metadata": {},
     "output_type": "execute_result"
    }
   ],
   "source": [
    "P @ A"
   ]
  },
  {
   "cell_type": "code",
   "execution_count": 21,
   "metadata": {},
   "outputs": [
    {
     "data": {
      "text/plain": [
       "array([[ 3.,  9.,  3.,  1., 15.],\n",
       "       [ 7., 11., 19., 12., 20.],\n",
       "       [ 3.,  9., 14.,  3., 10.],\n",
       "       [ 6., 15.,  9.,  3., 19.],\n",
       "       [ 4.,  2., 10.,  3., 10.]])"
      ]
     },
     "execution_count": 21,
     "metadata": {},
     "output_type": "execute_result"
    }
   ],
   "source": [
    "A"
   ]
  },
  {
   "cell_type": "code",
   "execution_count": 22,
   "metadata": {},
   "outputs": [
    {
     "data": {
      "text/plain": [
       "array([[ 1.,  3., 15.,  9.,  3.],\n",
       "       [12.,  7., 20., 11., 19.],\n",
       "       [ 3.,  3., 10.,  9., 14.],\n",
       "       [ 3.,  6., 19., 15.,  9.],\n",
       "       [ 3.,  4., 10.,  2., 10.]])"
      ]
     },
     "execution_count": 22,
     "metadata": {},
     "output_type": "execute_result"
    }
   ],
   "source": [
    "# Permute the columns of A with p\n",
    "\n",
    "A[:,p]"
   ]
  },
  {
   "cell_type": "code",
   "execution_count": 23,
   "metadata": {},
   "outputs": [
    {
     "data": {
      "text/plain": [
       "array([[ 9.,  1., 15.,  3.,  3.],\n",
       "       [11., 12., 20.,  7., 19.],\n",
       "       [ 9.,  3., 10.,  3., 14.],\n",
       "       [15.,  3., 19.,  6.,  9.],\n",
       "       [ 2.,  3., 10.,  4., 10.]])"
      ]
     },
     "execution_count": 23,
     "metadata": {},
     "output_type": "execute_result"
    }
   ],
   "source": [
    "# Multiplying A on the right by P affects the columns of A ...\n",
    "A @ P"
   ]
  },
  {
   "cell_type": "code",
   "execution_count": 24,
   "metadata": {},
   "outputs": [
    {
     "data": {
      "text/plain": [
       "array([[ 1.,  3., 15.,  9.,  3.],\n",
       "       [12.,  7., 20., 11., 19.],\n",
       "       [ 3.,  3., 10.,  9., 14.],\n",
       "       [ 3.,  6., 19., 15.,  9.],\n",
       "       [ 3.,  4., 10.,  2., 10.]])"
      ]
     },
     "execution_count": 24,
     "metadata": {},
     "output_type": "execute_result"
    }
   ],
   "source": [
    "# ... But that's not the column permutation we wanted!\n",
    "\n",
    "# We need to use P.T on the right if we used P on the left\n",
    "\n",
    "A @ P.T"
   ]
  },
  {
   "cell_type": "code",
   "execution_count": 25,
   "metadata": {},
   "outputs": [
    {
     "data": {
      "text/plain": [
       "array([[ 3.,  9.,  3.,  1., 15.],\n",
       "       [ 7., 11., 19., 12., 20.],\n",
       "       [ 3.,  9., 14.,  3., 10.],\n",
       "       [ 6., 15.,  9.,  3., 19.],\n",
       "       [ 4.,  2., 10.,  3., 10.]])"
      ]
     },
     "execution_count": 25,
     "metadata": {},
     "output_type": "execute_result"
    }
   ],
   "source": [
    "A"
   ]
  },
  {
   "cell_type": "code",
   "execution_count": 26,
   "metadata": {},
   "outputs": [
    {
     "data": {
      "text/plain": [
       "array([[ 3.,  6., 19., 15.,  9.],\n",
       "       [ 1.,  3., 15.,  9.,  3.],\n",
       "       [ 3.,  4., 10.,  2., 10.],\n",
       "       [12.,  7., 20., 11., 19.],\n",
       "       [ 3.,  3., 10.,  9., 14.]])"
      ]
     },
     "execution_count": 26,
     "metadata": {},
     "output_type": "execute_result"
    }
   ],
   "source": [
    "# We can permute the rows and columns symmetrically using p\n",
    "\n",
    "A[p,:][:,p]"
   ]
  },
  {
   "cell_type": "code",
   "execution_count": 27,
   "metadata": {},
   "outputs": [
    {
     "data": {
      "text/plain": [
       "array([[ 3.,  6., 19., 15.,  9.],\n",
       "       [ 1.,  3., 15.,  9.,  3.],\n",
       "       [ 3.,  4., 10.,  2., 10.],\n",
       "       [12.,  7., 20., 11., 19.],\n",
       "       [ 3.,  3., 10.,  9., 14.]])"
      ]
     },
     "execution_count": 27,
     "metadata": {},
     "output_type": "execute_result"
    }
   ],
   "source": [
    "# Or we can permute the rows and columns symmetrically using P\n",
    "\n",
    "P @ A @ P.T"
   ]
  },
  {
   "cell_type": "markdown",
   "metadata": {},
   "source": [
    "# Lower triangular matrix"
   ]
  },
  {
   "cell_type": "code",
   "execution_count": 28,
   "metadata": {},
   "outputs": [
    {
     "name": "stdout",
     "output_type": "stream",
     "text": [
      "A:\n",
      " [[ 9. 10.  2.  8.]\n",
      " [ 3.  7.  2.  8.]\n",
      " [ 6.  5.  5.  4.]\n",
      " [10.  9.  6.  5.]]\n"
     ]
    }
   ],
   "source": [
    "A = np.round(10*np.random.random((4,4)))\n",
    "print(\"A:\\n\", A)"
   ]
  },
  {
   "cell_type": "code",
   "execution_count": 29,
   "metadata": {},
   "outputs": [
    {
     "name": "stdout",
     "output_type": "stream",
     "text": [
      "L:\n",
      " [[ 9.  0.  0.  0.]\n",
      " [ 3.  7.  0.  0.]\n",
      " [ 6.  5.  5.  0.]\n",
      " [10.  9.  6.  5.]]\n"
     ]
    }
   ],
   "source": [
    "L = np.tril(A)\n",
    "print(\"L:\\n\", L)"
   ]
  },
  {
   "cell_type": "markdown",
   "metadata": {},
   "source": [
    "# Unit lower triangular matrix"
   ]
  },
  {
   "cell_type": "code",
   "execution_count": 30,
   "metadata": {},
   "outputs": [
    {
     "name": "stdout",
     "output_type": "stream",
     "text": [
      "L:\n",
      " [[ 1  0  0  0]\n",
      " [ 1  1  0  0]\n",
      " [ 2  0  1  0]\n",
      " [-1  2  1  1]]\n"
     ]
    }
   ],
   "source": [
    "L = np.array([[1,0,0,0], [1,1,0,0], [2,0,1,0], [-1,2,1,1]])\n",
    "print(\"L:\\n\", L)"
   ]
  },
  {
   "cell_type": "markdown",
   "metadata": {},
   "source": [
    "# Unit lower triangular solve"
   ]
  },
  {
   "cell_type": "code",
   "execution_count": 31,
   "metadata": {},
   "outputs": [
    {
     "name": "stdout",
     "output_type": "stream",
     "text": [
      "b: [2 3 3 1]\n"
     ]
    }
   ],
   "source": [
    "b = np.array([2,3,3,1])\n",
    "print(\"b:\", b)"
   ]
  },
  {
   "cell_type": "code",
   "execution_count": 32,
   "metadata": {},
   "outputs": [
    {
     "name": "stdout",
     "output_type": "stream",
     "text": [
      "x: [ 2.  1. -1.  2.]\n"
     ]
    }
   ],
   "source": [
    "x = npla.solve(L,b)\n",
    "print(\"x:\", x)"
   ]
  },
  {
   "cell_type": "code",
   "execution_count": 33,
   "metadata": {},
   "outputs": [
    {
     "data": {
      "text/plain": [
       "array([ 2.,  1., -1.,  2.])"
      ]
     },
     "execution_count": 33,
     "metadata": {},
     "output_type": "execute_result"
    }
   ],
   "source": [
    "cs111.Lsolve(L,b)"
   ]
  },
  {
   "cell_type": "code",
   "execution_count": 34,
   "metadata": {},
   "outputs": [
    {
     "name": "stdout",
     "output_type": "stream",
     "text": [
      "[2. 3. 3. 1.]\n"
     ]
    }
   ],
   "source": [
    "print(L @ x)"
   ]
  },
  {
   "cell_type": "code",
   "execution_count": null,
   "metadata": {},
   "outputs": [],
   "source": []
  }
 ],
 "metadata": {
  "kernelspec": {
   "display_name": "Python 3 (ipykernel)",
   "language": "python",
   "name": "python3"
  },
  "language_info": {
   "codemirror_mode": {
    "name": "ipython",
    "version": 3
   },
   "file_extension": ".py",
   "mimetype": "text/x-python",
   "name": "python",
   "nbconvert_exporter": "python",
   "pygments_lexer": "ipython3",
   "version": "3.9.15"
  }
 },
 "nbformat": 4,
 "nbformat_minor": 2
}
